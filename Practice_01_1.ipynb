{
 "cells": [
  {
   "cell_type": "markdown",
   "metadata": {},
   "source": [
    "# Homework Week 1\n",
    "\n",
    "### Context\n",
    "- Scaling\n",
    "- Imputation\n",
    "- Dimensionality Reduction\n",
    "- Categorical Value Encoding\n",
    "\n",
    "#### 주어진 데이터 경로\n",
    "1. data/MDC01/...\n",
    "2. data/MDC02/..."
   ]
  },
  {
   "cell_type": "markdown",
   "metadata": {},
   "source": [
    "#### 1. 데이터 불러오기\n",
    "주어진 csv 데이터 2개를 Pandas DataFrame으로 불러오세요."
   ]
  },
  {
   "cell_type": "code",
   "execution_count": null,
   "metadata": {},
   "outputs": [],
   "source": []
  },
  {
   "cell_type": "markdown",
   "metadata": {},
   "source": [
    "#### 2. 데이터 결측치 확인 및 변수 스케일링\n",
    "불러온 데이터에 결측치가 있을 수 있습니다. <br>\n",
    "시각화 툴 또는 Pandas 내장 메소드를 사용하여 결측치를 확인하고 값을 채워 넣어보세요.<br>\n",
    "결측치 처리까지 완료되었다면, 변수들의 스케일을 표준 정규화를 통해 맞춰줍니다. "
   ]
  },
  {
   "cell_type": "code",
   "execution_count": null,
   "metadata": {},
   "outputs": [],
   "source": []
  },
  {
   "cell_type": "markdown",
   "metadata": {},
   "source": [
    "#### 3. 차원 축소 해보기\n",
    "주어진 변수의 개수가 너무 많거나, 데이터의 구성이 희소 행렬과 같이 0을 가진 값이 많다면, 차원의 저주를 막기위해 차원 축소를 시도할 필요가 있습니다.<br> 또는, 클래스 별 데이터 샘플을 시각화 하기위해 차원 축소를 진행해보세요."
   ]
  },
  {
   "cell_type": "code",
   "execution_count": null,
   "metadata": {},
   "outputs": [],
   "source": []
  },
  {
   "cell_type": "markdown",
   "metadata": {},
   "source": [
    "#### 4. 범주형 변수 수치형 변수로 인코딩하기\n",
    "주어진 데이터에 범주형 변수가 있는 경우 인코딩을 통해 수치형 변수로 변환할 수 있습니다. <br>"
   ]
  },
  {
   "cell_type": "code",
   "execution_count": null,
   "metadata": {},
   "outputs": [],
   "source": []
  }
 ],
 "metadata": {
  "kernelspec": {
   "display_name": "kyle",
   "language": "python",
   "name": "kyle"
  },
  "language_info": {
   "codemirror_mode": {
    "name": "ipython",
    "version": 3
   },
   "file_extension": ".py",
   "mimetype": "text/x-python",
   "name": "python",
   "nbconvert_exporter": "python",
   "pygments_lexer": "ipython3",
   "version": "3.6.10"
  }
 },
 "nbformat": 4,
 "nbformat_minor": 4
}
