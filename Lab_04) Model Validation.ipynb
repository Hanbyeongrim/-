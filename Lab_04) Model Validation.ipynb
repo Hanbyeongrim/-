{
 "cells": [
  {
   "cell_type": "markdown",
   "metadata": {
    "colab_type": "text",
    "id": "7fHL3ONZ55I-"
   },
   "source": [
    "# Lab_04 Validation\n",
    "### Context\n",
    "#### Cross Validation\n",
    "+ The Set of Train, Valid, Test \n",
    "+ k-Fold Cross Validation with Stratify\n",
    "\n",
    "#### Parameter Tuning\n",
    "+ Grid Search\n",
    "\n",
    "#### Ensemble\n",
    "+ Voting Ensemble\n",
    "+ Out-of-fold(OOF) Ensemble"
   ]
  },
  {
   "cell_type": "code",
   "execution_count": 1,
   "metadata": {
    "colab": {},
    "colab_type": "code",
    "id": "dng6Tegg6eNc"
   },
   "outputs": [],
   "source": [
    "import os\n",
    "from os.path import join\n",
    "import copy\n",
    "import warnings\n",
    "warnings.filterwarnings('ignore')\n",
    "\n",
    "import numpy as np\n",
    "import pandas as pd\n",
    "\n",
    "import sklearn\n",
    "\n",
    "import matplotlib.pyplot as plt"
   ]
  },
  {
   "cell_type": "markdown",
   "metadata": {},
   "source": [
    "#### 데이터 정보\n",
    "\n",
    "    train.csv - 의료기관이 폐업했는지 여부를 포함하여 최근 2개년의 재무정보와 병원 기본정보 \n",
    "    test.csv - 폐업 여부를 제외하고 train.csv와 동일 \n",
    "    sample_submission.csv - inst_id와 open과 close를 예측하는 OC 두개의 열로 구성. OC의 값은 open 예측일 경우 1, close 예측일 경우 0.\n",
    "\n",
    "\n",
    "\n",
    "    inst_id - 각 파일에서의 병원 고유 번호\n",
    "    OC – 영업/폐업 분류, 2018년 폐업은 2017년 폐업으로 간주함\n",
    "    sido – 병원의 광역 지역 정보\n",
    "    sgg – 병원의 시군구 자료\n",
    "    openDate – 병원 설립일\n",
    "    bedCount - 병원이 갖추고 있는 병상의 수\n",
    "    instkind – 병원, 의원, 요양병원, 한의원, 종합병원 등 병원의 종류\n",
    "    ·        종합병원 : 입원환자 100명 이상 수용 가능\n",
    "    ·        병원 : 입원 환자 30명 이상 100명 미만 수용 가능\n",
    "    ·        의원 : 입원 환자 30명 이하 수용 가능\n",
    "    ·        한방 병원(한의원) : 침술과 한약으로 치료하는 의료 기관.  \n",
    "    revenue1 – 매출액, 2017(회계년도)년 데이터를 의미함\n",
    "    salescost1 – 매출원가, 2017(회계년도)년 데이터를 의미함\n",
    "    sga1 - 판매비와 관리비, 2017(회계년도)년 데이터를 의미함\n",
    "    salary1 – 급여, 2017(회계년도)년 데이터를 의미함\n",
    "    noi1 – 영업외수익, 2017(회계년도)년 데이터를 의미함\n",
    "    noe1 – 영업외비용, 2017(회계년도)년 데이터를 의미함\n",
    "    Interest1 – 이자비용, 2017(회계년도)년 데이터를 의미함\n",
    "    ctax1 – 법인세비용, 2017(회계년도)년 데이터를 의미함\n",
    "    Profit1 – 당기순이익, 2017(회계년도)년 데이터를 의미함\n",
    "    liquidAsset1 – 유동자산, 2017(회계년도)년 데이터를 의미함\n",
    "    quickAsset1 – 당좌자산, 2017(회계년도)년 데이터를 의미함\n",
    "    receivableS1 - 미수금(단기), 2017(회계년도)년 데이터를 의미함\n",
    "    inventoryAsset1 – 재고자산, 2017(회계년도)년 데이터를 의미함\n",
    "    nonCAsset1 – 비유동자산, 2017(회계년도)년 데이터를 의미함\n",
    "    tanAsset1 – 유형자산, 2017(회계년도)년 데이터를 의미함\n",
    "    OnonCAsset1 - 기타 비유동자산, 2017(회계년도)년 데이터를 의미함\n",
    "    receivableL1 – 장기미수금, 2017(회계년도)년 데이터를 의미함\n",
    "    debt1 – 부채총계, 2017(회계년도)년 데이터를 의미함\n",
    "    liquidLiabilities1 – 유동부채, 2017(회계년도)년 데이터를 의미함\n",
    "    shortLoan1 – 단기차입금, 2017(회계년도)년 데이터를 의미함\n",
    "    NCLiabilities1 – 비유동부채, 2017(회계년도)년 데이터를 의미함\n",
    "    longLoan1 – 장기차입금, 2017(회계년도)년 데이터를 의미함\n",
    "    netAsset1 – 순자산총계, 2017(회계년도)년 데이터를 의미함\n",
    "    surplus1 – 이익잉여금, 2017(회계년도)년 데이터를 의미함\n",
    "    revenue2 – 매출액, 2016(회계년도)년 데이터를 의미함\n",
    "    salescost2 – 매출원가, 2016(회계년도)년 데이터를 의미함\n",
    "    sga2 - 판매비와 관리비, 2016(회계년도)년 데이터를 의미함\n",
    "    salary2 – 급여, 2016(회계년도)년 데이터를 의미함\n",
    "    noi2 – 영업외수익, 2016(회계년도)년 데이터를 의미함\n",
    "    noe2 – 영업외비용, 2016(회계년도)년 데이터를 의미함\n",
    "    interest2 – 이자비용, 2016(회계년도)년 데이터를 의미함\n",
    "    ctax2 – 법인세비용, 2016(회계년도)년 데이터를 의미함\n",
    "    profit2 – 당기순이익, 2016(회계년도)년 데이터를 의미함\n",
    "    liquidAsset2 – 유동자산, 2016(회계년도)년 데이터를 의미함\n",
    "    quickAsset2 – 당좌자산, 2016(회계년도)년 데이터를 의미함\n",
    "    receivableS2 - 미수금(단기), 2016(회계년도)년 데이터를 의미함\n",
    "    inventoryAsset2 – 재고자산, 2016(회계년도)년 데이터를 의미함\n",
    "    nonCAsset2 – 비유동자산, 2016(회계년도)년 데이터를 의미함\n",
    "    tanAsset2 – 유형자산, 2016(회계년도)년 데이터를 의미함\n",
    "    OnonCAsset2 - 기타 비유동자산, 2016(회계년도)년 데이터를 의미함\n",
    "    receivableL2 – 장기미수금, 2016(회계년도)년 데이터를 의미함\n",
    "    Debt2 – 부채총계, 2016(회계년도)년 데이터를 의미함\n",
    "    liquidLiabilities2 – 유동부채, 2016(회계년도)년 데이터를 의미함\n",
    "    shortLoan2 – 단기차입금, 2016(회계년도)년 데이터를 의미함\n",
    "    NCLiabilities2 – 비유동부채, 2016(회계년도)년 데이터를 의미함\n",
    "    longLoan2 – 장기차입금, 2016(회계년도)년 데이터를 의미함\n",
    "    netAsset2 – 순자산총계, 2016(회계년도)년 데이터를 의미함\n",
    "    surplus2 – 이익잉여금, 2016(회계년도)년 데이터를 의미함\n",
    "    employee1 – 고용한 총 직원의 수, 2017(회계년도)년 데이터를 의미함\n",
    "    employee2 – 고용한 총 직원의 수, 2016(회계년도)년 데이터를 의미함\n",
    "    ownerChange – 대표자의 변동 "
   ]
  },
  {
   "cell_type": "code",
   "execution_count": 2,
   "metadata": {},
   "outputs": [],
   "source": [
    "hospital_train = join('data', join('Hospital', 'train.csv'))\n",
    "hospital_test  = join('data', join('Hospital', 'test.csv'))\n",
    "\n",
    "data = pd.read_csv(hospital_train)\n",
    "label = data['OC']\n",
    "\n",
    "test = pd.read_csv(hospital_test)"
   ]
  },
  {
   "cell_type": "code",
   "execution_count": 3,
   "metadata": {},
   "outputs": [
    {
     "data": {
      "text/plain": [
       "(301, 58)"
      ]
     },
     "execution_count": 3,
     "metadata": {},
     "output_type": "execute_result"
    }
   ],
   "source": [
    "data.shape"
   ]
  },
  {
   "cell_type": "code",
   "execution_count": 4,
   "metadata": {},
   "outputs": [
    {
     "data": {
      "text/html": [
       "<div>\n",
       "<style scoped>\n",
       "    .dataframe tbody tr th:only-of-type {\n",
       "        vertical-align: middle;\n",
       "    }\n",
       "\n",
       "    .dataframe tbody tr th {\n",
       "        vertical-align: top;\n",
       "    }\n",
       "\n",
       "    .dataframe thead th {\n",
       "        text-align: right;\n",
       "    }\n",
       "</style>\n",
       "<table border=\"1\" class=\"dataframe\">\n",
       "  <thead>\n",
       "    <tr style=\"text-align: right;\">\n",
       "      <th></th>\n",
       "      <th>inst_id</th>\n",
       "      <th>sgg</th>\n",
       "      <th>openDate</th>\n",
       "      <th>bedCount</th>\n",
       "      <th>revenue1</th>\n",
       "      <th>salescost1</th>\n",
       "      <th>sga1</th>\n",
       "      <th>salary1</th>\n",
       "      <th>noi1</th>\n",
       "      <th>noe1</th>\n",
       "      <th>...</th>\n",
       "      <th>receivableL2</th>\n",
       "      <th>debt2</th>\n",
       "      <th>liquidLiabilities2</th>\n",
       "      <th>shortLoan2</th>\n",
       "      <th>NCLiabilities2</th>\n",
       "      <th>longLoan2</th>\n",
       "      <th>netAsset2</th>\n",
       "      <th>surplus2</th>\n",
       "      <th>employee1</th>\n",
       "      <th>employee2</th>\n",
       "    </tr>\n",
       "  </thead>\n",
       "  <tbody>\n",
       "    <tr>\n",
       "      <th>count</th>\n",
       "      <td>301.000000</td>\n",
       "      <td>301.000000</td>\n",
       "      <td>3.010000e+02</td>\n",
       "      <td>296.000000</td>\n",
       "      <td>2.930000e+02</td>\n",
       "      <td>2.930000e+02</td>\n",
       "      <td>2.930000e+02</td>\n",
       "      <td>2.930000e+02</td>\n",
       "      <td>2.930000e+02</td>\n",
       "      <td>2.930000e+02</td>\n",
       "      <td>...</td>\n",
       "      <td>2.930000e+02</td>\n",
       "      <td>2.930000e+02</td>\n",
       "      <td>2.930000e+02</td>\n",
       "      <td>2.930000e+02</td>\n",
       "      <td>2.930000e+02</td>\n",
       "      <td>2.930000e+02</td>\n",
       "      <td>2.930000e+02</td>\n",
       "      <td>2.930000e+02</td>\n",
       "      <td>291.000000</td>\n",
       "      <td>288.000000</td>\n",
       "    </tr>\n",
       "    <tr>\n",
       "      <th>mean</th>\n",
       "      <td>219.056478</td>\n",
       "      <td>81.039867</td>\n",
       "      <td>2.005013e+07</td>\n",
       "      <td>145.709459</td>\n",
       "      <td>1.288175e+10</td>\n",
       "      <td>2.014903e+09</td>\n",
       "      <td>1.033244e+10</td>\n",
       "      <td>5.654115e+09</td>\n",
       "      <td>2.696151e+08</td>\n",
       "      <td>5.115870e+08</td>\n",
       "      <td>...</td>\n",
       "      <td>2.226700e+05</td>\n",
       "      <td>8.146026e+09</td>\n",
       "      <td>3.860584e+09</td>\n",
       "      <td>1.510050e+09</td>\n",
       "      <td>4.471247e+09</td>\n",
       "      <td>2.709979e+09</td>\n",
       "      <td>5.273919e+09</td>\n",
       "      <td>9.786279e+08</td>\n",
       "      <td>142.546392</td>\n",
       "      <td>134.326389</td>\n",
       "    </tr>\n",
       "    <tr>\n",
       "      <th>std</th>\n",
       "      <td>121.234869</td>\n",
       "      <td>50.969714</td>\n",
       "      <td>8.893815e+04</td>\n",
       "      <td>118.923890</td>\n",
       "      <td>2.043543e+10</td>\n",
       "      <td>7.460271e+09</td>\n",
       "      <td>1.493886e+10</td>\n",
       "      <td>8.083343e+09</td>\n",
       "      <td>8.023701e+08</td>\n",
       "      <td>1.060379e+09</td>\n",
       "      <td>...</td>\n",
       "      <td>3.811496e+06</td>\n",
       "      <td>1.255800e+10</td>\n",
       "      <td>6.797242e+09</td>\n",
       "      <td>2.953412e+09</td>\n",
       "      <td>7.659580e+09</td>\n",
       "      <td>4.564001e+09</td>\n",
       "      <td>1.081259e+10</td>\n",
       "      <td>4.688798e+09</td>\n",
       "      <td>160.191073</td>\n",
       "      <td>151.061786</td>\n",
       "    </tr>\n",
       "    <tr>\n",
       "      <th>min</th>\n",
       "      <td>1.000000</td>\n",
       "      <td>1.000000</td>\n",
       "      <td>1.978012e+07</td>\n",
       "      <td>0.000000</td>\n",
       "      <td>0.000000e+00</td>\n",
       "      <td>0.000000e+00</td>\n",
       "      <td>0.000000e+00</td>\n",
       "      <td>0.000000e+00</td>\n",
       "      <td>0.000000e+00</td>\n",
       "      <td>0.000000e+00</td>\n",
       "      <td>...</td>\n",
       "      <td>0.000000e+00</td>\n",
       "      <td>0.000000e+00</td>\n",
       "      <td>0.000000e+00</td>\n",
       "      <td>0.000000e+00</td>\n",
       "      <td>0.000000e+00</td>\n",
       "      <td>0.000000e+00</td>\n",
       "      <td>-2.014780e+10</td>\n",
       "      <td>-2.781507e+09</td>\n",
       "      <td>0.000000</td>\n",
       "      <td>0.000000</td>\n",
       "    </tr>\n",
       "    <tr>\n",
       "      <th>25%</th>\n",
       "      <td>112.000000</td>\n",
       "      <td>37.000000</td>\n",
       "      <td>2.001102e+07</td>\n",
       "      <td>52.750000</td>\n",
       "      <td>3.252112e+09</td>\n",
       "      <td>0.000000e+00</td>\n",
       "      <td>2.758201e+09</td>\n",
       "      <td>1.626053e+09</td>\n",
       "      <td>8.217133e+06</td>\n",
       "      <td>8.013395e+07</td>\n",
       "      <td>...</td>\n",
       "      <td>0.000000e+00</td>\n",
       "      <td>1.283220e+09</td>\n",
       "      <td>2.855741e+08</td>\n",
       "      <td>0.000000e+00</td>\n",
       "      <td>2.557878e+07</td>\n",
       "      <td>0.000000e+00</td>\n",
       "      <td>1.017573e+09</td>\n",
       "      <td>0.000000e+00</td>\n",
       "      <td>53.500000</td>\n",
       "      <td>53.750000</td>\n",
       "    </tr>\n",
       "    <tr>\n",
       "      <th>50%</th>\n",
       "      <td>230.000000</td>\n",
       "      <td>75.000000</td>\n",
       "      <td>2.007113e+07</td>\n",
       "      <td>136.500000</td>\n",
       "      <td>5.524218e+09</td>\n",
       "      <td>2.104105e+08</td>\n",
       "      <td>4.684074e+09</td>\n",
       "      <td>2.659892e+09</td>\n",
       "      <td>4.363764e+07</td>\n",
       "      <td>1.831965e+08</td>\n",
       "      <td>...</td>\n",
       "      <td>0.000000e+00</td>\n",
       "      <td>3.784553e+09</td>\n",
       "      <td>1.454050e+09</td>\n",
       "      <td>8.542549e+07</td>\n",
       "      <td>1.969747e+09</td>\n",
       "      <td>1.100000e+09</td>\n",
       "      <td>2.894970e+09</td>\n",
       "      <td>0.000000e+00</td>\n",
       "      <td>80.000000</td>\n",
       "      <td>79.000000</td>\n",
       "    </tr>\n",
       "    <tr>\n",
       "      <th>75%</th>\n",
       "      <td>321.000000</td>\n",
       "      <td>123.000000</td>\n",
       "      <td>2.011102e+07</td>\n",
       "      <td>193.000000</td>\n",
       "      <td>1.274839e+10</td>\n",
       "      <td>9.105278e+08</td>\n",
       "      <td>1.077876e+10</td>\n",
       "      <td>6.363400e+09</td>\n",
       "      <td>2.050331e+08</td>\n",
       "      <td>4.203330e+08</td>\n",
       "      <td>...</td>\n",
       "      <td>0.000000e+00</td>\n",
       "      <td>8.465053e+09</td>\n",
       "      <td>4.364714e+09</td>\n",
       "      <td>1.567967e+09</td>\n",
       "      <td>4.905441e+09</td>\n",
       "      <td>3.360000e+09</td>\n",
       "      <td>5.370285e+09</td>\n",
       "      <td>1.014447e+08</td>\n",
       "      <td>181.500000</td>\n",
       "      <td>170.000000</td>\n",
       "    </tr>\n",
       "    <tr>\n",
       "      <th>max</th>\n",
       "      <td>428.000000</td>\n",
       "      <td>178.000000</td>\n",
       "      <td>2.017061e+07</td>\n",
       "      <td>656.000000</td>\n",
       "      <td>1.510000e+11</td>\n",
       "      <td>9.850332e+10</td>\n",
       "      <td>1.030000e+11</td>\n",
       "      <td>6.403559e+10</td>\n",
       "      <td>9.144171e+09</td>\n",
       "      <td>8.686380e+09</td>\n",
       "      <td>...</td>\n",
       "      <td>6.524231e+07</td>\n",
       "      <td>8.508858e+10</td>\n",
       "      <td>6.846878e+10</td>\n",
       "      <td>1.759375e+10</td>\n",
       "      <td>5.150388e+10</td>\n",
       "      <td>3.256147e+10</td>\n",
       "      <td>1.250000e+11</td>\n",
       "      <td>6.852730e+10</td>\n",
       "      <td>1200.000000</td>\n",
       "      <td>1200.000000</td>\n",
       "    </tr>\n",
       "  </tbody>\n",
       "</table>\n",
       "<p>8 rows × 54 columns</p>\n",
       "</div>"
      ],
      "text/plain": [
       "          inst_id         sgg      openDate    bedCount      revenue1  \\\n",
       "count  301.000000  301.000000  3.010000e+02  296.000000  2.930000e+02   \n",
       "mean   219.056478   81.039867  2.005013e+07  145.709459  1.288175e+10   \n",
       "std    121.234869   50.969714  8.893815e+04  118.923890  2.043543e+10   \n",
       "min      1.000000    1.000000  1.978012e+07    0.000000  0.000000e+00   \n",
       "25%    112.000000   37.000000  2.001102e+07   52.750000  3.252112e+09   \n",
       "50%    230.000000   75.000000  2.007113e+07  136.500000  5.524218e+09   \n",
       "75%    321.000000  123.000000  2.011102e+07  193.000000  1.274839e+10   \n",
       "max    428.000000  178.000000  2.017061e+07  656.000000  1.510000e+11   \n",
       "\n",
       "         salescost1          sga1       salary1          noi1          noe1  \\\n",
       "count  2.930000e+02  2.930000e+02  2.930000e+02  2.930000e+02  2.930000e+02   \n",
       "mean   2.014903e+09  1.033244e+10  5.654115e+09  2.696151e+08  5.115870e+08   \n",
       "std    7.460271e+09  1.493886e+10  8.083343e+09  8.023701e+08  1.060379e+09   \n",
       "min    0.000000e+00  0.000000e+00  0.000000e+00  0.000000e+00  0.000000e+00   \n",
       "25%    0.000000e+00  2.758201e+09  1.626053e+09  8.217133e+06  8.013395e+07   \n",
       "50%    2.104105e+08  4.684074e+09  2.659892e+09  4.363764e+07  1.831965e+08   \n",
       "75%    9.105278e+08  1.077876e+10  6.363400e+09  2.050331e+08  4.203330e+08   \n",
       "max    9.850332e+10  1.030000e+11  6.403559e+10  9.144171e+09  8.686380e+09   \n",
       "\n",
       "       ...  receivableL2         debt2  liquidLiabilities2    shortLoan2  \\\n",
       "count  ...  2.930000e+02  2.930000e+02        2.930000e+02  2.930000e+02   \n",
       "mean   ...  2.226700e+05  8.146026e+09        3.860584e+09  1.510050e+09   \n",
       "std    ...  3.811496e+06  1.255800e+10        6.797242e+09  2.953412e+09   \n",
       "min    ...  0.000000e+00  0.000000e+00        0.000000e+00  0.000000e+00   \n",
       "25%    ...  0.000000e+00  1.283220e+09        2.855741e+08  0.000000e+00   \n",
       "50%    ...  0.000000e+00  3.784553e+09        1.454050e+09  8.542549e+07   \n",
       "75%    ...  0.000000e+00  8.465053e+09        4.364714e+09  1.567967e+09   \n",
       "max    ...  6.524231e+07  8.508858e+10        6.846878e+10  1.759375e+10   \n",
       "\n",
       "       NCLiabilities2     longLoan2     netAsset2      surplus2    employee1  \\\n",
       "count    2.930000e+02  2.930000e+02  2.930000e+02  2.930000e+02   291.000000   \n",
       "mean     4.471247e+09  2.709979e+09  5.273919e+09  9.786279e+08   142.546392   \n",
       "std      7.659580e+09  4.564001e+09  1.081259e+10  4.688798e+09   160.191073   \n",
       "min      0.000000e+00  0.000000e+00 -2.014780e+10 -2.781507e+09     0.000000   \n",
       "25%      2.557878e+07  0.000000e+00  1.017573e+09  0.000000e+00    53.500000   \n",
       "50%      1.969747e+09  1.100000e+09  2.894970e+09  0.000000e+00    80.000000   \n",
       "75%      4.905441e+09  3.360000e+09  5.370285e+09  1.014447e+08   181.500000   \n",
       "max      5.150388e+10  3.256147e+10  1.250000e+11  6.852730e+10  1200.000000   \n",
       "\n",
       "         employee2  \n",
       "count   288.000000  \n",
       "mean    134.326389  \n",
       "std     151.061786  \n",
       "min       0.000000  \n",
       "25%      53.750000  \n",
       "50%      79.000000  \n",
       "75%     170.000000  \n",
       "max    1200.000000  \n",
       "\n",
       "[8 rows x 54 columns]"
      ]
     },
     "execution_count": 4,
     "metadata": {},
     "output_type": "execute_result"
    }
   ],
   "source": [
    "data.describe()"
   ]
  },
  {
   "cell_type": "code",
   "execution_count": 5,
   "metadata": {},
   "outputs": [
    {
     "name": "stdout",
     "output_type": "stream",
     "text": [
      "<class 'pandas.core.frame.DataFrame'>\n",
      "RangeIndex: 301 entries, 0 to 300\n",
      "Data columns (total 58 columns):\n",
      " #   Column              Non-Null Count  Dtype  \n",
      "---  ------              --------------  -----  \n",
      " 0   inst_id             301 non-null    int64  \n",
      " 1   OC                  301 non-null    object \n",
      " 2   sido                301 non-null    object \n",
      " 3   sgg                 301 non-null    int64  \n",
      " 4   openDate            301 non-null    int64  \n",
      " 5   bedCount            296 non-null    float64\n",
      " 6   instkind            300 non-null    object \n",
      " 7   revenue1            293 non-null    float64\n",
      " 8   salescost1          293 non-null    float64\n",
      " 9   sga1                293 non-null    float64\n",
      " 10  salary1             293 non-null    float64\n",
      " 11  noi1                293 non-null    float64\n",
      " 12  noe1                293 non-null    float64\n",
      " 13  interest1           293 non-null    float64\n",
      " 14  ctax1               293 non-null    float64\n",
      " 15  profit1             293 non-null    float64\n",
      " 16  liquidAsset1        293 non-null    float64\n",
      " 17  quickAsset1         293 non-null    float64\n",
      " 18  receivableS1        293 non-null    float64\n",
      " 19  inventoryAsset1     293 non-null    float64\n",
      " 20  nonCAsset1          293 non-null    float64\n",
      " 21  tanAsset1           293 non-null    float64\n",
      " 22  OnonCAsset1         293 non-null    float64\n",
      " 23  receivableL1        293 non-null    float64\n",
      " 24  debt1               293 non-null    float64\n",
      " 25  liquidLiabilities1  293 non-null    float64\n",
      " 26  shortLoan1          293 non-null    float64\n",
      " 27  NCLiabilities1      293 non-null    float64\n",
      " 28  longLoan1           293 non-null    float64\n",
      " 29  netAsset1           293 non-null    float64\n",
      " 30  surplus1            293 non-null    float64\n",
      " 31  revenue2            293 non-null    float64\n",
      " 32  salescost2          293 non-null    float64\n",
      " 33  sga2                293 non-null    float64\n",
      " 34  salary2             293 non-null    float64\n",
      " 35  noi2                293 non-null    float64\n",
      " 36  noe2                293 non-null    float64\n",
      " 37  interest2           293 non-null    float64\n",
      " 38  ctax2               293 non-null    float64\n",
      " 39  profit2             293 non-null    float64\n",
      " 40  liquidAsset2        293 non-null    float64\n",
      " 41  quickAsset2         293 non-null    float64\n",
      " 42  receivableS2        293 non-null    float64\n",
      " 43  inventoryAsset2     293 non-null    float64\n",
      " 44  nonCAsset2          293 non-null    float64\n",
      " 45  tanAsset2           293 non-null    float64\n",
      " 46  OnonCAsset2         293 non-null    float64\n",
      " 47  receivableL2        293 non-null    float64\n",
      " 48  debt2               293 non-null    float64\n",
      " 49  liquidLiabilities2  293 non-null    float64\n",
      " 50  shortLoan2          293 non-null    float64\n",
      " 51  NCLiabilities2      293 non-null    float64\n",
      " 52  longLoan2           293 non-null    float64\n",
      " 53  netAsset2           293 non-null    float64\n",
      " 54  surplus2            293 non-null    float64\n",
      " 55  employee1           291 non-null    float64\n",
      " 56  employee2           288 non-null    float64\n",
      " 57  ownerChange         289 non-null    object \n",
      "dtypes: float64(51), int64(3), object(4)\n",
      "memory usage: 136.5+ KB\n"
     ]
    }
   ],
   "source": [
    "data.info()"
   ]
  },
  {
   "cell_type": "code",
   "execution_count": 6,
   "metadata": {},
   "outputs": [
    {
     "data": {
      "text/html": [
       "<div>\n",
       "<style scoped>\n",
       "    .dataframe tbody tr th:only-of-type {\n",
       "        vertical-align: middle;\n",
       "    }\n",
       "\n",
       "    .dataframe tbody tr th {\n",
       "        vertical-align: top;\n",
       "    }\n",
       "\n",
       "    .dataframe thead th {\n",
       "        text-align: right;\n",
       "    }\n",
       "</style>\n",
       "<table border=\"1\" class=\"dataframe\">\n",
       "  <thead>\n",
       "    <tr style=\"text-align: right;\">\n",
       "      <th></th>\n",
       "      <th>inst_id</th>\n",
       "      <th>OC</th>\n",
       "      <th>sido</th>\n",
       "      <th>sgg</th>\n",
       "      <th>openDate</th>\n",
       "      <th>bedCount</th>\n",
       "      <th>instkind</th>\n",
       "      <th>revenue1</th>\n",
       "      <th>salescost1</th>\n",
       "      <th>sga1</th>\n",
       "      <th>...</th>\n",
       "      <th>debt2</th>\n",
       "      <th>liquidLiabilities2</th>\n",
       "      <th>shortLoan2</th>\n",
       "      <th>NCLiabilities2</th>\n",
       "      <th>longLoan2</th>\n",
       "      <th>netAsset2</th>\n",
       "      <th>surplus2</th>\n",
       "      <th>employee1</th>\n",
       "      <th>employee2</th>\n",
       "      <th>ownerChange</th>\n",
       "    </tr>\n",
       "  </thead>\n",
       "  <tbody>\n",
       "    <tr>\n",
       "      <th>0</th>\n",
       "      <td>2</td>\n",
       "      <td>NaN</td>\n",
       "      <td>incheon</td>\n",
       "      <td>139</td>\n",
       "      <td>19981125.0</td>\n",
       "      <td>300.0</td>\n",
       "      <td>general_hospital</td>\n",
       "      <td>6.682486e+10</td>\n",
       "      <td>0.000000e+00</td>\n",
       "      <td>6.565709e+10</td>\n",
       "      <td>...</td>\n",
       "      <td>5.540643e+10</td>\n",
       "      <td>5.068443e+10</td>\n",
       "      <td>3.714334e+10</td>\n",
       "      <td>4.720000e+09</td>\n",
       "      <td>4.690000e+09</td>\n",
       "      <td>1.608540e+10</td>\n",
       "      <td>8.944587e+09</td>\n",
       "      <td>693</td>\n",
       "      <td>693</td>\n",
       "      <td>same</td>\n",
       "    </tr>\n",
       "    <tr>\n",
       "      <th>1</th>\n",
       "      <td>5</td>\n",
       "      <td>NaN</td>\n",
       "      <td>jeju</td>\n",
       "      <td>149</td>\n",
       "      <td>20160309.0</td>\n",
       "      <td>44.0</td>\n",
       "      <td>hospital</td>\n",
       "      <td>3.495758e+10</td>\n",
       "      <td>0.000000e+00</td>\n",
       "      <td>3.259270e+10</td>\n",
       "      <td>...</td>\n",
       "      <td>6.730838e+10</td>\n",
       "      <td>4.209828e+10</td>\n",
       "      <td>2.420000e+10</td>\n",
       "      <td>2.521009e+10</td>\n",
       "      <td>1.830000e+10</td>\n",
       "      <td>3.789135e+09</td>\n",
       "      <td>0.000000e+00</td>\n",
       "      <td>379</td>\n",
       "      <td>371</td>\n",
       "      <td>same</td>\n",
       "    </tr>\n",
       "    <tr>\n",
       "      <th>2</th>\n",
       "      <td>6</td>\n",
       "      <td>NaN</td>\n",
       "      <td>jeonnam</td>\n",
       "      <td>103</td>\n",
       "      <td>19890427.0</td>\n",
       "      <td>276.0</td>\n",
       "      <td>general_hospital</td>\n",
       "      <td>2.326031e+10</td>\n",
       "      <td>2.542571e+09</td>\n",
       "      <td>2.308749e+10</td>\n",
       "      <td>...</td>\n",
       "      <td>0.000000e+00</td>\n",
       "      <td>2.777589e+10</td>\n",
       "      <td>2.182278e+10</td>\n",
       "      <td>0.000000e+00</td>\n",
       "      <td>0.000000e+00</td>\n",
       "      <td>0.000000e+00</td>\n",
       "      <td>1.638540e+10</td>\n",
       "      <td>NaN</td>\n",
       "      <td>NaN</td>\n",
       "      <td>NaN</td>\n",
       "    </tr>\n",
       "    <tr>\n",
       "      <th>3</th>\n",
       "      <td>8</td>\n",
       "      <td>NaN</td>\n",
       "      <td>busan</td>\n",
       "      <td>71</td>\n",
       "      <td>20100226.0</td>\n",
       "      <td>363.0</td>\n",
       "      <td>general_hospital</td>\n",
       "      <td>0.000000e+00</td>\n",
       "      <td>0.000000e+00</td>\n",
       "      <td>0.000000e+00</td>\n",
       "      <td>...</td>\n",
       "      <td>1.211517e+10</td>\n",
       "      <td>9.556237e+09</td>\n",
       "      <td>4.251867e+09</td>\n",
       "      <td>2.558931e+09</td>\n",
       "      <td>0.000000e+00</td>\n",
       "      <td>3.914284e+10</td>\n",
       "      <td>0.000000e+00</td>\n",
       "      <td>760</td>\n",
       "      <td>760</td>\n",
       "      <td>same</td>\n",
       "    </tr>\n",
       "    <tr>\n",
       "      <th>4</th>\n",
       "      <td>10</td>\n",
       "      <td>NaN</td>\n",
       "      <td>jeonbuk</td>\n",
       "      <td>26</td>\n",
       "      <td>20040604.0</td>\n",
       "      <td>213.0</td>\n",
       "      <td>general_hospital</td>\n",
       "      <td>5.037025e+10</td>\n",
       "      <td>0.000000e+00</td>\n",
       "      <td>4.855803e+10</td>\n",
       "      <td>...</td>\n",
       "      <td>4.395973e+10</td>\n",
       "      <td>7.535567e+09</td>\n",
       "      <td>3.298427e+09</td>\n",
       "      <td>3.642417e+10</td>\n",
       "      <td>2.134712e+10</td>\n",
       "      <td>2.574488e+10</td>\n",
       "      <td>1.507269e+10</td>\n",
       "      <td>437</td>\n",
       "      <td>385</td>\n",
       "      <td>same</td>\n",
       "    </tr>\n",
       "  </tbody>\n",
       "</table>\n",
       "<p>5 rows × 58 columns</p>\n",
       "</div>"
      ],
      "text/plain": [
       "   inst_id  OC     sido  sgg    openDate  bedCount          instkind  \\\n",
       "0        2 NaN  incheon  139  19981125.0     300.0  general_hospital   \n",
       "1        5 NaN     jeju  149  20160309.0      44.0          hospital   \n",
       "2        6 NaN  jeonnam  103  19890427.0     276.0  general_hospital   \n",
       "3        8 NaN    busan   71  20100226.0     363.0  general_hospital   \n",
       "4       10 NaN  jeonbuk   26  20040604.0     213.0  general_hospital   \n",
       "\n",
       "       revenue1    salescost1          sga1  ...         debt2  \\\n",
       "0  6.682486e+10  0.000000e+00  6.565709e+10  ...  5.540643e+10   \n",
       "1  3.495758e+10  0.000000e+00  3.259270e+10  ...  6.730838e+10   \n",
       "2  2.326031e+10  2.542571e+09  2.308749e+10  ...  0.000000e+00   \n",
       "3  0.000000e+00  0.000000e+00  0.000000e+00  ...  1.211517e+10   \n",
       "4  5.037025e+10  0.000000e+00  4.855803e+10  ...  4.395973e+10   \n",
       "\n",
       "   liquidLiabilities2    shortLoan2  NCLiabilities2     longLoan2  \\\n",
       "0        5.068443e+10  3.714334e+10    4.720000e+09  4.690000e+09   \n",
       "1        4.209828e+10  2.420000e+10    2.521009e+10  1.830000e+10   \n",
       "2        2.777589e+10  2.182278e+10    0.000000e+00  0.000000e+00   \n",
       "3        9.556237e+09  4.251867e+09    2.558931e+09  0.000000e+00   \n",
       "4        7.535567e+09  3.298427e+09    3.642417e+10  2.134712e+10   \n",
       "\n",
       "      netAsset2      surplus2  employee1  employee2  ownerChange  \n",
       "0  1.608540e+10  8.944587e+09        693        693         same  \n",
       "1  3.789135e+09  0.000000e+00        379        371         same  \n",
       "2  0.000000e+00  1.638540e+10        NaN        NaN          NaN  \n",
       "3  3.914284e+10  0.000000e+00        760        760         same  \n",
       "4  2.574488e+10  1.507269e+10        437        385         same  \n",
       "\n",
       "[5 rows x 58 columns]"
      ]
     },
     "execution_count": 6,
     "metadata": {},
     "output_type": "execute_result"
    }
   ],
   "source": [
    "test.head()"
   ]
  },
  {
   "cell_type": "code",
   "execution_count": 7,
   "metadata": {},
   "outputs": [
    {
     "data": {
      "text/html": [
       "<div>\n",
       "<style scoped>\n",
       "    .dataframe tbody tr th:only-of-type {\n",
       "        vertical-align: middle;\n",
       "    }\n",
       "\n",
       "    .dataframe tbody tr th {\n",
       "        vertical-align: top;\n",
       "    }\n",
       "\n",
       "    .dataframe thead th {\n",
       "        text-align: right;\n",
       "    }\n",
       "</style>\n",
       "<table border=\"1\" class=\"dataframe\">\n",
       "  <thead>\n",
       "    <tr style=\"text-align: right;\">\n",
       "      <th></th>\n",
       "      <th>inst_id</th>\n",
       "      <th>OC</th>\n",
       "      <th>sgg</th>\n",
       "      <th>openDate</th>\n",
       "      <th>bedCount</th>\n",
       "      <th>revenue1</th>\n",
       "      <th>salescost1</th>\n",
       "      <th>sga1</th>\n",
       "      <th>salary1</th>\n",
       "      <th>noi1</th>\n",
       "      <th>...</th>\n",
       "      <th>tanAsset2</th>\n",
       "      <th>OnonCAsset2</th>\n",
       "      <th>receivableL2</th>\n",
       "      <th>debt2</th>\n",
       "      <th>liquidLiabilities2</th>\n",
       "      <th>shortLoan2</th>\n",
       "      <th>NCLiabilities2</th>\n",
       "      <th>longLoan2</th>\n",
       "      <th>netAsset2</th>\n",
       "      <th>surplus2</th>\n",
       "    </tr>\n",
       "  </thead>\n",
       "  <tbody>\n",
       "    <tr>\n",
       "      <th>count</th>\n",
       "      <td>127.000000</td>\n",
       "      <td>0.0</td>\n",
       "      <td>127.000000</td>\n",
       "      <td>1.260000e+02</td>\n",
       "      <td>119.000000</td>\n",
       "      <td>1.250000e+02</td>\n",
       "      <td>1.250000e+02</td>\n",
       "      <td>1.250000e+02</td>\n",
       "      <td>1.250000e+02</td>\n",
       "      <td>1.250000e+02</td>\n",
       "      <td>...</td>\n",
       "      <td>1.250000e+02</td>\n",
       "      <td>1.250000e+02</td>\n",
       "      <td>1.250000e+02</td>\n",
       "      <td>1.250000e+02</td>\n",
       "      <td>1.250000e+02</td>\n",
       "      <td>1.250000e+02</td>\n",
       "      <td>1.250000e+02</td>\n",
       "      <td>1.250000e+02</td>\n",
       "      <td>1.250000e+02</td>\n",
       "      <td>1.250000e+02</td>\n",
       "    </tr>\n",
       "    <tr>\n",
       "      <th>mean</th>\n",
       "      <td>205.905512</td>\n",
       "      <td>NaN</td>\n",
       "      <td>95.858268</td>\n",
       "      <td>2.005085e+07</td>\n",
       "      <td>172.789916</td>\n",
       "      <td>1.824446e+10</td>\n",
       "      <td>3.973321e+09</td>\n",
       "      <td>1.340410e+10</td>\n",
       "      <td>7.415084e+09</td>\n",
       "      <td>5.175513e+08</td>\n",
       "      <td>...</td>\n",
       "      <td>1.336209e+10</td>\n",
       "      <td>3.513831e+08</td>\n",
       "      <td>1.973114e+04</td>\n",
       "      <td>1.189851e+10</td>\n",
       "      <td>5.633432e+09</td>\n",
       "      <td>2.181713e+09</td>\n",
       "      <td>6.495026e+09</td>\n",
       "      <td>4.482682e+09</td>\n",
       "      <td>6.116179e+09</td>\n",
       "      <td>1.648474e+09</td>\n",
       "    </tr>\n",
       "    <tr>\n",
       "      <th>std</th>\n",
       "      <td>131.801765</td>\n",
       "      <td>NaN</td>\n",
       "      <td>52.684253</td>\n",
       "      <td>8.795815e+04</td>\n",
       "      <td>126.024471</td>\n",
       "      <td>3.133530e+10</td>\n",
       "      <td>1.419948e+10</td>\n",
       "      <td>2.054481e+10</td>\n",
       "      <td>1.210043e+10</td>\n",
       "      <td>1.193139e+09</td>\n",
       "      <td>...</td>\n",
       "      <td>2.085404e+10</td>\n",
       "      <td>9.791097e+08</td>\n",
       "      <td>2.206009e+05</td>\n",
       "      <td>1.971182e+10</td>\n",
       "      <td>9.662048e+09</td>\n",
       "      <td>4.952449e+09</td>\n",
       "      <td>1.203673e+10</td>\n",
       "      <td>7.517020e+09</td>\n",
       "      <td>9.813461e+09</td>\n",
       "      <td>4.779444e+09</td>\n",
       "    </tr>\n",
       "    <tr>\n",
       "      <th>min</th>\n",
       "      <td>2.000000</td>\n",
       "      <td>NaN</td>\n",
       "      <td>6.000000</td>\n",
       "      <td>1.976041e+07</td>\n",
       "      <td>0.000000</td>\n",
       "      <td>0.000000e+00</td>\n",
       "      <td>0.000000e+00</td>\n",
       "      <td>0.000000e+00</td>\n",
       "      <td>0.000000e+00</td>\n",
       "      <td>0.000000e+00</td>\n",
       "      <td>...</td>\n",
       "      <td>0.000000e+00</td>\n",
       "      <td>0.000000e+00</td>\n",
       "      <td>0.000000e+00</td>\n",
       "      <td>0.000000e+00</td>\n",
       "      <td>0.000000e+00</td>\n",
       "      <td>0.000000e+00</td>\n",
       "      <td>0.000000e+00</td>\n",
       "      <td>0.000000e+00</td>\n",
       "      <td>-2.955957e+09</td>\n",
       "      <td>-8.600000e+09</td>\n",
       "    </tr>\n",
       "    <tr>\n",
       "      <th>25%</th>\n",
       "      <td>89.000000</td>\n",
       "      <td>NaN</td>\n",
       "      <td>51.000000</td>\n",
       "      <td>2.000083e+07</td>\n",
       "      <td>94.000000</td>\n",
       "      <td>3.235889e+09</td>\n",
       "      <td>0.000000e+00</td>\n",
       "      <td>3.083860e+09</td>\n",
       "      <td>1.666742e+09</td>\n",
       "      <td>1.641094e+07</td>\n",
       "      <td>...</td>\n",
       "      <td>2.807763e+09</td>\n",
       "      <td>0.000000e+00</td>\n",
       "      <td>0.000000e+00</td>\n",
       "      <td>1.679896e+09</td>\n",
       "      <td>3.914156e+08</td>\n",
       "      <td>0.000000e+00</td>\n",
       "      <td>1.321368e+08</td>\n",
       "      <td>0.000000e+00</td>\n",
       "      <td>9.492656e+08</td>\n",
       "      <td>0.000000e+00</td>\n",
       "    </tr>\n",
       "    <tr>\n",
       "      <th>50%</th>\n",
       "      <td>199.000000</td>\n",
       "      <td>NaN</td>\n",
       "      <td>95.000000</td>\n",
       "      <td>2.007107e+07</td>\n",
       "      <td>156.000000</td>\n",
       "      <td>6.637116e+09</td>\n",
       "      <td>1.896923e+08</td>\n",
       "      <td>5.716502e+09</td>\n",
       "      <td>3.263054e+09</td>\n",
       "      <td>5.319171e+07</td>\n",
       "      <td>...</td>\n",
       "      <td>5.450483e+09</td>\n",
       "      <td>3.317377e+07</td>\n",
       "      <td>0.000000e+00</td>\n",
       "      <td>4.494217e+09</td>\n",
       "      <td>1.554506e+09</td>\n",
       "      <td>3.000000e+08</td>\n",
       "      <td>2.030000e+09</td>\n",
       "      <td>1.750000e+09</td>\n",
       "      <td>2.427139e+09</td>\n",
       "      <td>0.000000e+00</td>\n",
       "    </tr>\n",
       "    <tr>\n",
       "      <th>75%</th>\n",
       "      <td>328.000000</td>\n",
       "      <td>NaN</td>\n",
       "      <td>144.500000</td>\n",
       "      <td>2.011790e+07</td>\n",
       "      <td>213.000000</td>\n",
       "      <td>1.704039e+10</td>\n",
       "      <td>1.192329e+09</td>\n",
       "      <td>1.445243e+10</td>\n",
       "      <td>7.198103e+09</td>\n",
       "      <td>3.714592e+08</td>\n",
       "      <td>...</td>\n",
       "      <td>1.187114e+10</td>\n",
       "      <td>2.048998e+08</td>\n",
       "      <td>0.000000e+00</td>\n",
       "      <td>1.412031e+10</td>\n",
       "      <td>6.586241e+09</td>\n",
       "      <td>2.650000e+09</td>\n",
       "      <td>5.700000e+09</td>\n",
       "      <td>4.857048e+09</td>\n",
       "      <td>5.881965e+09</td>\n",
       "      <td>6.935165e+08</td>\n",
       "    </tr>\n",
       "    <tr>\n",
       "      <th>max</th>\n",
       "      <td>431.000000</td>\n",
       "      <td>NaN</td>\n",
       "      <td>177.000000</td>\n",
       "      <td>2.017053e+07</td>\n",
       "      <td>771.000000</td>\n",
       "      <td>1.810000e+11</td>\n",
       "      <td>1.160000e+11</td>\n",
       "      <td>1.270000e+11</td>\n",
       "      <td>8.239561e+10</td>\n",
       "      <td>7.302719e+09</td>\n",
       "      <td>...</td>\n",
       "      <td>1.130000e+11</td>\n",
       "      <td>7.112780e+09</td>\n",
       "      <td>2.466393e+06</td>\n",
       "      <td>1.310000e+11</td>\n",
       "      <td>5.241427e+10</td>\n",
       "      <td>3.714334e+10</td>\n",
       "      <td>7.855654e+10</td>\n",
       "      <td>3.620288e+10</td>\n",
       "      <td>4.924492e+10</td>\n",
       "      <td>2.561787e+10</td>\n",
       "    </tr>\n",
       "  </tbody>\n",
       "</table>\n",
       "<p>8 rows × 53 columns</p>\n",
       "</div>"
      ],
      "text/plain": [
       "          inst_id   OC         sgg      openDate    bedCount      revenue1  \\\n",
       "count  127.000000  0.0  127.000000  1.260000e+02  119.000000  1.250000e+02   \n",
       "mean   205.905512  NaN   95.858268  2.005085e+07  172.789916  1.824446e+10   \n",
       "std    131.801765  NaN   52.684253  8.795815e+04  126.024471  3.133530e+10   \n",
       "min      2.000000  NaN    6.000000  1.976041e+07    0.000000  0.000000e+00   \n",
       "25%     89.000000  NaN   51.000000  2.000083e+07   94.000000  3.235889e+09   \n",
       "50%    199.000000  NaN   95.000000  2.007107e+07  156.000000  6.637116e+09   \n",
       "75%    328.000000  NaN  144.500000  2.011790e+07  213.000000  1.704039e+10   \n",
       "max    431.000000  NaN  177.000000  2.017053e+07  771.000000  1.810000e+11   \n",
       "\n",
       "         salescost1          sga1       salary1          noi1  ...  \\\n",
       "count  1.250000e+02  1.250000e+02  1.250000e+02  1.250000e+02  ...   \n",
       "mean   3.973321e+09  1.340410e+10  7.415084e+09  5.175513e+08  ...   \n",
       "std    1.419948e+10  2.054481e+10  1.210043e+10  1.193139e+09  ...   \n",
       "min    0.000000e+00  0.000000e+00  0.000000e+00  0.000000e+00  ...   \n",
       "25%    0.000000e+00  3.083860e+09  1.666742e+09  1.641094e+07  ...   \n",
       "50%    1.896923e+08  5.716502e+09  3.263054e+09  5.319171e+07  ...   \n",
       "75%    1.192329e+09  1.445243e+10  7.198103e+09  3.714592e+08  ...   \n",
       "max    1.160000e+11  1.270000e+11  8.239561e+10  7.302719e+09  ...   \n",
       "\n",
       "          tanAsset2   OnonCAsset2  receivableL2         debt2  \\\n",
       "count  1.250000e+02  1.250000e+02  1.250000e+02  1.250000e+02   \n",
       "mean   1.336209e+10  3.513831e+08  1.973114e+04  1.189851e+10   \n",
       "std    2.085404e+10  9.791097e+08  2.206009e+05  1.971182e+10   \n",
       "min    0.000000e+00  0.000000e+00  0.000000e+00  0.000000e+00   \n",
       "25%    2.807763e+09  0.000000e+00  0.000000e+00  1.679896e+09   \n",
       "50%    5.450483e+09  3.317377e+07  0.000000e+00  4.494217e+09   \n",
       "75%    1.187114e+10  2.048998e+08  0.000000e+00  1.412031e+10   \n",
       "max    1.130000e+11  7.112780e+09  2.466393e+06  1.310000e+11   \n",
       "\n",
       "       liquidLiabilities2    shortLoan2  NCLiabilities2     longLoan2  \\\n",
       "count        1.250000e+02  1.250000e+02    1.250000e+02  1.250000e+02   \n",
       "mean         5.633432e+09  2.181713e+09    6.495026e+09  4.482682e+09   \n",
       "std          9.662048e+09  4.952449e+09    1.203673e+10  7.517020e+09   \n",
       "min          0.000000e+00  0.000000e+00    0.000000e+00  0.000000e+00   \n",
       "25%          3.914156e+08  0.000000e+00    1.321368e+08  0.000000e+00   \n",
       "50%          1.554506e+09  3.000000e+08    2.030000e+09  1.750000e+09   \n",
       "75%          6.586241e+09  2.650000e+09    5.700000e+09  4.857048e+09   \n",
       "max          5.241427e+10  3.714334e+10    7.855654e+10  3.620288e+10   \n",
       "\n",
       "          netAsset2      surplus2  \n",
       "count  1.250000e+02  1.250000e+02  \n",
       "mean   6.116179e+09  1.648474e+09  \n",
       "std    9.813461e+09  4.779444e+09  \n",
       "min   -2.955957e+09 -8.600000e+09  \n",
       "25%    9.492656e+08  0.000000e+00  \n",
       "50%    2.427139e+09  0.000000e+00  \n",
       "75%    5.881965e+09  6.935165e+08  \n",
       "max    4.924492e+10  2.561787e+10  \n",
       "\n",
       "[8 rows x 53 columns]"
      ]
     },
     "execution_count": 7,
     "metadata": {},
     "output_type": "execute_result"
    }
   ],
   "source": [
    "test.describe()"
   ]
  },
  {
   "cell_type": "code",
   "execution_count": 8,
   "metadata": {},
   "outputs": [
    {
     "name": "stdout",
     "output_type": "stream",
     "text": [
      "<class 'pandas.core.frame.DataFrame'>\n",
      "RangeIndex: 127 entries, 0 to 126\n",
      "Data columns (total 58 columns):\n",
      " #   Column              Non-Null Count  Dtype  \n",
      "---  ------              --------------  -----  \n",
      " 0   inst_id             127 non-null    int64  \n",
      " 1   OC                  0 non-null      float64\n",
      " 2   sido                127 non-null    object \n",
      " 3   sgg                 127 non-null    int64  \n",
      " 4   openDate            126 non-null    float64\n",
      " 5   bedCount            119 non-null    float64\n",
      " 6   instkind            125 non-null    object \n",
      " 7   revenue1            125 non-null    float64\n",
      " 8   salescost1          125 non-null    float64\n",
      " 9   sga1                125 non-null    float64\n",
      " 10  salary1             125 non-null    float64\n",
      " 11  noi1                125 non-null    float64\n",
      " 12  noe1                125 non-null    float64\n",
      " 13  interest1           125 non-null    float64\n",
      " 14  ctax1               125 non-null    float64\n",
      " 15  profit1             125 non-null    float64\n",
      " 16  liquidAsset1        125 non-null    float64\n",
      " 17  quickAsset1         125 non-null    float64\n",
      " 18  receivableS1        125 non-null    float64\n",
      " 19  inventoryAsset1     125 non-null    float64\n",
      " 20  nonCAsset1          125 non-null    float64\n",
      " 21  tanAsset1           125 non-null    float64\n",
      " 22  OnonCAsset1         125 non-null    float64\n",
      " 23  receivableL1        125 non-null    float64\n",
      " 24  debt1               125 non-null    float64\n",
      " 25  liquidLiabilities1  125 non-null    float64\n",
      " 26  shortLoan1          125 non-null    float64\n",
      " 27  NCLiabilities1      125 non-null    float64\n",
      " 28  longLoan1           125 non-null    float64\n",
      " 29  netAsset1           125 non-null    float64\n",
      " 30  surplus1            125 non-null    float64\n",
      " 31  revenue2            125 non-null    float64\n",
      " 32  salescost2          125 non-null    float64\n",
      " 33  sga2                125 non-null    float64\n",
      " 34  salary2             125 non-null    float64\n",
      " 35  noi2                125 non-null    float64\n",
      " 36  noe2                125 non-null    float64\n",
      " 37  interest2           125 non-null    float64\n",
      " 38  ctax2               125 non-null    float64\n",
      " 39  profit2             125 non-null    float64\n",
      " 40  liquidAsset2        125 non-null    float64\n",
      " 41  quickAsset2         125 non-null    float64\n",
      " 42  receivableS2        125 non-null    float64\n",
      " 43  inventoryAsset2     125 non-null    float64\n",
      " 44  nonCAsset2          125 non-null    float64\n",
      " 45  tanAsset2           125 non-null    float64\n",
      " 46  OnonCAsset2         125 non-null    float64\n",
      " 47  receivableL2        125 non-null    float64\n",
      " 48  debt2               125 non-null    float64\n",
      " 49  liquidLiabilities2  125 non-null    float64\n",
      " 50  shortLoan2          125 non-null    float64\n",
      " 51  NCLiabilities2      125 non-null    float64\n",
      " 52  longLoan2           125 non-null    float64\n",
      " 53  netAsset2           125 non-null    float64\n",
      " 54  surplus2            125 non-null    float64\n",
      " 55  employee1           119 non-null    object \n",
      " 56  employee2           112 non-null    object \n",
      " 57  ownerChange         112 non-null    object \n",
      "dtypes: float64(51), int64(2), object(5)\n",
      "memory usage: 57.7+ KB\n"
     ]
    }
   ],
   "source": [
    "test.info()"
   ]
  },
  {
   "cell_type": "code",
   "execution_count": 9,
   "metadata": {},
   "outputs": [
    {
     "data": {
      "text/plain": [
       "inst_id                0\n",
       "OC                     0\n",
       "sido                   0\n",
       "sgg                    0\n",
       "openDate               0\n",
       "bedCount               5\n",
       "instkind               1\n",
       "revenue1               8\n",
       "salescost1             8\n",
       "sga1                   8\n",
       "salary1                8\n",
       "noi1                   8\n",
       "noe1                   8\n",
       "interest1              8\n",
       "ctax1                  8\n",
       "profit1                8\n",
       "liquidAsset1           8\n",
       "quickAsset1            8\n",
       "receivableS1           8\n",
       "inventoryAsset1        8\n",
       "nonCAsset1             8\n",
       "tanAsset1              8\n",
       "OnonCAsset1            8\n",
       "receivableL1           8\n",
       "debt1                  8\n",
       "liquidLiabilities1     8\n",
       "shortLoan1             8\n",
       "NCLiabilities1         8\n",
       "longLoan1              8\n",
       "netAsset1              8\n",
       "surplus1               8\n",
       "revenue2               8\n",
       "salescost2             8\n",
       "sga2                   8\n",
       "salary2                8\n",
       "noi2                   8\n",
       "noe2                   8\n",
       "interest2              8\n",
       "ctax2                  8\n",
       "profit2                8\n",
       "liquidAsset2           8\n",
       "quickAsset2            8\n",
       "receivableS2           8\n",
       "inventoryAsset2        8\n",
       "nonCAsset2             8\n",
       "tanAsset2              8\n",
       "OnonCAsset2            8\n",
       "receivableL2           8\n",
       "debt2                  8\n",
       "liquidLiabilities2     8\n",
       "shortLoan2             8\n",
       "NCLiabilities2         8\n",
       "longLoan2              8\n",
       "netAsset2              8\n",
       "surplus2               8\n",
       "employee1             10\n",
       "employee2             13\n",
       "ownerChange           12\n",
       "dtype: int64"
      ]
     },
     "execution_count": 9,
     "metadata": {},
     "output_type": "execute_result"
    }
   ],
   "source": [
    "pd.isna(data).sum()"
   ]
  },
  {
   "cell_type": "markdown",
   "metadata": {},
   "source": [
    "2주차 강의에서 사용한 전처리 코드를 그대로 가져와 사용하겠습니다.\n",
    "\n",
    "#### 전처리"
   ]
  },
  {
   "cell_type": "code",
   "execution_count": 10,
   "metadata": {},
   "outputs": [],
   "source": [
    "# 발생한 에러처리\n",
    "test['employee1'] = test['employee1'].map(lambda x: x.replace(',', '') if isinstance(x, str) else x)\n",
    "test['employee2'] = test['employee2'].map(lambda x: x.replace(',', '') if isinstance(x, str) else x)\n",
    "\n",
    "# 자료형 변경\n",
    "test['employee1'] = test['employee1'].astype(np.float64)\n",
    "test['employee2'] = test['employee2'].astype(np.float64)"
   ]
  },
  {
   "cell_type": "markdown",
   "metadata": {},
   "source": [
    "##### 클래스 분포 확인\n",
    "- 해당 데이터는 극심한 클래스가 불균형한 데이터셋 입니다. 이런 데이터의 경우 Open으로 찍어버리면 거의 95%의 정확도가 나옵니다."
   ]
  },
  {
   "cell_type": "code",
   "execution_count": 11,
   "metadata": {},
   "outputs": [
    {
     "data": {
      "text/plain": [
       "(286, 15)"
      ]
     },
     "execution_count": 11,
     "metadata": {},
     "output_type": "execute_result"
    }
   ],
   "source": [
    "(data['OC'] == 'open').sum(), (data['OC'] == ' close').sum()"
   ]
  },
  {
   "cell_type": "markdown",
   "metadata": {},
   "source": [
    "##### 불필요한 컬럼 삭제\n",
    "- openDate는 병원이 개업한 년월일로 실제로는 중요한 변수일 수 있으나, 우리 강의가 데이터 전처리에 치중된 강의가 아니므로 일단은 제거하겠습니다.\n",
    "- 일반적으로 년월일은 1년 단위 또는 10년 단위로 범주형 변수로 만들어 전처리합니다."
   ]
  },
  {
   "cell_type": "code",
   "execution_count": 12,
   "metadata": {},
   "outputs": [],
   "source": [
    "data.drop(columns=['OC', 'inst_id', 'openDate'], inplace=True)\n",
    "\n",
    "test.drop(columns=['OC', 'inst_id', 'openDate'], inplace=True)"
   ]
  },
  {
   "cell_type": "markdown",
   "metadata": {},
   "source": [
    "##### 수치형 변수 컬럼 및 범주형 변수 컬럼"
   ]
  },
  {
   "cell_type": "code",
   "execution_count": 13,
   "metadata": {},
   "outputs": [
    {
     "name": "stdout",
     "output_type": "stream",
     "text": [
      "Categorical Columns: \n",
      "['sido', 'instkind', 'ownerChange']\n",
      "\n",
      " Numeric Columns: \n",
      "['sgg', 'bedCount', 'revenue1', 'salescost1', 'sga1', 'salary1', 'noi1', 'noe1', 'interest1', 'ctax1', 'profit1', 'liquidAsset1', 'quickAsset1', 'receivableS1', 'inventoryAsset1', 'nonCAsset1', 'tanAsset1', 'OnonCAsset1', 'receivableL1', 'debt1', 'liquidLiabilities1', 'shortLoan1', 'NCLiabilities1', 'longLoan1', 'netAsset1', 'surplus1', 'revenue2', 'salescost2', 'sga2', 'salary2', 'noi2', 'noe2', 'interest2', 'ctax2', 'profit2', 'liquidAsset2', 'quickAsset2', 'receivableS2', 'inventoryAsset2', 'nonCAsset2', 'tanAsset2', 'OnonCAsset2', 'receivableL2', 'debt2', 'liquidLiabilities2', 'shortLoan2', 'NCLiabilities2', 'longLoan2', 'netAsset2', 'surplus2', 'employee1', 'employee2']\n",
      "\n"
     ]
    }
   ],
   "source": [
    "# DF.info에서 Object type을 가진 컬럼은 모두 범주형 변수\n",
    "cat_columns = ['sido', 'instkind', 'ownerChange'] \n",
    "num_columns = [c for c in data.columns if c not in cat_columns]\n",
    "print('Categorical Columns: \\n{}\\n\\n Numeric Columns: \\n{}\\n'.format(cat_columns, num_columns))"
   ]
  },
  {
   "cell_type": "markdown",
   "metadata": {},
   "source": [
    "#### 라벨 데이터 인코딩"
   ]
  },
  {
   "cell_type": "code",
   "execution_count": 14,
   "metadata": {},
   "outputs": [],
   "source": [
    "from sklearn.preprocessing import LabelEncoder, OneHotEncoder\n",
    "\n",
    "le = LabelEncoder()\n",
    "label = le.fit_transform(label)"
   ]
  },
  {
   "cell_type": "code",
   "execution_count": 16,
   "metadata": {},
   "outputs": [
    {
     "data": {
      "text/plain": [
       "(301,)"
      ]
     },
     "execution_count": 16,
     "metadata": {},
     "output_type": "execute_result"
    }
   ],
   "source": [
    "label.shape"
   ]
  },
  {
   "cell_type": "markdown",
   "metadata": {},
   "source": [
    "#### 전처리 프로세스 함수로 만들기"
   ]
  },
  {
   "cell_type": "code",
   "execution_count": 15,
   "metadata": {},
   "outputs": [],
   "source": [
    "def preprocess(x_train, x_valid, x_test):\n",
    "    tmp_x_train = x_train.copy()\n",
    "    tmp_x_valid = x_valid.copy()\n",
    "    tmp_x_test  = x_test.copy()\n",
    "    \n",
    "    # 결측치 처리\n",
    "    tmp_x_train = tmp_x_train.reset_index(drop=True)\n",
    "    tmp_x_valid = tmp_x_valid.reset_index(drop=True)\n",
    "    tmp_x_test  = tmp_x_test.reset_index(drop=True)\n",
    "    \n",
    "    x_train_mean = np.mean(tmp_x_train[num_columns], axis=0)\n",
    "    x_train_mode = tmp_x_train[cat_columns].mode()\n",
    "    \n",
    "    for c in num_columns:\n",
    "        # x_train의 평균 값으로 x_train, x_valid 수치형 변수 결측치 처리\n",
    "        tmp_x_train.loc[pd.isna(tmp_x_train[c]), c] =  x_train_mean[c]\n",
    "        tmp_x_valid.loc[pd.isna(tmp_x_valid[c]), c] =  x_train_mean[c]\n",
    "        tmp_x_test.loc[pd.isna(tmp_x_test[c]), c]   =  x_train_mean[c]\n",
    "    \n",
    "    for c in cat_columns:\n",
    "        # x_train의 최빈 값으로 x_train, x_valid 범주형 변수 결측치 처리\n",
    "        tmp_x_train.loc[pd.isna(tmp_x_train[c]), c] =  x_train_mode[c][0]\n",
    "        tmp_x_valid.loc[pd.isna(tmp_x_valid[c]), c] =  x_train_mode[c][0]\n",
    "        tmp_x_test.loc[pd.isna(tmp_x_test[c]), c]   =  x_train_mode[c][0]\n",
    "        \n",
    "    \n",
    "    # 스케일링\n",
    "    x_train_mean = np.mean(tmp_x_train[num_columns], axis=0)\n",
    "    x_train_std  = np.std(tmp_x_train[num_columns], axis=0)\n",
    "\n",
    "    tmp_x_train.loc[:, num_columns] = (tmp_x_train[num_columns] - x_train_mean) / (x_train_std + 1e-4)\n",
    "    tmp_x_valid.loc[:, num_columns] = (tmp_x_valid[num_columns] - x_train_mean) / (x_train_std + 1e-4)\n",
    "    tmp_x_test.loc[:, num_columns] = (tmp_x_test[num_columns] - x_train_mean) / (x_train_std + 1e-4)\n",
    "        \n",
    "    # 인코딩\n",
    "    ohe = OneHotEncoder(sparse=False)\n",
    "\n",
    "    x_all = pd.concat([tmp_x_train[cat_columns], \n",
    "                       tmp_x_valid[cat_columns], \n",
    "                       tmp_x_test[cat_columns]], axis=0)\n",
    "\n",
    "    new_x_all = ohe.fit_transform(x_all)\n",
    "    ohe_columns = ohe.categories_[0].tolist() + ohe.categories_[1].tolist() + ohe.categories_[2].tolist()\n",
    "\n",
    "    new_x_all = pd.DataFrame(new_x_all, columns=ohe_columns)\n",
    "\n",
    "    new_x_train_cat = new_x_all.iloc[:tmp_x_train.shape[0], :]\n",
    "    new_x_valid_cat = new_x_all.iloc[tmp_x_train.shape[0]:new_x_all.shape[0] - tmp_x_test.shape[0], :]\n",
    "    new_x_test_cat =  new_x_all.iloc[new_x_all.shape[0] - tmp_x_test.shape[0]:, :]\n",
    "\n",
    "    new_x_train_cat = new_x_train_cat.reset_index(drop=True)\n",
    "    new_x_valid_cat = new_x_valid_cat.reset_index(drop=True)\n",
    "    new_x_test_cat  = new_x_test_cat.reset_index(drop=True)\n",
    "\n",
    "    tmp_x_train = tmp_x_train.drop(columns=cat_columns)\n",
    "    tmp_x_valid = tmp_x_valid.drop(columns=cat_columns)\n",
    "    tmp_x_test  = tmp_x_test.drop(columns=cat_columns)\n",
    "\n",
    "    tmp_x_train = pd.concat([tmp_x_train, new_x_train_cat], axis=1)\n",
    "    tmp_x_valid = pd.concat([tmp_x_valid, new_x_valid_cat], axis=1)\n",
    "    tmp_x_test = pd.concat([tmp_x_test, new_x_test_cat], axis=1)\n",
    "    \n",
    "    return tmp_x_train, tmp_x_valid, tmp_x_test"
   ]
  },
  {
   "cell_type": "markdown",
   "metadata": {},
   "source": [
    "## Cross Validation\n",
    "### 1. Train, Valid, Test Set\n",
    "훈련, 검증, 테스트 데이터라고 부르는 3가지를 한번 이야기 해보겠습니다.<br>\n",
    "* Train Data : 모델을 학습하는데 사용하는 데이터 (모델이 알고 있는 학습할 데이터, 과거 데이터)\n",
    "* Valid Data : 학습한 모델의 성능을 검증하는 데이터 (모델이 모르는 학습하지 않을 데이터, 모델 검증에 사용하는 데이터, 과거 데이터)\n",
    "* Test Data : 학습한 모델로 예측할 데이터 (모델이 모르는 예측할 데이터, 미래 데이터)\n",
    "\n",
    "<img src='./img/train_val_test.png' style='height : 500px' >\n"
   ]
  },
  {
   "cell_type": "markdown",
   "metadata": {},
   "source": [
    "##### 데이터 쪼개기, Train -> (Train, Valid)\n",
    "- train_test_split 파라미터 \n",
    "    - test_size  (float): Valid(test)의 크기의 비율을 지정\n",
    "    - random_state (int): 데이터를 쪼갤 때 내부적으로 사용되는 난수 값 (해당 값을 지정하지 않으면 매번 달라집니다.)\n",
    "    - shuffle     (bool): 데이터를 쪼갤 때 섞을지 유무\n",
    "    - stratify   (array): Stratify란, 쪼개기 이전의 클래스 비율을 쪼개고 나서도 유지하기 위해 설정해야하는 값입니다. 클래스 라벨을 넣어주면 됩니다.\n",
    "        - ex) 원본 Train 데이터의 클래스 비율이 (7:3) 이었다면, 쪼개어진 Train, Valid(test) 데이터의 클래스 비율도 (7:3)이 됩니다. 당연히 분류 데이터에서만 사용할 수 있습니다."
   ]
  },
  {
   "cell_type": "code",
   "execution_count": 16,
   "metadata": {},
   "outputs": [],
   "source": [
    "from sklearn.model_selection import train_test_split\n",
    "\n",
    "# 쪼개어진 Train, Valid 데이터의 비율은 (7:3), 내부 난수 값 2020, 데이터를 쪼갤 때 섞으며 label 값으로 Stratify 하는 코드 입니다. random_state를 주석 처리하고 데이터를 확인해보시면 계속 바뀝니다.\n",
    "x_train, x_valid, y_train, y_valid = train_test_split(data, label, \n",
    "                                                      test_size=0.3,\n",
    "                                                      random_state=2020,\n",
    "                                                      shuffle=True,\n",
    "                                                      stratify=label)"
   ]
  },
  {
   "cell_type": "code",
   "execution_count": 17,
   "metadata": {},
   "outputs": [
    {
     "data": {
      "text/plain": [
       "((301, 55), (210, 55), (91, 55))"
      ]
     },
     "execution_count": 17,
     "metadata": {},
     "output_type": "execute_result"
    }
   ],
   "source": [
    "data.shape, x_train.shape, x_valid.shape"
   ]
  },
  {
   "cell_type": "markdown",
   "metadata": {},
   "source": [
    "### 2. k-fold with stratify\n",
    "k-fold는 데이터를 k개로 쪼개는 것을 말합니다. <br>\n",
    "일반적으로 Cross Validation에서 사용되며, 데이터셋을 k개로 쪼개어 k-1개로 모델을 학습하고, 1개로 모델을 검증합니다. <br>\n",
    "k개로 데이터를 쪼개면, 모든 fold에 대해(하나의 fold를 선택하여) 검증하는 방식으로 k번 다른 데이터셋으로 학습한 모델을 검증할 수 있습니다.\n",
    "\n",
    "![kfold](./img/kfold.png)\n",
    "\n",
    "#### Stratify, 계층적 k-fold는 뭔가요?\n",
    "k-fold는 데이터의 정렬 유무와 분류할 클래스의 비율에 상관없이 순서대로 데이터를 분할하는 특징이 있습니다.<br>\n",
    "하지만, 분류할 클래스의 비율이 다르다면 어떻게 될까요? 그런 경우에는, 각 fold가 학습 데이터셋을 대표한다고 말하기 어려워집니다.<br>\n",
    "한 fold에 특정 클래스가 많이 나올수도, 적게 나올수도 있기 때문입니다. Stratified k-fold는 그러한 문제점을 해결하기 위해 제안되었습니다.<br>\n",
    "k개의 fold도 분할한 이후에도, 전체 훈련 데이터의 클래스 비율과 각 fold가 가지고 있는 클래스의 비율을 맞추어 준다는 점이 기존의 k-fold와의 다른 특징 입니다. \n",
    "\n",
    "##### k-fold\n",
    "![kfold_example](./img/kfold_example.png)\n",
    "\n",
    "##### Stratified k-fold\n",
    "![stratified_kfold_example](./img/stratified_kfold_example.png)"
   ]
  },
  {
   "cell_type": "markdown",
   "metadata": {},
   "source": [
    "#### k-Fold\n",
    "k-fold는 말 그대로 데이터를 k개로 쪼갭니다. <br>\n",
    "k의 개수를 조절하여 몇개의 fold를 만들지 결정할 수 있습니다.\n",
    "\n",
    "k-fold는 sklearn의 model_selection 패키지에 있습니다."
   ]
  },
  {
   "cell_type": "markdown",
   "metadata": {},
   "source": [
    "- KFold 대표 파라미터\n",
    "    - n_splits      (int)  : Fold의 개수 k 값\n",
    "    - shuffle       (bool) : 데이터를 쪼갤 때 섞을지 유무\n",
    "    - random_state  (int)  : 내부적으로 사용되는 난수값"
   ]
  },
  {
   "cell_type": "code",
   "execution_count": 18,
   "metadata": {},
   "outputs": [],
   "source": [
    "from sklearn.model_selection import KFold\n",
    "kf = KFold(n_splits=5, shuffle=True, random_state=2020)"
   ]
  },
  {
   "cell_type": "code",
   "execution_count": 19,
   "metadata": {},
   "outputs": [
    {
     "name": "stdout",
     "output_type": "stream",
     "text": [
      "0 Fold, trn label\n",
      " Open: 229, Close: 11\n",
      "0 Fold, val label\n",
      " Open: 57, Close: 4\n",
      "\n",
      "1 Fold, trn label\n",
      " Open: 228, Close: 13\n",
      "1 Fold, val label\n",
      " Open: 58, Close: 2\n",
      "\n",
      "2 Fold, trn label\n",
      " Open: 229, Close: 12\n",
      "2 Fold, val label\n",
      " Open: 57, Close: 3\n",
      "\n",
      "3 Fold, trn label\n",
      " Open: 228, Close: 13\n",
      "3 Fold, val label\n",
      " Open: 58, Close: 2\n",
      "\n",
      "4 Fold, trn label\n",
      " Open: 230, Close: 11\n",
      "4 Fold, val label\n",
      " Open: 56, Close: 4\n",
      "\n"
     ]
    }
   ],
   "source": [
    "for i, (trn_idx, val_idx) in enumerate(kf.split(data, label)):\n",
    "    x_train, y_train = data.iloc[trn_idx, :], label[trn_idx,]\n",
    "    x_valid, y_valid = data.iloc[val_idx, :], label[val_idx,]\n",
    "    \n",
    "    print('{} Fold, trn label\\n Open: {}, Close: {}'.format(i,   np.sum(y_train == 1), np.sum(y_train == 0)))\n",
    "    print('{} Fold, val label\\n Open: {}, Close: {}\\n'.format(i, np.sum(y_valid == 1), np.sum(y_valid == 0)))"
   ]
  },
  {
   "cell_type": "markdown",
   "metadata": {},
   "source": [
    "#### stratify k-Fold\n",
    "\n",
    "Stratified k-fold는 sklearn의 model_selection 패키지에 있습니다."
   ]
  },
  {
   "cell_type": "markdown",
   "metadata": {},
   "source": [
    "- StratifiedKFold 대표 파라미터\n",
    "    - n_splits      (int)  : Fold의 개수 k 값\n",
    "    - shuffle       (bool) : 데이터를 쪼갤 때 섞을지 유무\n",
    "    - random_state  (int)  : 내부적으로 사용되는 난수값"
   ]
  },
  {
   "cell_type": "code",
   "execution_count": 20,
   "metadata": {},
   "outputs": [],
   "source": [
    "from sklearn.model_selection import StratifiedKFold\n",
    "skf = StratifiedKFold(n_splits=5, shuffle=True, random_state=2020)"
   ]
  },
  {
   "cell_type": "code",
   "execution_count": 21,
   "metadata": {},
   "outputs": [
    {
     "name": "stdout",
     "output_type": "stream",
     "text": [
      "0 Fold, trn label\n",
      " Open: 228, Close: 12\n",
      "0 Fold, val label\n",
      " Open: 58, Close: 3\n",
      "\n",
      "1 Fold, trn label\n",
      " Open: 229, Close: 12\n",
      "1 Fold, val label\n",
      " Open: 57, Close: 3\n",
      "\n",
      "2 Fold, trn label\n",
      " Open: 229, Close: 12\n",
      "2 Fold, val label\n",
      " Open: 57, Close: 3\n",
      "\n",
      "3 Fold, trn label\n",
      " Open: 229, Close: 12\n",
      "3 Fold, val label\n",
      " Open: 57, Close: 3\n",
      "\n",
      "4 Fold, trn label\n",
      " Open: 229, Close: 12\n",
      "4 Fold, val label\n",
      " Open: 57, Close: 3\n",
      "\n"
     ]
    }
   ],
   "source": [
    "for i, (trn_idx, val_idx) in enumerate(skf.split(data, label)):\n",
    "    x_train, y_train = data.iloc[trn_idx, :], label[trn_idx,]\n",
    "    x_valid, y_valid = data.iloc[val_idx, :], label[val_idx,]\n",
    "    \n",
    "    print('{} Fold, trn label\\n Open: {}, Close: {}'.format(i,   np.sum(y_train == 1), np.sum(y_train == 0)))\n",
    "    print('{} Fold, val label\\n Open: {}, Close: {}\\n'.format(i, np.sum(y_valid == 1), np.sum(y_valid == 0)))"
   ]
  },
  {
   "cell_type": "markdown",
   "metadata": {},
   "source": [
    "#### Cross Validation 해보기 (실습 15분)\n",
    "Stratified k-fold를 이용해 Cross Validation을 진행해 보겠습니다. "
   ]
  },
  {
   "cell_type": "code",
   "execution_count": 22,
   "metadata": {},
   "outputs": [],
   "source": [
    "from sklearn.ensemble import RandomForestClassifier\n",
    "from sklearn.metrics  import f1_score"
   ]
  },
  {
   "cell_type": "code",
   "execution_count": 23,
   "metadata": {},
   "outputs": [
    {
     "name": "stdout",
     "output_type": "stream",
     "text": [
      "0 Fold, train f1_score : 1.0000, validation f1_score : 0.9483\n",
      "1 Fold, train f1_score : 0.9957, validation f1_score : 0.9744\n",
      "2 Fold, train f1_score : 0.9957, validation f1_score : 0.9744\n",
      "3 Fold, train f1_score : 0.9978, validation f1_score : 0.9744\n",
      "4 Fold, train f1_score : 0.9978, validation f1_score : 0.9744\n",
      "Cross Validation Score : 0.9691\n"
     ]
    }
   ],
   "source": [
    "val_scores = list()\n",
    "\n",
    "for i, (trn_idx, val_idx) in enumerate(skf.split(data, label)) :\n",
    "    x_train, y_train = data.iloc[trn_idx, :], label[trn_idx, ]\n",
    "    x_valid, y_valid = data.iloc[val_idx, :], label[val_idx, ]\n",
    "    \n",
    "    # 전처리\n",
    "    x_train, x_valid, _ = preprocess(x_train, x_valid, test)\n",
    "    \n",
    "    # 모델 정의\n",
    "    clf = RandomForestClassifier(n_estimators=100, max_depth=10, random_state=2019)\n",
    "    \n",
    "    # 모델 학습\n",
    "    clf.fit(x_train, y_train)\n",
    "\n",
    "    # 훈련, 검증 데이터 F1 Score 확인\n",
    "    trn_f1 = f1_score(y_train, clf.predict(x_train))\n",
    "    val_f1 = f1_score(y_valid, clf.predict(x_valid))\n",
    "    print('{} Fold, train f1_score : {:.4f}, validation f1_score : {:.4f}'.format(i, trn_f1, val_f1))\n",
    "    \n",
    "    val_scores.append(val_f1)\n",
    "\n",
    "# 교차 검증 F1 Score 평균 계산하기\n",
    "print('Cross Validation Score : {:.4f}'.format(np.mean(val_scores)))"
   ]
  },
  {
   "cell_type": "markdown",
   "metadata": {},
   "source": [
    "## Parameter Tuning\n",
    "### GridSearch \n",
    "모델에는 여러가지 파라미터가 들어갑니다. SVC의 경우 Soft, Hard 마진의 정도를 결정하는 'C' 커널 함수를 결정하는 'kernel' 특정 커널에서 얼마나 세세하게 볼것인지를 결정하는 'gamma' 등 <br>\n",
    "파라미터를 어떻게 결정하느냐에 따라 모델이 잘 학습하거나 잘 학습하지 못하는 경우가 발생할 수 있습니다. <br>\n",
    "Sklearn에서 가장 쉽게 제공하는 파라미터 튜닝 함수로 GridSearchCV 라는 함수가 있습니다. 해당 함수에 각 파라미터에 사용할 수치 리스트를 전달하면, 해당 함수는 파라미터들의 조합을 모두 시도해보며,<br>\n",
    "가장 좋은 성능의 파라미터를 찾게 됩니다. \n",
    "\n",
    "간단히 GridSearchCV 함수를 사용해 랜덤 포레스트의 n_estimators, max_depth 파라미터 중 가장 좋은 파라미터 조합을 찾아보겠습니다.<br>\n",
    "GridSearchCV 함수는 Sklearn의 model_selection 패키지에 있습니다.<br>"
   ]
  },
  {
   "cell_type": "markdown",
   "metadata": {},
   "source": [
    "#### 1) 모델 정의 및 불러오기"
   ]
  },
  {
   "cell_type": "code",
   "execution_count": 24,
   "metadata": {},
   "outputs": [],
   "source": [
    "from sklearn.model_selection import GridSearchCV\n",
    "\n",
    "params = {'n_estimators':[50, 100, 150],\n",
    "          'max_depth':[3, 5, 7, 10], \n",
    "          'random_state':[2020] }\n",
    "\n",
    "clf = GridSearchCV(RandomForestClassifier(), params, n_jobs=4, scoring='f1')"
   ]
  },
  {
   "cell_type": "markdown",
   "metadata": {},
   "source": [
    "#### 2) 모델 학습하기"
   ]
  },
  {
   "cell_type": "code",
   "execution_count": 25,
   "metadata": {},
   "outputs": [
    {
     "data": {
      "text/plain": [
       "GridSearchCV(estimator=RandomForestClassifier(), n_jobs=4,\n",
       "             param_grid={'max_depth': [3, 5, 7, 10],\n",
       "                         'n_estimators': [50, 100, 150],\n",
       "                         'random_state': [2020]},\n",
       "             scoring='f1')"
      ]
     },
     "execution_count": 25,
     "metadata": {},
     "output_type": "execute_result"
    }
   ],
   "source": [
    "clf.fit(x_train, y_train)"
   ]
  },
  {
   "cell_type": "markdown",
   "metadata": {},
   "source": [
    "#### 3,4) 예측 및 결과 확인"
   ]
  },
  {
   "cell_type": "code",
   "execution_count": 26,
   "metadata": {},
   "outputs": [
    {
     "name": "stdout",
     "output_type": "stream",
     "text": [
      "GridSearchCV best f1 score : 0.9745, best_params : {'max_depth': 3, 'n_estimators': 50, 'random_state': 2020}\n"
     ]
    }
   ],
   "source": [
    "print('GridSearchCV best f1 score : {:.4f}, best_params : {}'.format(clf.best_score_, clf.best_params_))"
   ]
  },
  {
   "cell_type": "code",
   "execution_count": 27,
   "metadata": {},
   "outputs": [
    {
     "data": {
      "text/plain": [
       "0.9743589743589743"
      ]
     },
     "execution_count": 27,
     "metadata": {},
     "output_type": "execute_result"
    }
   ],
   "source": [
    "f1_score(y_valid, clf.predict(x_valid))"
   ]
  },
  {
   "cell_type": "markdown",
   "metadata": {},
   "source": [
    "## Ensemble\n",
    "개인적으로 앙상블은 머신러닝의 꽃이라고 생각합니다. 단일 모델로 좋은 성능을 이끄는 것도 중요하지만, 서로 다른 모델의 다양성을 고려하여 결과를 이끌어내는 앙상블은 응용할 수 있는 방법이 매우 많습니다. <br>\n",
    "그 중 대표적인 2가지 앙상블에 대해 실습하고 배워보도록 하겠습니다. \n",
    "\n",
    "### 1. Voting Ensemble\n",
    "이름에서 알 수 있듯이 각자의 모델이 투표를 하여 클래스를 선택하는 방식의 앙상블 입니다. <br>\n",
    "Voting 앙상블은 Sklearn 자체적으로 모델로써 지원을 하며, 사용하기도 매우 쉽습니다. <br>\n",
    "그리고 Hard, Soft로 Voting 방식이 나뉘는데, Hard는 라벨 값으로 투표를 하는 방식이고, Soft는 확률 값을 모두 더해 가장 높은 클래스를 선택합니다.\n",
    "\n",
    "Voting Classifier는 Sklearn의 ensemble 패키지에 있습니다."
   ]
  },
  {
   "cell_type": "markdown",
   "metadata": {},
   "source": [
    "##### 앙상블 성능 비교를 위해 임시로 데이터를 나누겠습니다."
   ]
  },
  {
   "cell_type": "code",
   "execution_count": 28,
   "metadata": {},
   "outputs": [],
   "source": [
    "from sklearn.model_selection import train_test_split\n",
    "\n",
    "# 쪼개어진 Train, Valid 데이터의 비율은 (7:3), 내부 난수 값 2020, 데이터를 쪼갤 때 섞으며 label 값으로 Stratify 하는 코드 입니다. random_state를 주석 처리하고 데이터를 확인해보시면 계속 바뀝니다.\n",
    "tmp_x_data, tmp_x_test, tmp_y_data, tmp_y_test = train_test_split(data, label, \n",
    "                                                                   test_size=0.3,\n",
    "                                                                   random_state=2020,\n",
    "                                                                   shuffle=True,\n",
    "                                                                   stratify=label)"
   ]
  },
  {
   "cell_type": "code",
   "execution_count": 29,
   "metadata": {},
   "outputs": [],
   "source": [
    "tmp_x_data, tmp_x_test, _ = preprocess(tmp_x_data, tmp_x_test, test)"
   ]
  },
  {
   "cell_type": "markdown",
   "metadata": {},
   "source": [
    "#### 1) 모델 불러오기 및 정의하기"
   ]
  },
  {
   "cell_type": "code",
   "execution_count": 30,
   "metadata": {},
   "outputs": [],
   "source": [
    "from sklearn.ensemble import VotingClassifier\n",
    "from sklearn.linear_model import LogisticRegression\n",
    "from sklearn.neural_network import MLPClassifier\n",
    "\n",
    "clfs = [['Logistic', LogisticRegression()],\n",
    "        ['RandomForest', RandomForestClassifier()],\n",
    "        ['MLP', MLPClassifier()]]\n",
    "\n",
    "vote_clf = VotingClassifier(clfs, voting='hard', n_jobs=4)"
   ]
  },
  {
   "cell_type": "markdown",
   "metadata": {},
   "source": [
    "#### 2) 모델 학습하기"
   ]
  },
  {
   "cell_type": "code",
   "execution_count": 31,
   "metadata": {},
   "outputs": [
    {
     "data": {
      "text/plain": [
       "VotingClassifier(estimators=[['Logistic', LogisticRegression()],\n",
       "                             ['RandomForest', RandomForestClassifier()],\n",
       "                             ['MLP', MLPClassifier()]],\n",
       "                 n_jobs=4)"
      ]
     },
     "execution_count": 31,
     "metadata": {},
     "output_type": "execute_result"
    }
   ],
   "source": [
    "vote_clf.fit(tmp_x_data, tmp_y_data)"
   ]
  },
  {
   "cell_type": "markdown",
   "metadata": {},
   "source": [
    "#### 3) 결과 확인하기"
   ]
  },
  {
   "cell_type": "code",
   "execution_count": 32,
   "metadata": {},
   "outputs": [
    {
     "name": "stdout",
     "output_type": "stream",
     "text": [
      "Cross Validation F1 score : 0.9718\n"
     ]
    }
   ],
   "source": [
    "print('Cross Validation F1 score : {:.4f}'.format(f1_score(tmp_y_test, vote_clf.predict(tmp_x_test))))"
   ]
  },
  {
   "cell_type": "markdown",
   "metadata": {},
   "source": [
    "### 2. Out-of-fold(OOF) Ensemble (같이 푸는 실습)\n",
    "OOF 앙상블은 KFold 교차 검증에서 생성되는 각 Fold에 대한 예측 값을 앙상블하는 기법으로 모델 검증과 함께 앙상블을 진행할 수 있다는 장점이 있습니다. <br>\n",
    "\n",
    "Cross Validation 파트에서 배웠던 KFold 코드를 재사용해 OOF 앙상블을 진행해보겠습니다."
   ]
  },
  {
   "cell_type": "code",
   "execution_count": 33,
   "metadata": {},
   "outputs": [],
   "source": [
    "from sklearn.model_selection import train_test_split\n",
    "\n",
    "# 쪼개어진 Train, Valid 데이터의 비율은 (7:3), 내부 난수 값 2020, 데이터를 쪼갤 때 섞으며 label 값으로 Stratify 하는 코드 입니다. random_state를 주석 처리하고 데이터를 확인해보시면 계속 바뀝니다.\n",
    "tmp_x_data, tmp_x_test, tmp_y_data, tmp_y_test = train_test_split(data, label, \n",
    "                                                                   test_size=0.3,\n",
    "                                                                   random_state=2020,\n",
    "                                                                   shuffle=True,\n",
    "                                                                   stratify=label)"
   ]
  },
  {
   "cell_type": "code",
   "execution_count": 34,
   "metadata": {},
   "outputs": [
    {
     "name": "stdout",
     "output_type": "stream",
     "text": [
      "0 Fold, train f1_score : 1.00004, validation f1_score : 0.9756\n",
      "1 Fold, train f1_score : 0.99694, validation f1_score : 0.9756\n",
      "2 Fold, train f1_score : 0.99694, validation f1_score : 1.0000\n",
      "3 Fold, train f1_score : 0.99694, validation f1_score : 0.9630\n",
      "4 Fold, train f1_score : 0.99694, validation f1_score : 0.9880\n",
      "Cross Validation Score : 0.9804\n",
      "OOF Validation Score : 0.9829\n"
     ]
    }
   ],
   "source": [
    "val_scores = list()\n",
    "oof_pred = np.zeros((tmp_x_test.shape[0], le.classes_.shape[0]))\n",
    "\n",
    "for i, (trn_idx, val_idx) in enumerate(skf.split(tmp_x_data, tmp_y_data)):\n",
    "    x_train, y_train = data.iloc[trn_idx, :], label[trn_idx,]\n",
    "    x_valid, y_valid = data.iloc[val_idx, :], label[val_idx,]\n",
    "    \n",
    "    # 전처리\n",
    "    x_train, x_valid, x_test = preprocess(x_train, x_valid, tmp_x_test)\n",
    "    \n",
    "    # 모델 정의\n",
    "    clf = RandomForestClassifier(n_estimators=100, max_depth=10, random_state=2019)\n",
    "    \n",
    "    # 모델 학습\n",
    "    clf.fit(x_train, y_train)\n",
    "\n",
    "    # 훈련, 검증 데이터 F1 Score 확인\n",
    "    trn_f1 = f1_score(y_train, clf.predict(x_train))\n",
    "    val_f1 = f1_score(y_valid, clf.predict(x_valid))\n",
    "    print('{} Fold, train f1_score : {:.4f}4, validation f1_score : {:.4f}'.format(i, trn_f1, val_f1))\n",
    "    \n",
    "    val_scores.append(val_f1)\n",
    "    \n",
    "    oof_pred += clf.predict_proba(x_test)\n",
    "    #oof_pred += clf.predict_proba(x_test)\n",
    "    \n",
    "\n",
    "# 교차 검증 F1 Score 평균 계산하기\n",
    "print('Cross Validation Score : {:.4f}'.format(np.mean(val_scores)))\n",
    "\n",
    "# OOF valid F1 Score 계산하기\n",
    "print('OOF Validation Score : {:.4f}'.format(f1_score(tmp_y_test, np.argmax(oof_pred, axis=1))))"
   ]
  },
  {
   "cell_type": "code",
   "execution_count": 35,
   "metadata": {},
   "outputs": [
    {
     "data": {
      "text/plain": [
       "(91, 76)"
      ]
     },
     "execution_count": 35,
     "metadata": {},
     "output_type": "execute_result"
    }
   ],
   "source": [
    "x_test.shape"
   ]
  },
  {
   "cell_type": "code",
   "execution_count": 39,
   "metadata": {},
   "outputs": [
    {
     "data": {
      "text/plain": [
       "(91, 55)"
      ]
     },
     "execution_count": 39,
     "metadata": {},
     "output_type": "execute_result"
    }
   ],
   "source": [
    "tmp_x_test.shape"
   ]
  },
  {
   "cell_type": "markdown",
   "metadata": {},
   "source": [
    "### Reference\n",
    "- Validation 데이터가 필요한 이유 : https://3months.tistory.com/118\n",
    "- Sklearn, KFold : https://scikit-learn.org/stable/modules/generated/sklearn.model_selection.KFold.html\n",
    "- Sklearn, StratifedKFold : https://scikit-learn.org/stable/modules/generated/sklearn.model_selection.StratifiedKFold.html#sklearn.model_selection.StratifiedKFold\n",
    "- Sklearn, Compare with KFold, StratifedKFold : https://scikit-learn.org/stable/auto_examples/model_selection/plot_cv_indices.html#sphx-glr-auto-examples-model-selection-plot-cv-indices-py\n",
    "- Sklearn, Cross Validation Score : https://www.google.com/url?q=http://scikit-learn.org/stable/modules/generated/sklearn.model_selection.cross_val_score.html&sa=U&ved=0ahUKEwiGxeHhqubhAhUKV7wKHbFhDrcQFggEMAA&client=internal-uds-cse&cx=016639176250731907682:tjtqbvtvij0&usg=AOvVaw0rIHEJ1ltDaghFv1bvPeRO\n",
    "- Sklearn, GridSearchCV : https://scikit-learn.org/stable/modules/generated/sklearn.model_selection.GridSearchCV.html\n",
    "- Sklearn, Voting Classifier : https://scikit-learn.org/stable/modules/generated/sklearn.ensemble.VotingClassifier.html"
   ]
  },
  {
   "cell_type": "markdown",
   "metadata": {},
   "source": [
    "## 실습 솔루션"
   ]
  },
  {
   "cell_type": "markdown",
   "metadata": {},
   "source": [
    "### 1) Cross Validation  실습 "
   ]
  },
  {
   "cell_type": "code",
   "execution_count": null,
   "metadata": {},
   "outputs": [],
   "source": [
    "from sklearn.ensemble import RandomForestClassifier\n",
    "from sklearn.metrics   import f1_score\n",
    "\n",
    "val_scores = list()\n",
    "\n",
    "for i, (trn_idx, val_idx) in enumerate(skf.split(data, label)):\n",
    "    x_train, y_train = data.iloc[trn_idx, :], label[trn_idx,]\n",
    "    x_valid, y_valid = data.iloc[val_idx, :], label[val_idx,]\n",
    "    \n",
    "    # 전처리\n",
    "    x_train, x_valid, _ = preprocess(x_train, x_valid, x_test)\n",
    "    \n",
    "    # 모델 정의\n",
    "    clf = RandomForestClassifier(n_estimators=100, max_depth=10, random_state=2019)\n",
    "    \n",
    "    # 모델 학습\n",
    "    clf.fit(x_train, y_train)\n",
    "\n",
    "    # 훈련, 검증 데이터 정확도 확인\n",
    "    trn_f1 = f1_score(y_train, clf.predict(x_train))\n",
    "    val_f1 = f1_score(y_valid, clf.predict(x_valid))\n",
    "    print('{} Fold, train f1_score : {:.4f}4, validation f1_score : {:.4f}'.format(i, trn_f1, val_f1))\n",
    "    \n",
    "    val_scores.append(val_f1)\n",
    "\n",
    "# 교차 검증 정확도 평균 계산하기\n",
    "print('Cross Validation Score : {:.4f}'.format(np.mean(val_scores)))"
   ]
  },
  {
   "cell_type": "markdown",
   "metadata": {},
   "source": [
    "### 2) Out-of-fold ensemble 실습 "
   ]
  },
  {
   "cell_type": "code",
   "execution_count": null,
   "metadata": {},
   "outputs": [],
   "source": [
    "val_scores = list()\n",
    "oof_pred = np.zeros((tmp_x_test.shape[0], le.classes_.shape[0]))\n",
    "\n",
    "for i, (trn_idx, val_idx) in enumerate(skf.split(tmp_x_data, tmp_y_data)):\n",
    "    x_train, y_train = data.iloc[trn_idx, :], label[trn_idx,]\n",
    "    x_valid, y_valid = data.iloc[val_idx, :], label[val_idx,]\n",
    "    \n",
    "    # 전처리\n",
    "    x_train, x_valid, _ = preprocess(x_train, x_valid, test)\n",
    "    \n",
    "    # 모델 정의\n",
    "    clf = RandomForestClassifier(n_estimators=100, max_depth=10, random_state=2019)\n",
    "    \n",
    "    # 모델 학습\n",
    "    clf.fit(x_train, y_train)\n",
    "\n",
    "    # 훈련, 검증 데이터 F1 Score 확인\n",
    "    trn_f1 = f1_score(y_train, clf.predict(x_train))\n",
    "    val_f1 = f1_score(y_valid, clf.predict(x_valid))\n",
    "    print('{} Fold, train f1_score : {:.4f}4, validation f1_score : {:.4f}'.format(i, trn_f1, val_f1))\n",
    "    \n",
    "    val_scores.append(val_f1)\n",
    "    \n",
    "    oof_pred += clf.predict_proba(tmp_x_test)\n",
    "    #oof_pred += clf.predict_proba(x_test)\n",
    "    \n",
    "\n",
    "# 교차 검증 F1 Score 평균 계산하기\n",
    "print('Cross Validation Score : {:.4f}'.format(np.mean(val_scores)))\n",
    "\n",
    "# OOF valid F1 Score 계산하기\n",
    "print('OOF Validation Score : {:.4f}'.format(f1_score(tmp_y_test, np.argmax(oof_pred, axis=1))))"
   ]
  }
 ],
 "metadata": {
  "colab": {
   "collapsed_sections": [],
   "name": "Lab_05) Model Validation.ipynb",
   "provenance": [],
   "version": "0.3.2"
  },
  "kernelspec": {
   "display_name": "Python 3",
   "language": "python",
   "name": "python3"
  },
  "language_info": {
   "codemirror_mode": {
    "name": "ipython",
    "version": 3
   },
   "file_extension": ".py",
   "mimetype": "text/x-python",
   "name": "python",
   "nbconvert_exporter": "python",
   "pygments_lexer": "ipython3",
   "version": "3.7.7"
  }
 },
 "nbformat": 4,
 "nbformat_minor": 4
}
