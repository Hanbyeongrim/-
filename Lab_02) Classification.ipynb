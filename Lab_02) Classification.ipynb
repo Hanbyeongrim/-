{
 "cells": [
  {
   "cell_type": "markdown",
   "metadata": {
    "colab_type": "text",
    "id": "iItkhsGB5c4W"
   },
   "source": [
    "# Lab_02 분류\n",
    "### Context\n",
    "\n",
    "#### Classification\n",
    "+ Logistic Regression\n",
    "+ Support Vector Machine\n",
    "+ Decision Tree\n",
    "+ Random Forest\n",
    "+ XGBoost\n",
    "+ LightGBM\n",
    "\n",
    "#### Evaluation\n",
    "+ Metric\n",
    "+ Confution Matrix\n",
    "+ ROC-AUC"
   ]
  },
  {
   "cell_type": "code",
   "execution_count": 1,
   "metadata": {
    "colab": {},
    "colab_type": "code",
    "id": "aAfXTYpj5ysB"
   },
   "outputs": [],
   "source": [
    "import os\n",
    "from os.path import join\n",
    "\n",
    "import numpy as np\n",
    "import pandas as pd\n",
    "\n",
    "import matplotlib.pyplot as plt"
   ]
  },
  {
   "cell_type": "markdown",
   "metadata": {},
   "source": [
    "## Classification\n",
    "머신러닝과 통계학에서의 분류는 새로 관측된 데이터가 어떤 범주 집합에 속하는지를 식별하는 것을 말합니다. <br>\n",
    "훈련 데이터를 이용해 모델을 학습하면, 모델은 결정 경계(Decision boundary)라는 데이터를 분류하는 선을 만들어 냅니다.<br>\n",
    "이번 수업에서는 여러가지 대표적인 모델의 원리를 간단히 알아보고, 결정 경계를 만들어 데이터를 분류해보겠습니다.<br>\n",
    "\n",
    "<img src='./img/Classification.png' height=600 width=600 align='left'/>\n"
   ]
  },
  {
   "cell_type": "markdown",
   "metadata": {},
   "source": [
    "#### 데이터 정보\n",
    "\n",
    "    train.csv - 의료기관이 폐업했는지 여부를 포함하여 최근 2개년의 재무정보와 병원 기본정보 \n",
    "    test.csv - 폐업 여부를 제외하고 train.csv와 동일 \n",
    "    sample_submission.csv - inst_id와 open과 close를 예측하는 OC 두개의 열로 구성. OC의 값은 open 예측일 경우 1, close 예측일 경우 0.\n",
    "\n",
    "\n",
    "\n",
    "    inst_id - 각 파일에서의 병원 고유 번호\n",
    "    OC – 영업/폐업 분류, 2018년 폐업은 2017년 폐업으로 간주함\n",
    "    sido – 병원의 광역 지역 정보\n",
    "    sgg – 병원의 시군구 자료\n",
    "    openDate – 병원 설립일\n",
    "    bedCount - 병원이 갖추고 있는 병상의 수\n",
    "    instkind – 병원, 의원, 요양병원, 한의원, 종합병원 등 병원의 종류\n",
    "    ·        종합병원 : 입원환자 100명 이상 수용 가능\n",
    "    ·        병원 : 입원 환자 30명 이상 100명 미만 수용 가능\n",
    "    ·        의원 : 입원 환자 30명 이하 수용 가능\n",
    "    ·        한방 병원(한의원) : 침술과 한약으로 치료하는 의료 기관.  \n",
    "    revenue1 – 매출액, 2017(회계년도)년 데이터를 의미함\n",
    "    salescost1 – 매출원가, 2017(회계년도)년 데이터를 의미함\n",
    "    sga1 - 판매비와 관리비, 2017(회계년도)년 데이터를 의미함\n",
    "    salary1 – 급여, 2017(회계년도)년 데이터를 의미함\n",
    "    noi1 – 영업외수익, 2017(회계년도)년 데이터를 의미함\n",
    "    noe1 – 영업외비용, 2017(회계년도)년 데이터를 의미함\n",
    "    Interest1 – 이자비용, 2017(회계년도)년 데이터를 의미함\n",
    "    ctax1 – 법인세비용, 2017(회계년도)년 데이터를 의미함\n",
    "    Profit1 – 당기순이익, 2017(회계년도)년 데이터를 의미함\n",
    "    liquidAsset1 – 유동자산, 2017(회계년도)년 데이터를 의미함\n",
    "    quickAsset1 – 당좌자산, 2017(회계년도)년 데이터를 의미함\n",
    "    receivableS1 - 미수금(단기), 2017(회계년도)년 데이터를 의미함\n",
    "    inventoryAsset1 – 재고자산, 2017(회계년도)년 데이터를 의미함\n",
    "    nonCAsset1 – 비유동자산, 2017(회계년도)년 데이터를 의미함\n",
    "    tanAsset1 – 유형자산, 2017(회계년도)년 데이터를 의미함\n",
    "    OnonCAsset1 - 기타 비유동자산, 2017(회계년도)년 데이터를 의미함\n",
    "    receivableL1 – 장기미수금, 2017(회계년도)년 데이터를 의미함\n",
    "    debt1 – 부채총계, 2017(회계년도)년 데이터를 의미함\n",
    "    liquidLiabilities1 – 유동부채, 2017(회계년도)년 데이터를 의미함\n",
    "    shortLoan1 – 단기차입금, 2017(회계년도)년 데이터를 의미함\n",
    "    NCLiabilities1 – 비유동부채, 2017(회계년도)년 데이터를 의미함\n",
    "    longLoan1 – 장기차입금, 2017(회계년도)년 데이터를 의미함\n",
    "    netAsset1 – 순자산총계, 2017(회계년도)년 데이터를 의미함\n",
    "    surplus1 – 이익잉여금, 2017(회계년도)년 데이터를 의미함\n",
    "    revenue2 – 매출액, 2016(회계년도)년 데이터를 의미함\n",
    "    salescost2 – 매출원가, 2016(회계년도)년 데이터를 의미함\n",
    "    sga2 - 판매비와 관리비, 2016(회계년도)년 데이터를 의미함\n",
    "    salary2 – 급여, 2016(회계년도)년 데이터를 의미함\n",
    "    noi2 – 영업외수익, 2016(회계년도)년 데이터를 의미함\n",
    "    noe2 – 영업외비용, 2016(회계년도)년 데이터를 의미함\n",
    "    interest2 – 이자비용, 2016(회계년도)년 데이터를 의미함\n",
    "    ctax2 – 법인세비용, 2016(회계년도)년 데이터를 의미함\n",
    "    profit2 – 당기순이익, 2016(회계년도)년 데이터를 의미함\n",
    "    liquidAsset2 – 유동자산, 2016(회계년도)년 데이터를 의미함\n",
    "    quickAsset2 – 당좌자산, 2016(회계년도)년 데이터를 의미함\n",
    "    receivableS2 - 미수금(단기), 2016(회계년도)년 데이터를 의미함\n",
    "    inventoryAsset2 – 재고자산, 2016(회계년도)년 데이터를 의미함\n",
    "    nonCAsset2 – 비유동자산, 2016(회계년도)년 데이터를 의미함\n",
    "    tanAsset2 – 유형자산, 2016(회계년도)년 데이터를 의미함\n",
    "    OnonCAsset2 - 기타 비유동자산, 2016(회계년도)년 데이터를 의미함\n",
    "    receivableL2 – 장기미수금, 2016(회계년도)년 데이터를 의미함\n",
    "    Debt2 – 부채총계, 2016(회계년도)년 데이터를 의미함\n",
    "    liquidLiabilities2 – 유동부채, 2016(회계년도)년 데이터를 의미함\n",
    "    shortLoan2 – 단기차입금, 2016(회계년도)년 데이터를 의미함\n",
    "    NCLiabilities2 – 비유동부채, 2016(회계년도)년 데이터를 의미함\n",
    "    longLoan2 – 장기차입금, 2016(회계년도)년 데이터를 의미함\n",
    "    netAsset2 – 순자산총계, 2016(회계년도)년 데이터를 의미함\n",
    "    surplus2 – 이익잉여금, 2016(회계년도)년 데이터를 의미함\n",
    "    employee1 – 고용한 총 직원의 수, 2017(회계년도)년 데이터를 의미함\n",
    "    employee2 – 고용한 총 직원의 수, 2016(회계년도)년 데이터를 의미함\n",
    "    ownerChange – 대표자의 변동 "
   ]
  },
  {
   "cell_type": "code",
   "execution_count": 3,
   "metadata": {},
   "outputs": [],
   "source": [
    "hospital_train = join('data', join('Hospital', 'train.csv'))\n",
    "hospital_test  = join('data', join('Hospital', 'test.csv'))\n",
    "\n",
    "data = pd.read_csv(hospital_train)\n",
    "label = data['OC']\n",
    "\n",
    "x_test = pd.read_csv(hospital_test)"
   ]
  },
  {
   "cell_type": "code",
   "execution_count": 4,
   "metadata": {},
   "outputs": [
    {
     "data": {
      "text/html": [
       "<div>\n",
       "<style scoped>\n",
       "    .dataframe tbody tr th:only-of-type {\n",
       "        vertical-align: middle;\n",
       "    }\n",
       "\n",
       "    .dataframe tbody tr th {\n",
       "        vertical-align: top;\n",
       "    }\n",
       "\n",
       "    .dataframe thead th {\n",
       "        text-align: right;\n",
       "    }\n",
       "</style>\n",
       "<table border=\"1\" class=\"dataframe\">\n",
       "  <thead>\n",
       "    <tr style=\"text-align: right;\">\n",
       "      <th></th>\n",
       "      <th>inst_id</th>\n",
       "      <th>OC</th>\n",
       "      <th>sido</th>\n",
       "      <th>sgg</th>\n",
       "      <th>openDate</th>\n",
       "      <th>bedCount</th>\n",
       "      <th>instkind</th>\n",
       "      <th>revenue1</th>\n",
       "      <th>salescost1</th>\n",
       "      <th>sga1</th>\n",
       "      <th>...</th>\n",
       "      <th>debt2</th>\n",
       "      <th>liquidLiabilities2</th>\n",
       "      <th>shortLoan2</th>\n",
       "      <th>NCLiabilities2</th>\n",
       "      <th>longLoan2</th>\n",
       "      <th>netAsset2</th>\n",
       "      <th>surplus2</th>\n",
       "      <th>employee1</th>\n",
       "      <th>employee2</th>\n",
       "      <th>ownerChange</th>\n",
       "    </tr>\n",
       "  </thead>\n",
       "  <tbody>\n",
       "    <tr>\n",
       "      <th>0</th>\n",
       "      <td>1</td>\n",
       "      <td>open</td>\n",
       "      <td>choongnam</td>\n",
       "      <td>73</td>\n",
       "      <td>20071228</td>\n",
       "      <td>175.0</td>\n",
       "      <td>nursing_hospital</td>\n",
       "      <td>4.217530e+09</td>\n",
       "      <td>0.0</td>\n",
       "      <td>3.961135e+09</td>\n",
       "      <td>...</td>\n",
       "      <td>7.589937e+08</td>\n",
       "      <td>2.228769e+08</td>\n",
       "      <td>0.000000e+00</td>\n",
       "      <td>5.361169e+08</td>\n",
       "      <td>3.900000e+08</td>\n",
       "      <td>2.619290e+09</td>\n",
       "      <td>1.271224e+09</td>\n",
       "      <td>62.0</td>\n",
       "      <td>64.0</td>\n",
       "      <td>same</td>\n",
       "    </tr>\n",
       "    <tr>\n",
       "      <th>1</th>\n",
       "      <td>3</td>\n",
       "      <td>open</td>\n",
       "      <td>gyeongnam</td>\n",
       "      <td>32</td>\n",
       "      <td>19970401</td>\n",
       "      <td>410.0</td>\n",
       "      <td>general_hospital</td>\n",
       "      <td>NaN</td>\n",
       "      <td>NaN</td>\n",
       "      <td>NaN</td>\n",
       "      <td>...</td>\n",
       "      <td>NaN</td>\n",
       "      <td>NaN</td>\n",
       "      <td>NaN</td>\n",
       "      <td>NaN</td>\n",
       "      <td>NaN</td>\n",
       "      <td>NaN</td>\n",
       "      <td>NaN</td>\n",
       "      <td>801.0</td>\n",
       "      <td>813.0</td>\n",
       "      <td>same</td>\n",
       "    </tr>\n",
       "    <tr>\n",
       "      <th>2</th>\n",
       "      <td>4</td>\n",
       "      <td>open</td>\n",
       "      <td>gyeonggi</td>\n",
       "      <td>89</td>\n",
       "      <td>20161228</td>\n",
       "      <td>468.0</td>\n",
       "      <td>nursing_hospital</td>\n",
       "      <td>1.004522e+09</td>\n",
       "      <td>515483669.0</td>\n",
       "      <td>4.472197e+08</td>\n",
       "      <td>...</td>\n",
       "      <td>0.000000e+00</td>\n",
       "      <td>0.000000e+00</td>\n",
       "      <td>0.000000e+00</td>\n",
       "      <td>0.000000e+00</td>\n",
       "      <td>0.000000e+00</td>\n",
       "      <td>0.000000e+00</td>\n",
       "      <td>0.000000e+00</td>\n",
       "      <td>234.0</td>\n",
       "      <td>1.0</td>\n",
       "      <td>same</td>\n",
       "    </tr>\n",
       "    <tr>\n",
       "      <th>3</th>\n",
       "      <td>7</td>\n",
       "      <td>open</td>\n",
       "      <td>incheon</td>\n",
       "      <td>141</td>\n",
       "      <td>20000814</td>\n",
       "      <td>353.0</td>\n",
       "      <td>general_hospital</td>\n",
       "      <td>7.250734e+10</td>\n",
       "      <td>0.0</td>\n",
       "      <td>7.067740e+10</td>\n",
       "      <td>...</td>\n",
       "      <td>3.775501e+10</td>\n",
       "      <td>1.701860e+10</td>\n",
       "      <td>9.219427e+09</td>\n",
       "      <td>2.073641e+10</td>\n",
       "      <td>1.510000e+10</td>\n",
       "      <td>1.295427e+10</td>\n",
       "      <td>7.740829e+09</td>\n",
       "      <td>663.0</td>\n",
       "      <td>663.0</td>\n",
       "      <td>same</td>\n",
       "    </tr>\n",
       "    <tr>\n",
       "      <th>4</th>\n",
       "      <td>9</td>\n",
       "      <td>open</td>\n",
       "      <td>gyeongnam</td>\n",
       "      <td>32</td>\n",
       "      <td>20050901</td>\n",
       "      <td>196.0</td>\n",
       "      <td>general_hospital</td>\n",
       "      <td>4.904354e+10</td>\n",
       "      <td>0.0</td>\n",
       "      <td>4.765605e+10</td>\n",
       "      <td>...</td>\n",
       "      <td>5.143259e+10</td>\n",
       "      <td>3.007259e+10</td>\n",
       "      <td>1.759375e+10</td>\n",
       "      <td>2.136001e+10</td>\n",
       "      <td>1.410803e+10</td>\n",
       "      <td>5.561941e+06</td>\n",
       "      <td>9.025550e+09</td>\n",
       "      <td>206.0</td>\n",
       "      <td>197.0</td>\n",
       "      <td>same</td>\n",
       "    </tr>\n",
       "  </tbody>\n",
       "</table>\n",
       "<p>5 rows × 58 columns</p>\n",
       "</div>"
      ],
      "text/plain": [
       "   inst_id    OC       sido  sgg  openDate  bedCount          instkind  \\\n",
       "0        1  open  choongnam   73  20071228     175.0  nursing_hospital   \n",
       "1        3  open  gyeongnam   32  19970401     410.0  general_hospital   \n",
       "2        4  open   gyeonggi   89  20161228     468.0  nursing_hospital   \n",
       "3        7  open    incheon  141  20000814     353.0  general_hospital   \n",
       "4        9  open  gyeongnam   32  20050901     196.0  general_hospital   \n",
       "\n",
       "       revenue1   salescost1          sga1  ...         debt2  \\\n",
       "0  4.217530e+09          0.0  3.961135e+09  ...  7.589937e+08   \n",
       "1           NaN          NaN           NaN  ...           NaN   \n",
       "2  1.004522e+09  515483669.0  4.472197e+08  ...  0.000000e+00   \n",
       "3  7.250734e+10          0.0  7.067740e+10  ...  3.775501e+10   \n",
       "4  4.904354e+10          0.0  4.765605e+10  ...  5.143259e+10   \n",
       "\n",
       "   liquidLiabilities2    shortLoan2  NCLiabilities2     longLoan2  \\\n",
       "0        2.228769e+08  0.000000e+00    5.361169e+08  3.900000e+08   \n",
       "1                 NaN           NaN             NaN           NaN   \n",
       "2        0.000000e+00  0.000000e+00    0.000000e+00  0.000000e+00   \n",
       "3        1.701860e+10  9.219427e+09    2.073641e+10  1.510000e+10   \n",
       "4        3.007259e+10  1.759375e+10    2.136001e+10  1.410803e+10   \n",
       "\n",
       "      netAsset2      surplus2  employee1  employee2  ownerChange  \n",
       "0  2.619290e+09  1.271224e+09       62.0       64.0         same  \n",
       "1           NaN           NaN      801.0      813.0         same  \n",
       "2  0.000000e+00  0.000000e+00      234.0        1.0         same  \n",
       "3  1.295427e+10  7.740829e+09      663.0      663.0         same  \n",
       "4  5.561941e+06  9.025550e+09      206.0      197.0         same  \n",
       "\n",
       "[5 rows x 58 columns]"
      ]
     },
     "execution_count": 4,
     "metadata": {},
     "output_type": "execute_result"
    }
   ],
   "source": [
    "data.head()"
   ]
  },
  {
   "cell_type": "code",
   "execution_count": 5,
   "metadata": {},
   "outputs": [
    {
     "data": {
      "text/plain": [
       "(301, 58)"
      ]
     },
     "execution_count": 5,
     "metadata": {},
     "output_type": "execute_result"
    }
   ],
   "source": [
    "data.shape"
   ]
  },
  {
   "cell_type": "code",
   "execution_count": 6,
   "metadata": {},
   "outputs": [
    {
     "data": {
      "text/html": [
       "<div>\n",
       "<style scoped>\n",
       "    .dataframe tbody tr th:only-of-type {\n",
       "        vertical-align: middle;\n",
       "    }\n",
       "\n",
       "    .dataframe tbody tr th {\n",
       "        vertical-align: top;\n",
       "    }\n",
       "\n",
       "    .dataframe thead th {\n",
       "        text-align: right;\n",
       "    }\n",
       "</style>\n",
       "<table border=\"1\" class=\"dataframe\">\n",
       "  <thead>\n",
       "    <tr style=\"text-align: right;\">\n",
       "      <th></th>\n",
       "      <th>inst_id</th>\n",
       "      <th>sgg</th>\n",
       "      <th>openDate</th>\n",
       "      <th>bedCount</th>\n",
       "      <th>revenue1</th>\n",
       "      <th>salescost1</th>\n",
       "      <th>sga1</th>\n",
       "      <th>salary1</th>\n",
       "      <th>noi1</th>\n",
       "      <th>noe1</th>\n",
       "      <th>...</th>\n",
       "      <th>receivableL2</th>\n",
       "      <th>debt2</th>\n",
       "      <th>liquidLiabilities2</th>\n",
       "      <th>shortLoan2</th>\n",
       "      <th>NCLiabilities2</th>\n",
       "      <th>longLoan2</th>\n",
       "      <th>netAsset2</th>\n",
       "      <th>surplus2</th>\n",
       "      <th>employee1</th>\n",
       "      <th>employee2</th>\n",
       "    </tr>\n",
       "  </thead>\n",
       "  <tbody>\n",
       "    <tr>\n",
       "      <th>count</th>\n",
       "      <td>301.000000</td>\n",
       "      <td>301.000000</td>\n",
       "      <td>3.010000e+02</td>\n",
       "      <td>296.000000</td>\n",
       "      <td>2.930000e+02</td>\n",
       "      <td>2.930000e+02</td>\n",
       "      <td>2.930000e+02</td>\n",
       "      <td>2.930000e+02</td>\n",
       "      <td>2.930000e+02</td>\n",
       "      <td>2.930000e+02</td>\n",
       "      <td>...</td>\n",
       "      <td>2.930000e+02</td>\n",
       "      <td>2.930000e+02</td>\n",
       "      <td>2.930000e+02</td>\n",
       "      <td>2.930000e+02</td>\n",
       "      <td>2.930000e+02</td>\n",
       "      <td>2.930000e+02</td>\n",
       "      <td>2.930000e+02</td>\n",
       "      <td>2.930000e+02</td>\n",
       "      <td>291.000000</td>\n",
       "      <td>288.000000</td>\n",
       "    </tr>\n",
       "    <tr>\n",
       "      <th>mean</th>\n",
       "      <td>219.056478</td>\n",
       "      <td>81.039867</td>\n",
       "      <td>2.005013e+07</td>\n",
       "      <td>145.709459</td>\n",
       "      <td>1.288175e+10</td>\n",
       "      <td>2.014903e+09</td>\n",
       "      <td>1.033244e+10</td>\n",
       "      <td>5.654115e+09</td>\n",
       "      <td>2.696151e+08</td>\n",
       "      <td>5.115870e+08</td>\n",
       "      <td>...</td>\n",
       "      <td>2.226700e+05</td>\n",
       "      <td>8.146026e+09</td>\n",
       "      <td>3.860584e+09</td>\n",
       "      <td>1.510050e+09</td>\n",
       "      <td>4.471247e+09</td>\n",
       "      <td>2.709979e+09</td>\n",
       "      <td>5.273919e+09</td>\n",
       "      <td>9.786279e+08</td>\n",
       "      <td>142.546392</td>\n",
       "      <td>134.326389</td>\n",
       "    </tr>\n",
       "    <tr>\n",
       "      <th>std</th>\n",
       "      <td>121.234869</td>\n",
       "      <td>50.969714</td>\n",
       "      <td>8.893815e+04</td>\n",
       "      <td>118.923890</td>\n",
       "      <td>2.043543e+10</td>\n",
       "      <td>7.460271e+09</td>\n",
       "      <td>1.493886e+10</td>\n",
       "      <td>8.083343e+09</td>\n",
       "      <td>8.023701e+08</td>\n",
       "      <td>1.060379e+09</td>\n",
       "      <td>...</td>\n",
       "      <td>3.811496e+06</td>\n",
       "      <td>1.255800e+10</td>\n",
       "      <td>6.797242e+09</td>\n",
       "      <td>2.953412e+09</td>\n",
       "      <td>7.659580e+09</td>\n",
       "      <td>4.564001e+09</td>\n",
       "      <td>1.081259e+10</td>\n",
       "      <td>4.688798e+09</td>\n",
       "      <td>160.191073</td>\n",
       "      <td>151.061786</td>\n",
       "    </tr>\n",
       "    <tr>\n",
       "      <th>min</th>\n",
       "      <td>1.000000</td>\n",
       "      <td>1.000000</td>\n",
       "      <td>1.978012e+07</td>\n",
       "      <td>0.000000</td>\n",
       "      <td>0.000000e+00</td>\n",
       "      <td>0.000000e+00</td>\n",
       "      <td>0.000000e+00</td>\n",
       "      <td>0.000000e+00</td>\n",
       "      <td>0.000000e+00</td>\n",
       "      <td>0.000000e+00</td>\n",
       "      <td>...</td>\n",
       "      <td>0.000000e+00</td>\n",
       "      <td>0.000000e+00</td>\n",
       "      <td>0.000000e+00</td>\n",
       "      <td>0.000000e+00</td>\n",
       "      <td>0.000000e+00</td>\n",
       "      <td>0.000000e+00</td>\n",
       "      <td>-2.014780e+10</td>\n",
       "      <td>-2.781507e+09</td>\n",
       "      <td>0.000000</td>\n",
       "      <td>0.000000</td>\n",
       "    </tr>\n",
       "    <tr>\n",
       "      <th>25%</th>\n",
       "      <td>112.000000</td>\n",
       "      <td>37.000000</td>\n",
       "      <td>2.001102e+07</td>\n",
       "      <td>52.750000</td>\n",
       "      <td>3.252112e+09</td>\n",
       "      <td>0.000000e+00</td>\n",
       "      <td>2.758201e+09</td>\n",
       "      <td>1.626053e+09</td>\n",
       "      <td>8.217133e+06</td>\n",
       "      <td>8.013395e+07</td>\n",
       "      <td>...</td>\n",
       "      <td>0.000000e+00</td>\n",
       "      <td>1.283220e+09</td>\n",
       "      <td>2.855741e+08</td>\n",
       "      <td>0.000000e+00</td>\n",
       "      <td>2.557878e+07</td>\n",
       "      <td>0.000000e+00</td>\n",
       "      <td>1.017573e+09</td>\n",
       "      <td>0.000000e+00</td>\n",
       "      <td>53.500000</td>\n",
       "      <td>53.750000</td>\n",
       "    </tr>\n",
       "    <tr>\n",
       "      <th>50%</th>\n",
       "      <td>230.000000</td>\n",
       "      <td>75.000000</td>\n",
       "      <td>2.007113e+07</td>\n",
       "      <td>136.500000</td>\n",
       "      <td>5.524218e+09</td>\n",
       "      <td>2.104105e+08</td>\n",
       "      <td>4.684074e+09</td>\n",
       "      <td>2.659892e+09</td>\n",
       "      <td>4.363764e+07</td>\n",
       "      <td>1.831965e+08</td>\n",
       "      <td>...</td>\n",
       "      <td>0.000000e+00</td>\n",
       "      <td>3.784553e+09</td>\n",
       "      <td>1.454050e+09</td>\n",
       "      <td>8.542549e+07</td>\n",
       "      <td>1.969747e+09</td>\n",
       "      <td>1.100000e+09</td>\n",
       "      <td>2.894970e+09</td>\n",
       "      <td>0.000000e+00</td>\n",
       "      <td>80.000000</td>\n",
       "      <td>79.000000</td>\n",
       "    </tr>\n",
       "    <tr>\n",
       "      <th>75%</th>\n",
       "      <td>321.000000</td>\n",
       "      <td>123.000000</td>\n",
       "      <td>2.011102e+07</td>\n",
       "      <td>193.000000</td>\n",
       "      <td>1.274839e+10</td>\n",
       "      <td>9.105278e+08</td>\n",
       "      <td>1.077876e+10</td>\n",
       "      <td>6.363400e+09</td>\n",
       "      <td>2.050331e+08</td>\n",
       "      <td>4.203330e+08</td>\n",
       "      <td>...</td>\n",
       "      <td>0.000000e+00</td>\n",
       "      <td>8.465053e+09</td>\n",
       "      <td>4.364714e+09</td>\n",
       "      <td>1.567967e+09</td>\n",
       "      <td>4.905441e+09</td>\n",
       "      <td>3.360000e+09</td>\n",
       "      <td>5.370285e+09</td>\n",
       "      <td>1.014447e+08</td>\n",
       "      <td>181.500000</td>\n",
       "      <td>170.000000</td>\n",
       "    </tr>\n",
       "    <tr>\n",
       "      <th>max</th>\n",
       "      <td>428.000000</td>\n",
       "      <td>178.000000</td>\n",
       "      <td>2.017061e+07</td>\n",
       "      <td>656.000000</td>\n",
       "      <td>1.510000e+11</td>\n",
       "      <td>9.850332e+10</td>\n",
       "      <td>1.030000e+11</td>\n",
       "      <td>6.403559e+10</td>\n",
       "      <td>9.144171e+09</td>\n",
       "      <td>8.686380e+09</td>\n",
       "      <td>...</td>\n",
       "      <td>6.524231e+07</td>\n",
       "      <td>8.508858e+10</td>\n",
       "      <td>6.846878e+10</td>\n",
       "      <td>1.759375e+10</td>\n",
       "      <td>5.150388e+10</td>\n",
       "      <td>3.256147e+10</td>\n",
       "      <td>1.250000e+11</td>\n",
       "      <td>6.852730e+10</td>\n",
       "      <td>1200.000000</td>\n",
       "      <td>1200.000000</td>\n",
       "    </tr>\n",
       "  </tbody>\n",
       "</table>\n",
       "<p>8 rows × 54 columns</p>\n",
       "</div>"
      ],
      "text/plain": [
       "          inst_id         sgg      openDate    bedCount      revenue1  \\\n",
       "count  301.000000  301.000000  3.010000e+02  296.000000  2.930000e+02   \n",
       "mean   219.056478   81.039867  2.005013e+07  145.709459  1.288175e+10   \n",
       "std    121.234869   50.969714  8.893815e+04  118.923890  2.043543e+10   \n",
       "min      1.000000    1.000000  1.978012e+07    0.000000  0.000000e+00   \n",
       "25%    112.000000   37.000000  2.001102e+07   52.750000  3.252112e+09   \n",
       "50%    230.000000   75.000000  2.007113e+07  136.500000  5.524218e+09   \n",
       "75%    321.000000  123.000000  2.011102e+07  193.000000  1.274839e+10   \n",
       "max    428.000000  178.000000  2.017061e+07  656.000000  1.510000e+11   \n",
       "\n",
       "         salescost1          sga1       salary1          noi1          noe1  \\\n",
       "count  2.930000e+02  2.930000e+02  2.930000e+02  2.930000e+02  2.930000e+02   \n",
       "mean   2.014903e+09  1.033244e+10  5.654115e+09  2.696151e+08  5.115870e+08   \n",
       "std    7.460271e+09  1.493886e+10  8.083343e+09  8.023701e+08  1.060379e+09   \n",
       "min    0.000000e+00  0.000000e+00  0.000000e+00  0.000000e+00  0.000000e+00   \n",
       "25%    0.000000e+00  2.758201e+09  1.626053e+09  8.217133e+06  8.013395e+07   \n",
       "50%    2.104105e+08  4.684074e+09  2.659892e+09  4.363764e+07  1.831965e+08   \n",
       "75%    9.105278e+08  1.077876e+10  6.363400e+09  2.050331e+08  4.203330e+08   \n",
       "max    9.850332e+10  1.030000e+11  6.403559e+10  9.144171e+09  8.686380e+09   \n",
       "\n",
       "       ...  receivableL2         debt2  liquidLiabilities2    shortLoan2  \\\n",
       "count  ...  2.930000e+02  2.930000e+02        2.930000e+02  2.930000e+02   \n",
       "mean   ...  2.226700e+05  8.146026e+09        3.860584e+09  1.510050e+09   \n",
       "std    ...  3.811496e+06  1.255800e+10        6.797242e+09  2.953412e+09   \n",
       "min    ...  0.000000e+00  0.000000e+00        0.000000e+00  0.000000e+00   \n",
       "25%    ...  0.000000e+00  1.283220e+09        2.855741e+08  0.000000e+00   \n",
       "50%    ...  0.000000e+00  3.784553e+09        1.454050e+09  8.542549e+07   \n",
       "75%    ...  0.000000e+00  8.465053e+09        4.364714e+09  1.567967e+09   \n",
       "max    ...  6.524231e+07  8.508858e+10        6.846878e+10  1.759375e+10   \n",
       "\n",
       "       NCLiabilities2     longLoan2     netAsset2      surplus2    employee1  \\\n",
       "count    2.930000e+02  2.930000e+02  2.930000e+02  2.930000e+02   291.000000   \n",
       "mean     4.471247e+09  2.709979e+09  5.273919e+09  9.786279e+08   142.546392   \n",
       "std      7.659580e+09  4.564001e+09  1.081259e+10  4.688798e+09   160.191073   \n",
       "min      0.000000e+00  0.000000e+00 -2.014780e+10 -2.781507e+09     0.000000   \n",
       "25%      2.557878e+07  0.000000e+00  1.017573e+09  0.000000e+00    53.500000   \n",
       "50%      1.969747e+09  1.100000e+09  2.894970e+09  0.000000e+00    80.000000   \n",
       "75%      4.905441e+09  3.360000e+09  5.370285e+09  1.014447e+08   181.500000   \n",
       "max      5.150388e+10  3.256147e+10  1.250000e+11  6.852730e+10  1200.000000   \n",
       "\n",
       "         employee2  \n",
       "count   288.000000  \n",
       "mean    134.326389  \n",
       "std     151.061786  \n",
       "min       0.000000  \n",
       "25%      53.750000  \n",
       "50%      79.000000  \n",
       "75%     170.000000  \n",
       "max    1200.000000  \n",
       "\n",
       "[8 rows x 54 columns]"
      ]
     },
     "execution_count": 6,
     "metadata": {},
     "output_type": "execute_result"
    }
   ],
   "source": [
    "data.describe()"
   ]
  },
  {
   "cell_type": "code",
   "execution_count": 7,
   "metadata": {},
   "outputs": [
    {
     "name": "stdout",
     "output_type": "stream",
     "text": [
      "<class 'pandas.core.frame.DataFrame'>\n",
      "RangeIndex: 301 entries, 0 to 300\n",
      "Data columns (total 58 columns):\n",
      " #   Column              Non-Null Count  Dtype  \n",
      "---  ------              --------------  -----  \n",
      " 0   inst_id             301 non-null    int64  \n",
      " 1   OC                  301 non-null    object \n",
      " 2   sido                301 non-null    object \n",
      " 3   sgg                 301 non-null    int64  \n",
      " 4   openDate            301 non-null    int64  \n",
      " 5   bedCount            296 non-null    float64\n",
      " 6   instkind            300 non-null    object \n",
      " 7   revenue1            293 non-null    float64\n",
      " 8   salescost1          293 non-null    float64\n",
      " 9   sga1                293 non-null    float64\n",
      " 10  salary1             293 non-null    float64\n",
      " 11  noi1                293 non-null    float64\n",
      " 12  noe1                293 non-null    float64\n",
      " 13  interest1           293 non-null    float64\n",
      " 14  ctax1               293 non-null    float64\n",
      " 15  profit1             293 non-null    float64\n",
      " 16  liquidAsset1        293 non-null    float64\n",
      " 17  quickAsset1         293 non-null    float64\n",
      " 18  receivableS1        293 non-null    float64\n",
      " 19  inventoryAsset1     293 non-null    float64\n",
      " 20  nonCAsset1          293 non-null    float64\n",
      " 21  tanAsset1           293 non-null    float64\n",
      " 22  OnonCAsset1         293 non-null    float64\n",
      " 23  receivableL1        293 non-null    float64\n",
      " 24  debt1               293 non-null    float64\n",
      " 25  liquidLiabilities1  293 non-null    float64\n",
      " 26  shortLoan1          293 non-null    float64\n",
      " 27  NCLiabilities1      293 non-null    float64\n",
      " 28  longLoan1           293 non-null    float64\n",
      " 29  netAsset1           293 non-null    float64\n",
      " 30  surplus1            293 non-null    float64\n",
      " 31  revenue2            293 non-null    float64\n",
      " 32  salescost2          293 non-null    float64\n",
      " 33  sga2                293 non-null    float64\n",
      " 34  salary2             293 non-null    float64\n",
      " 35  noi2                293 non-null    float64\n",
      " 36  noe2                293 non-null    float64\n",
      " 37  interest2           293 non-null    float64\n",
      " 38  ctax2               293 non-null    float64\n",
      " 39  profit2             293 non-null    float64\n",
      " 40  liquidAsset2        293 non-null    float64\n",
      " 41  quickAsset2         293 non-null    float64\n",
      " 42  receivableS2        293 non-null    float64\n",
      " 43  inventoryAsset2     293 non-null    float64\n",
      " 44  nonCAsset2          293 non-null    float64\n",
      " 45  tanAsset2           293 non-null    float64\n",
      " 46  OnonCAsset2         293 non-null    float64\n",
      " 47  receivableL2        293 non-null    float64\n",
      " 48  debt2               293 non-null    float64\n",
      " 49  liquidLiabilities2  293 non-null    float64\n",
      " 50  shortLoan2          293 non-null    float64\n",
      " 51  NCLiabilities2      293 non-null    float64\n",
      " 52  longLoan2           293 non-null    float64\n",
      " 53  netAsset2           293 non-null    float64\n",
      " 54  surplus2            293 non-null    float64\n",
      " 55  employee1           291 non-null    float64\n",
      " 56  employee2           288 non-null    float64\n",
      " 57  ownerChange         289 non-null    object \n",
      "dtypes: float64(51), int64(3), object(4)\n",
      "memory usage: 136.5+ KB\n"
     ]
    }
   ],
   "source": [
    "data.info()"
   ]
  },
  {
   "cell_type": "code",
   "execution_count": 8,
   "metadata": {},
   "outputs": [
    {
     "data": {
      "text/html": [
       "<div>\n",
       "<style scoped>\n",
       "    .dataframe tbody tr th:only-of-type {\n",
       "        vertical-align: middle;\n",
       "    }\n",
       "\n",
       "    .dataframe tbody tr th {\n",
       "        vertical-align: top;\n",
       "    }\n",
       "\n",
       "    .dataframe thead th {\n",
       "        text-align: right;\n",
       "    }\n",
       "</style>\n",
       "<table border=\"1\" class=\"dataframe\">\n",
       "  <thead>\n",
       "    <tr style=\"text-align: right;\">\n",
       "      <th></th>\n",
       "      <th>inst_id</th>\n",
       "      <th>OC</th>\n",
       "      <th>sido</th>\n",
       "      <th>sgg</th>\n",
       "      <th>openDate</th>\n",
       "      <th>bedCount</th>\n",
       "      <th>instkind</th>\n",
       "      <th>revenue1</th>\n",
       "      <th>salescost1</th>\n",
       "      <th>sga1</th>\n",
       "      <th>...</th>\n",
       "      <th>debt2</th>\n",
       "      <th>liquidLiabilities2</th>\n",
       "      <th>shortLoan2</th>\n",
       "      <th>NCLiabilities2</th>\n",
       "      <th>longLoan2</th>\n",
       "      <th>netAsset2</th>\n",
       "      <th>surplus2</th>\n",
       "      <th>employee1</th>\n",
       "      <th>employee2</th>\n",
       "      <th>ownerChange</th>\n",
       "    </tr>\n",
       "  </thead>\n",
       "  <tbody>\n",
       "    <tr>\n",
       "      <th>0</th>\n",
       "      <td>2</td>\n",
       "      <td>NaN</td>\n",
       "      <td>incheon</td>\n",
       "      <td>139</td>\n",
       "      <td>19981125.0</td>\n",
       "      <td>300.0</td>\n",
       "      <td>general_hospital</td>\n",
       "      <td>6.682486e+10</td>\n",
       "      <td>0.000000e+00</td>\n",
       "      <td>6.565709e+10</td>\n",
       "      <td>...</td>\n",
       "      <td>5.540643e+10</td>\n",
       "      <td>5.068443e+10</td>\n",
       "      <td>3.714334e+10</td>\n",
       "      <td>4.720000e+09</td>\n",
       "      <td>4.690000e+09</td>\n",
       "      <td>1.608540e+10</td>\n",
       "      <td>8.944587e+09</td>\n",
       "      <td>693</td>\n",
       "      <td>693</td>\n",
       "      <td>same</td>\n",
       "    </tr>\n",
       "    <tr>\n",
       "      <th>1</th>\n",
       "      <td>5</td>\n",
       "      <td>NaN</td>\n",
       "      <td>jeju</td>\n",
       "      <td>149</td>\n",
       "      <td>20160309.0</td>\n",
       "      <td>44.0</td>\n",
       "      <td>hospital</td>\n",
       "      <td>3.495758e+10</td>\n",
       "      <td>0.000000e+00</td>\n",
       "      <td>3.259270e+10</td>\n",
       "      <td>...</td>\n",
       "      <td>6.730838e+10</td>\n",
       "      <td>4.209828e+10</td>\n",
       "      <td>2.420000e+10</td>\n",
       "      <td>2.521009e+10</td>\n",
       "      <td>1.830000e+10</td>\n",
       "      <td>3.789135e+09</td>\n",
       "      <td>0.000000e+00</td>\n",
       "      <td>379</td>\n",
       "      <td>371</td>\n",
       "      <td>same</td>\n",
       "    </tr>\n",
       "    <tr>\n",
       "      <th>2</th>\n",
       "      <td>6</td>\n",
       "      <td>NaN</td>\n",
       "      <td>jeonnam</td>\n",
       "      <td>103</td>\n",
       "      <td>19890427.0</td>\n",
       "      <td>276.0</td>\n",
       "      <td>general_hospital</td>\n",
       "      <td>2.326031e+10</td>\n",
       "      <td>2.542571e+09</td>\n",
       "      <td>2.308749e+10</td>\n",
       "      <td>...</td>\n",
       "      <td>0.000000e+00</td>\n",
       "      <td>2.777589e+10</td>\n",
       "      <td>2.182278e+10</td>\n",
       "      <td>0.000000e+00</td>\n",
       "      <td>0.000000e+00</td>\n",
       "      <td>0.000000e+00</td>\n",
       "      <td>1.638540e+10</td>\n",
       "      <td>NaN</td>\n",
       "      <td>NaN</td>\n",
       "      <td>NaN</td>\n",
       "    </tr>\n",
       "    <tr>\n",
       "      <th>3</th>\n",
       "      <td>8</td>\n",
       "      <td>NaN</td>\n",
       "      <td>busan</td>\n",
       "      <td>71</td>\n",
       "      <td>20100226.0</td>\n",
       "      <td>363.0</td>\n",
       "      <td>general_hospital</td>\n",
       "      <td>0.000000e+00</td>\n",
       "      <td>0.000000e+00</td>\n",
       "      <td>0.000000e+00</td>\n",
       "      <td>...</td>\n",
       "      <td>1.211517e+10</td>\n",
       "      <td>9.556237e+09</td>\n",
       "      <td>4.251867e+09</td>\n",
       "      <td>2.558931e+09</td>\n",
       "      <td>0.000000e+00</td>\n",
       "      <td>3.914284e+10</td>\n",
       "      <td>0.000000e+00</td>\n",
       "      <td>760</td>\n",
       "      <td>760</td>\n",
       "      <td>same</td>\n",
       "    </tr>\n",
       "    <tr>\n",
       "      <th>4</th>\n",
       "      <td>10</td>\n",
       "      <td>NaN</td>\n",
       "      <td>jeonbuk</td>\n",
       "      <td>26</td>\n",
       "      <td>20040604.0</td>\n",
       "      <td>213.0</td>\n",
       "      <td>general_hospital</td>\n",
       "      <td>5.037025e+10</td>\n",
       "      <td>0.000000e+00</td>\n",
       "      <td>4.855803e+10</td>\n",
       "      <td>...</td>\n",
       "      <td>4.395973e+10</td>\n",
       "      <td>7.535567e+09</td>\n",
       "      <td>3.298427e+09</td>\n",
       "      <td>3.642417e+10</td>\n",
       "      <td>2.134712e+10</td>\n",
       "      <td>2.574488e+10</td>\n",
       "      <td>1.507269e+10</td>\n",
       "      <td>437</td>\n",
       "      <td>385</td>\n",
       "      <td>same</td>\n",
       "    </tr>\n",
       "  </tbody>\n",
       "</table>\n",
       "<p>5 rows × 58 columns</p>\n",
       "</div>"
      ],
      "text/plain": [
       "   inst_id  OC     sido  sgg    openDate  bedCount          instkind  \\\n",
       "0        2 NaN  incheon  139  19981125.0     300.0  general_hospital   \n",
       "1        5 NaN     jeju  149  20160309.0      44.0          hospital   \n",
       "2        6 NaN  jeonnam  103  19890427.0     276.0  general_hospital   \n",
       "3        8 NaN    busan   71  20100226.0     363.0  general_hospital   \n",
       "4       10 NaN  jeonbuk   26  20040604.0     213.0  general_hospital   \n",
       "\n",
       "       revenue1    salescost1          sga1  ...         debt2  \\\n",
       "0  6.682486e+10  0.000000e+00  6.565709e+10  ...  5.540643e+10   \n",
       "1  3.495758e+10  0.000000e+00  3.259270e+10  ...  6.730838e+10   \n",
       "2  2.326031e+10  2.542571e+09  2.308749e+10  ...  0.000000e+00   \n",
       "3  0.000000e+00  0.000000e+00  0.000000e+00  ...  1.211517e+10   \n",
       "4  5.037025e+10  0.000000e+00  4.855803e+10  ...  4.395973e+10   \n",
       "\n",
       "   liquidLiabilities2    shortLoan2  NCLiabilities2     longLoan2  \\\n",
       "0        5.068443e+10  3.714334e+10    4.720000e+09  4.690000e+09   \n",
       "1        4.209828e+10  2.420000e+10    2.521009e+10  1.830000e+10   \n",
       "2        2.777589e+10  2.182278e+10    0.000000e+00  0.000000e+00   \n",
       "3        9.556237e+09  4.251867e+09    2.558931e+09  0.000000e+00   \n",
       "4        7.535567e+09  3.298427e+09    3.642417e+10  2.134712e+10   \n",
       "\n",
       "      netAsset2      surplus2  employee1  employee2  ownerChange  \n",
       "0  1.608540e+10  8.944587e+09        693        693         same  \n",
       "1  3.789135e+09  0.000000e+00        379        371         same  \n",
       "2  0.000000e+00  1.638540e+10        NaN        NaN          NaN  \n",
       "3  3.914284e+10  0.000000e+00        760        760         same  \n",
       "4  2.574488e+10  1.507269e+10        437        385         same  \n",
       "\n",
       "[5 rows x 58 columns]"
      ]
     },
     "execution_count": 8,
     "metadata": {},
     "output_type": "execute_result"
    }
   ],
   "source": [
    "x_test.head()"
   ]
  },
  {
   "cell_type": "code",
   "execution_count": 9,
   "metadata": {},
   "outputs": [
    {
     "data": {
      "text/html": [
       "<div>\n",
       "<style scoped>\n",
       "    .dataframe tbody tr th:only-of-type {\n",
       "        vertical-align: middle;\n",
       "    }\n",
       "\n",
       "    .dataframe tbody tr th {\n",
       "        vertical-align: top;\n",
       "    }\n",
       "\n",
       "    .dataframe thead th {\n",
       "        text-align: right;\n",
       "    }\n",
       "</style>\n",
       "<table border=\"1\" class=\"dataframe\">\n",
       "  <thead>\n",
       "    <tr style=\"text-align: right;\">\n",
       "      <th></th>\n",
       "      <th>inst_id</th>\n",
       "      <th>OC</th>\n",
       "      <th>sgg</th>\n",
       "      <th>openDate</th>\n",
       "      <th>bedCount</th>\n",
       "      <th>revenue1</th>\n",
       "      <th>salescost1</th>\n",
       "      <th>sga1</th>\n",
       "      <th>salary1</th>\n",
       "      <th>noi1</th>\n",
       "      <th>...</th>\n",
       "      <th>tanAsset2</th>\n",
       "      <th>OnonCAsset2</th>\n",
       "      <th>receivableL2</th>\n",
       "      <th>debt2</th>\n",
       "      <th>liquidLiabilities2</th>\n",
       "      <th>shortLoan2</th>\n",
       "      <th>NCLiabilities2</th>\n",
       "      <th>longLoan2</th>\n",
       "      <th>netAsset2</th>\n",
       "      <th>surplus2</th>\n",
       "    </tr>\n",
       "  </thead>\n",
       "  <tbody>\n",
       "    <tr>\n",
       "      <th>count</th>\n",
       "      <td>127.000000</td>\n",
       "      <td>0.0</td>\n",
       "      <td>127.000000</td>\n",
       "      <td>1.260000e+02</td>\n",
       "      <td>119.000000</td>\n",
       "      <td>1.250000e+02</td>\n",
       "      <td>1.250000e+02</td>\n",
       "      <td>1.250000e+02</td>\n",
       "      <td>1.250000e+02</td>\n",
       "      <td>1.250000e+02</td>\n",
       "      <td>...</td>\n",
       "      <td>1.250000e+02</td>\n",
       "      <td>1.250000e+02</td>\n",
       "      <td>1.250000e+02</td>\n",
       "      <td>1.250000e+02</td>\n",
       "      <td>1.250000e+02</td>\n",
       "      <td>1.250000e+02</td>\n",
       "      <td>1.250000e+02</td>\n",
       "      <td>1.250000e+02</td>\n",
       "      <td>1.250000e+02</td>\n",
       "      <td>1.250000e+02</td>\n",
       "    </tr>\n",
       "    <tr>\n",
       "      <th>mean</th>\n",
       "      <td>205.905512</td>\n",
       "      <td>NaN</td>\n",
       "      <td>95.858268</td>\n",
       "      <td>2.005085e+07</td>\n",
       "      <td>172.789916</td>\n",
       "      <td>1.824446e+10</td>\n",
       "      <td>3.973321e+09</td>\n",
       "      <td>1.340410e+10</td>\n",
       "      <td>7.415084e+09</td>\n",
       "      <td>5.175513e+08</td>\n",
       "      <td>...</td>\n",
       "      <td>1.336209e+10</td>\n",
       "      <td>3.513831e+08</td>\n",
       "      <td>1.973114e+04</td>\n",
       "      <td>1.189851e+10</td>\n",
       "      <td>5.633432e+09</td>\n",
       "      <td>2.181713e+09</td>\n",
       "      <td>6.495026e+09</td>\n",
       "      <td>4.482682e+09</td>\n",
       "      <td>6.116179e+09</td>\n",
       "      <td>1.648474e+09</td>\n",
       "    </tr>\n",
       "    <tr>\n",
       "      <th>std</th>\n",
       "      <td>131.801765</td>\n",
       "      <td>NaN</td>\n",
       "      <td>52.684253</td>\n",
       "      <td>8.795815e+04</td>\n",
       "      <td>126.024471</td>\n",
       "      <td>3.133530e+10</td>\n",
       "      <td>1.419948e+10</td>\n",
       "      <td>2.054481e+10</td>\n",
       "      <td>1.210043e+10</td>\n",
       "      <td>1.193139e+09</td>\n",
       "      <td>...</td>\n",
       "      <td>2.085404e+10</td>\n",
       "      <td>9.791097e+08</td>\n",
       "      <td>2.206009e+05</td>\n",
       "      <td>1.971182e+10</td>\n",
       "      <td>9.662048e+09</td>\n",
       "      <td>4.952449e+09</td>\n",
       "      <td>1.203673e+10</td>\n",
       "      <td>7.517020e+09</td>\n",
       "      <td>9.813461e+09</td>\n",
       "      <td>4.779444e+09</td>\n",
       "    </tr>\n",
       "    <tr>\n",
       "      <th>min</th>\n",
       "      <td>2.000000</td>\n",
       "      <td>NaN</td>\n",
       "      <td>6.000000</td>\n",
       "      <td>1.976041e+07</td>\n",
       "      <td>0.000000</td>\n",
       "      <td>0.000000e+00</td>\n",
       "      <td>0.000000e+00</td>\n",
       "      <td>0.000000e+00</td>\n",
       "      <td>0.000000e+00</td>\n",
       "      <td>0.000000e+00</td>\n",
       "      <td>...</td>\n",
       "      <td>0.000000e+00</td>\n",
       "      <td>0.000000e+00</td>\n",
       "      <td>0.000000e+00</td>\n",
       "      <td>0.000000e+00</td>\n",
       "      <td>0.000000e+00</td>\n",
       "      <td>0.000000e+00</td>\n",
       "      <td>0.000000e+00</td>\n",
       "      <td>0.000000e+00</td>\n",
       "      <td>-2.955957e+09</td>\n",
       "      <td>-8.600000e+09</td>\n",
       "    </tr>\n",
       "    <tr>\n",
       "      <th>25%</th>\n",
       "      <td>89.000000</td>\n",
       "      <td>NaN</td>\n",
       "      <td>51.000000</td>\n",
       "      <td>2.000083e+07</td>\n",
       "      <td>94.000000</td>\n",
       "      <td>3.235889e+09</td>\n",
       "      <td>0.000000e+00</td>\n",
       "      <td>3.083860e+09</td>\n",
       "      <td>1.666742e+09</td>\n",
       "      <td>1.641094e+07</td>\n",
       "      <td>...</td>\n",
       "      <td>2.807763e+09</td>\n",
       "      <td>0.000000e+00</td>\n",
       "      <td>0.000000e+00</td>\n",
       "      <td>1.679896e+09</td>\n",
       "      <td>3.914156e+08</td>\n",
       "      <td>0.000000e+00</td>\n",
       "      <td>1.321368e+08</td>\n",
       "      <td>0.000000e+00</td>\n",
       "      <td>9.492656e+08</td>\n",
       "      <td>0.000000e+00</td>\n",
       "    </tr>\n",
       "    <tr>\n",
       "      <th>50%</th>\n",
       "      <td>199.000000</td>\n",
       "      <td>NaN</td>\n",
       "      <td>95.000000</td>\n",
       "      <td>2.007107e+07</td>\n",
       "      <td>156.000000</td>\n",
       "      <td>6.637116e+09</td>\n",
       "      <td>1.896923e+08</td>\n",
       "      <td>5.716502e+09</td>\n",
       "      <td>3.263054e+09</td>\n",
       "      <td>5.319171e+07</td>\n",
       "      <td>...</td>\n",
       "      <td>5.450483e+09</td>\n",
       "      <td>3.317377e+07</td>\n",
       "      <td>0.000000e+00</td>\n",
       "      <td>4.494217e+09</td>\n",
       "      <td>1.554506e+09</td>\n",
       "      <td>3.000000e+08</td>\n",
       "      <td>2.030000e+09</td>\n",
       "      <td>1.750000e+09</td>\n",
       "      <td>2.427139e+09</td>\n",
       "      <td>0.000000e+00</td>\n",
       "    </tr>\n",
       "    <tr>\n",
       "      <th>75%</th>\n",
       "      <td>328.000000</td>\n",
       "      <td>NaN</td>\n",
       "      <td>144.500000</td>\n",
       "      <td>2.011790e+07</td>\n",
       "      <td>213.000000</td>\n",
       "      <td>1.704039e+10</td>\n",
       "      <td>1.192329e+09</td>\n",
       "      <td>1.445243e+10</td>\n",
       "      <td>7.198103e+09</td>\n",
       "      <td>3.714592e+08</td>\n",
       "      <td>...</td>\n",
       "      <td>1.187114e+10</td>\n",
       "      <td>2.048998e+08</td>\n",
       "      <td>0.000000e+00</td>\n",
       "      <td>1.412031e+10</td>\n",
       "      <td>6.586241e+09</td>\n",
       "      <td>2.650000e+09</td>\n",
       "      <td>5.700000e+09</td>\n",
       "      <td>4.857048e+09</td>\n",
       "      <td>5.881965e+09</td>\n",
       "      <td>6.935165e+08</td>\n",
       "    </tr>\n",
       "    <tr>\n",
       "      <th>max</th>\n",
       "      <td>431.000000</td>\n",
       "      <td>NaN</td>\n",
       "      <td>177.000000</td>\n",
       "      <td>2.017053e+07</td>\n",
       "      <td>771.000000</td>\n",
       "      <td>1.810000e+11</td>\n",
       "      <td>1.160000e+11</td>\n",
       "      <td>1.270000e+11</td>\n",
       "      <td>8.239561e+10</td>\n",
       "      <td>7.302719e+09</td>\n",
       "      <td>...</td>\n",
       "      <td>1.130000e+11</td>\n",
       "      <td>7.112780e+09</td>\n",
       "      <td>2.466393e+06</td>\n",
       "      <td>1.310000e+11</td>\n",
       "      <td>5.241427e+10</td>\n",
       "      <td>3.714334e+10</td>\n",
       "      <td>7.855654e+10</td>\n",
       "      <td>3.620288e+10</td>\n",
       "      <td>4.924492e+10</td>\n",
       "      <td>2.561787e+10</td>\n",
       "    </tr>\n",
       "  </tbody>\n",
       "</table>\n",
       "<p>8 rows × 53 columns</p>\n",
       "</div>"
      ],
      "text/plain": [
       "          inst_id   OC         sgg      openDate    bedCount      revenue1  \\\n",
       "count  127.000000  0.0  127.000000  1.260000e+02  119.000000  1.250000e+02   \n",
       "mean   205.905512  NaN   95.858268  2.005085e+07  172.789916  1.824446e+10   \n",
       "std    131.801765  NaN   52.684253  8.795815e+04  126.024471  3.133530e+10   \n",
       "min      2.000000  NaN    6.000000  1.976041e+07    0.000000  0.000000e+00   \n",
       "25%     89.000000  NaN   51.000000  2.000083e+07   94.000000  3.235889e+09   \n",
       "50%    199.000000  NaN   95.000000  2.007107e+07  156.000000  6.637116e+09   \n",
       "75%    328.000000  NaN  144.500000  2.011790e+07  213.000000  1.704039e+10   \n",
       "max    431.000000  NaN  177.000000  2.017053e+07  771.000000  1.810000e+11   \n",
       "\n",
       "         salescost1          sga1       salary1          noi1  ...  \\\n",
       "count  1.250000e+02  1.250000e+02  1.250000e+02  1.250000e+02  ...   \n",
       "mean   3.973321e+09  1.340410e+10  7.415084e+09  5.175513e+08  ...   \n",
       "std    1.419948e+10  2.054481e+10  1.210043e+10  1.193139e+09  ...   \n",
       "min    0.000000e+00  0.000000e+00  0.000000e+00  0.000000e+00  ...   \n",
       "25%    0.000000e+00  3.083860e+09  1.666742e+09  1.641094e+07  ...   \n",
       "50%    1.896923e+08  5.716502e+09  3.263054e+09  5.319171e+07  ...   \n",
       "75%    1.192329e+09  1.445243e+10  7.198103e+09  3.714592e+08  ...   \n",
       "max    1.160000e+11  1.270000e+11  8.239561e+10  7.302719e+09  ...   \n",
       "\n",
       "          tanAsset2   OnonCAsset2  receivableL2         debt2  \\\n",
       "count  1.250000e+02  1.250000e+02  1.250000e+02  1.250000e+02   \n",
       "mean   1.336209e+10  3.513831e+08  1.973114e+04  1.189851e+10   \n",
       "std    2.085404e+10  9.791097e+08  2.206009e+05  1.971182e+10   \n",
       "min    0.000000e+00  0.000000e+00  0.000000e+00  0.000000e+00   \n",
       "25%    2.807763e+09  0.000000e+00  0.000000e+00  1.679896e+09   \n",
       "50%    5.450483e+09  3.317377e+07  0.000000e+00  4.494217e+09   \n",
       "75%    1.187114e+10  2.048998e+08  0.000000e+00  1.412031e+10   \n",
       "max    1.130000e+11  7.112780e+09  2.466393e+06  1.310000e+11   \n",
       "\n",
       "       liquidLiabilities2    shortLoan2  NCLiabilities2     longLoan2  \\\n",
       "count        1.250000e+02  1.250000e+02    1.250000e+02  1.250000e+02   \n",
       "mean         5.633432e+09  2.181713e+09    6.495026e+09  4.482682e+09   \n",
       "std          9.662048e+09  4.952449e+09    1.203673e+10  7.517020e+09   \n",
       "min          0.000000e+00  0.000000e+00    0.000000e+00  0.000000e+00   \n",
       "25%          3.914156e+08  0.000000e+00    1.321368e+08  0.000000e+00   \n",
       "50%          1.554506e+09  3.000000e+08    2.030000e+09  1.750000e+09   \n",
       "75%          6.586241e+09  2.650000e+09    5.700000e+09  4.857048e+09   \n",
       "max          5.241427e+10  3.714334e+10    7.855654e+10  3.620288e+10   \n",
       "\n",
       "          netAsset2      surplus2  \n",
       "count  1.250000e+02  1.250000e+02  \n",
       "mean   6.116179e+09  1.648474e+09  \n",
       "std    9.813461e+09  4.779444e+09  \n",
       "min   -2.955957e+09 -8.600000e+09  \n",
       "25%    9.492656e+08  0.000000e+00  \n",
       "50%    2.427139e+09  0.000000e+00  \n",
       "75%    5.881965e+09  6.935165e+08  \n",
       "max    4.924492e+10  2.561787e+10  \n",
       "\n",
       "[8 rows x 53 columns]"
      ]
     },
     "execution_count": 9,
     "metadata": {},
     "output_type": "execute_result"
    }
   ],
   "source": [
    "x_test.describe()"
   ]
  },
  {
   "cell_type": "code",
   "execution_count": 10,
   "metadata": {},
   "outputs": [
    {
     "name": "stdout",
     "output_type": "stream",
     "text": [
      "<class 'pandas.core.frame.DataFrame'>\n",
      "RangeIndex: 127 entries, 0 to 126\n",
      "Data columns (total 58 columns):\n",
      " #   Column              Non-Null Count  Dtype  \n",
      "---  ------              --------------  -----  \n",
      " 0   inst_id             127 non-null    int64  \n",
      " 1   OC                  0 non-null      float64\n",
      " 2   sido                127 non-null    object \n",
      " 3   sgg                 127 non-null    int64  \n",
      " 4   openDate            126 non-null    float64\n",
      " 5   bedCount            119 non-null    float64\n",
      " 6   instkind            125 non-null    object \n",
      " 7   revenue1            125 non-null    float64\n",
      " 8   salescost1          125 non-null    float64\n",
      " 9   sga1                125 non-null    float64\n",
      " 10  salary1             125 non-null    float64\n",
      " 11  noi1                125 non-null    float64\n",
      " 12  noe1                125 non-null    float64\n",
      " 13  interest1           125 non-null    float64\n",
      " 14  ctax1               125 non-null    float64\n",
      " 15  profit1             125 non-null    float64\n",
      " 16  liquidAsset1        125 non-null    float64\n",
      " 17  quickAsset1         125 non-null    float64\n",
      " 18  receivableS1        125 non-null    float64\n",
      " 19  inventoryAsset1     125 non-null    float64\n",
      " 20  nonCAsset1          125 non-null    float64\n",
      " 21  tanAsset1           125 non-null    float64\n",
      " 22  OnonCAsset1         125 non-null    float64\n",
      " 23  receivableL1        125 non-null    float64\n",
      " 24  debt1               125 non-null    float64\n",
      " 25  liquidLiabilities1  125 non-null    float64\n",
      " 26  shortLoan1          125 non-null    float64\n",
      " 27  NCLiabilities1      125 non-null    float64\n",
      " 28  longLoan1           125 non-null    float64\n",
      " 29  netAsset1           125 non-null    float64\n",
      " 30  surplus1            125 non-null    float64\n",
      " 31  revenue2            125 non-null    float64\n",
      " 32  salescost2          125 non-null    float64\n",
      " 33  sga2                125 non-null    float64\n",
      " 34  salary2             125 non-null    float64\n",
      " 35  noi2                125 non-null    float64\n",
      " 36  noe2                125 non-null    float64\n",
      " 37  interest2           125 non-null    float64\n",
      " 38  ctax2               125 non-null    float64\n",
      " 39  profit2             125 non-null    float64\n",
      " 40  liquidAsset2        125 non-null    float64\n",
      " 41  quickAsset2         125 non-null    float64\n",
      " 42  receivableS2        125 non-null    float64\n",
      " 43  inventoryAsset2     125 non-null    float64\n",
      " 44  nonCAsset2          125 non-null    float64\n",
      " 45  tanAsset2           125 non-null    float64\n",
      " 46  OnonCAsset2         125 non-null    float64\n",
      " 47  receivableL2        125 non-null    float64\n",
      " 48  debt2               125 non-null    float64\n",
      " 49  liquidLiabilities2  125 non-null    float64\n",
      " 50  shortLoan2          125 non-null    float64\n",
      " 51  NCLiabilities2      125 non-null    float64\n",
      " 52  longLoan2           125 non-null    float64\n",
      " 53  netAsset2           125 non-null    float64\n",
      " 54  surplus2            125 non-null    float64\n",
      " 55  employee1           119 non-null    object \n",
      " 56  employee2           112 non-null    object \n",
      " 57  ownerChange         112 non-null    object \n",
      "dtypes: float64(51), int64(2), object(5)\n",
      "memory usage: 57.7+ KB\n"
     ]
    }
   ],
   "source": [
    "x_test.info()"
   ]
  },
  {
   "cell_type": "markdown",
   "metadata": {},
   "source": [
    "- x_test 데이터에서 employee1, employee2 컬럼이 범주형 데이터로 되어있습니다. 실제로는 실수형이기 때문에, 실수형으로 자료형을 변경하겠습니다.\n",
    "    - Pandas Series | DataFrame은 astype()이라는 함수로 각 컬럼의 자료형을 변경할 수 있습니다."
   ]
  },
  {
   "cell_type": "code",
   "execution_count": null,
   "metadata": {},
   "outputs": [],
   "source": [
    "# 자료형 변경 -> 에러 발생\n",
    "# x_test['employee1'] = x_test['employee1'].astype(np.float64)\n",
    "# x_test['employee2'] = x_test['employee2'].astype(np.float64)\n",
    "# 문자열이라 바꿀 수 없다는 에러"
   ]
  },
  {
   "cell_type": "code",
   "execution_count": 11,
   "metadata": {},
   "outputs": [],
   "source": [
    "# 발생한 에러처리\n",
    "# if문 없으면 에러 - 실수는 replace 할 수 없음 -> 실수와 문자가 섞여있는 컬럼\n",
    "x_test['employee1'] = x_test['employee1'].map(lambda x: x.replace(',', '') if isinstance(x, str) else x)\n",
    "x_test['employee2'] = x_test['employee2'].map(lambda x: x.replace(',', '') if isinstance(x, str) else x)\n",
    "\n",
    "# 자료형 변경\n",
    "x_test['employee1'] = x_test['employee1'].astype(np.float64)\n",
    "x_test['employee2'] = x_test['employee2'].astype(np.float64)"
   ]
  },
  {
   "cell_type": "markdown",
   "metadata": {},
   "source": [
    "##### 클래스 분포 확인\n",
    "- 해당 데이터는 극심한 클래스가 불균형한 데이터셋 입니다. 이런 데이터의 경우 Open으로 찍어버리면 거의 95%의 정확도가 나옵니다."
   ]
  },
  {
   "cell_type": "code",
   "execution_count": 12,
   "metadata": {},
   "outputs": [
    {
     "data": {
      "text/plain": [
       "(286, 15)"
      ]
     },
     "execution_count": 12,
     "metadata": {},
     "output_type": "execute_result"
    }
   ],
   "source": [
    "(data['OC'] == 'open').sum(), (data['OC'] == ' close').sum()\n",
    "# 비대칭이라 accuracy를 사용하기 어려움"
   ]
  },
  {
   "cell_type": "markdown",
   "metadata": {},
   "source": [
    "##### 불필요한 컬럼 삭제\n",
    "- openDate는 병원이 개업한 년월일로 실제로는 중요한 변수일 수 있으나, 우리 강의가 데이터 전처리에 치중된 강의가 아니므로 일단은 제거하겠습니다.\n",
    "- 일반적으로 년월일은 1년 단위 또는 10년 단위로 범주형 변수로 만들어 전처리합니다."
   ]
  },
  {
   "cell_type": "code",
   "execution_count": 13,
   "metadata": {},
   "outputs": [],
   "source": [
    "data.drop(columns=['OC', 'inst_id', 'openDate'], inplace=True)\n",
    "\n",
    "x_test.drop(columns=['OC', 'inst_id', 'openDate'], inplace=True)"
   ]
  },
  {
   "cell_type": "markdown",
   "metadata": {},
   "source": [
    "##### 수치형 변수 컬럼 및 범주형 변수 컬럼"
   ]
  },
  {
   "cell_type": "code",
   "execution_count": 14,
   "metadata": {},
   "outputs": [
    {
     "name": "stdout",
     "output_type": "stream",
     "text": [
      "Categorical Columns: \n",
      "['sido', 'instkind', 'ownerChange']\n",
      "\n",
      " Numeric Columns: \n",
      "['sgg', 'bedCount', 'revenue1', 'salescost1', 'sga1', 'salary1', 'noi1', 'noe1', 'interest1', 'ctax1', 'profit1', 'liquidAsset1', 'quickAsset1', 'receivableS1', 'inventoryAsset1', 'nonCAsset1', 'tanAsset1', 'OnonCAsset1', 'receivableL1', 'debt1', 'liquidLiabilities1', 'shortLoan1', 'NCLiabilities1', 'longLoan1', 'netAsset1', 'surplus1', 'revenue2', 'salescost2', 'sga2', 'salary2', 'noi2', 'noe2', 'interest2', 'ctax2', 'profit2', 'liquidAsset2', 'quickAsset2', 'receivableS2', 'inventoryAsset2', 'nonCAsset2', 'tanAsset2', 'OnonCAsset2', 'receivableL2', 'debt2', 'liquidLiabilities2', 'shortLoan2', 'NCLiabilities2', 'longLoan2', 'netAsset2', 'surplus2', 'employee1', 'employee2']\n",
      "\n"
     ]
    }
   ],
   "source": [
    "# DF.info에서 Object type을 가진 컬럼은 모두 범주형 변수\n",
    "cat_columns = ['sido', 'instkind', 'ownerChange'] \n",
    "num_columns = [c for c in data.columns if c not in cat_columns]\n",
    "print('Categorical Columns: \\n{}\\n\\n Numeric Columns: \\n{}\\n'.format(cat_columns, num_columns))"
   ]
  },
  {
   "cell_type": "markdown",
   "metadata": {},
   "source": [
    "### 실습 1 (20분)\n",
    "- 이번 주차부터는 Train 데이터셋을 Train, Valid로 쪼개서 모델 검증에 사용할 데이터를 추가할 예정입니다.\n",
    "    - 이전에도 말씀드렸듯 쪼갠 Train 데이터에 Valid 또는 Test 데이터의 정보가 들어가지 않도록 주의해주세요.\n",
    "    - 데이터를 쪼갤때는 Scikit-learn의 model_selection 패키지에 있는 train_test_split() 함수를 사용합니다.\n",
    "\n",
    "1. 결측치 확인 및 결측치 처리\n",
    "2. 스케일링\n",
    "3. 범주형 변수 OneHot Encoding, 라벨 변수 Label Encoding"
   ]
  },
  {
   "cell_type": "markdown",
   "metadata": {},
   "source": [
    "#### 1. 결측치 확인 및 결측치 처리 예시"
   ]
  },
  {
   "cell_type": "code",
   "execution_count": 15,
   "metadata": {},
   "outputs": [],
   "source": [
    "import missingno as msno"
   ]
  },
  {
   "cell_type": "code",
   "execution_count": 16,
   "metadata": {},
   "outputs": [
    {
     "data": {
      "text/plain": [
       "<matplotlib.axes._subplots.AxesSubplot at 0x1860b72a088>"
      ]
     },
     "execution_count": 16,
     "metadata": {},
     "output_type": "execute_result"
    },
    {
     "data": {
      "image/png": "[encoded data removed]",
      "text/plain": [
       "<Figure size 1800x720 with 2 Axes>"
      ]
     },
     "metadata": {
      "needs_background": "light"
     },
     "output_type": "display_data"
    }
   ],
   "source": [
    "msno.matrix(data)"
   ]
  },
  {
   "cell_type": "code",
   "execution_count": 17,
   "metadata": {},
   "outputs": [
    {
     "data": {
      "text/plain": [
       "<matplotlib.axes._subplots.AxesSubplot at 0x1860b86c448>"
      ]
     },
     "execution_count": 17,
     "metadata": {},
     "output_type": "execute_result"
    },
    {
     "data": {
      "image/png": "[encoded data removed]",
      "text/plain": [
       "<Figure size 1800x720 with 2 Axes>"
      ]
     },
     "metadata": {
      "needs_background": "light"
     },
     "output_type": "display_data"
    }
   ],
   "source": [
    "msno.matrix(x_test)"
   ]
  },
  {
   "cell_type": "markdown",
   "metadata": {},
   "source": [
    "##### 수치형 변수들의 결측치 확인"
   ]
  },
  {
   "cell_type": "code",
   "execution_count": 18,
   "metadata": {},
   "outputs": [
    {
     "data": {
      "text/plain": [
       "sgg                    0\n",
       "bedCount               5\n",
       "revenue1               8\n",
       "salescost1             8\n",
       "sga1                   8\n",
       "salary1                8\n",
       "noi1                   8\n",
       "noe1                   8\n",
       "interest1              8\n",
       "ctax1                  8\n",
       "profit1                8\n",
       "liquidAsset1           8\n",
       "quickAsset1            8\n",
       "receivableS1           8\n",
       "inventoryAsset1        8\n",
       "nonCAsset1             8\n",
       "tanAsset1              8\n",
       "OnonCAsset1            8\n",
       "receivableL1           8\n",
       "debt1                  8\n",
       "liquidLiabilities1     8\n",
       "shortLoan1             8\n",
       "NCLiabilities1         8\n",
       "longLoan1              8\n",
       "netAsset1              8\n",
       "surplus1               8\n",
       "revenue2               8\n",
       "salescost2             8\n",
       "sga2                   8\n",
       "salary2                8\n",
       "noi2                   8\n",
       "noe2                   8\n",
       "interest2              8\n",
       "ctax2                  8\n",
       "profit2                8\n",
       "liquidAsset2           8\n",
       "quickAsset2            8\n",
       "receivableS2           8\n",
       "inventoryAsset2        8\n",
       "nonCAsset2             8\n",
       "tanAsset2              8\n",
       "OnonCAsset2            8\n",
       "receivableL2           8\n",
       "debt2                  8\n",
       "liquidLiabilities2     8\n",
       "shortLoan2             8\n",
       "NCLiabilities2         8\n",
       "longLoan2              8\n",
       "netAsset2              8\n",
       "surplus2               8\n",
       "employee1             10\n",
       "employee2             13\n",
       "dtype: int64"
      ]
     },
     "execution_count": 18,
     "metadata": {},
     "output_type": "execute_result"
    }
   ],
   "source": [
    "pd.isna(data[num_columns]).sum()"
   ]
  },
  {
   "cell_type": "code",
   "execution_count": 19,
   "metadata": {},
   "outputs": [
    {
     "data": {
      "text/plain": [
       "sgg                    0\n",
       "bedCount               8\n",
       "revenue1               2\n",
       "salescost1             2\n",
       "sga1                   2\n",
       "salary1                2\n",
       "noi1                   2\n",
       "noe1                   2\n",
       "interest1              2\n",
       "ctax1                  2\n",
       "profit1                2\n",
       "liquidAsset1           2\n",
       "quickAsset1            2\n",
       "receivableS1           2\n",
       "inventoryAsset1        2\n",
       "nonCAsset1             2\n",
       "tanAsset1              2\n",
       "OnonCAsset1            2\n",
       "receivableL1           2\n",
       "debt1                  2\n",
       "liquidLiabilities1     2\n",
       "shortLoan1             2\n",
       "NCLiabilities1         2\n",
       "longLoan1              2\n",
       "netAsset1              2\n",
       "surplus1               2\n",
       "revenue2               2\n",
       "salescost2             2\n",
       "sga2                   2\n",
       "salary2                2\n",
       "noi2                   2\n",
       "noe2                   2\n",
       "interest2              2\n",
       "ctax2                  2\n",
       "profit2                2\n",
       "liquidAsset2           2\n",
       "quickAsset2            2\n",
       "receivableS2           2\n",
       "inventoryAsset2        2\n",
       "nonCAsset2             2\n",
       "tanAsset2              2\n",
       "OnonCAsset2            2\n",
       "receivableL2           2\n",
       "debt2                  2\n",
       "liquidLiabilities2     2\n",
       "shortLoan2             2\n",
       "NCLiabilities2         2\n",
       "longLoan2              2\n",
       "netAsset2              2\n",
       "surplus2               2\n",
       "employee1              8\n",
       "employee2             15\n",
       "dtype: int64"
      ]
     },
     "execution_count": 19,
     "metadata": {},
     "output_type": "execute_result"
    }
   ],
   "source": [
    "pd.isna(x_test[num_columns]).sum()"
   ]
  },
  {
   "cell_type": "markdown",
   "metadata": {},
   "source": [
    "##### 범주형 변수들의 결측치 확인"
   ]
  },
  {
   "cell_type": "code",
   "execution_count": 20,
   "metadata": {},
   "outputs": [
    {
     "data": {
      "text/plain": [
       "sido            0\n",
       "instkind        1\n",
       "ownerChange    12\n",
       "dtype: int64"
      ]
     },
     "execution_count": 20,
     "metadata": {},
     "output_type": "execute_result"
    }
   ],
   "source": [
    "pd.isna(data[cat_columns]).sum()"
   ]
  },
  {
   "cell_type": "code",
   "execution_count": 21,
   "metadata": {},
   "outputs": [
    {
     "data": {
      "text/plain": [
       "sido            0\n",
       "instkind        2\n",
       "ownerChange    15\n",
       "dtype: int64"
      ]
     },
     "execution_count": 21,
     "metadata": {},
     "output_type": "execute_result"
    }
   ],
   "source": [
    "pd.isna(x_test[cat_columns]).sum()"
   ]
  },
  {
   "cell_type": "markdown",
   "metadata": {},
   "source": [
    "##### 데이터 쪼개기, Train -> (Train, Valid)\n",
    "- train_test_split 파라미터 \n",
    "    - test_size  (float): Valid(test)의 크기의 비율을 지정\n",
    "    - random_state (int): 데이터를 쪼갤 때 내부적으로 사용되는 난수 값 (해당 값을 지정하지 않으면 매번 달라집니다.)\n",
    "    - shuffle     (bool): 데이터를 쪼갤 때 섞을지 유무\n",
    "    - stratify   (array): Stratify란, 쪼개기 이전의 클래스 비율을 쪼개고 나서도 유지하기 위해 설정해야하는 값입니다. 클래스 라벨을 넣어주면 됩니다.\n",
    "        - ex) 원본 Train 데이터의 클래스 비율이 (7:3) 이었다면, 쪼개어진 Train, Valid(test) 데이터의 클래스 비율도 (7:3)이 됩니다. 당연히 분류 데이터에서만 사용할 수 있습니다."
   ]
  },
  {
   "cell_type": "code",
   "execution_count": 22,
   "metadata": {},
   "outputs": [],
   "source": [
    "from sklearn.model_selection import train_test_split"
   ]
  },
  {
   "cell_type": "code",
   "execution_count": 88,
   "metadata": {},
   "outputs": [],
   "source": [
    "# 쪼개어진 Train, Valid 데이터의 비율은 (7:3), 내부 난수 값 2020, 데이터를 쪼갤 때 섞으며 label 값으로 Stratify 하는 코드 입니다. random_state를 주석 처리하고 데이터를 확인해보시면 계속 바뀝니다.\n",
    "x_train, x_valid, y_train, y_valid = train_test_split(data, label, \n",
    "                                                      test_size=0.3,\n",
    "                                                      random_state=2020,\n",
    "                                                      shuffle=True,\n",
    "                                                      stratify=label)"
   ]
  },
  {
   "cell_type": "code",
   "execution_count": 89,
   "metadata": {},
   "outputs": [],
   "source": [
    "# 쪼갠 데이터의 인덱스는 정리해주는것이 좋습니다. pd.concat 연산 시, 인덱스를 기준으로 연결하기 때문입니다.\n",
    "# drop 인자를 True로 주지 않으면 이전 인덱스가 새로운 변수로 생성됩니다.\n",
    "x_train.reset_index(drop=True, inplace=True)\n",
    "x_valid.reset_index(drop=True, inplace=True)"
   ]
  },
  {
   "cell_type": "markdown",
   "metadata": {},
   "source": [
    "##### 전처리하기 결측치 확인 및 결측치 처리\n",
    "- x_train 데이터의 평균값(수치형 변수)과 최빈값(범주형 변수)을 이용해 x_train, x_valid 데이터의 결측값을 처리해줍니다."
   ]
  },
  {
   "cell_type": "code",
   "execution_count": 90,
   "metadata": {},
   "outputs": [],
   "source": [
    "x_train_mean = np.mean(x_train[num_columns], axis=0)\n",
    "x_train_mode = x_train[cat_columns].mode()"
   ]
  },
  {
   "cell_type": "code",
   "execution_count": 91,
   "metadata": {},
   "outputs": [
    {
     "data": {
      "text/plain": [
       "sgg                   8.320000e+01\n",
       "bedCount              1.426456e+02\n",
       "revenue1              1.283109e+10\n",
       "salescost1            1.965458e+09\n",
       "sga1                  1.035809e+10\n",
       "salary1               5.826720e+09\n",
       "noi1                  2.773549e+08\n",
       "noe1                  4.977405e+08\n",
       "interest1             1.767788e+08\n",
       "ctax1                 7.618191e+07\n",
       "profit1               2.076101e+08\n",
       "liquidAsset1          3.467342e+09\n",
       "quickAsset1           3.339154e+09\n",
       "receivableS1          7.286141e+08\n",
       "inventoryAsset1       1.213339e+08\n",
       "nonCAsset1            1.155011e+10\n",
       "tanAsset1             1.061903e+10\n",
       "OnonCAsset1           3.391648e+08\n",
       "receivableL1          3.579724e+05\n",
       "debt1                 8.457272e+09\n",
       "liquidLiabilities1    4.209699e+09\n",
       "shortLoan1            1.785631e+09\n",
       "NCLiabilities1        4.491165e+09\n",
       "longLoan1             2.478528e+09\n",
       "netAsset1             6.218432e+09\n",
       "surplus1              1.418039e+09\n",
       "revenue2              1.164446e+10\n",
       "salescost2            1.853634e+09\n",
       "sga2                  9.160617e+09\n",
       "salary2               5.145947e+09\n",
       "noi2                  2.141311e+08\n",
       "noe2                  5.255325e+08\n",
       "interest2             1.640125e+08\n",
       "ctax2                 7.190067e+07\n",
       "profit2               2.496001e+08\n",
       "liquidAsset2          3.130628e+09\n",
       "quickAsset2           3.015534e+09\n",
       "receivableS2          6.738691e+08\n",
       "inventoryAsset2       1.106887e+08\n",
       "nonCAsset2            1.056481e+10\n",
       "tanAsset2             9.695072e+09\n",
       "OnonCAsset2           3.154500e+08\n",
       "receivableL2          3.167102e+05\n",
       "debt2                 7.872790e+09\n",
       "liquidLiabilities2    3.611362e+09\n",
       "shortLoan2            1.474298e+09\n",
       "NCLiabilities2        4.525533e+09\n",
       "longLoan2             2.631579e+09\n",
       "netAsset2             5.458687e+09\n",
       "surplus2              1.053302e+09\n",
       "employee1             1.428227e+02\n",
       "employee2             1.343682e+02\n",
       "dtype: float64"
      ]
     },
     "execution_count": 91,
     "metadata": {},
     "output_type": "execute_result"
    }
   ],
   "source": [
    "x_train_mean"
   ]
  },
  {
   "cell_type": "code",
   "execution_count": 92,
   "metadata": {},
   "outputs": [
    {
     "data": {
      "text/html": [
       "<div>\n",
       "<style scoped>\n",
       "    .dataframe tbody tr th:only-of-type {\n",
       "        vertical-align: middle;\n",
       "    }\n",
       "\n",
       "    .dataframe tbody tr th {\n",
       "        vertical-align: top;\n",
       "    }\n",
       "\n",
       "    .dataframe thead th {\n",
       "        text-align: right;\n",
       "    }\n",
       "</style>\n",
       "<table border=\"1\" class=\"dataframe\">\n",
       "  <thead>\n",
       "    <tr style=\"text-align: right;\">\n",
       "      <th></th>\n",
       "      <th>sido</th>\n",
       "      <th>instkind</th>\n",
       "      <th>ownerChange</th>\n",
       "    </tr>\n",
       "  </thead>\n",
       "  <tbody>\n",
       "    <tr>\n",
       "      <th>0</th>\n",
       "      <td>gyeonggi</td>\n",
       "      <td>nursing_hospital</td>\n",
       "      <td>same</td>\n",
       "    </tr>\n",
       "  </tbody>\n",
       "</table>\n",
       "</div>"
      ],
      "text/plain": [
       "       sido          instkind ownerChange\n",
       "0  gyeonggi  nursing_hospital        same"
      ]
     },
     "execution_count": 92,
     "metadata": {},
     "output_type": "execute_result"
    }
   ],
   "source": [
    "x_train_mode"
   ]
  },
  {
   "cell_type": "code",
   "execution_count": 93,
   "metadata": {},
   "outputs": [
    {
     "name": "stderr",
     "output_type": "stream",
     "text": [
      "C:\\Users\\htaur\\anaconda3\\envs\\py37\\lib\\site-packages\\pandas\\core\\indexing.py:966: SettingWithCopyWarning: \n",
      "A value is trying to be set on a copy of a slice from a DataFrame.\n",
      "Try using .loc[row_indexer,col_indexer] = value instead\n",
      "\n",
      "See the caveats in the documentation: https://pandas.pydata.org/pandas-docs/stable/user_guide/indexing.html#returning-a-view-versus-a-copy\n",
      "  self.obj[item] = s\n"
     ]
    }
   ],
   "source": [
    "for c in num_columns:\n",
    "    # x_train의 평균 값으로 x_train, x_valid 수치형 변수 결측치 처리\n",
    "    x_train.loc[pd.isna(x_train[c]), c] =  x_train_mean[c]\n",
    "    x_valid.loc[pd.isna(x_valid[c]), c] =  x_train_mean[c]\n",
    "    x_test.loc[pd.isna(x_test[c]), c]   =  x_train_mean[c]\n",
    "    \n",
    "for c in cat_columns:\n",
    "    # x_train의 최빈 값으로 x_train, x_valid 범주형 변수 결측치 처리\n",
    "    x_train.loc[pd.isna(x_train[c]), c] =  x_train_mode[c][0]\n",
    "    x_valid.loc[pd.isna(x_valid[c]), c] =  x_train_mode[c][0]\n",
    "    x_test.loc[pd.isna(x_test[c]), c]   =  x_train_mode[c][0]"
   ]
  },
  {
   "cell_type": "code",
   "execution_count": 94,
   "metadata": {},
   "outputs": [
    {
     "data": {
      "text/plain": [
       "(0, 0, 0)"
      ]
     },
     "execution_count": 94,
     "metadata": {},
     "output_type": "execute_result"
    }
   ],
   "source": [
    "pd.isna(x_train).sum().sum(), pd.isna(x_valid).sum().sum(), pd.isna(x_test).sum().sum()"
   ]
  },
  {
   "cell_type": "markdown",
   "metadata": {},
   "source": [
    "##### x_train, x_valid, x_test에 대해 스케일링 및 범주형 변수 인코딩을 진행해보세요."
   ]
  },
  {
   "cell_type": "markdown",
   "metadata": {},
   "source": [
    "#### 2. 스케일링"
   ]
  },
  {
   "cell_type": "code",
   "execution_count": null,
   "metadata": {},
   "outputs": [],
   "source": [
    "from sklearn.preprocessing import StandardScaler\n"
   ]
  },
  {
   "cell_type": "markdown",
   "metadata": {},
   "source": [
    "#### 3. 범주형 변수 OneHot Encoding, 라벨 변수 Label Encoding ##### "
   ]
  },
  {
   "cell_type": "code",
   "execution_count": null,
   "metadata": {},
   "outputs": [],
   "source": []
  },
  {
   "cell_type": "code",
   "execution_count": null,
   "metadata": {},
   "outputs": [],
   "source": []
  },
  {
   "cell_type": "markdown",
   "metadata": {},
   "source": [
    "### 1) 전처리 실습 "
   ]
  },
  {
   "cell_type": "markdown",
   "metadata": {},
   "source": [
    "#### 2. 스케일링"
   ]
  },
  {
   "cell_type": "code",
   "execution_count": 95,
   "metadata": {},
   "outputs": [],
   "source": [
    "x_train_mean = np.mean(x_train[num_columns], axis=0)\n",
    "x_train_std  = np.std(x_train[num_columns], axis=0)\n",
    "\n",
    "# Numpy 브로드캐스팅 기능을 활용해 x_train의 평균과 표준편차로 x_train, x_valid의 스케일링을 진행해줍니다.\n",
    "x_train.loc[:, num_columns] = (x_train[num_columns] - x_train_mean) / x_train_std \n",
    "x_valid.loc[:, num_columns] = (x_valid[num_columns] - x_train_mean) / x_train_std\n",
    "x_test.loc[:, num_columns] = (x_test[num_columns] - x_train_mean) / x_train_std"
   ]
  },
  {
   "cell_type": "markdown",
   "metadata": {},
   "source": [
    "#### 스케일링 확인"
   ]
  },
  {
   "cell_type": "code",
   "execution_count": 96,
   "metadata": {},
   "outputs": [
    {
     "data": {
      "text/html": [
       "<div>\n",
       "<style scoped>\n",
       "    .dataframe tbody tr th:only-of-type {\n",
       "        vertical-align: middle;\n",
       "    }\n",
       "\n",
       "    .dataframe tbody tr th {\n",
       "        vertical-align: top;\n",
       "    }\n",
       "\n",
       "    .dataframe thead th {\n",
       "        text-align: right;\n",
       "    }\n",
       "</style>\n",
       "<table border=\"1\" class=\"dataframe\">\n",
       "  <thead>\n",
       "    <tr style=\"text-align: right;\">\n",
       "      <th></th>\n",
       "      <th>sgg</th>\n",
       "      <th>bedCount</th>\n",
       "      <th>revenue1</th>\n",
       "      <th>salescost1</th>\n",
       "      <th>sga1</th>\n",
       "      <th>salary1</th>\n",
       "      <th>noi1</th>\n",
       "      <th>noe1</th>\n",
       "      <th>interest1</th>\n",
       "      <th>ctax1</th>\n",
       "      <th>...</th>\n",
       "      <th>receivableL2</th>\n",
       "      <th>debt2</th>\n",
       "      <th>liquidLiabilities2</th>\n",
       "      <th>shortLoan2</th>\n",
       "      <th>NCLiabilities2</th>\n",
       "      <th>longLoan2</th>\n",
       "      <th>netAsset2</th>\n",
       "      <th>surplus2</th>\n",
       "      <th>employee1</th>\n",
       "      <th>employee2</th>\n",
       "    </tr>\n",
       "  </thead>\n",
       "  <tbody>\n",
       "    <tr>\n",
       "      <th>count</th>\n",
       "      <td>2.100000e+02</td>\n",
       "      <td>2.100000e+02</td>\n",
       "      <td>2.100000e+02</td>\n",
       "      <td>2.100000e+02</td>\n",
       "      <td>2.100000e+02</td>\n",
       "      <td>2.100000e+02</td>\n",
       "      <td>2.100000e+02</td>\n",
       "      <td>2.100000e+02</td>\n",
       "      <td>2.100000e+02</td>\n",
       "      <td>210.000000</td>\n",
       "      <td>...</td>\n",
       "      <td>2.100000e+02</td>\n",
       "      <td>2.100000e+02</td>\n",
       "      <td>2.100000e+02</td>\n",
       "      <td>2.100000e+02</td>\n",
       "      <td>2.100000e+02</td>\n",
       "      <td>2.100000e+02</td>\n",
       "      <td>2.100000e+02</td>\n",
       "      <td>2.100000e+02</td>\n",
       "      <td>2.100000e+02</td>\n",
       "      <td>2.100000e+02</td>\n",
       "    </tr>\n",
       "    <tr>\n",
       "      <th>mean</th>\n",
       "      <td>-4.758099e-17</td>\n",
       "      <td>1.543739e-16</td>\n",
       "      <td>-1.057355e-16</td>\n",
       "      <td>-4.229421e-17</td>\n",
       "      <td>2.326182e-17</td>\n",
       "      <td>7.507222e-17</td>\n",
       "      <td>-8.458842e-17</td>\n",
       "      <td>-1.691768e-17</td>\n",
       "      <td>5.921189e-17</td>\n",
       "      <td>0.000000</td>\n",
       "      <td>...</td>\n",
       "      <td>-2.114711e-17</td>\n",
       "      <td>-2.960595e-17</td>\n",
       "      <td>-5.075305e-17</td>\n",
       "      <td>8.458842e-17</td>\n",
       "      <td>9.463330e-17</td>\n",
       "      <td>2.537653e-17</td>\n",
       "      <td>-5.062088e-17</td>\n",
       "      <td>8.458842e-18</td>\n",
       "      <td>8.458842e-18</td>\n",
       "      <td>1.897953e-16</td>\n",
       "    </tr>\n",
       "    <tr>\n",
       "      <th>std</th>\n",
       "      <td>1.002389e+00</td>\n",
       "      <td>1.002389e+00</td>\n",
       "      <td>1.002389e+00</td>\n",
       "      <td>1.002389e+00</td>\n",
       "      <td>1.002389e+00</td>\n",
       "      <td>1.002389e+00</td>\n",
       "      <td>1.002389e+00</td>\n",
       "      <td>1.002389e+00</td>\n",
       "      <td>1.002389e+00</td>\n",
       "      <td>1.002389</td>\n",
       "      <td>...</td>\n",
       "      <td>1.002389e+00</td>\n",
       "      <td>1.002389e+00</td>\n",
       "      <td>1.002389e+00</td>\n",
       "      <td>1.002389e+00</td>\n",
       "      <td>1.002389e+00</td>\n",
       "      <td>1.002389e+00</td>\n",
       "      <td>1.002389e+00</td>\n",
       "      <td>1.002389e+00</td>\n",
       "      <td>1.002389e+00</td>\n",
       "      <td>1.002389e+00</td>\n",
       "    </tr>\n",
       "    <tr>\n",
       "      <th>min</th>\n",
       "      <td>-1.613853e+00</td>\n",
       "      <td>-1.263994e+00</td>\n",
       "      <td>-6.413755e-01</td>\n",
       "      <td>-3.551404e-01</td>\n",
       "      <td>-6.834928e-01</td>\n",
       "      <td>-6.836537e-01</td>\n",
       "      <td>-3.146887e-01</td>\n",
       "      <td>-4.549456e-01</td>\n",
       "      <td>-8.087676e-01</td>\n",
       "      <td>-0.306891</td>\n",
       "      <td>...</td>\n",
       "      <td>-7.051786e-02</td>\n",
       "      <td>-6.783369e-01</td>\n",
       "      <td>-6.727018e-01</td>\n",
       "      <td>-5.054511e-01</td>\n",
       "      <td>-5.713378e-01</td>\n",
       "      <td>-6.158123e-01</td>\n",
       "      <td>-2.122436e+00</td>\n",
       "      <td>-6.993269e-01</td>\n",
       "      <td>-8.777685e-01</td>\n",
       "      <td>-8.839676e-01</td>\n",
       "    </tr>\n",
       "    <tr>\n",
       "      <th>25%</th>\n",
       "      <td>-8.874226e-01</td>\n",
       "      <td>-7.854960e-01</td>\n",
       "      <td>-4.780215e-01</td>\n",
       "      <td>-3.551404e-01</td>\n",
       "      <td>-5.000028e-01</td>\n",
       "      <td>-4.883104e-01</td>\n",
       "      <td>-3.048958e-01</td>\n",
       "      <td>-3.787762e-01</td>\n",
       "      <td>-5.976471e-01</td>\n",
       "      <td>-0.306891</td>\n",
       "      <td>...</td>\n",
       "      <td>-7.051786e-02</td>\n",
       "      <td>-5.645606e-01</td>\n",
       "      <td>-6.025742e-01</td>\n",
       "      <td>-5.054511e-01</td>\n",
       "      <td>-5.686368e-01</td>\n",
       "      <td>-6.158123e-01</td>\n",
       "      <td>-3.684480e-01</td>\n",
       "      <td>-1.979672e-01</td>\n",
       "      <td>-5.559302e-01</td>\n",
       "      <td>-5.352966e-01</td>\n",
       "    </tr>\n",
       "    <tr>\n",
       "      <th>50%</th>\n",
       "      <td>-8.245962e-02</td>\n",
       "      <td>-7.217908e-02</td>\n",
       "      <td>-3.615976e-01</td>\n",
       "      <td>-3.128325e-01</td>\n",
       "      <td>-3.691030e-01</td>\n",
       "      <td>-3.599915e-01</td>\n",
       "      <td>-2.594529e-01</td>\n",
       "      <td>-2.831353e-01</td>\n",
       "      <td>-3.063571e-01</td>\n",
       "      <td>-0.298605</td>\n",
       "      <td>...</td>\n",
       "      <td>-7.051786e-02</td>\n",
       "      <td>-3.432058e-01</td>\n",
       "      <td>-3.708466e-01</td>\n",
       "      <td>-4.757953e-01</td>\n",
       "      <td>-3.200781e-01</td>\n",
       "      <td>-3.277935e-01</td>\n",
       "      <td>-2.129874e-01</td>\n",
       "      <td>-1.979672e-01</td>\n",
       "      <td>-3.857273e-01</td>\n",
       "      <td>-3.576717e-01</td>\n",
       "    </tr>\n",
       "    <tr>\n",
       "      <th>75%</th>\n",
       "      <td>8.353945e-01</td>\n",
       "      <td>4.461941e-01</td>\n",
       "      <td>-9.534083e-17</td>\n",
       "      <td>-1.770509e-01</td>\n",
       "      <td>1.414155e-03</td>\n",
       "      <td>5.187134e-02</td>\n",
       "      <td>-7.072307e-02</td>\n",
       "      <td>-5.712885e-02</td>\n",
       "      <td>2.081584e-01</td>\n",
       "      <td>-0.092096</td>\n",
       "      <td>...</td>\n",
       "      <td>-7.051786e-02</td>\n",
       "      <td>5.905963e-02</td>\n",
       "      <td>1.674117e-01</td>\n",
       "      <td>1.791303e-02</td>\n",
       "      <td>5.069761e-02</td>\n",
       "      <td>1.429608e-01</td>\n",
       "      <td>-7.904688e-17</td>\n",
       "      <td>-1.771861e-01</td>\n",
       "      <td>2.300979e-01</td>\n",
       "      <td>1.900049e-01</td>\n",
       "    </tr>\n",
       "    <tr>\n",
       "      <th>max</th>\n",
       "      <td>1.861231e+00</td>\n",
       "      <td>4.548874e+00</td>\n",
       "      <td>6.406658e+00</td>\n",
       "      <td>7.270051e+00</td>\n",
       "      <td>6.113103e+00</td>\n",
       "      <td>6.829693e+00</td>\n",
       "      <td>1.006035e+01</td>\n",
       "      <td>7.484593e+00</td>\n",
       "      <td>5.171927e+00</td>\n",
       "      <td>11.008419</td>\n",
       "      <td>...</td>\n",
       "      <td>1.445616e+01</td>\n",
       "      <td>5.496020e+00</td>\n",
       "      <td>6.184157e+00</td>\n",
       "      <td>5.526424e+00</td>\n",
       "      <td>5.930905e+00</td>\n",
       "      <td>7.003854e+00</td>\n",
       "      <td>9.908381e+00</td>\n",
       "      <td>1.268168e+01</td>\n",
       "      <td>6.543080e+00</td>\n",
       "      <td>7.010471e+00</td>\n",
       "    </tr>\n",
       "  </tbody>\n",
       "</table>\n",
       "<p>8 rows × 52 columns</p>\n",
       "</div>"
      ],
      "text/plain": [
       "                sgg      bedCount      revenue1    salescost1          sga1  \\\n",
       "count  2.100000e+02  2.100000e+02  2.100000e+02  2.100000e+02  2.100000e+02   \n",
       "mean  -4.758099e-17  1.543739e-16 -1.057355e-16 -4.229421e-17  2.326182e-17   \n",
       "std    1.002389e+00  1.002389e+00  1.002389e+00  1.002389e+00  1.002389e+00   \n",
       "min   -1.613853e+00 -1.263994e+00 -6.413755e-01 -3.551404e-01 -6.834928e-01   \n",
       "25%   -8.874226e-01 -7.854960e-01 -4.780215e-01 -3.551404e-01 -5.000028e-01   \n",
       "50%   -8.245962e-02 -7.217908e-02 -3.615976e-01 -3.128325e-01 -3.691030e-01   \n",
       "75%    8.353945e-01  4.461941e-01 -9.534083e-17 -1.770509e-01  1.414155e-03   \n",
       "max    1.861231e+00  4.548874e+00  6.406658e+00  7.270051e+00  6.113103e+00   \n",
       "\n",
       "            salary1          noi1          noe1     interest1       ctax1  \\\n",
       "count  2.100000e+02  2.100000e+02  2.100000e+02  2.100000e+02  210.000000   \n",
       "mean   7.507222e-17 -8.458842e-17 -1.691768e-17  5.921189e-17    0.000000   \n",
       "std    1.002389e+00  1.002389e+00  1.002389e+00  1.002389e+00    1.002389   \n",
       "min   -6.836537e-01 -3.146887e-01 -4.549456e-01 -8.087676e-01   -0.306891   \n",
       "25%   -4.883104e-01 -3.048958e-01 -3.787762e-01 -5.976471e-01   -0.306891   \n",
       "50%   -3.599915e-01 -2.594529e-01 -2.831353e-01 -3.063571e-01   -0.298605   \n",
       "75%    5.187134e-02 -7.072307e-02 -5.712885e-02  2.081584e-01   -0.092096   \n",
       "max    6.829693e+00  1.006035e+01  7.484593e+00  5.171927e+00   11.008419   \n",
       "\n",
       "       ...  receivableL2         debt2  liquidLiabilities2    shortLoan2  \\\n",
       "count  ...  2.100000e+02  2.100000e+02        2.100000e+02  2.100000e+02   \n",
       "mean   ... -2.114711e-17 -2.960595e-17       -5.075305e-17  8.458842e-17   \n",
       "std    ...  1.002389e+00  1.002389e+00        1.002389e+00  1.002389e+00   \n",
       "min    ... -7.051786e-02 -6.783369e-01       -6.727018e-01 -5.054511e-01   \n",
       "25%    ... -7.051786e-02 -5.645606e-01       -6.025742e-01 -5.054511e-01   \n",
       "50%    ... -7.051786e-02 -3.432058e-01       -3.708466e-01 -4.757953e-01   \n",
       "75%    ... -7.051786e-02  5.905963e-02        1.674117e-01  1.791303e-02   \n",
       "max    ...  1.445616e+01  5.496020e+00        6.184157e+00  5.526424e+00   \n",
       "\n",
       "       NCLiabilities2     longLoan2     netAsset2      surplus2     employee1  \\\n",
       "count    2.100000e+02  2.100000e+02  2.100000e+02  2.100000e+02  2.100000e+02   \n",
       "mean     9.463330e-17  2.537653e-17 -5.062088e-17  8.458842e-18  8.458842e-18   \n",
       "std      1.002389e+00  1.002389e+00  1.002389e+00  1.002389e+00  1.002389e+00   \n",
       "min     -5.713378e-01 -6.158123e-01 -2.122436e+00 -6.993269e-01 -8.777685e-01   \n",
       "25%     -5.686368e-01 -6.158123e-01 -3.684480e-01 -1.979672e-01 -5.559302e-01   \n",
       "50%     -3.200781e-01 -3.277935e-01 -2.129874e-01 -1.979672e-01 -3.857273e-01   \n",
       "75%      5.069761e-02  1.429608e-01 -7.904688e-17 -1.771861e-01  2.300979e-01   \n",
       "max      5.930905e+00  7.003854e+00  9.908381e+00  1.268168e+01  6.543080e+00   \n",
       "\n",
       "          employee2  \n",
       "count  2.100000e+02  \n",
       "mean   1.897953e-16  \n",
       "std    1.002389e+00  \n",
       "min   -8.839676e-01  \n",
       "25%   -5.352966e-01  \n",
       "50%   -3.576717e-01  \n",
       "75%    1.900049e-01  \n",
       "max    7.010471e+00  \n",
       "\n",
       "[8 rows x 52 columns]"
      ]
     },
     "execution_count": 96,
     "metadata": {},
     "output_type": "execute_result"
    }
   ],
   "source": [
    "x_train[num_columns].describe()"
   ]
  },
  {
   "cell_type": "code",
   "execution_count": 97,
   "metadata": {},
   "outputs": [
    {
     "data": {
      "text/html": [
       "<div>\n",
       "<style scoped>\n",
       "    .dataframe tbody tr th:only-of-type {\n",
       "        vertical-align: middle;\n",
       "    }\n",
       "\n",
       "    .dataframe tbody tr th {\n",
       "        vertical-align: top;\n",
       "    }\n",
       "\n",
       "    .dataframe thead th {\n",
       "        text-align: right;\n",
       "    }\n",
       "</style>\n",
       "<table border=\"1\" class=\"dataframe\">\n",
       "  <thead>\n",
       "    <tr style=\"text-align: right;\">\n",
       "      <th></th>\n",
       "      <th>sgg</th>\n",
       "      <th>bedCount</th>\n",
       "      <th>revenue1</th>\n",
       "      <th>salescost1</th>\n",
       "      <th>sga1</th>\n",
       "      <th>salary1</th>\n",
       "      <th>noi1</th>\n",
       "      <th>noe1</th>\n",
       "      <th>interest1</th>\n",
       "      <th>ctax1</th>\n",
       "      <th>...</th>\n",
       "      <th>receivableL2</th>\n",
       "      <th>debt2</th>\n",
       "      <th>liquidLiabilities2</th>\n",
       "      <th>shortLoan2</th>\n",
       "      <th>NCLiabilities2</th>\n",
       "      <th>longLoan2</th>\n",
       "      <th>netAsset2</th>\n",
       "      <th>surplus2</th>\n",
       "      <th>employee1</th>\n",
       "      <th>employee2</th>\n",
       "    </tr>\n",
       "  </thead>\n",
       "  <tbody>\n",
       "    <tr>\n",
       "      <th>count</th>\n",
       "      <td>91.000000</td>\n",
       "      <td>91.000000</td>\n",
       "      <td>91.000000</td>\n",
       "      <td>91.000000</td>\n",
       "      <td>91.000000</td>\n",
       "      <td>91.000000</td>\n",
       "      <td>91.000000</td>\n",
       "      <td>91.000000</td>\n",
       "      <td>91.000000</td>\n",
       "      <td>91.000000</td>\n",
       "      <td>...</td>\n",
       "      <td>91.000000</td>\n",
       "      <td>91.000000</td>\n",
       "      <td>91.000000</td>\n",
       "      <td>91.000000</td>\n",
       "      <td>9.100000e+01</td>\n",
       "      <td>91.000000</td>\n",
       "      <td>9.100000e+01</td>\n",
       "      <td>91.000000</td>\n",
       "      <td>91.000000</td>\n",
       "      <td>91.000000</td>\n",
       "    </tr>\n",
       "    <tr>\n",
       "      <th>mean</th>\n",
       "      <td>-0.140281</td>\n",
       "      <td>0.088308</td>\n",
       "      <td>0.008153</td>\n",
       "      <td>0.028766</td>\n",
       "      <td>-0.005450</td>\n",
       "      <td>-0.065207</td>\n",
       "      <td>-0.028275</td>\n",
       "      <td>0.040749</td>\n",
       "      <td>0.149040</td>\n",
       "      <td>0.029720</td>\n",
       "      <td>...</td>\n",
       "      <td>-0.067418</td>\n",
       "      <td>0.075802</td>\n",
       "      <td>0.149473</td>\n",
       "      <td>0.039466</td>\n",
       "      <td>-2.206671e-02</td>\n",
       "      <td>0.059071</td>\n",
       "      <td>-4.931029e-02</td>\n",
       "      <td>-0.045189</td>\n",
       "      <td>-0.005468</td>\n",
       "      <td>-0.000870</td>\n",
       "    </tr>\n",
       "    <tr>\n",
       "      <th>std</th>\n",
       "      <td>0.995385</td>\n",
       "      <td>1.140666</td>\n",
       "      <td>1.025664</td>\n",
       "      <td>1.887223</td>\n",
       "      <td>0.905182</td>\n",
       "      <td>0.762963</td>\n",
       "      <td>0.595856</td>\n",
       "      <td>0.844532</td>\n",
       "      <td>1.656660</td>\n",
       "      <td>0.959296</td>\n",
       "      <td>...</td>\n",
       "      <td>0.014536</td>\n",
       "      <td>1.208793</td>\n",
       "      <td>1.688892</td>\n",
       "      <td>0.995989</td>\n",
       "      <td>8.367767e-01</td>\n",
       "      <td>1.168347</td>\n",
       "      <td>5.205209e-01</td>\n",
       "      <td>0.430019</td>\n",
       "      <td>0.913253</td>\n",
       "      <td>0.903367</td>\n",
       "    </tr>\n",
       "    <tr>\n",
       "      <th>min</th>\n",
       "      <td>-1.594219</td>\n",
       "      <td>-1.263994</td>\n",
       "      <td>-0.641375</td>\n",
       "      <td>-0.355140</td>\n",
       "      <td>-0.683493</td>\n",
       "      <td>-0.683654</td>\n",
       "      <td>-0.314689</td>\n",
       "      <td>-0.454946</td>\n",
       "      <td>-0.808768</td>\n",
       "      <td>-0.306891</td>\n",
       "      <td>...</td>\n",
       "      <td>-0.070518</td>\n",
       "      <td>-0.678337</td>\n",
       "      <td>-0.672702</td>\n",
       "      <td>-0.505451</td>\n",
       "      <td>-5.713378e-01</td>\n",
       "      <td>-0.615812</td>\n",
       "      <td>-6.075573e-01</td>\n",
       "      <td>-0.720749</td>\n",
       "      <td>-0.883958</td>\n",
       "      <td>-0.883968</td>\n",
       "    </tr>\n",
       "    <tr>\n",
       "      <th>25%</th>\n",
       "      <td>-1.015039</td>\n",
       "      <td>-0.767774</td>\n",
       "      <td>-0.468392</td>\n",
       "      <td>-0.355140</td>\n",
       "      <td>-0.481734</td>\n",
       "      <td>-0.500969</td>\n",
       "      <td>-0.305404</td>\n",
       "      <td>-0.380572</td>\n",
       "      <td>-0.529191</td>\n",
       "      <td>-0.306891</td>\n",
       "      <td>...</td>\n",
       "      <td>-0.070518</td>\n",
       "      <td>-0.530496</td>\n",
       "      <td>-0.630525</td>\n",
       "      <td>-0.505451</td>\n",
       "      <td>-5.481145e-01</td>\n",
       "      <td>-0.615812</td>\n",
       "      <td>-3.530620e-01</td>\n",
       "      <td>-0.197967</td>\n",
       "      <td>-0.500227</td>\n",
       "      <td>-0.489246</td>\n",
       "    </tr>\n",
       "    <tr>\n",
       "      <th>50%</th>\n",
       "      <td>-0.357325</td>\n",
       "      <td>0.065168</td>\n",
       "      <td>-0.331315</td>\n",
       "      <td>-0.316661</td>\n",
       "      <td>-0.347807</td>\n",
       "      <td>-0.372145</td>\n",
       "      <td>-0.257993</td>\n",
       "      <td>-0.262901</td>\n",
       "      <td>-0.215398</td>\n",
       "      <td>-0.304505</td>\n",
       "      <td>...</td>\n",
       "      <td>-0.070518</td>\n",
       "      <td>-0.322739</td>\n",
       "      <td>-0.438434</td>\n",
       "      <td>-0.431213</td>\n",
       "      <td>-2.965599e-01</td>\n",
       "      <td>-0.377123</td>\n",
       "      <td>-1.849188e-01</td>\n",
       "      <td>-0.197967</td>\n",
       "      <td>-0.345497</td>\n",
       "      <td>-0.357672</td>\n",
       "    </tr>\n",
       "    <tr>\n",
       "      <th>75%</th>\n",
       "      <td>0.712687</td>\n",
       "      <td>0.393028</td>\n",
       "      <td>0.009406</td>\n",
       "      <td>-0.172952</td>\n",
       "      <td>0.014502</td>\n",
       "      <td>0.000000</td>\n",
       "      <td>-0.034444</td>\n",
       "      <td>0.000000</td>\n",
       "      <td>0.227935</td>\n",
       "      <td>-0.087504</td>\n",
       "      <td>...</td>\n",
       "      <td>-0.070518</td>\n",
       "      <td>0.003523</td>\n",
       "      <td>0.066802</td>\n",
       "      <td>0.039510</td>\n",
       "      <td>1.203991e-16</td>\n",
       "      <td>0.196227</td>\n",
       "      <td>-7.904688e-17</td>\n",
       "      <td>-0.124521</td>\n",
       "      <td>0.037684</td>\n",
       "      <td>0.053497</td>\n",
       "    </tr>\n",
       "    <tr>\n",
       "      <th>max</th>\n",
       "      <td>1.841598</td>\n",
       "      <td>4.513430</td>\n",
       "      <td>6.906518</td>\n",
       "      <td>17.443518</td>\n",
       "      <td>3.643751</td>\n",
       "      <td>2.812094</td>\n",
       "      <td>2.758194</td>\n",
       "      <td>4.421857</td>\n",
       "      <td>12.191050</td>\n",
       "      <td>6.795028</td>\n",
       "      <td>...</td>\n",
       "      <td>0.000000</td>\n",
       "      <td>6.653082</td>\n",
       "      <td>12.081230</td>\n",
       "      <td>4.688253</td>\n",
       "      <td>3.286416e+00</td>\n",
       "      <td>5.273487</td>\n",
       "      <td>2.419619e+00</td>\n",
       "      <td>2.653723</td>\n",
       "      <td>5.001969</td>\n",
       "      <td>5.043440</td>\n",
       "    </tr>\n",
       "  </tbody>\n",
       "</table>\n",
       "<p>8 rows × 52 columns</p>\n",
       "</div>"
      ],
      "text/plain": [
       "             sgg   bedCount   revenue1  salescost1       sga1    salary1  \\\n",
       "count  91.000000  91.000000  91.000000   91.000000  91.000000  91.000000   \n",
       "mean   -0.140281   0.088308   0.008153    0.028766  -0.005450  -0.065207   \n",
       "std     0.995385   1.140666   1.025664    1.887223   0.905182   0.762963   \n",
       "min    -1.594219  -1.263994  -0.641375   -0.355140  -0.683493  -0.683654   \n",
       "25%    -1.015039  -0.767774  -0.468392   -0.355140  -0.481734  -0.500969   \n",
       "50%    -0.357325   0.065168  -0.331315   -0.316661  -0.347807  -0.372145   \n",
       "75%     0.712687   0.393028   0.009406   -0.172952   0.014502   0.000000   \n",
       "max     1.841598   4.513430   6.906518   17.443518   3.643751   2.812094   \n",
       "\n",
       "            noi1       noe1  interest1      ctax1  ...  receivableL2  \\\n",
       "count  91.000000  91.000000  91.000000  91.000000  ...     91.000000   \n",
       "mean   -0.028275   0.040749   0.149040   0.029720  ...     -0.067418   \n",
       "std     0.595856   0.844532   1.656660   0.959296  ...      0.014536   \n",
       "min    -0.314689  -0.454946  -0.808768  -0.306891  ...     -0.070518   \n",
       "25%    -0.305404  -0.380572  -0.529191  -0.306891  ...     -0.070518   \n",
       "50%    -0.257993  -0.262901  -0.215398  -0.304505  ...     -0.070518   \n",
       "75%    -0.034444   0.000000   0.227935  -0.087504  ...     -0.070518   \n",
       "max     2.758194   4.421857  12.191050   6.795028  ...      0.000000   \n",
       "\n",
       "           debt2  liquidLiabilities2  shortLoan2  NCLiabilities2  longLoan2  \\\n",
       "count  91.000000           91.000000   91.000000    9.100000e+01  91.000000   \n",
       "mean    0.075802            0.149473    0.039466   -2.206671e-02   0.059071   \n",
       "std     1.208793            1.688892    0.995989    8.367767e-01   1.168347   \n",
       "min    -0.678337           -0.672702   -0.505451   -5.713378e-01  -0.615812   \n",
       "25%    -0.530496           -0.630525   -0.505451   -5.481145e-01  -0.615812   \n",
       "50%    -0.322739           -0.438434   -0.431213   -2.965599e-01  -0.377123   \n",
       "75%     0.003523            0.066802    0.039510    1.203991e-16   0.196227   \n",
       "max     6.653082           12.081230    4.688253    3.286416e+00   5.273487   \n",
       "\n",
       "          netAsset2   surplus2  employee1  employee2  \n",
       "count  9.100000e+01  91.000000  91.000000  91.000000  \n",
       "mean  -4.931029e-02  -0.045189  -0.005468  -0.000870  \n",
       "std    5.205209e-01   0.430019   0.913253   0.903367  \n",
       "min   -6.075573e-01  -0.720749  -0.883958  -0.883968  \n",
       "25%   -3.530620e-01  -0.197967  -0.500227  -0.489246  \n",
       "50%   -1.849188e-01  -0.197967  -0.345497  -0.357672  \n",
       "75%   -7.904688e-17  -0.124521   0.037684   0.053497  \n",
       "max    2.419619e+00   2.653723   5.001969   5.043440  \n",
       "\n",
       "[8 rows x 52 columns]"
      ]
     },
     "execution_count": 97,
     "metadata": {},
     "output_type": "execute_result"
    }
   ],
   "source": [
    "x_valid[num_columns].describe()"
   ]
  },
  {
   "cell_type": "code",
   "execution_count": 98,
   "metadata": {},
   "outputs": [
    {
     "data": {
      "text/html": [
       "<div>\n",
       "<style scoped>\n",
       "    .dataframe tbody tr th:only-of-type {\n",
       "        vertical-align: middle;\n",
       "    }\n",
       "\n",
       "    .dataframe tbody tr th {\n",
       "        vertical-align: top;\n",
       "    }\n",
       "\n",
       "    .dataframe thead th {\n",
       "        text-align: right;\n",
       "    }\n",
       "</style>\n",
       "<table border=\"1\" class=\"dataframe\">\n",
       "  <thead>\n",
       "    <tr style=\"text-align: right;\">\n",
       "      <th></th>\n",
       "      <th>sgg</th>\n",
       "      <th>bedCount</th>\n",
       "      <th>revenue1</th>\n",
       "      <th>salescost1</th>\n",
       "      <th>sga1</th>\n",
       "      <th>salary1</th>\n",
       "      <th>noi1</th>\n",
       "      <th>noe1</th>\n",
       "      <th>interest1</th>\n",
       "      <th>ctax1</th>\n",
       "      <th>...</th>\n",
       "      <th>receivableL2</th>\n",
       "      <th>debt2</th>\n",
       "      <th>liquidLiabilities2</th>\n",
       "      <th>shortLoan2</th>\n",
       "      <th>NCLiabilities2</th>\n",
       "      <th>longLoan2</th>\n",
       "      <th>netAsset2</th>\n",
       "      <th>surplus2</th>\n",
       "      <th>employee1</th>\n",
       "      <th>employee2</th>\n",
       "    </tr>\n",
       "  </thead>\n",
       "  <tbody>\n",
       "    <tr>\n",
       "      <th>count</th>\n",
       "      <td>76.000000</td>\n",
       "      <td>76.000000</td>\n",
       "      <td>76.000000</td>\n",
       "      <td>76.000000</td>\n",
       "      <td>76.000000</td>\n",
       "      <td>76.000000</td>\n",
       "      <td>76.000000</td>\n",
       "      <td>76.000000</td>\n",
       "      <td>76.000000</td>\n",
       "      <td>76.000000</td>\n",
       "      <td>...</td>\n",
       "      <td>76.000000</td>\n",
       "      <td>76.000000</td>\n",
       "      <td>76.000000</td>\n",
       "      <td>76.000000</td>\n",
       "      <td>76.000000</td>\n",
       "      <td>76.000000</td>\n",
       "      <td>76.000000</td>\n",
       "      <td>76.000000</td>\n",
       "      <td>76.000000</td>\n",
       "      <td>76.000000</td>\n",
       "    </tr>\n",
       "    <tr>\n",
       "      <th>mean</th>\n",
       "      <td>0.028882</td>\n",
       "      <td>-0.038367</td>\n",
       "      <td>-0.119462</td>\n",
       "      <td>-0.047771</td>\n",
       "      <td>-0.135449</td>\n",
       "      <td>-0.110705</td>\n",
       "      <td>0.085218</td>\n",
       "      <td>0.037150</td>\n",
       "      <td>-0.089387</td>\n",
       "      <td>-0.104552</td>\n",
       "      <td>...</td>\n",
       "      <td>0.123406</td>\n",
       "      <td>-0.066056</td>\n",
       "      <td>0.010248</td>\n",
       "      <td>0.001977</td>\n",
       "      <td>-0.104267</td>\n",
       "      <td>-0.107261</td>\n",
       "      <td>-0.048420</td>\n",
       "      <td>-0.100750</td>\n",
       "      <td>-0.088622</td>\n",
       "      <td>-0.081553</td>\n",
       "    </tr>\n",
       "    <tr>\n",
       "      <th>std</th>\n",
       "      <td>0.969929</td>\n",
       "      <td>1.007501</td>\n",
       "      <td>0.911620</td>\n",
       "      <td>0.964545</td>\n",
       "      <td>0.864563</td>\n",
       "      <td>0.978651</td>\n",
       "      <td>1.480816</td>\n",
       "      <td>1.277009</td>\n",
       "      <td>0.856717</td>\n",
       "      <td>0.473244</td>\n",
       "      <td>...</td>\n",
       "      <td>1.666058</td>\n",
       "      <td>0.999626</td>\n",
       "      <td>1.095385</td>\n",
       "      <td>0.831635</td>\n",
       "      <td>0.863330</td>\n",
       "      <td>0.872353</td>\n",
       "      <td>0.686923</td>\n",
       "      <td>0.273544</td>\n",
       "      <td>0.924515</td>\n",
       "      <td>0.880591</td>\n",
       "    </tr>\n",
       "    <tr>\n",
       "      <th>min</th>\n",
       "      <td>-1.574586</td>\n",
       "      <td>-1.263994</td>\n",
       "      <td>-0.641375</td>\n",
       "      <td>-0.355140</td>\n",
       "      <td>-0.683493</td>\n",
       "      <td>-0.683654</td>\n",
       "      <td>-0.314689</td>\n",
       "      <td>-0.454946</td>\n",
       "      <td>-0.808768</td>\n",
       "      <td>-0.306891</td>\n",
       "      <td>...</td>\n",
       "      <td>-0.070518</td>\n",
       "      <td>-0.678337</td>\n",
       "      <td>-0.672702</td>\n",
       "      <td>-0.505451</td>\n",
       "      <td>-0.571338</td>\n",
       "      <td>-0.615812</td>\n",
       "      <td>-0.452452</td>\n",
       "      <td>-0.197967</td>\n",
       "      <td>-0.828255</td>\n",
       "      <td>-0.877389</td>\n",
       "    </tr>\n",
       "    <tr>\n",
       "      <th>25%</th>\n",
       "      <td>-0.833431</td>\n",
       "      <td>-0.812079</td>\n",
       "      <td>-0.463600</td>\n",
       "      <td>-0.355140</td>\n",
       "      <td>-0.483716</td>\n",
       "      <td>-0.486182</td>\n",
       "      <td>-0.295759</td>\n",
       "      <td>-0.391471</td>\n",
       "      <td>-0.559426</td>\n",
       "      <td>-0.306891</td>\n",
       "      <td>...</td>\n",
       "      <td>-0.070518</td>\n",
       "      <td>-0.544467</td>\n",
       "      <td>-0.565583</td>\n",
       "      <td>-0.505451</td>\n",
       "      <td>-0.559598</td>\n",
       "      <td>-0.615812</td>\n",
       "      <td>-0.348281</td>\n",
       "      <td>-0.197967</td>\n",
       "      <td>-0.549741</td>\n",
       "      <td>-0.545165</td>\n",
       "    </tr>\n",
       "    <tr>\n",
       "      <th>50%</th>\n",
       "      <td>0.133506</td>\n",
       "      <td>-0.174081</td>\n",
       "      <td>-0.377026</td>\n",
       "      <td>-0.311451</td>\n",
       "      <td>-0.392947</td>\n",
       "      <td>-0.393259</td>\n",
       "      <td>-0.252951</td>\n",
       "      <td>-0.319913</td>\n",
       "      <td>-0.374055</td>\n",
       "      <td>-0.285094</td>\n",
       "      <td>...</td>\n",
       "      <td>-0.070518</td>\n",
       "      <td>-0.400040</td>\n",
       "      <td>-0.358991</td>\n",
       "      <td>-0.342601</td>\n",
       "      <td>-0.376584</td>\n",
       "      <td>-0.412428</td>\n",
       "      <td>-0.207491</td>\n",
       "      <td>-0.197967</td>\n",
       "      <td>-0.413579</td>\n",
       "      <td>-0.387276</td>\n",
       "    </tr>\n",
       "    <tr>\n",
       "      <th>75%</th>\n",
       "      <td>0.712687</td>\n",
       "      <td>0.291125</td>\n",
       "      <td>-0.101932</td>\n",
       "      <td>-0.213472</td>\n",
       "      <td>-0.063650</td>\n",
       "      <td>-0.021868</td>\n",
       "      <td>-0.067170</td>\n",
       "      <td>-0.082959</td>\n",
       "      <td>0.013202</td>\n",
       "      <td>-0.150309</td>\n",
       "      <td>...</td>\n",
       "      <td>-0.070518</td>\n",
       "      <td>-0.034497</td>\n",
       "      <td>0.047823</td>\n",
       "      <td>0.059967</td>\n",
       "      <td>-0.062003</td>\n",
       "      <td>-0.007297</td>\n",
       "      <td>-0.023844</td>\n",
       "      <td>-0.157026</td>\n",
       "      <td>0.000000</td>\n",
       "      <td>0.009091</td>\n",
       "    </tr>\n",
       "    <tr>\n",
       "      <th>max</th>\n",
       "      <td>1.743432</td>\n",
       "      <td>3.396934</td>\n",
       "      <td>5.556895</td>\n",
       "      <td>6.103319</td>\n",
       "      <td>5.342907</td>\n",
       "      <td>6.096674</td>\n",
       "      <td>10.060346</td>\n",
       "      <td>7.484593</td>\n",
       "      <td>3.959428</td>\n",
       "      <td>2.822805</td>\n",
       "      <td>...</td>\n",
       "      <td>14.456161</td>\n",
       "      <td>5.496020</td>\n",
       "      <td>6.184157</td>\n",
       "      <td>3.836441</td>\n",
       "      <td>4.500006</td>\n",
       "      <td>3.649385</td>\n",
       "      <td>4.418030</td>\n",
       "      <td>1.222850</td>\n",
       "      <td>5.001969</td>\n",
       "      <td>5.043440</td>\n",
       "    </tr>\n",
       "  </tbody>\n",
       "</table>\n",
       "<p>8 rows × 52 columns</p>\n",
       "</div>"
      ],
      "text/plain": [
       "             sgg   bedCount   revenue1  salescost1       sga1    salary1  \\\n",
       "count  76.000000  76.000000  76.000000   76.000000  76.000000  76.000000   \n",
       "mean    0.028882  -0.038367  -0.119462   -0.047771  -0.135449  -0.110705   \n",
       "std     0.969929   1.007501   0.911620    0.964545   0.864563   0.978651   \n",
       "min    -1.574586  -1.263994  -0.641375   -0.355140  -0.683493  -0.683654   \n",
       "25%    -0.833431  -0.812079  -0.463600   -0.355140  -0.483716  -0.486182   \n",
       "50%     0.133506  -0.174081  -0.377026   -0.311451  -0.392947  -0.393259   \n",
       "75%     0.712687   0.291125  -0.101932   -0.213472  -0.063650  -0.021868   \n",
       "max     1.743432   3.396934   5.556895    6.103319   5.342907   6.096674   \n",
       "\n",
       "            noi1       noe1  interest1      ctax1  ...  receivableL2  \\\n",
       "count  76.000000  76.000000  76.000000  76.000000  ...     76.000000   \n",
       "mean    0.085218   0.037150  -0.089387  -0.104552  ...      0.123406   \n",
       "std     1.480816   1.277009   0.856717   0.473244  ...      1.666058   \n",
       "min    -0.314689  -0.454946  -0.808768  -0.306891  ...     -0.070518   \n",
       "25%    -0.295759  -0.391471  -0.559426  -0.306891  ...     -0.070518   \n",
       "50%    -0.252951  -0.319913  -0.374055  -0.285094  ...     -0.070518   \n",
       "75%    -0.067170  -0.082959   0.013202  -0.150309  ...     -0.070518   \n",
       "max    10.060346   7.484593   3.959428   2.822805  ...     14.456161   \n",
       "\n",
       "           debt2  liquidLiabilities2  shortLoan2  NCLiabilities2  longLoan2  \\\n",
       "count  76.000000           76.000000   76.000000       76.000000  76.000000   \n",
       "mean   -0.066056            0.010248    0.001977       -0.104267  -0.107261   \n",
       "std     0.999626            1.095385    0.831635        0.863330   0.872353   \n",
       "min    -0.678337           -0.672702   -0.505451       -0.571338  -0.615812   \n",
       "25%    -0.544467           -0.565583   -0.505451       -0.559598  -0.615812   \n",
       "50%    -0.400040           -0.358991   -0.342601       -0.376584  -0.412428   \n",
       "75%    -0.034497            0.047823    0.059967       -0.062003  -0.007297   \n",
       "max     5.496020            6.184157    3.836441        4.500006   3.649385   \n",
       "\n",
       "       netAsset2   surplus2  employee1  employee2  \n",
       "count  76.000000  76.000000  76.000000  76.000000  \n",
       "mean   -0.048420  -0.100750  -0.088622  -0.081553  \n",
       "std     0.686923   0.273544   0.924515   0.880591  \n",
       "min    -0.452452  -0.197967  -0.828255  -0.877389  \n",
       "25%    -0.348281  -0.197967  -0.549741  -0.545165  \n",
       "50%    -0.207491  -0.197967  -0.413579  -0.387276  \n",
       "75%    -0.023844  -0.157026   0.000000   0.009091  \n",
       "max     4.418030   1.222850   5.001969   5.043440  \n",
       "\n",
       "[8 rows x 52 columns]"
      ]
     },
     "execution_count": 98,
     "metadata": {},
     "output_type": "execute_result"
    }
   ],
   "source": [
    "x_test[num_columns].describe()"
   ]
  },
  {
   "cell_type": "markdown",
   "metadata": {},
   "source": [
    "#### 왜 x_valid와 x_test는 평균이 0, 표준편차가 1이 아닌가요? -> x_train의 평균과 표준편차를 사용했기 때문에 x_valid의 평균과 표준편차가 0, 1이 아닐 수 있습니다."
   ]
  },
  {
   "cell_type": "markdown",
   "metadata": {},
   "source": [
    "#### 3. 범주형 변수 OneHot Encoding, 라벨 변수 Label Encoding \n",
    "- 범주형 변수 OneHot Encoding 처리"
   ]
  },
  {
   "cell_type": "code",
   "execution_count": 99,
   "metadata": {},
   "outputs": [],
   "source": [
    "from sklearn.preprocessing import OneHotEncoder"
   ]
  },
  {
   "cell_type": "code",
   "execution_count": 100,
   "metadata": {},
   "outputs": [
    {
     "data": {
      "text/plain": [
       "OneHotEncoder(sparse=False)"
      ]
     },
     "execution_count": 100,
     "metadata": {},
     "output_type": "execute_result"
    }
   ],
   "source": [
    "ohe = OneHotEncoder(sparse=False)\n",
    "\n",
    "ohe.fit(x_train[cat_columns])"
   ]
  },
  {
   "cell_type": "code",
   "execution_count": 101,
   "metadata": {},
   "outputs": [],
   "source": [
    "# test 데이터에만 존재하는 범주형 변수가 존재합니다. 이러한 경우 train, valid, test를 하나로 합쳤다가 인코딩 후 다시 쪼개야합니다.\n",
    "# new_x_train_cat = ohe.transform(x_train[cat_columns])\n",
    "# new_x_valid_cat = ohe.transform(x_valid[cat_columns])\n",
    "# new_x_test_cat = ohe.transform(x_test[cat_columns])"
   ]
  },
  {
   "cell_type": "code",
   "execution_count": 38,
   "metadata": {},
   "outputs": [
    {
     "data": {
      "text/plain": [
       "['busan',\n",
       " 'choongbuk',\n",
       " 'choongnam',\n",
       " 'daegu',\n",
       " 'daejeon',\n",
       " 'gangwon',\n",
       " 'gwangju',\n",
       " 'gyeongbuk',\n",
       " 'gyeonggi',\n",
       " 'gyeongnam',\n",
       " 'incheon',\n",
       " 'jeju',\n",
       " 'jeonbuk',\n",
       " 'jeonnam',\n",
       " 'sejong',\n",
       " 'seoul',\n",
       " 'ulsan',\n",
       " 'clinic',\n",
       " 'dental_clinic',\n",
       " 'general_hospital',\n",
       " 'hospital',\n",
       " 'nursing_hospital',\n",
       " 'traditional_clinic',\n",
       " 'traditional_hospital',\n",
       " 'change',\n",
       " 'same']"
      ]
     },
     "execution_count": 38,
     "metadata": {},
     "output_type": "execute_result"
    }
   ],
   "source": [
    "x_all = pd.concat([x_train[cat_columns], x_valid[cat_columns], x_test[cat_columns]], axis=0)\n",
    "\n",
    "# fit과 transform을 한번에\n",
    "new_x_all = ohe.fit_transform(x_all)\n",
    "\n",
    "# ohe.categories_ 은 입력된 범주형 컬럼의 범주 값을 순서대로 담고 있습니다.\n",
    "ohe_columns = ohe.categories_[0].tolist() + ohe.categories_[1].tolist() + ohe.categories_[2].tolist()\n",
    "ohe_columns"
   ]
  },
  {
   "cell_type": "code",
   "execution_count": 39,
   "metadata": {},
   "outputs": [
    {
     "data": {
      "text/html": [
       "<div>\n",
       "<style scoped>\n",
       "    .dataframe tbody tr th:only-of-type {\n",
       "        vertical-align: middle;\n",
       "    }\n",
       "\n",
       "    .dataframe tbody tr th {\n",
       "        vertical-align: top;\n",
       "    }\n",
       "\n",
       "    .dataframe thead th {\n",
       "        text-align: right;\n",
       "    }\n",
       "</style>\n",
       "<table border=\"1\" class=\"dataframe\">\n",
       "  <thead>\n",
       "    <tr style=\"text-align: right;\">\n",
       "      <th></th>\n",
       "      <th>busan</th>\n",
       "      <th>choongbuk</th>\n",
       "      <th>choongnam</th>\n",
       "      <th>daegu</th>\n",
       "      <th>daejeon</th>\n",
       "      <th>gangwon</th>\n",
       "      <th>gwangju</th>\n",
       "      <th>gyeongbuk</th>\n",
       "      <th>gyeonggi</th>\n",
       "      <th>gyeongnam</th>\n",
       "      <th>...</th>\n",
       "      <th>ulsan</th>\n",
       "      <th>clinic</th>\n",
       "      <th>dental_clinic</th>\n",
       "      <th>general_hospital</th>\n",
       "      <th>hospital</th>\n",
       "      <th>nursing_hospital</th>\n",
       "      <th>traditional_clinic</th>\n",
       "      <th>traditional_hospital</th>\n",
       "      <th>change</th>\n",
       "      <th>same</th>\n",
       "    </tr>\n",
       "  </thead>\n",
       "  <tbody>\n",
       "    <tr>\n",
       "      <th>0</th>\n",
       "      <td>0.0</td>\n",
       "      <td>0.0</td>\n",
       "      <td>0.0</td>\n",
       "      <td>0.0</td>\n",
       "      <td>0.0</td>\n",
       "      <td>0.0</td>\n",
       "      <td>0.0</td>\n",
       "      <td>0.0</td>\n",
       "      <td>0.0</td>\n",
       "      <td>0.0</td>\n",
       "      <td>...</td>\n",
       "      <td>0.0</td>\n",
       "      <td>0.0</td>\n",
       "      <td>0.0</td>\n",
       "      <td>1.0</td>\n",
       "      <td>0.0</td>\n",
       "      <td>0.0</td>\n",
       "      <td>0.0</td>\n",
       "      <td>0.0</td>\n",
       "      <td>0.0</td>\n",
       "      <td>1.0</td>\n",
       "    </tr>\n",
       "    <tr>\n",
       "      <th>1</th>\n",
       "      <td>0.0</td>\n",
       "      <td>0.0</td>\n",
       "      <td>0.0</td>\n",
       "      <td>0.0</td>\n",
       "      <td>0.0</td>\n",
       "      <td>0.0</td>\n",
       "      <td>0.0</td>\n",
       "      <td>0.0</td>\n",
       "      <td>0.0</td>\n",
       "      <td>0.0</td>\n",
       "      <td>...</td>\n",
       "      <td>0.0</td>\n",
       "      <td>0.0</td>\n",
       "      <td>0.0</td>\n",
       "      <td>0.0</td>\n",
       "      <td>1.0</td>\n",
       "      <td>0.0</td>\n",
       "      <td>0.0</td>\n",
       "      <td>0.0</td>\n",
       "      <td>1.0</td>\n",
       "      <td>0.0</td>\n",
       "    </tr>\n",
       "    <tr>\n",
       "      <th>2</th>\n",
       "      <td>0.0</td>\n",
       "      <td>0.0</td>\n",
       "      <td>0.0</td>\n",
       "      <td>0.0</td>\n",
       "      <td>0.0</td>\n",
       "      <td>0.0</td>\n",
       "      <td>0.0</td>\n",
       "      <td>0.0</td>\n",
       "      <td>1.0</td>\n",
       "      <td>0.0</td>\n",
       "      <td>...</td>\n",
       "      <td>0.0</td>\n",
       "      <td>0.0</td>\n",
       "      <td>0.0</td>\n",
       "      <td>1.0</td>\n",
       "      <td>0.0</td>\n",
       "      <td>0.0</td>\n",
       "      <td>0.0</td>\n",
       "      <td>0.0</td>\n",
       "      <td>1.0</td>\n",
       "      <td>0.0</td>\n",
       "    </tr>\n",
       "    <tr>\n",
       "      <th>3</th>\n",
       "      <td>0.0</td>\n",
       "      <td>0.0</td>\n",
       "      <td>0.0</td>\n",
       "      <td>0.0</td>\n",
       "      <td>0.0</td>\n",
       "      <td>0.0</td>\n",
       "      <td>0.0</td>\n",
       "      <td>1.0</td>\n",
       "      <td>0.0</td>\n",
       "      <td>0.0</td>\n",
       "      <td>...</td>\n",
       "      <td>0.0</td>\n",
       "      <td>0.0</td>\n",
       "      <td>0.0</td>\n",
       "      <td>0.0</td>\n",
       "      <td>1.0</td>\n",
       "      <td>0.0</td>\n",
       "      <td>0.0</td>\n",
       "      <td>0.0</td>\n",
       "      <td>0.0</td>\n",
       "      <td>1.0</td>\n",
       "    </tr>\n",
       "    <tr>\n",
       "      <th>4</th>\n",
       "      <td>0.0</td>\n",
       "      <td>0.0</td>\n",
       "      <td>0.0</td>\n",
       "      <td>0.0</td>\n",
       "      <td>0.0</td>\n",
       "      <td>0.0</td>\n",
       "      <td>0.0</td>\n",
       "      <td>0.0</td>\n",
       "      <td>1.0</td>\n",
       "      <td>0.0</td>\n",
       "      <td>...</td>\n",
       "      <td>0.0</td>\n",
       "      <td>0.0</td>\n",
       "      <td>0.0</td>\n",
       "      <td>0.0</td>\n",
       "      <td>1.0</td>\n",
       "      <td>0.0</td>\n",
       "      <td>0.0</td>\n",
       "      <td>0.0</td>\n",
       "      <td>0.0</td>\n",
       "      <td>1.0</td>\n",
       "    </tr>\n",
       "  </tbody>\n",
       "</table>\n",
       "<p>5 rows × 26 columns</p>\n",
       "</div>"
      ],
      "text/plain": [
       "   busan  choongbuk  choongnam  daegu  daejeon  gangwon  gwangju  gyeongbuk  \\\n",
       "0    0.0        0.0        0.0    0.0      0.0      0.0      0.0        0.0   \n",
       "1    0.0        0.0        0.0    0.0      0.0      0.0      0.0        0.0   \n",
       "2    0.0        0.0        0.0    0.0      0.0      0.0      0.0        0.0   \n",
       "3    0.0        0.0        0.0    0.0      0.0      0.0      0.0        1.0   \n",
       "4    0.0        0.0        0.0    0.0      0.0      0.0      0.0        0.0   \n",
       "\n",
       "   gyeonggi  gyeongnam  ...  ulsan  clinic  dental_clinic  general_hospital  \\\n",
       "0       0.0        0.0  ...    0.0     0.0            0.0               1.0   \n",
       "1       0.0        0.0  ...    0.0     0.0            0.0               0.0   \n",
       "2       1.0        0.0  ...    0.0     0.0            0.0               1.0   \n",
       "3       0.0        0.0  ...    0.0     0.0            0.0               0.0   \n",
       "4       1.0        0.0  ...    0.0     0.0            0.0               0.0   \n",
       "\n",
       "   hospital  nursing_hospital  traditional_clinic  traditional_hospital  \\\n",
       "0       0.0               0.0                 0.0                   0.0   \n",
       "1       1.0               0.0                 0.0                   0.0   \n",
       "2       0.0               0.0                 0.0                   0.0   \n",
       "3       1.0               0.0                 0.0                   0.0   \n",
       "4       1.0               0.0                 0.0                   0.0   \n",
       "\n",
       "   change  same  \n",
       "0     0.0   1.0  \n",
       "1     1.0   0.0  \n",
       "2     1.0   0.0  \n",
       "3     0.0   1.0  \n",
       "4     0.0   1.0  \n",
       "\n",
       "[5 rows x 26 columns]"
      ]
     },
     "execution_count": 39,
     "metadata": {},
     "output_type": "execute_result"
    }
   ],
   "source": [
    "new_x_all = pd.DataFrame(new_x_all, columns=ohe_columns)\n",
    "new_x_all.head()"
   ]
  },
  {
   "cell_type": "code",
   "execution_count": 40,
   "metadata": {},
   "outputs": [],
   "source": [
    "new_x_train_cat = new_x_all.iloc[:x_train.shape[0], :]\n",
    "new_x_valid_cat = new_x_all.iloc[x_train.shape[0]:new_x_all.shape[0] - x_test.shape[0], :]\n",
    "new_x_test_cat =  new_x_all.iloc[new_x_all.shape[0] - x_test.shape[0]:, :]"
   ]
  },
  {
   "cell_type": "code",
   "execution_count": 41,
   "metadata": {},
   "outputs": [
    {
     "data": {
      "text/plain": [
       "((210, 26), (210, 55))"
      ]
     },
     "execution_count": 41,
     "metadata": {},
     "output_type": "execute_result"
    }
   ],
   "source": [
    "# train set 개수 확인\n",
    "new_x_train_cat.shape, x_train.shape"
   ]
  },
  {
   "cell_type": "code",
   "execution_count": 42,
   "metadata": {},
   "outputs": [
    {
     "data": {
      "text/plain": [
       "((91, 26), (91, 55))"
      ]
     },
     "execution_count": 42,
     "metadata": {},
     "output_type": "execute_result"
    }
   ],
   "source": [
    "# valid set 개수 확인\n",
    "new_x_valid_cat.shape, x_valid.shape"
   ]
  },
  {
   "cell_type": "code",
   "execution_count": 43,
   "metadata": {},
   "outputs": [
    {
     "data": {
      "text/plain": [
       "((127, 26), (127, 55))"
      ]
     },
     "execution_count": 43,
     "metadata": {},
     "output_type": "execute_result"
    }
   ],
   "source": [
    "# test set 개수 확인\n",
    "new_x_test_cat.shape, x_test.shape"
   ]
  },
  {
   "cell_type": "code",
   "execution_count": 44,
   "metadata": {},
   "outputs": [],
   "source": [
    "# 동일하게 데이터를 쪼갤 시 인덱스를 초기화합니다.\n",
    "new_x_train_cat.reset_index(drop=True, inplace=True)\n",
    "new_x_valid_cat.reset_index(drop=True, inplace=True)\n",
    "new_x_test_cat.reset_index(drop=True, inplace=True)"
   ]
  },
  {
   "cell_type": "markdown",
   "metadata": {},
   "source": [
    "##### 기존 범주형 변수를 제거하고, Onehot Encoding된 변수를 추가합니다."
   ]
  },
  {
   "cell_type": "code",
   "execution_count": 45,
   "metadata": {},
   "outputs": [
    {
     "name": "stderr",
     "output_type": "stream",
     "text": [
      "C:\\Users\\htaur\\anaconda3\\envs\\py37\\lib\\site-packages\\pandas\\core\\frame.py:3997: SettingWithCopyWarning: \n",
      "A value is trying to be set on a copy of a slice from a DataFrame\n",
      "\n",
      "See the caveats in the documentation: https://pandas.pydata.org/pandas-docs/stable/user_guide/indexing.html#returning-a-view-versus-a-copy\n",
      "  errors=errors,\n"
     ]
    }
   ],
   "source": [
    "# 기존 범주형 변수 제거\n",
    "x_train.drop(columns=cat_columns, inplace=True)\n",
    "x_valid.drop(columns=cat_columns, inplace=True)\n",
    "x_test.drop(columns=cat_columns, inplace=True)"
   ]
  },
  {
   "cell_type": "code",
   "execution_count": 46,
   "metadata": {},
   "outputs": [],
   "source": [
    "# Onehot Encoding 변수 추가\n",
    "x_train = pd.concat([x_train, new_x_train_cat], axis=1)\n",
    "x_valid = pd.concat([x_valid, new_x_valid_cat], axis=1)\n",
    "x_test = pd.concat([x_test, new_x_test_cat], axis=1)"
   ]
  },
  {
   "cell_type": "code",
   "execution_count": 47,
   "metadata": {},
   "outputs": [
    {
     "data": {
      "text/html": [
       "<div>\n",
       "<style scoped>\n",
       "    .dataframe tbody tr th:only-of-type {\n",
       "        vertical-align: middle;\n",
       "    }\n",
       "\n",
       "    .dataframe tbody tr th {\n",
       "        vertical-align: top;\n",
       "    }\n",
       "\n",
       "    .dataframe thead th {\n",
       "        text-align: right;\n",
       "    }\n",
       "</style>\n",
       "<table border=\"1\" class=\"dataframe\">\n",
       "  <thead>\n",
       "    <tr style=\"text-align: right;\">\n",
       "      <th></th>\n",
       "      <th>sgg</th>\n",
       "      <th>bedCount</th>\n",
       "      <th>revenue1</th>\n",
       "      <th>salescost1</th>\n",
       "      <th>sga1</th>\n",
       "      <th>salary1</th>\n",
       "      <th>noi1</th>\n",
       "      <th>noe1</th>\n",
       "      <th>interest1</th>\n",
       "      <th>ctax1</th>\n",
       "      <th>...</th>\n",
       "      <th>ulsan</th>\n",
       "      <th>clinic</th>\n",
       "      <th>dental_clinic</th>\n",
       "      <th>general_hospital</th>\n",
       "      <th>hospital</th>\n",
       "      <th>nursing_hospital</th>\n",
       "      <th>traditional_clinic</th>\n",
       "      <th>traditional_hospital</th>\n",
       "      <th>change</th>\n",
       "      <th>same</th>\n",
       "    </tr>\n",
       "  </thead>\n",
       "  <tbody>\n",
       "    <tr>\n",
       "      <th>0</th>\n",
       "      <td>-1.554953</td>\n",
       "      <td>0.109473</td>\n",
       "      <td>0.979538</td>\n",
       "      <td>-0.355140</td>\n",
       "      <td>1.420344</td>\n",
       "      <td>0.723112</td>\n",
       "      <td>0.164010</td>\n",
       "      <td>0.472571</td>\n",
       "      <td>3.688708</td>\n",
       "      <td>-0.306891</td>\n",
       "      <td>...</td>\n",
       "      <td>0.0</td>\n",
       "      <td>0.0</td>\n",
       "      <td>0.0</td>\n",
       "      <td>1.0</td>\n",
       "      <td>0.0</td>\n",
       "      <td>0.0</td>\n",
       "      <td>0.0</td>\n",
       "      <td>0.0</td>\n",
       "      <td>0.0</td>\n",
       "      <td>1.0</td>\n",
       "    </tr>\n",
       "    <tr>\n",
       "      <th>1</th>\n",
       "      <td>0.192406</td>\n",
       "      <td>-1.051328</td>\n",
       "      <td>-0.602004</td>\n",
       "      <td>-0.355140</td>\n",
       "      <td>-0.636246</td>\n",
       "      <td>-0.643303</td>\n",
       "      <td>-0.314680</td>\n",
       "      <td>-0.434397</td>\n",
       "      <td>-0.705915</td>\n",
       "      <td>-0.301640</td>\n",
       "      <td>...</td>\n",
       "      <td>0.0</td>\n",
       "      <td>0.0</td>\n",
       "      <td>0.0</td>\n",
       "      <td>0.0</td>\n",
       "      <td>1.0</td>\n",
       "      <td>0.0</td>\n",
       "      <td>0.0</td>\n",
       "      <td>0.0</td>\n",
       "      <td>1.0</td>\n",
       "      <td>0.0</td>\n",
       "    </tr>\n",
       "    <tr>\n",
       "      <th>2</th>\n",
       "      <td>1.684532</td>\n",
       "      <td>0.508222</td>\n",
       "      <td>-0.522620</td>\n",
       "      <td>-0.209717</td>\n",
       "      <td>-0.441839</td>\n",
       "      <td>-0.370602</td>\n",
       "      <td>-0.311336</td>\n",
       "      <td>-0.093878</td>\n",
       "      <td>-0.078339</td>\n",
       "      <td>-0.306891</td>\n",
       "      <td>...</td>\n",
       "      <td>0.0</td>\n",
       "      <td>0.0</td>\n",
       "      <td>0.0</td>\n",
       "      <td>1.0</td>\n",
       "      <td>0.0</td>\n",
       "      <td>0.0</td>\n",
       "      <td>0.0</td>\n",
       "      <td>0.0</td>\n",
       "      <td>1.0</td>\n",
       "      <td>0.0</td>\n",
       "    </tr>\n",
       "    <tr>\n",
       "      <th>3</th>\n",
       "      <td>-0.494758</td>\n",
       "      <td>-0.563969</td>\n",
       "      <td>-0.121755</td>\n",
       "      <td>1.027481</td>\n",
       "      <td>-0.533235</td>\n",
       "      <td>-0.683654</td>\n",
       "      <td>-0.144566</td>\n",
       "      <td>0.022400</td>\n",
       "      <td>-0.476746</td>\n",
       "      <td>-0.237386</td>\n",
       "      <td>...</td>\n",
       "      <td>0.0</td>\n",
       "      <td>0.0</td>\n",
       "      <td>0.0</td>\n",
       "      <td>0.0</td>\n",
       "      <td>1.0</td>\n",
       "      <td>0.0</td>\n",
       "      <td>0.0</td>\n",
       "      <td>0.0</td>\n",
       "      <td>0.0</td>\n",
       "      <td>1.0</td>\n",
       "    </tr>\n",
       "    <tr>\n",
       "      <th>4</th>\n",
       "      <td>1.841598</td>\n",
       "      <td>-0.147498</td>\n",
       "      <td>0.753870</td>\n",
       "      <td>0.086275</td>\n",
       "      <td>0.501452</td>\n",
       "      <td>0.197645</td>\n",
       "      <td>-0.312165</td>\n",
       "      <td>3.210801</td>\n",
       "      <td>-0.501927</td>\n",
       "      <td>2.893763</td>\n",
       "      <td>...</td>\n",
       "      <td>0.0</td>\n",
       "      <td>0.0</td>\n",
       "      <td>0.0</td>\n",
       "      <td>0.0</td>\n",
       "      <td>1.0</td>\n",
       "      <td>0.0</td>\n",
       "      <td>0.0</td>\n",
       "      <td>0.0</td>\n",
       "      <td>0.0</td>\n",
       "      <td>1.0</td>\n",
       "    </tr>\n",
       "  </tbody>\n",
       "</table>\n",
       "<p>5 rows × 78 columns</p>\n",
       "</div>"
      ],
      "text/plain": [
       "        sgg  bedCount  revenue1  salescost1      sga1   salary1      noi1  \\\n",
       "0 -1.554953  0.109473  0.979538   -0.355140  1.420344  0.723112  0.164010   \n",
       "1  0.192406 -1.051328 -0.602004   -0.355140 -0.636246 -0.643303 -0.314680   \n",
       "2  1.684532  0.508222 -0.522620   -0.209717 -0.441839 -0.370602 -0.311336   \n",
       "3 -0.494758 -0.563969 -0.121755    1.027481 -0.533235 -0.683654 -0.144566   \n",
       "4  1.841598 -0.147498  0.753870    0.086275  0.501452  0.197645 -0.312165   \n",
       "\n",
       "       noe1  interest1     ctax1  ...  ulsan  clinic  dental_clinic  \\\n",
       "0  0.472571   3.688708 -0.306891  ...    0.0     0.0            0.0   \n",
       "1 -0.434397  -0.705915 -0.301640  ...    0.0     0.0            0.0   \n",
       "2 -0.093878  -0.078339 -0.306891  ...    0.0     0.0            0.0   \n",
       "3  0.022400  -0.476746 -0.237386  ...    0.0     0.0            0.0   \n",
       "4  3.210801  -0.501927  2.893763  ...    0.0     0.0            0.0   \n",
       "\n",
       "   general_hospital  hospital  nursing_hospital  traditional_clinic  \\\n",
       "0               1.0       0.0               0.0                 0.0   \n",
       "1               0.0       1.0               0.0                 0.0   \n",
       "2               1.0       0.0               0.0                 0.0   \n",
       "3               0.0       1.0               0.0                 0.0   \n",
       "4               0.0       1.0               0.0                 0.0   \n",
       "\n",
       "   traditional_hospital  change  same  \n",
       "0                   0.0     0.0   1.0  \n",
       "1                   0.0     1.0   0.0  \n",
       "2                   0.0     1.0   0.0  \n",
       "3                   0.0     0.0   1.0  \n",
       "4                   0.0     0.0   1.0  \n",
       "\n",
       "[5 rows x 78 columns]"
      ]
     },
     "execution_count": 47,
     "metadata": {},
     "output_type": "execute_result"
    }
   ],
   "source": [
    "# train 확인\n",
    "x_train.head()"
   ]
  },
  {
   "cell_type": "code",
   "execution_count": 48,
   "metadata": {},
   "outputs": [
    {
     "data": {
      "text/html": [
       "<div>\n",
       "<style scoped>\n",
       "    .dataframe tbody tr th:only-of-type {\n",
       "        vertical-align: middle;\n",
       "    }\n",
       "\n",
       "    .dataframe tbody tr th {\n",
       "        vertical-align: top;\n",
       "    }\n",
       "\n",
       "    .dataframe thead th {\n",
       "        text-align: right;\n",
       "    }\n",
       "</style>\n",
       "<table border=\"1\" class=\"dataframe\">\n",
       "  <thead>\n",
       "    <tr style=\"text-align: right;\">\n",
       "      <th></th>\n",
       "      <th>sgg</th>\n",
       "      <th>bedCount</th>\n",
       "      <th>revenue1</th>\n",
       "      <th>salescost1</th>\n",
       "      <th>sga1</th>\n",
       "      <th>salary1</th>\n",
       "      <th>noi1</th>\n",
       "      <th>noe1</th>\n",
       "      <th>interest1</th>\n",
       "      <th>ctax1</th>\n",
       "      <th>...</th>\n",
       "      <th>ulsan</th>\n",
       "      <th>clinic</th>\n",
       "      <th>dental_clinic</th>\n",
       "      <th>general_hospital</th>\n",
       "      <th>hospital</th>\n",
       "      <th>nursing_hospital</th>\n",
       "      <th>traditional_clinic</th>\n",
       "      <th>traditional_hospital</th>\n",
       "      <th>change</th>\n",
       "      <th>same</th>\n",
       "    </tr>\n",
       "  </thead>\n",
       "  <tbody>\n",
       "    <tr>\n",
       "      <th>0</th>\n",
       "      <td>1.782699</td>\n",
       "      <td>-0.714607</td>\n",
       "      <td>-0.295297</td>\n",
       "      <td>-0.190544</td>\n",
       "      <td>-0.330655</td>\n",
       "      <td>-0.410615</td>\n",
       "      <td>-0.127648</td>\n",
       "      <td>0.358400</td>\n",
       "      <td>0.422845</td>\n",
       "      <td>-0.306891</td>\n",
       "      <td>...</td>\n",
       "      <td>0.0</td>\n",
       "      <td>0.0</td>\n",
       "      <td>0.0</td>\n",
       "      <td>0.0</td>\n",
       "      <td>1.0</td>\n",
       "      <td>0.0</td>\n",
       "      <td>0.0</td>\n",
       "      <td>0.0</td>\n",
       "      <td>1.0</td>\n",
       "      <td>0.0</td>\n",
       "    </tr>\n",
       "    <tr>\n",
       "      <th>1</th>\n",
       "      <td>0.251306</td>\n",
       "      <td>1.801939</td>\n",
       "      <td>2.711138</td>\n",
       "      <td>-0.355140</td>\n",
       "      <td>3.506389</td>\n",
       "      <td>2.812094</td>\n",
       "      <td>2.626251</td>\n",
       "      <td>4.421857</td>\n",
       "      <td>12.191050</td>\n",
       "      <td>0.998868</td>\n",
       "      <td>...</td>\n",
       "      <td>0.0</td>\n",
       "      <td>0.0</td>\n",
       "      <td>0.0</td>\n",
       "      <td>1.0</td>\n",
       "      <td>0.0</td>\n",
       "      <td>0.0</td>\n",
       "      <td>0.0</td>\n",
       "      <td>0.0</td>\n",
       "      <td>1.0</td>\n",
       "      <td>0.0</td>\n",
       "    </tr>\n",
       "    <tr>\n",
       "      <th>2</th>\n",
       "      <td>1.134801</td>\n",
       "      <td>-0.820940</td>\n",
       "      <td>-0.536915</td>\n",
       "      <td>-0.340337</td>\n",
       "      <td>-0.531502</td>\n",
       "      <td>-0.520540</td>\n",
       "      <td>-0.305272</td>\n",
       "      <td>-0.186815</td>\n",
       "      <td>0.044761</td>\n",
       "      <td>-0.306891</td>\n",
       "      <td>...</td>\n",
       "      <td>0.0</td>\n",
       "      <td>0.0</td>\n",
       "      <td>0.0</td>\n",
       "      <td>0.0</td>\n",
       "      <td>1.0</td>\n",
       "      <td>0.0</td>\n",
       "      <td>0.0</td>\n",
       "      <td>0.0</td>\n",
       "      <td>1.0</td>\n",
       "      <td>0.0</td>\n",
       "    </tr>\n",
       "    <tr>\n",
       "      <th>3</th>\n",
       "      <td>0.604704</td>\n",
       "      <td>-0.679163</td>\n",
       "      <td>0.562025</td>\n",
       "      <td>0.806585</td>\n",
       "      <td>0.412096</td>\n",
       "      <td>0.673547</td>\n",
       "      <td>1.397020</td>\n",
       "      <td>1.429363</td>\n",
       "      <td>0.207329</td>\n",
       "      <td>0.065743</td>\n",
       "      <td>...</td>\n",
       "      <td>0.0</td>\n",
       "      <td>0.0</td>\n",
       "      <td>0.0</td>\n",
       "      <td>0.0</td>\n",
       "      <td>1.0</td>\n",
       "      <td>0.0</td>\n",
       "      <td>0.0</td>\n",
       "      <td>0.0</td>\n",
       "      <td>0.0</td>\n",
       "      <td>1.0</td>\n",
       "    </tr>\n",
       "    <tr>\n",
       "      <th>4</th>\n",
       "      <td>-0.416225</td>\n",
       "      <td>-1.263994</td>\n",
       "      <td>-0.447412</td>\n",
       "      <td>-0.316661</td>\n",
       "      <td>-0.442928</td>\n",
       "      <td>-0.416224</td>\n",
       "      <td>-0.314689</td>\n",
       "      <td>-0.454946</td>\n",
       "      <td>-0.808768</td>\n",
       "      <td>-0.306891</td>\n",
       "      <td>...</td>\n",
       "      <td>0.0</td>\n",
       "      <td>0.0</td>\n",
       "      <td>0.0</td>\n",
       "      <td>0.0</td>\n",
       "      <td>0.0</td>\n",
       "      <td>1.0</td>\n",
       "      <td>0.0</td>\n",
       "      <td>0.0</td>\n",
       "      <td>0.0</td>\n",
       "      <td>1.0</td>\n",
       "    </tr>\n",
       "  </tbody>\n",
       "</table>\n",
       "<p>5 rows × 78 columns</p>\n",
       "</div>"
      ],
      "text/plain": [
       "        sgg  bedCount  revenue1  salescost1      sga1   salary1      noi1  \\\n",
       "0  1.782699 -0.714607 -0.295297   -0.190544 -0.330655 -0.410615 -0.127648   \n",
       "1  0.251306  1.801939  2.711138   -0.355140  3.506389  2.812094  2.626251   \n",
       "2  1.134801 -0.820940 -0.536915   -0.340337 -0.531502 -0.520540 -0.305272   \n",
       "3  0.604704 -0.679163  0.562025    0.806585  0.412096  0.673547  1.397020   \n",
       "4 -0.416225 -1.263994 -0.447412   -0.316661 -0.442928 -0.416224 -0.314689   \n",
       "\n",
       "       noe1  interest1     ctax1  ...  ulsan  clinic  dental_clinic  \\\n",
       "0  0.358400   0.422845 -0.306891  ...    0.0     0.0            0.0   \n",
       "1  4.421857  12.191050  0.998868  ...    0.0     0.0            0.0   \n",
       "2 -0.186815   0.044761 -0.306891  ...    0.0     0.0            0.0   \n",
       "3  1.429363   0.207329  0.065743  ...    0.0     0.0            0.0   \n",
       "4 -0.454946  -0.808768 -0.306891  ...    0.0     0.0            0.0   \n",
       "\n",
       "   general_hospital  hospital  nursing_hospital  traditional_clinic  \\\n",
       "0               0.0       1.0               0.0                 0.0   \n",
       "1               1.0       0.0               0.0                 0.0   \n",
       "2               0.0       1.0               0.0                 0.0   \n",
       "3               0.0       1.0               0.0                 0.0   \n",
       "4               0.0       0.0               1.0                 0.0   \n",
       "\n",
       "   traditional_hospital  change  same  \n",
       "0                   0.0     1.0   0.0  \n",
       "1                   0.0     1.0   0.0  \n",
       "2                   0.0     1.0   0.0  \n",
       "3                   0.0     0.0   1.0  \n",
       "4                   0.0     0.0   1.0  \n",
       "\n",
       "[5 rows x 78 columns]"
      ]
     },
     "execution_count": 48,
     "metadata": {},
     "output_type": "execute_result"
    }
   ],
   "source": [
    "# valid 확인\n",
    "x_valid.head()"
   ]
  },
  {
   "cell_type": "code",
   "execution_count": 49,
   "metadata": {},
   "outputs": [
    {
     "data": {
      "text/html": [
       "<div>\n",
       "<style scoped>\n",
       "    .dataframe tbody tr th:only-of-type {\n",
       "        vertical-align: middle;\n",
       "    }\n",
       "\n",
       "    .dataframe tbody tr th {\n",
       "        vertical-align: top;\n",
       "    }\n",
       "\n",
       "    .dataframe thead th {\n",
       "        text-align: right;\n",
       "    }\n",
       "</style>\n",
       "<table border=\"1\" class=\"dataframe\">\n",
       "  <thead>\n",
       "    <tr style=\"text-align: right;\">\n",
       "      <th></th>\n",
       "      <th>sgg</th>\n",
       "      <th>bedCount</th>\n",
       "      <th>revenue1</th>\n",
       "      <th>salescost1</th>\n",
       "      <th>sga1</th>\n",
       "      <th>salary1</th>\n",
       "      <th>noi1</th>\n",
       "      <th>noe1</th>\n",
       "      <th>interest1</th>\n",
       "      <th>ctax1</th>\n",
       "      <th>...</th>\n",
       "      <th>ulsan</th>\n",
       "      <th>clinic</th>\n",
       "      <th>dental_clinic</th>\n",
       "      <th>general_hospital</th>\n",
       "      <th>hospital</th>\n",
       "      <th>nursing_hospital</th>\n",
       "      <th>traditional_clinic</th>\n",
       "      <th>traditional_hospital</th>\n",
       "      <th>change</th>\n",
       "      <th>same</th>\n",
       "    </tr>\n",
       "  </thead>\n",
       "  <tbody>\n",
       "    <tr>\n",
       "      <th>0</th>\n",
       "      <td>1.095535</td>\n",
       "      <td>1.394330</td>\n",
       "      <td>2.698936</td>\n",
       "      <td>-0.355140</td>\n",
       "      <td>3.648980</td>\n",
       "      <td>3.098733</td>\n",
       "      <td>4.580109</td>\n",
       "      <td>4.025146</td>\n",
       "      <td>7.315891</td>\n",
       "      <td>0.002007</td>\n",
       "      <td>...</td>\n",
       "      <td>0.0</td>\n",
       "      <td>0.0</td>\n",
       "      <td>0.0</td>\n",
       "      <td>1.0</td>\n",
       "      <td>0.0</td>\n",
       "      <td>0.0</td>\n",
       "      <td>0.0</td>\n",
       "      <td>0.0</td>\n",
       "      <td>0.0</td>\n",
       "      <td>1.0</td>\n",
       "    </tr>\n",
       "    <tr>\n",
       "      <th>1</th>\n",
       "      <td>1.291867</td>\n",
       "      <td>-0.874107</td>\n",
       "      <td>1.106016</td>\n",
       "      <td>-0.355140</td>\n",
       "      <td>1.467181</td>\n",
       "      <td>1.278416</td>\n",
       "      <td>-0.236730</td>\n",
       "      <td>1.355761</td>\n",
       "      <td>8.050561</td>\n",
       "      <td>-0.306891</td>\n",
       "      <td>...</td>\n",
       "      <td>0.0</td>\n",
       "      <td>0.0</td>\n",
       "      <td>0.0</td>\n",
       "      <td>0.0</td>\n",
       "      <td>1.0</td>\n",
       "      <td>0.0</td>\n",
       "      <td>0.0</td>\n",
       "      <td>0.0</td>\n",
       "      <td>0.0</td>\n",
       "      <td>1.0</td>\n",
       "    </tr>\n",
       "    <tr>\n",
       "      <th>2</th>\n",
       "      <td>0.388738</td>\n",
       "      <td>1.181664</td>\n",
       "      <td>0.521315</td>\n",
       "      <td>0.104279</td>\n",
       "      <td>0.839966</td>\n",
       "      <td>0.687631</td>\n",
       "      <td>1.502886</td>\n",
       "      <td>0.807265</td>\n",
       "      <td>2.897553</td>\n",
       "      <td>-0.306891</td>\n",
       "      <td>...</td>\n",
       "      <td>0.0</td>\n",
       "      <td>0.0</td>\n",
       "      <td>0.0</td>\n",
       "      <td>1.0</td>\n",
       "      <td>0.0</td>\n",
       "      <td>0.0</td>\n",
       "      <td>0.0</td>\n",
       "      <td>0.0</td>\n",
       "      <td>0.0</td>\n",
       "      <td>1.0</td>\n",
       "    </tr>\n",
       "    <tr>\n",
       "      <th>3</th>\n",
       "      <td>-0.239526</td>\n",
       "      <td>1.952578</td>\n",
       "      <td>-0.641375</td>\n",
       "      <td>-0.355140</td>\n",
       "      <td>-0.683493</td>\n",
       "      <td>-0.683654</td>\n",
       "      <td>5.188892</td>\n",
       "      <td>1.428843</td>\n",
       "      <td>-0.808768</td>\n",
       "      <td>-0.306891</td>\n",
       "      <td>...</td>\n",
       "      <td>0.0</td>\n",
       "      <td>0.0</td>\n",
       "      <td>0.0</td>\n",
       "      <td>1.0</td>\n",
       "      <td>0.0</td>\n",
       "      <td>0.0</td>\n",
       "      <td>0.0</td>\n",
       "      <td>0.0</td>\n",
       "      <td>0.0</td>\n",
       "      <td>1.0</td>\n",
       "    </tr>\n",
       "    <tr>\n",
       "      <th>4</th>\n",
       "      <td>-1.123022</td>\n",
       "      <td>0.623416</td>\n",
       "      <td>1.876434</td>\n",
       "      <td>-0.355140</td>\n",
       "      <td>2.520675</td>\n",
       "      <td>2.010667</td>\n",
       "      <td>1.426310</td>\n",
       "      <td>-0.454946</td>\n",
       "      <td>10.966449</td>\n",
       "      <td>-0.306891</td>\n",
       "      <td>...</td>\n",
       "      <td>0.0</td>\n",
       "      <td>0.0</td>\n",
       "      <td>0.0</td>\n",
       "      <td>1.0</td>\n",
       "      <td>0.0</td>\n",
       "      <td>0.0</td>\n",
       "      <td>0.0</td>\n",
       "      <td>0.0</td>\n",
       "      <td>0.0</td>\n",
       "      <td>1.0</td>\n",
       "    </tr>\n",
       "  </tbody>\n",
       "</table>\n",
       "<p>5 rows × 78 columns</p>\n",
       "</div>"
      ],
      "text/plain": [
       "        sgg  bedCount  revenue1  salescost1      sga1   salary1      noi1  \\\n",
       "0  1.095535  1.394330  2.698936   -0.355140  3.648980  3.098733  4.580109   \n",
       "1  1.291867 -0.874107  1.106016   -0.355140  1.467181  1.278416 -0.236730   \n",
       "2  0.388738  1.181664  0.521315    0.104279  0.839966  0.687631  1.502886   \n",
       "3 -0.239526  1.952578 -0.641375   -0.355140 -0.683493 -0.683654  5.188892   \n",
       "4 -1.123022  0.623416  1.876434   -0.355140  2.520675  2.010667  1.426310   \n",
       "\n",
       "       noe1  interest1     ctax1  ...  ulsan  clinic  dental_clinic  \\\n",
       "0  4.025146   7.315891  0.002007  ...    0.0     0.0            0.0   \n",
       "1  1.355761   8.050561 -0.306891  ...    0.0     0.0            0.0   \n",
       "2  0.807265   2.897553 -0.306891  ...    0.0     0.0            0.0   \n",
       "3  1.428843  -0.808768 -0.306891  ...    0.0     0.0            0.0   \n",
       "4 -0.454946  10.966449 -0.306891  ...    0.0     0.0            0.0   \n",
       "\n",
       "   general_hospital  hospital  nursing_hospital  traditional_clinic  \\\n",
       "0               1.0       0.0               0.0                 0.0   \n",
       "1               0.0       1.0               0.0                 0.0   \n",
       "2               1.0       0.0               0.0                 0.0   \n",
       "3               1.0       0.0               0.0                 0.0   \n",
       "4               1.0       0.0               0.0                 0.0   \n",
       "\n",
       "   traditional_hospital  change  same  \n",
       "0                   0.0     0.0   1.0  \n",
       "1                   0.0     0.0   1.0  \n",
       "2                   0.0     0.0   1.0  \n",
       "3                   0.0     0.0   1.0  \n",
       "4                   0.0     0.0   1.0  \n",
       "\n",
       "[5 rows x 78 columns]"
      ]
     },
     "execution_count": 49,
     "metadata": {},
     "output_type": "execute_result"
    }
   ],
   "source": [
    "# test 확인\n",
    "x_test.head()"
   ]
  },
  {
   "cell_type": "markdown",
   "metadata": {},
   "source": [
    "- 라벨 변수 Label Encoding 처리, 라벨 변수 인코딩 처리의 경우 일반 범주형 변수보다는 다른 DataFrame에 데이터가 없는 경우가 적습니다."
   ]
  },
  {
   "cell_type": "code",
   "execution_count": 50,
   "metadata": {},
   "outputs": [],
   "source": [
    "from sklearn.preprocessing import LabelEncoder"
   ]
  },
  {
   "cell_type": "code",
   "execution_count": 51,
   "metadata": {},
   "outputs": [
    {
     "data": {
      "text/plain": [
       "LabelEncoder()"
      ]
     },
     "execution_count": 51,
     "metadata": {},
     "output_type": "execute_result"
    }
   ],
   "source": [
    "le = LabelEncoder()\n",
    "le.fit(y_train)"
   ]
  },
  {
   "cell_type": "code",
   "execution_count": 52,
   "metadata": {},
   "outputs": [],
   "source": [
    "y_train = le.transform(y_train)\n",
    "y_valid = le.transform(y_valid)"
   ]
  },
  {
   "cell_type": "markdown",
   "metadata": {},
   "source": [
    "### 1. Logistic Regression\n",
    "Regression 이라는 말에서 알 수 있듯이, 로지스틱 회귀 모델은 선형 회귀 모델에서 변형된 모델입니다. <br>\n",
    "Odds라는 어떤 일이 발생할 상대적인 비율 개념을 사용해 선형 회귀식을 변형합니다.\n",
    "\n",
    "$$ Odds = {p \\over {1-p}} $$\n",
    "$$ p : 어떤\\ 일이\\ 발생할\\ 확률 $$\n",
    "\n",
    "Odds를 그대로 사용하지말고 log를 취해 사용하면 0을 기준으로 상호 대칭적이며, 계산을 수월하게 할 수 있도록 변경해줍니다.<br>\n",
    "기존의 선형 회귀식에서 y 위치에 log Odds를 적용하면 다음과 같은 식이 됩니다.<br>\n",
    "\n",
    "$$ ln({Y \\over {1-Y}}) = wx + b $$\n",
    "\n",
    "<img src='./img/logodd.png' height=600 width=600/>\n",
    "\n",
    "이를 y에 대해 정리하면 그 유명한 sigmoid 식이 됩니다.\n",
    "\n",
    "$$ y = {1 \\over {1+\\exp^{-(wx + b)}}} $$\n",
    "\n",
    "\n",
    "Logistic Regression은 Maximum Likelihood Estimation(MLE)이라는 과정을 통해 모델을 학습하는데, 자세한 내용은 참조 목록에 있는 페이지를 확인해주시면 감사하겠습니다.<br>\n",
    "\n",
    "### 로지스틱 회귀은 이진 분류 모델로 알고 있는데, 어떻게 여러개의 클래스를 분류할 수 있나요?\n",
    "하나의 수식이 출력하는 결과는 클래스의 확률을 나타내는 것은 맞습니다. 하지만, 멀티 클래스인 경우 내부적으로 클래스 수에 맞게 여러개의 수식을 만들어 각각의 클래스에 속할 확률을 계산한 후 가장 높은 확률은 가진 클래스로 분류합니다. 이를 One-vs-Rest라고 합니다. 자세한 내용은 참조 목록에 있는 페이지를 확인해주시면 감사하겠습니다.\n",
    "\n",
    "Logistic Regression은 Sklearn의 linear_model 패키지에 있습니다."
   ]
  },
  {
   "cell_type": "markdown",
   "metadata": {},
   "source": [
    "- Logistic Regression 대표적 파라미터\n",
    "    - C             (float): 얼마나 모델에 규제를 넣을지 결정하는 값 작아질수록 모델에 규제가 높아짐 (과적합 방지, from SVM) \n",
    "    - fit_intercept (bool) : 회귀 수식에서 y 절편을 포함할지 유무\n",
    "    - random_state  (int)  : 내부적으로 사용되는 난수값\n",
    "    - l1_ratio      (float): L1 규제 항을 얼마나 많이 적용할지 \n",
    "    - class_weight  (dict) : 학습 시 클래스의 비율에 맞춰 손실값에 가중치를 부여"
   ]
  },
  {
   "cell_type": "markdown",
   "metadata": {},
   "source": [
    "#### 1) 모델 불러오기 및 정의하기"
   ]
  },
  {
   "cell_type": "code",
   "execution_count": 53,
   "metadata": {},
   "outputs": [],
   "source": [
    "from sklearn.linear_model import LogisticRegression\n",
    "lr = LogisticRegression()"
   ]
  },
  {
   "cell_type": "markdown",
   "metadata": {},
   "source": [
    "#### 2) 모델 학습하기 (훈련 데이터)"
   ]
  },
  {
   "cell_type": "code",
   "execution_count": 54,
   "metadata": {},
   "outputs": [
    {
     "data": {
      "text/plain": [
       "LogisticRegression()"
      ]
     },
     "execution_count": 54,
     "metadata": {},
     "output_type": "execute_result"
    }
   ],
   "source": [
    "lr.fit(x_train, y_train)"
   ]
  },
  {
   "cell_type": "markdown",
   "metadata": {},
   "source": [
    "#### 3) 결과 예측하기 (검증 데이터)"
   ]
  },
  {
   "cell_type": "code",
   "execution_count": 55,
   "metadata": {},
   "outputs": [],
   "source": [
    "y_pred = lr.predict(x_valid)"
   ]
  },
  {
   "cell_type": "markdown",
   "metadata": {},
   "source": [
    "#### 4) 결과 살펴보기\n",
    "일반적으로 분류에서는 Accuracy, 정확도를 평가 척도로 사용합니다.<br>"
   ]
  },
  {
   "cell_type": "code",
   "execution_count": 56,
   "metadata": {},
   "outputs": [],
   "source": [
    "from sklearn.metrics import accuracy_score"
   ]
  },
  {
   "cell_type": "code",
   "execution_count": 57,
   "metadata": {},
   "outputs": [
    {
     "name": "stdout",
     "output_type": "stream",
     "text": [
      "로지스틱 회귀, 정확도 : 94.51%\n"
     ]
    }
   ],
   "source": [
    "# 매우 클래스 불균형한 상태라 94.51% 이면 모델이 전부 1로 찍었다고 봐도 무방합니다.\n",
    "print('로지스틱 회귀, 정확도 : {:.2f}%'.format(accuracy_score(y_valid, y_pred)*100))"
   ]
  },
  {
   "cell_type": "markdown",
   "metadata": {},
   "source": [
    "#### 로지스틱 회귀 모델의 계수 w, 절편 b 살펴보기\n",
    "어떤 변수에 얼마 만큼의 가중치가 할당되고, 절편 값은 얼마나 할당되는지 살펴볼 수 있습니다.<br>\n",
    "3개의 멀티 클래스 분류는 One-vs-Rest, 3개의 회귀식을 가지고 있습니다."
   ]
  },
  {
   "cell_type": "code",
   "execution_count": null,
   "metadata": {},
   "outputs": [],
   "source": [
    "print('로지스틱 회귀, 계수(w) : {}, 절편(b) : {}'.format(lr.coef_, lr.intercept_))"
   ]
  },
  {
   "cell_type": "markdown",
   "metadata": {},
   "source": [
    "### 2. Support Vector Machine\n",
    "Support Vector Machine(SVM, 서포트 벡터 머신)는 주어진 데이터를 바탕으로하여 두 카테고리(이진 분류의 경우) 사이의 간격(Margin, 마진)을 최대화하는 데이터 포인트(Support Vector, 서포트 벡터)를 찾아내고, <br>\n",
    "그 서포트 벡터에 수직인 경계를 통해 데이터를 분류하는 알고리즘입니다.<br><br>\n",
    "<img src=\"./img/SVM.png\" alt=\"Support Vector machine\" style=\"height: 400px\" align='center'/>\n",
    "\n",
    "### 왜 마진을 최대화 할까요?\n",
    "서포트 벡터 머신에서 나오는 마진은 물건을 판매할때 마진이 20%다 라고 말하는 그 마진이 맞습니다. <br>\n",
    "그렇다면 경계면과의 마진을 최대화 하는 것이 왜 분류를 잘하게 할까요? \n",
    "\n",
    "#### 경험적 위험 최소화(Empirical Risk Minimization, ERM) vs 구조적 위험 최소화(Structural Risk Minimization,SRM)\n",
    "* 경험적 위험 최소화 \n",
    "    * 훈련 데이터에 대해 위험을 최소화\n",
    "    * 학습 알고리즘의 목표\n",
    "    * 뉴럴 네트워크, 결정 트리, 선형 회귀, 로지스틱 회귀 등.\n",
    "* 구조적 위험 최소화\n",
    "    * 관찰하지 않은(Unseen) 데이터에 대해서도 위험을 최소화\n",
    "    * 오차 최소화를 일반화 시키는 것\n",
    "    \n",
    "<div align='center'> \n",
    "    <font size=\"6\">어떤 모델이 더 좋을까요?</font> \n",
    "</div>\n",
    "\n",
    "\n",
    "<img src=\"./img/ERM_SRM.png\" alt=\"ERM_SRM\" style=\"height: 300px\" align='center'/>\n"
   ]
  },
  {
   "cell_type": "markdown",
   "metadata": {},
   "source": [
    "### Cost : Soft or Hard\n",
    "SVM에는 Soft Margin, Hard Margin 이라는 말이 있습니다. 단어 자체에서도 유추할 수 있으시겠지만, Soft Margin은 유연한 경계면을 만들어내고 Hard Margin은 분명하게 나누는 경계면을 만들어냅니다. 그렇다면 왜 Soft Margin이 필요한걸까요?\n",
    "\n",
    "<img src = \"./img/Softmargin.png\" alt=\"Softmargin\" style=\"height: 400px\" />\n",
    "\n",
    "다음과 같은 데이터 분포는 직선으로 두개의 데이터를 나누는 경계면을 만들기 어렵습니다. 현실에서도 우리가 최적의 답을 찾지 못할때 어느정도 비용(Cost, C)을 감수하면서 적절한 답을 찾는 것을 떠올려보세요.<br>\n",
    "Soft Margin은 그런 원리입니다. 경계면을 조금씩 넘어가는 데이터들(비용, Cost)을 감수하면서 가장 차선의 경계면을 찾습니다.<br>\n",
    "실제 알고리즘에서도 C(Cost)값을 통해 얼마나 비용을 감수할 것인지를 결정할 수 있습니다. 크면 클수록 Hard Margin을, 작으면 작을수록 Soft Margin을 만들어냅니다. <br>\n",
    "\n",
    "\n",
    "### 저차원을 고차원으로 Kernel Trick\n",
    "SVM은 기본적으로 선형 분류를 위한 경계면을 만들어냅니다. 그렇다면 어떻게 비선형 분류를 할 수 있을까요?<br>\n",
    "\n",
    "<img src = \"./img/Hyperplane.png\" alt=\"hyper\" style=\"height: 300px\" />\n",
    "\n",
    "저차원(2차원)에서는 선형 분리가 되지 않을 수 있지만, 고차원(3차원)에서는 선형 분리가 가능할 수 있습니다.<br>\n",
    "이러한 원리를 바탕으로 선형 분리가 불가능한 저차원 데이터를 선형 분리가 가능한 어떤 고차원으로 보내 선형 분리를 할 수 있습니다.<br>\n",
    "하지만, 저차원 데이터를 고차원으로 보내서 서포트 벡터를 구하고 저차원으로 내리는 과정에서 더 복잡해지고 연산량도 많아질것이 분명합니다. <br>\n",
    "그래서 여기에서 Kernel Trick이라는 Mapping 함수를 사용합니다. Kernel Trick은 고차원 Mapping과 고차원에서의 내적 연산을 한번에 할 수 있는 방법입니다. <br>\n",
    "이를 통해 여러가지 Kernel 함수를 통해 저차원에서 해결하지 못한 선형 분리를 고차원에서 해결할 수 있습니다.<br>\n",
    "\n",
    "대표적인 Kernel 함수\n",
    "- Linear (선형 함수)\n",
    "- Poly   (다항식 함수)\n",
    "- RBF    (방사기저 함수)\n",
    "- Hyper-Tangent (쌍곡선 탄젠트 함수)\n",
    "\n",
    "서포트 벡터 머신 분류기는 Sklearn의 svm 패키지에 있습니다."
   ]
  },
  {
   "cell_type": "markdown",
   "metadata": {},
   "source": [
    "- SVM 대표적 파라미터\n",
    "    - C             (float): 얼마나 모델에 규제를 넣을지 결정하는 값 작아질수록 모델에 규제가 높아짐 (과적합 방지, from SVM) \n",
    "    - degree        (int)  : Poly Kernel 사용 시, 차수를 결정하는 값\n",
    "    - kernel        (str)  : Kernel trick에 사용할 커널 종류\n",
    "    - random_state  (int)  : 내부적으로 사용되는 난수값\n",
    "    - class_weight  (dict) : 학습 시 클래스의 비율에 맞춰 손실값에 가중치를 부여\n",
    "    - gamma         (float): 모델이 생성하는 경계가 복잡해지는 정도 (값이 커질수록 데이터 포인터가 영향력을 행사하는 거리가 짧아져 경계가 복잡해진다.)"
   ]
  },
  {
   "cell_type": "markdown",
   "metadata": {},
   "source": [
    "#### 1) 모델 불러오기 및 정의하기"
   ]
  },
  {
   "cell_type": "code",
   "execution_count": 58,
   "metadata": {},
   "outputs": [],
   "source": [
    "from sklearn.svm import SVC\n",
    "svc = SVC()"
   ]
  },
  {
   "cell_type": "markdown",
   "metadata": {},
   "source": [
    "#### 2) 모델 학습하기 (훈련 데이터)"
   ]
  },
  {
   "cell_type": "code",
   "execution_count": 59,
   "metadata": {},
   "outputs": [
    {
     "data": {
      "text/plain": [
       "SVC()"
      ]
     },
     "execution_count": 59,
     "metadata": {},
     "output_type": "execute_result"
    }
   ],
   "source": [
    "svc.fit(x_train, y_train)"
   ]
  },
  {
   "cell_type": "markdown",
   "metadata": {},
   "source": [
    "#### 3) 결과 예측하기 (검증 데이터)"
   ]
  },
  {
   "cell_type": "code",
   "execution_count": 60,
   "metadata": {},
   "outputs": [],
   "source": [
    "y_pred = svc.predict(x_valid)"
   ]
  },
  {
   "cell_type": "markdown",
   "metadata": {},
   "source": [
    "#### 4) 결과 살펴보기\n",
    "일반적으로 분류에서는 Accuracy, 정확도를 평가 척도로 사용합니다.<br>"
   ]
  },
  {
   "cell_type": "code",
   "execution_count": 61,
   "metadata": {},
   "outputs": [
    {
     "name": "stdout",
     "output_type": "stream",
     "text": [
      "서포트 벡터 머신, 정확도 : 94.51%\n"
     ]
    }
   ],
   "source": [
    "print('서포트 벡터 머신, 정확도 : {:.2f}%'.format(accuracy_score(y_valid, y_pred)*100))"
   ]
  },
  {
   "cell_type": "markdown",
   "metadata": {},
   "source": [
    "### Decision Tree\n",
    "이전의 회귀 수업에서 결정 트리에 대해 간단하게 살펴보았었습니다.<br>\n",
    "결정 트리는 입력 변수를 특정한 기준으로 잘라(분기) 트리 형태의 구조로 분류를 하는 모델입니다.<br>\n",
    "\n",
    "<img src='./img/DTDesc.png' style=\"height: 400px\"  />\n",
    "<br>\n",
    "\n",
    "* 사람의 논리적 사고 방식을 모사하는 분류 방법론\n",
    "* IF-THEN rule의 조합으로 class 분류\n",
    "* 결과를 나무 모양으로 그릴 수 있음\n",
    "* Greedy 한 알고리즘 (한번 분기하면 이후에 최적의 트리 형태가 발견되더라도 되돌리지 않음, 최적의 트리 생성을 보장하지 않음)\n",
    "* 축에 직교하는 분기점\n",
    "* 데이터 전처리가 필요 없음\n",
    "\n",
    "<img src='./img/DT_G.png' style=\"height: 400px\"  />\n",
    "\n",
    "#### 불순도(Impurity, Entropy)\n",
    "결정 트리는 데이터의 불순도를 최소화 할 수 있는 방향으로 트리를 분기합니다. <br>\n",
    "불순도란 정보 이론(Information Theory)에서 말하는 얻을 수 있는 정보량이 많은 정도를 뜻합니다. <br>\n",
    "ex) 오늘 해가 동쪽에서 뜰꺼야 -> 낮은 정보량, 오늘 일식이 일어날꺼야 -> 높은 정보량 <br>\n",
    "정보 이론의 정보량의 자세한 내용은 참조 목록에 링크로 남겨두겠습니다. 확인해보시면 좋겠습니다.\n",
    "\n",
    "결정 트리 모델은 Sklearn의 tree 패키지에 있습니다."
   ]
  },
  {
   "cell_type": "markdown",
   "metadata": {},
   "source": [
    "- Decision Tree 대표적 파라미터\n",
    "    - crierion          (str): 정보량 계산 시 사용할 수식 (gini, entropy)\n",
    "    - max_depth         (int): 생성할 결정 트리의 높이\n",
    "    - min_samples_split (int): 분기를 수행하는 최소한의 데이터 수\n",
    "    - max_leaf_nodes    (int): 리프 노드에서 가지고 있을 수 있는 최대 데이터 수\n",
    "    - random_state      (int): 내부적으로 사용되는 난수값"
   ]
  },
  {
   "cell_type": "markdown",
   "metadata": {},
   "source": [
    "#### 1) 모델 불러오기 및 정의하기"
   ]
  },
  {
   "cell_type": "code",
   "execution_count": 62,
   "metadata": {},
   "outputs": [],
   "source": [
    "from sklearn.tree import DecisionTreeClassifier\n",
    "dt = DecisionTreeClassifier()"
   ]
  },
  {
   "cell_type": "markdown",
   "metadata": {},
   "source": [
    "#### 2) 모델 학습하기 (훈련 데이터)"
   ]
  },
  {
   "cell_type": "code",
   "execution_count": 63,
   "metadata": {},
   "outputs": [
    {
     "data": {
      "text/plain": [
       "DecisionTreeClassifier()"
      ]
     },
     "execution_count": 63,
     "metadata": {},
     "output_type": "execute_result"
    }
   ],
   "source": [
    "dt.fit(x_train, y_train)"
   ]
  },
  {
   "cell_type": "markdown",
   "metadata": {},
   "source": [
    "#### 3) 결과 예측하기 (검증 데이터)"
   ]
  },
  {
   "cell_type": "code",
   "execution_count": 64,
   "metadata": {},
   "outputs": [],
   "source": [
    "y_pred = dt.predict(x_valid)"
   ]
  },
  {
   "cell_type": "markdown",
   "metadata": {},
   "source": [
    "#### 4) 결과 살펴보기\n",
    "일반적으로 분류에서는 Accuracy, 정확도를 평가 척도로 사용합니다.<br>"
   ]
  },
  {
   "cell_type": "code",
   "execution_count": 65,
   "metadata": {},
   "outputs": [
    {
     "name": "stdout",
     "output_type": "stream",
     "text": [
      "결정 트리, 정확도 : 85.71%\n"
     ]
    }
   ],
   "source": [
    "print('결정 트리, 정확도 : {:.2f}%'.format(accuracy_score(y_valid, y_pred)*100))"
   ]
  },
  {
   "cell_type": "markdown",
   "metadata": {},
   "source": [
    "#### Feature Importance\n",
    "트리 기반 모델은 트리를 분기하는 과정에서 어떤 변수가 모델을 생성하는데 중요한지에 대한 변수 중요도를 살펴볼 수 있습니다."
   ]
  },
  {
   "cell_type": "code",
   "execution_count": 66,
   "metadata": {},
   "outputs": [
    {
     "data": {
      "text/html": [
       "<div>\n",
       "<style scoped>\n",
       "    .dataframe tbody tr th:only-of-type {\n",
       "        vertical-align: middle;\n",
       "    }\n",
       "\n",
       "    .dataframe tbody tr th {\n",
       "        vertical-align: top;\n",
       "    }\n",
       "\n",
       "    .dataframe thead th {\n",
       "        text-align: right;\n",
       "    }\n",
       "</style>\n",
       "<table border=\"1\" class=\"dataframe\">\n",
       "  <thead>\n",
       "    <tr style=\"text-align: right;\">\n",
       "      <th></th>\n",
       "      <th>sgg</th>\n",
       "      <th>bedCount</th>\n",
       "      <th>revenue1</th>\n",
       "      <th>salescost1</th>\n",
       "      <th>sga1</th>\n",
       "      <th>salary1</th>\n",
       "      <th>noi1</th>\n",
       "      <th>noe1</th>\n",
       "      <th>interest1</th>\n",
       "      <th>ctax1</th>\n",
       "      <th>...</th>\n",
       "      <th>ulsan</th>\n",
       "      <th>clinic</th>\n",
       "      <th>dental_clinic</th>\n",
       "      <th>general_hospital</th>\n",
       "      <th>hospital</th>\n",
       "      <th>nursing_hospital</th>\n",
       "      <th>traditional_clinic</th>\n",
       "      <th>traditional_hospital</th>\n",
       "      <th>change</th>\n",
       "      <th>same</th>\n",
       "    </tr>\n",
       "  </thead>\n",
       "  <tbody>\n",
       "    <tr>\n",
       "      <th>feature_importance</th>\n",
       "      <td>0.0</td>\n",
       "      <td>0.0</td>\n",
       "      <td>0.065893</td>\n",
       "      <td>0.0</td>\n",
       "      <td>0.0</td>\n",
       "      <td>0.0</td>\n",
       "      <td>0.0</td>\n",
       "      <td>0.092348</td>\n",
       "      <td>0.0</td>\n",
       "      <td>0.0</td>\n",
       "      <td>...</td>\n",
       "      <td>0.0</td>\n",
       "      <td>0.0</td>\n",
       "      <td>0.0</td>\n",
       "      <td>0.0</td>\n",
       "      <td>0.0</td>\n",
       "      <td>0.0</td>\n",
       "      <td>0.102915</td>\n",
       "      <td>0.015658</td>\n",
       "      <td>0.0</td>\n",
       "      <td>0.0</td>\n",
       "    </tr>\n",
       "  </tbody>\n",
       "</table>\n",
       "<p>1 rows × 78 columns</p>\n",
       "</div>"
      ],
      "text/plain": [
       "                    sgg  bedCount  revenue1  salescost1  sga1  salary1  noi1  \\\n",
       "feature_importance  0.0       0.0  0.065893         0.0   0.0      0.0   0.0   \n",
       "\n",
       "                        noe1  interest1  ctax1  ...  ulsan  clinic  \\\n",
       "feature_importance  0.092348        0.0    0.0  ...    0.0     0.0   \n",
       "\n",
       "                    dental_clinic  general_hospital  hospital  \\\n",
       "feature_importance            0.0               0.0       0.0   \n",
       "\n",
       "                    nursing_hospital  traditional_clinic  \\\n",
       "feature_importance               0.0            0.102915   \n",
       "\n",
       "                    traditional_hospital  change  same  \n",
       "feature_importance              0.015658     0.0   0.0  \n",
       "\n",
       "[1 rows x 78 columns]"
      ]
     },
     "execution_count": 66,
     "metadata": {},
     "output_type": "execute_result"
    }
   ],
   "source": [
    "feature_importance = pd.DataFrame(dt.feature_importances_.reshape((1, -1)), columns=x_train.columns, index=['feature_importance'])\n",
    "feature_importance"
   ]
  },
  {
   "cell_type": "markdown",
   "metadata": {},
   "source": [
    "### Random Forest\n",
    "결정 트리가 나무였다면, 랜덤 포레스트는 숲 입니다. 랜덤 포레스트의 특징은 작은 트리들을 여러개 만들어 합치는 모델입니다.<br>\n",
    "서로 다른 변수 셋으로 여러 트리를 생성합니다. 여러개의 모델을 합치는 앙상블 기법 중 대표적인 예시입니다.<br>\n",
    "랜덤 포레스트 모델은 Sklearn의 ensemble 패키지에 있습니다."
   ]
  },
  {
   "cell_type": "markdown",
   "metadata": {},
   "source": [
    "- RandomForest 대표적 파라미터\n",
    "    - n_estimators      (int)  : 내부에서 생성할 결정 트리의 개수 \n",
    "    - crierion          (str)  : 정보량 계산 시 사용할 수식 (gini, entropy)\n",
    "    - max_depth         (int)  : 생성할 트리의 높이\n",
    "    - min_samples_split (int)  : 분기를 수행하는 최소한의 데이터 수\n",
    "    - max_leaf_nodes    (int)  : 리프 노드에서 가지고 있을 수 있는 최대 데이터 수\n",
    "    - random_state      (int)  : 내부적으로 사용되는 난수값\n",
    "    - n_jobs            (int)  : 병렬처리에 사용할 CPU 수\n",
    "    - class_weight      (dict) : 학습 시 클래스의 비율에 맞춰 손실값에 가중치를 부여"
   ]
  },
  {
   "cell_type": "markdown",
   "metadata": {},
   "source": [
    "#### 1) 모델 불러오기 및 정의하기"
   ]
  },
  {
   "cell_type": "code",
   "execution_count": 67,
   "metadata": {},
   "outputs": [],
   "source": [
    "from sklearn.ensemble import RandomForestClassifier\n",
    "rf = RandomForestClassifier()"
   ]
  },
  {
   "cell_type": "markdown",
   "metadata": {},
   "source": [
    "#### 2) 모델 학습하기 (훈련 데이터)"
   ]
  },
  {
   "cell_type": "code",
   "execution_count": 68,
   "metadata": {},
   "outputs": [
    {
     "data": {
      "text/plain": [
       "RandomForestClassifier()"
      ]
     },
     "execution_count": 68,
     "metadata": {},
     "output_type": "execute_result"
    }
   ],
   "source": [
    "rf.fit(x_train, y_train)"
   ]
  },
  {
   "cell_type": "markdown",
   "metadata": {},
   "source": [
    "#### 3) 결과 예측하기 (검증 데이터)"
   ]
  },
  {
   "cell_type": "code",
   "execution_count": 69,
   "metadata": {},
   "outputs": [],
   "source": [
    "y_pred = rf.predict(x_valid)"
   ]
  },
  {
   "cell_type": "markdown",
   "metadata": {},
   "source": [
    "#### 4) 결과 살펴보기\n",
    "일반적으로 분류에서는 Accuracy, 정확도를 평가 척도로 사용합니다.<br>"
   ]
  },
  {
   "cell_type": "code",
   "execution_count": 70,
   "metadata": {},
   "outputs": [
    {
     "name": "stdout",
     "output_type": "stream",
     "text": [
      "랜덤 포레스트, 정확도 : 92.31%\n"
     ]
    }
   ],
   "source": [
    "print('랜덤 포레스트, 정확도 : {:.2f}%'.format(accuracy_score(y_valid, y_pred)*100))"
   ]
  },
  {
   "cell_type": "markdown",
   "metadata": {},
   "source": [
    "#### Feature Importance\n",
    "트리 기반 모델은 트리를 분기하는 과정에서 어떤 변수가 모델을 생성하는데 중요한지에 대한 변수 중요도를 살펴볼 수 있습니다."
   ]
  },
  {
   "cell_type": "code",
   "execution_count": 71,
   "metadata": {},
   "outputs": [
    {
     "data": {
      "text/html": [
       "<div>\n",
       "<style scoped>\n",
       "    .dataframe tbody tr th:only-of-type {\n",
       "        vertical-align: middle;\n",
       "    }\n",
       "\n",
       "    .dataframe tbody tr th {\n",
       "        vertical-align: top;\n",
       "    }\n",
       "\n",
       "    .dataframe thead th {\n",
       "        text-align: right;\n",
       "    }\n",
       "</style>\n",
       "<table border=\"1\" class=\"dataframe\">\n",
       "  <thead>\n",
       "    <tr style=\"text-align: right;\">\n",
       "      <th></th>\n",
       "      <th>sgg</th>\n",
       "      <th>bedCount</th>\n",
       "      <th>revenue1</th>\n",
       "      <th>salescost1</th>\n",
       "      <th>sga1</th>\n",
       "      <th>salary1</th>\n",
       "      <th>noi1</th>\n",
       "      <th>noe1</th>\n",
       "      <th>interest1</th>\n",
       "      <th>ctax1</th>\n",
       "      <th>...</th>\n",
       "      <th>ulsan</th>\n",
       "      <th>clinic</th>\n",
       "      <th>dental_clinic</th>\n",
       "      <th>general_hospital</th>\n",
       "      <th>hospital</th>\n",
       "      <th>nursing_hospital</th>\n",
       "      <th>traditional_clinic</th>\n",
       "      <th>traditional_hospital</th>\n",
       "      <th>change</th>\n",
       "      <th>same</th>\n",
       "    </tr>\n",
       "  </thead>\n",
       "  <tbody>\n",
       "    <tr>\n",
       "      <th>feature_importance</th>\n",
       "      <td>0.024187</td>\n",
       "      <td>0.025718</td>\n",
       "      <td>0.032281</td>\n",
       "      <td>0.008801</td>\n",
       "      <td>0.029734</td>\n",
       "      <td>0.032912</td>\n",
       "      <td>0.013164</td>\n",
       "      <td>0.023424</td>\n",
       "      <td>0.019506</td>\n",
       "      <td>0.007861</td>\n",
       "      <td>...</td>\n",
       "      <td>0.0</td>\n",
       "      <td>0.001255</td>\n",
       "      <td>0.0</td>\n",
       "      <td>0.003106</td>\n",
       "      <td>0.009729</td>\n",
       "      <td>0.004238</td>\n",
       "      <td>0.0254</td>\n",
       "      <td>0.010669</td>\n",
       "      <td>0.010945</td>\n",
       "      <td>0.012549</td>\n",
       "    </tr>\n",
       "  </tbody>\n",
       "</table>\n",
       "<p>1 rows × 78 columns</p>\n",
       "</div>"
      ],
      "text/plain": [
       "                         sgg  bedCount  revenue1  salescost1      sga1  \\\n",
       "feature_importance  0.024187  0.025718  0.032281    0.008801  0.029734   \n",
       "\n",
       "                     salary1      noi1      noe1  interest1     ctax1  ...  \\\n",
       "feature_importance  0.032912  0.013164  0.023424   0.019506  0.007861  ...   \n",
       "\n",
       "                    ulsan    clinic  dental_clinic  general_hospital  \\\n",
       "feature_importance    0.0  0.001255            0.0          0.003106   \n",
       "\n",
       "                    hospital  nursing_hospital  traditional_clinic  \\\n",
       "feature_importance  0.009729          0.004238              0.0254   \n",
       "\n",
       "                    traditional_hospital    change      same  \n",
       "feature_importance              0.010669  0.010945  0.012549  \n",
       "\n",
       "[1 rows x 78 columns]"
      ]
     },
     "execution_count": 71,
     "metadata": {},
     "output_type": "execute_result"
    }
   ],
   "source": [
    "feature_importance = pd.DataFrame(rf.feature_importances_.reshape((1, -1)), columns=x_train.columns, index=['feature_importance'])\n",
    "feature_importance"
   ]
  },
  {
   "cell_type": "markdown",
   "metadata": {},
   "source": [
    "### 실습 (10분)\n",
    "#### 위에서 사용한 것과 같이 XGBoost, LightGBM 모델을 사용해보세요."
   ]
  },
  {
   "cell_type": "markdown",
   "metadata": {},
   "source": [
    "### XGBoost\n",
    "Random Forest는 전체 데이터 샘플과 변수를 사용하는 것이 아닌, 임의로 데이터 샘플 및 변수를 선택하여 학습하는 부트스트래핑(Bootstrapping) 방식의 앙상블 알고리즘 입니다.<br>\n",
    "XGBoost는 이름에서도 알 수 있듯 각 이터레이션에서 맞추지 못한 샘플에 대해 가중치를 부여하여 모델을 학습시키는 부스팅(Boosting) 계열의 트리 모델입니다.<br>\n",
    "부스팅 알고리즘 자체도 강력하지만, XGBoost는 강력한 병렬 처리 성능과 자동 가지치기(Pruning) 알고리즘이 적용되어 기존 부스팅 알고리즘보다 과적합 방지에 이점이 있습니다.<br>\n",
    "또한 자체 교차검증 알고리즘과 결측치 자체처리 기능을 가지고 있습니다. \n",
    "다른 부스팅 알고리즘과 동일하게 `균형 트리 분할 방식`으로 모델을 학습하여 대칭적인 트리를 형성하게됩니다.\n",
    "\n",
    "1. Gradient Boosting Model 대비 빠른 수행시간\n",
    "2. 과적합 규제 기능(Regularization)\n",
    "3. 가지치기 기능(Tree pruning)\n",
    "4. 자체 내장 교차 검증 기능\n",
    "5. 결측치 자체 처리(결측치 처리를 하지 않아도 모델 사용 가능)\n",
    "6. Early Stopping 기능"
   ]
  },
  {
   "cell_type": "markdown",
   "metadata": {},
   "source": [
    "- XGBoost 대표적 파라미터\n",
    "    - n_estimators      (int)  : 내부에서 생성할 결정 트리의 개수 \n",
    "    - max_depth         (int)  : 생성할 결정 트리의 높이\n",
    "    - learning_rate     (float): 훈련량, 학습 시 모델을 얼마나 업데이트할지 결정하는 값\n",
    "    - colsample_bytree  (float): 열 샘플링에 사용하는 비율\n",
    "    - subsample         (float): 행 샘플링에 사용하는 비율\n",
    "    - reg_alpha         (float): L1 정규화 계수\n",
    "    - reg_lambda        (float): L2 정규화 계수\n",
    "    - booster           (str)  : 부스팅 방법 (gblinear / gbtree / dart)\n",
    "    - random_state      (int)  : 내부적으로 사용되는 난수값\n",
    "    - n_jobs            (int)  : 병렬처리에 사용할 CPU 수"
   ]
  },
  {
   "cell_type": "markdown",
   "metadata": {},
   "source": [
    "#### 1) 모델 불러오기 및 정의하기"
   ]
  },
  {
   "cell_type": "code",
   "execution_count": 73,
   "metadata": {},
   "outputs": [
    {
     "name": "stdout",
     "output_type": "stream",
     "text": [
      "Collecting xgboost\n",
      "  Downloading xgboost-1.2.0-py3-none-win_amd64.whl (86.5 MB)\n",
      "Requirement already satisfied: scipy in c:\\users\\htaur\\anaconda3\\envs\\py37\\lib\\site-packages (from xgboost) (1.4.1)\n",
      "Requirement already satisfied: numpy in c:\\users\\htaur\\anaconda3\\envs\\py37\\lib\\site-packages (from xgboost) (1.18.5)\n",
      "Installing collected packages: xgboost\n",
      "Successfully installed xgboost-1.2.0\n"
     ]
    },
    {
     "name": "stderr",
     "output_type": "stream",
     "text": [
      "WARNING: You are using pip version 20.2.1; however, version 20.2.2 is available.\n",
      "You should consider upgrading via the 'c:\\users\\htaur\\anaconda3\\envs\\py37\\python.exe -m pip install --upgrade pip' command.\n"
     ]
    }
   ],
   "source": [
    "!pip install xgboost"
   ]
  },
  {
   "cell_type": "code",
   "execution_count": 74,
   "metadata": {},
   "outputs": [],
   "source": [
    "from xgboost import XGBClassifier\n",
    "\n",
    "xgb = XGBClassifier()"
   ]
  },
  {
   "cell_type": "markdown",
   "metadata": {},
   "source": [
    "#### 2) 모델 학습하기 (훈련 데이터)"
   ]
  },
  {
   "cell_type": "code",
   "execution_count": 75,
   "metadata": {},
   "outputs": [
    {
     "data": {
      "text/plain": [
       "XGBClassifier(base_score=0.5, booster='gbtree', colsample_bylevel=1,\n",
       "              colsample_bynode=1, colsample_bytree=1, gamma=0, gpu_id=-1,\n",
       "              importance_type='gain', interaction_constraints='',\n",
       "              learning_rate=0.300000012, max_delta_step=0, max_depth=6,\n",
       "              min_child_weight=1, missing=nan, monotone_constraints='()',\n",
       "              n_estimators=100, n_jobs=0, num_parallel_tree=1, random_state=0,\n",
       "              reg_alpha=0, reg_lambda=1, scale_pos_weight=1, subsample=1,\n",
       "              tree_method='exact', validate_parameters=1, verbosity=None)"
      ]
     },
     "execution_count": 75,
     "metadata": {},
     "output_type": "execute_result"
    }
   ],
   "source": [
    "xgb.fit(x_train, y_train)"
   ]
  },
  {
   "cell_type": "markdown",
   "metadata": {},
   "source": [
    "#### 3) 결과 예측하기 (검증 데이터)"
   ]
  },
  {
   "cell_type": "code",
   "execution_count": 76,
   "metadata": {},
   "outputs": [],
   "source": [
    "y_pred = xgb.predict(x_valid)"
   ]
  },
  {
   "cell_type": "markdown",
   "metadata": {},
   "source": [
    "#### 4) 결과 살펴보기\n",
    "일반적으로 분류에서는 Accuracy, 정확도를 평가 척도로 사용합니다.<br>"
   ]
  },
  {
   "cell_type": "code",
   "execution_count": 77,
   "metadata": {},
   "outputs": [
    {
     "name": "stdout",
     "output_type": "stream",
     "text": [
      "XGBoost, 정확도 : 92.31%\n"
     ]
    }
   ],
   "source": [
    "print('XGBoost, 정확도 : {:.2f}%'.format(accuracy_score(y_valid, y_pred)*100))"
   ]
  },
  {
   "cell_type": "markdown",
   "metadata": {},
   "source": [
    "#### Feature Importance\n",
    "트리 기반 모델은 트리를 분기하는 과정에서 어떤 변수가 모델을 생성하는데 중요한지에 대한 변수 중요도를 살펴볼 수 있습니다."
   ]
  },
  {
   "cell_type": "code",
   "execution_count": 78,
   "metadata": {},
   "outputs": [
    {
     "data": {
      "text/html": [
       "<div>\n",
       "<style scoped>\n",
       "    .dataframe tbody tr th:only-of-type {\n",
       "        vertical-align: middle;\n",
       "    }\n",
       "\n",
       "    .dataframe tbody tr th {\n",
       "        vertical-align: top;\n",
       "    }\n",
       "\n",
       "    .dataframe thead th {\n",
       "        text-align: right;\n",
       "    }\n",
       "</style>\n",
       "<table border=\"1\" class=\"dataframe\">\n",
       "  <thead>\n",
       "    <tr style=\"text-align: right;\">\n",
       "      <th></th>\n",
       "      <th>sgg</th>\n",
       "      <th>bedCount</th>\n",
       "      <th>revenue1</th>\n",
       "      <th>salescost1</th>\n",
       "      <th>sga1</th>\n",
       "      <th>salary1</th>\n",
       "      <th>noi1</th>\n",
       "      <th>noe1</th>\n",
       "      <th>interest1</th>\n",
       "      <th>ctax1</th>\n",
       "      <th>...</th>\n",
       "      <th>ulsan</th>\n",
       "      <th>clinic</th>\n",
       "      <th>dental_clinic</th>\n",
       "      <th>general_hospital</th>\n",
       "      <th>hospital</th>\n",
       "      <th>nursing_hospital</th>\n",
       "      <th>traditional_clinic</th>\n",
       "      <th>traditional_hospital</th>\n",
       "      <th>change</th>\n",
       "      <th>same</th>\n",
       "    </tr>\n",
       "  </thead>\n",
       "  <tbody>\n",
       "    <tr>\n",
       "      <th>feature_importance</th>\n",
       "      <td>0.020408</td>\n",
       "      <td>0.016014</td>\n",
       "      <td>0.031247</td>\n",
       "      <td>0.001564</td>\n",
       "      <td>0.007256</td>\n",
       "      <td>0.02025</td>\n",
       "      <td>0.00287</td>\n",
       "      <td>0.01647</td>\n",
       "      <td>0.013116</td>\n",
       "      <td>0.061062</td>\n",
       "      <td>...</td>\n",
       "      <td>0.0</td>\n",
       "      <td>0.0</td>\n",
       "      <td>0.0</td>\n",
       "      <td>0.0</td>\n",
       "      <td>0.0</td>\n",
       "      <td>0.022733</td>\n",
       "      <td>0.0</td>\n",
       "      <td>0.002955</td>\n",
       "      <td>0.021422</td>\n",
       "      <td>0.0</td>\n",
       "    </tr>\n",
       "  </tbody>\n",
       "</table>\n",
       "<p>1 rows × 78 columns</p>\n",
       "</div>"
      ],
      "text/plain": [
       "                         sgg  bedCount  revenue1  salescost1      sga1  \\\n",
       "feature_importance  0.020408  0.016014  0.031247    0.001564  0.007256   \n",
       "\n",
       "                    salary1     noi1     noe1  interest1     ctax1  ...  \\\n",
       "feature_importance  0.02025  0.00287  0.01647   0.013116  0.061062  ...   \n",
       "\n",
       "                    ulsan  clinic  dental_clinic  general_hospital  hospital  \\\n",
       "feature_importance    0.0     0.0            0.0               0.0       0.0   \n",
       "\n",
       "                    nursing_hospital  traditional_clinic  \\\n",
       "feature_importance          0.022733                 0.0   \n",
       "\n",
       "                    traditional_hospital    change  same  \n",
       "feature_importance              0.002955  0.021422   0.0  \n",
       "\n",
       "[1 rows x 78 columns]"
      ]
     },
     "execution_count": 78,
     "metadata": {},
     "output_type": "execute_result"
    }
   ],
   "source": [
    "feature_importance = pd.DataFrame(xgb.feature_importances_.reshape((1, -1)), columns=x_train.columns, index=['feature_importance'])\n",
    "feature_importance"
   ]
  },
  {
   "cell_type": "markdown",
   "metadata": {},
   "source": [
    "### LightGBM\n",
    "XGBoost가 기존의 부스팅 트리 모델보다는 학습이 빠르다는 장점이 있지만, 여전히 속도가 느린 알고리즘입니다. <br>\n",
    "LightGBM은 XGBoost보다 가볍고 더 나은 학습 성능을 제공하며, 더 적은 메모리를 사용합니다. <br>\n",
    "다른 부스팅 트리와는 다른 특징으로 `균형 트리 분할 방식`으로 모델을 학습시키는 것이 아닌 `리프 중심 트리 분할`방식을 사용해 비대칭적인 트리를 형성하게 됩니다. <br>\n",
    "예측 성능 자체는 XGBoost와 비슷하지만 학습 속도 및 메모리 사용량에서 이점을 갖습니다. \n",
    "\n",
    "1. XGBoost의 장점 + \n",
    "2. XGBoost 보다 가볍고 빠른 모델, 하지만 더 나은 학습 성능\n",
    "3. Leaf-wise tree growth (대체적으로 더 나은 성능을 보장하지만, 적은 데이터에서 과적합 우려)"
   ]
  },
  {
   "cell_type": "markdown",
   "metadata": {},
   "source": [
    "- LightGBM 대표적 파라미터\n",
    "    - n_estimators      (int)  : 내부에서 생성할 결정 트리의 개수 \n",
    "    - max_depth         (int)  : 생성할 결정 트리의 높이\n",
    "    - learning_rate     (float): 훈련량, 학습 시 모델을 얼마나 업데이트할지 결정하는 값\n",
    "    - colsample_bytree  (float): 열 샘플링에 사용하는 비율\n",
    "    - subsample         (float): 행 샘플링에 사용하는 비율\n",
    "    - reg_alpha         (float): L1 정규화 계수\n",
    "    - reg_lambda        (float): L2 정규화 계수\n",
    "    - boosting_type     (str)  : 부스팅 방법 (gbdt / rf / dart / goss)\n",
    "    - random_state      (int)  : 내부적으로 사용되는 난수값\n",
    "    - n_jobs            (int)  : 병렬처리에 사용할 CPU 수"
   ]
  },
  {
   "cell_type": "markdown",
   "metadata": {},
   "source": [
    "#### 1) 모델 불러오기 및 정의하기"
   ]
  },
  {
   "cell_type": "code",
   "execution_count": 79,
   "metadata": {},
   "outputs": [],
   "source": [
    "from lightgbm import LGBMClassifier\n",
    "\n",
    "lgb = LGBMClassifier()"
   ]
  },
  {
   "cell_type": "markdown",
   "metadata": {},
   "source": [
    "#### 2) 모델 학습하기 (훈련 데이터)"
   ]
  },
  {
   "cell_type": "code",
   "execution_count": 80,
   "metadata": {},
   "outputs": [
    {
     "data": {
      "text/plain": [
       "LGBMClassifier()"
      ]
     },
     "execution_count": 80,
     "metadata": {},
     "output_type": "execute_result"
    }
   ],
   "source": [
    "lgb.fit(x_train, y_train)"
   ]
  },
  {
   "cell_type": "markdown",
   "metadata": {},
   "source": [
    "#### 3) 결과 예측하기 (테스트 데이터)"
   ]
  },
  {
   "cell_type": "code",
   "execution_count": 81,
   "metadata": {},
   "outputs": [],
   "source": [
    "y_pred = lgb.predict(x_valid)"
   ]
  },
  {
   "cell_type": "markdown",
   "metadata": {},
   "source": [
    "#### 4) 결과 살펴보기\n",
    "일반적으로 분류에서는 Accuracy, 정확도를 평가 척도로 사용합니다.<br>"
   ]
  },
  {
   "cell_type": "code",
   "execution_count": 82,
   "metadata": {},
   "outputs": [
    {
     "name": "stdout",
     "output_type": "stream",
     "text": [
      "LightGBM, 정확도 : 92.31%\n"
     ]
    }
   ],
   "source": [
    "print('LightGBM, 정확도 : {:.2f}%'.format(accuracy_score(y_valid, y_pred)*100))"
   ]
  },
  {
   "cell_type": "markdown",
   "metadata": {},
   "source": [
    "#### Feature Importance\n",
    "트리 기반 모델은 트리를 분기하는 과정에서 어떤 변수가 모델을 생성하는데 중요한지에 대한 변수 중요도를 살펴볼 수 있습니다."
   ]
  },
  {
   "cell_type": "code",
   "execution_count": 83,
   "metadata": {},
   "outputs": [
    {
     "data": {
      "text/html": [
       "<div>\n",
       "<style scoped>\n",
       "    .dataframe tbody tr th:only-of-type {\n",
       "        vertical-align: middle;\n",
       "    }\n",
       "\n",
       "    .dataframe tbody tr th {\n",
       "        vertical-align: top;\n",
       "    }\n",
       "\n",
       "    .dataframe thead th {\n",
       "        text-align: right;\n",
       "    }\n",
       "</style>\n",
       "<table border=\"1\" class=\"dataframe\">\n",
       "  <thead>\n",
       "    <tr style=\"text-align: right;\">\n",
       "      <th></th>\n",
       "      <th>sgg</th>\n",
       "      <th>bedCount</th>\n",
       "      <th>revenue1</th>\n",
       "      <th>salescost1</th>\n",
       "      <th>sga1</th>\n",
       "      <th>salary1</th>\n",
       "      <th>noi1</th>\n",
       "      <th>noe1</th>\n",
       "      <th>interest1</th>\n",
       "      <th>ctax1</th>\n",
       "      <th>...</th>\n",
       "      <th>ulsan</th>\n",
       "      <th>clinic</th>\n",
       "      <th>dental_clinic</th>\n",
       "      <th>general_hospital</th>\n",
       "      <th>hospital</th>\n",
       "      <th>nursing_hospital</th>\n",
       "      <th>traditional_clinic</th>\n",
       "      <th>traditional_hospital</th>\n",
       "      <th>change</th>\n",
       "      <th>same</th>\n",
       "    </tr>\n",
       "  </thead>\n",
       "  <tbody>\n",
       "    <tr>\n",
       "      <th>feature_importance</th>\n",
       "      <td>40</td>\n",
       "      <td>30</td>\n",
       "      <td>22</td>\n",
       "      <td>9</td>\n",
       "      <td>5</td>\n",
       "      <td>7</td>\n",
       "      <td>3</td>\n",
       "      <td>13</td>\n",
       "      <td>12</td>\n",
       "      <td>3</td>\n",
       "      <td>...</td>\n",
       "      <td>0</td>\n",
       "      <td>0</td>\n",
       "      <td>0</td>\n",
       "      <td>0</td>\n",
       "      <td>8</td>\n",
       "      <td>28</td>\n",
       "      <td>0</td>\n",
       "      <td>0</td>\n",
       "      <td>8</td>\n",
       "      <td>6</td>\n",
       "    </tr>\n",
       "  </tbody>\n",
       "</table>\n",
       "<p>1 rows × 78 columns</p>\n",
       "</div>"
      ],
      "text/plain": [
       "                    sgg  bedCount  revenue1  salescost1  sga1  salary1  noi1  \\\n",
       "feature_importance   40        30        22           9     5        7     3   \n",
       "\n",
       "                    noe1  interest1  ctax1  ...  ulsan  clinic  dental_clinic  \\\n",
       "feature_importance    13         12      3  ...      0       0              0   \n",
       "\n",
       "                    general_hospital  hospital  nursing_hospital  \\\n",
       "feature_importance                 0         8                28   \n",
       "\n",
       "                    traditional_clinic  traditional_hospital  change  same  \n",
       "feature_importance                   0                     0       8     6  \n",
       "\n",
       "[1 rows x 78 columns]"
      ]
     },
     "execution_count": 83,
     "metadata": {},
     "output_type": "execute_result"
    }
   ],
   "source": [
    "feature_importance = pd.DataFrame(lgb.feature_importances_.reshape((1, -1)), columns=x_train.columns, index=['feature_importance'])\n",
    "feature_importance"
   ]
  },
  {
   "cell_type": "markdown",
   "metadata": {},
   "source": [
    "## Evaluation \n",
    "### 1. Accuracy, 정확도\n",
    "모든 데이터에 대해 클래스 라벨을 얼마나 잘 맞췄는지를 계산 \n",
    "\n",
    "<img src= './img/Accuracy.png' alter='Accuracy' style=\"height: 350px\"/> \n",
    "\n",
    "### 2. Confusion Matrix, 혼동 행렬\n",
    "정확도로는 분류 모델의 평가가 충분하지 않을 수 있습니다. 예를 들어, 병이 있는 사람을 병이 없다고 판단하는 경우 Risk가 높기 때문에 모델의 목적에 맞게 분류 모델을 평가하여야 합니다. 이때 사용되는 것이 Confusion Matrix 입니다. \n",
    "\n",
    "<img src= './img/Confusion_Matrix.png' alter='Confusion_Matrix' style=\"height: 200px\"/> \n",
    "\n",
    "* Precision, 정밀도  : TP/(FP+TP), 1이라고 예측한 것 중 실제로 1인 것 \n",
    "    - 모델이 1이라고 예측한 것 중에 실제로 1인 것\n",
    "* Recall, 재현율 : True Positive rate = Recall = Hit ratio = TP/(TP+FN), 실제로 1인 것 중에 1이라고 예측한 것 \n",
    "    - 실제로 1인 것 중에 모델이 1이라고 예측한 것, 질병 예측에서 가장 중요한 척도 중 하나, 예측을 잘못하면 사람이 죽을 수도 있기 때문에\n",
    "* False Alarm, 오탐 : False Positive rate = 1-Specificity = FP/(FP+TN), 실제로 0인 것 중에 1이라고 예측한 것\n",
    "    - 이게 코로나 검사에서 안걸렸는데 걸렸다고 하는 경우 입니다.\n",
    "* F1 Score, 정밀도와 재현율의 조화 평균 : 클래스 불균형한 문제에서 주로 사용되는 평가지표\n",
    "\n",
    "### 3. ROC Curve, AUC\n",
    "ROC Curve(Receiver-Operating Characteristic curve)는 민감도와 특이도가 서로 어떤 관계를 가지며 변하는지를 2차원 평면상에 표현한 것 입니다.<br>\n",
    "ROC Curve가 그려지는 곡선을 의미하고, AUC(Area Under Curve)는 ROC Curve의 면적을 뜻합니다.<br>\n",
    "AUC 값이 1에 가까울 수록 좋은 모델을 의미합니다. \n",
    "\n",
    "<img src= './img/ROC_AUC.png' alter='ROC_AUC' style=\"height: 500px\"/> "
   ]
  },
  {
   "cell_type": "markdown",
   "metadata": {},
   "source": [
    "#### 정확도, 정밀도, 민감도, AUC Score\n",
    "- 우리가 사용한 병원 데이터는 클래스가 불균형한 데이터이므로 정확도로 모델의 성능을 판단하는건 적절하지 않습니다. \n",
    "    - 이러한 경우에는 정밀도나 재현율 또는 정밀도와 재현율의 조화 평균인 F1 Score를 사용하기도 합니다."
   ]
  },
  {
   "cell_type": "markdown",
   "metadata": {},
   "source": [
    "#### 실습 위에서 사용한 모델 중 3개를 가져와 5개 평가 지표에 대해 확인해보세요 (15분)"
   ]
  },
  {
   "cell_type": "code",
   "execution_count": 102,
   "metadata": {},
   "outputs": [],
   "source": [
    "from sklearn.metrics import accuracy_score, precision_score, recall_score, roc_auc_score, f1_score"
   ]
  },
  {
   "cell_type": "code",
   "execution_count": 103,
   "metadata": {},
   "outputs": [
    {
     "ename": "ValueError",
     "evalue": "could not convert string to float: 'seoul'",
     "output_type": "error",
     "traceback": [
      "\u001b[1;31m---------------------------------------------------------------------------\u001b[0m",
      "\u001b[1;31mValueError\u001b[0m                                Traceback (most recent call last)",
      "\u001b[1;32m<ipython-input-103-080fb7593c51>\u001b[0m in \u001b[0;36m<module>\u001b[1;34m\u001b[0m\n\u001b[0;32m      1\u001b[0m \u001b[1;32mfrom\u001b[0m \u001b[0msklearn\u001b[0m\u001b[1;33m.\u001b[0m\u001b[0mensemble\u001b[0m \u001b[1;32mimport\u001b[0m \u001b[0mRandomForestClassifier\u001b[0m\u001b[1;33m\u001b[0m\u001b[1;33m\u001b[0m\u001b[0m\n\u001b[0;32m      2\u001b[0m \u001b[0mrf\u001b[0m \u001b[1;33m=\u001b[0m \u001b[0mRandomForestClassifier\u001b[0m\u001b[1;33m(\u001b[0m\u001b[0mmax_depth\u001b[0m\u001b[1;33m=\u001b[0m\u001b[1;36m5\u001b[0m\u001b[1;33m)\u001b[0m\u001b[1;33m\u001b[0m\u001b[1;33m\u001b[0m\u001b[0m\n\u001b[1;32m----> 3\u001b[1;33m \u001b[0mrf\u001b[0m\u001b[1;33m.\u001b[0m\u001b[0mfit\u001b[0m\u001b[1;33m(\u001b[0m\u001b[0mx_train\u001b[0m\u001b[1;33m,\u001b[0m\u001b[0my_train\u001b[0m\u001b[1;33m)\u001b[0m\u001b[1;33m\u001b[0m\u001b[1;33m\u001b[0m\u001b[0m\n\u001b[0m\u001b[0;32m      4\u001b[0m \u001b[0my_pred\u001b[0m \u001b[1;33m=\u001b[0m \u001b[0mrf\u001b[0m\u001b[1;33m.\u001b[0m\u001b[0mpredict\u001b[0m\u001b[1;33m(\u001b[0m\u001b[0mx_valid\u001b[0m\u001b[1;33m)\u001b[0m\u001b[1;33m\u001b[0m\u001b[1;33m\u001b[0m\u001b[0m\n",
      "\u001b[1;32m~\\anaconda3\\envs\\py37\\lib\\site-packages\\sklearn\\ensemble\\_forest.py\u001b[0m in \u001b[0;36mfit\u001b[1;34m(self, X, y, sample_weight)\u001b[0m\n\u001b[0;32m    302\u001b[0m             )\n\u001b[0;32m    303\u001b[0m         X, y = self._validate_data(X, y, multi_output=True,\n\u001b[1;32m--> 304\u001b[1;33m                                    accept_sparse=\"csc\", dtype=DTYPE)\n\u001b[0m\u001b[0;32m    305\u001b[0m         \u001b[1;32mif\u001b[0m \u001b[0msample_weight\u001b[0m \u001b[1;32mis\u001b[0m \u001b[1;32mnot\u001b[0m \u001b[1;32mNone\u001b[0m\u001b[1;33m:\u001b[0m\u001b[1;33m\u001b[0m\u001b[1;33m\u001b[0m\u001b[0m\n\u001b[0;32m    306\u001b[0m             \u001b[0msample_weight\u001b[0m \u001b[1;33m=\u001b[0m \u001b[0m_check_sample_weight\u001b[0m\u001b[1;33m(\u001b[0m\u001b[0msample_weight\u001b[0m\u001b[1;33m,\u001b[0m \u001b[0mX\u001b[0m\u001b[1;33m)\u001b[0m\u001b[1;33m\u001b[0m\u001b[1;33m\u001b[0m\u001b[0m\n",
      "\u001b[1;32m~\\anaconda3\\envs\\py37\\lib\\site-packages\\sklearn\\base.py\u001b[0m in \u001b[0;36m_validate_data\u001b[1;34m(self, X, y, reset, validate_separately, **check_params)\u001b[0m\n\u001b[0;32m    430\u001b[0m                 \u001b[0my\u001b[0m \u001b[1;33m=\u001b[0m \u001b[0mcheck_array\u001b[0m\u001b[1;33m(\u001b[0m\u001b[0my\u001b[0m\u001b[1;33m,\u001b[0m \u001b[1;33m**\u001b[0m\u001b[0mcheck_y_params\u001b[0m\u001b[1;33m)\u001b[0m\u001b[1;33m\u001b[0m\u001b[1;33m\u001b[0m\u001b[0m\n\u001b[0;32m    431\u001b[0m             \u001b[1;32melse\u001b[0m\u001b[1;33m:\u001b[0m\u001b[1;33m\u001b[0m\u001b[1;33m\u001b[0m\u001b[0m\n\u001b[1;32m--> 432\u001b[1;33m                 \u001b[0mX\u001b[0m\u001b[1;33m,\u001b[0m \u001b[0my\u001b[0m \u001b[1;33m=\u001b[0m \u001b[0mcheck_X_y\u001b[0m\u001b[1;33m(\u001b[0m\u001b[0mX\u001b[0m\u001b[1;33m,\u001b[0m \u001b[0my\u001b[0m\u001b[1;33m,\u001b[0m \u001b[1;33m**\u001b[0m\u001b[0mcheck_params\u001b[0m\u001b[1;33m)\u001b[0m\u001b[1;33m\u001b[0m\u001b[1;33m\u001b[0m\u001b[0m\n\u001b[0m\u001b[0;32m    433\u001b[0m             \u001b[0mout\u001b[0m \u001b[1;33m=\u001b[0m \u001b[0mX\u001b[0m\u001b[1;33m,\u001b[0m \u001b[0my\u001b[0m\u001b[1;33m\u001b[0m\u001b[1;33m\u001b[0m\u001b[0m\n\u001b[0;32m    434\u001b[0m \u001b[1;33m\u001b[0m\u001b[0m\n",
      "\u001b[1;32m~\\anaconda3\\envs\\py37\\lib\\site-packages\\sklearn\\utils\\validation.py\u001b[0m in \u001b[0;36minner_f\u001b[1;34m(*args, **kwargs)\u001b[0m\n\u001b[0;32m     71\u001b[0m                           FutureWarning)\n\u001b[0;32m     72\u001b[0m         \u001b[0mkwargs\u001b[0m\u001b[1;33m.\u001b[0m\u001b[0mupdate\u001b[0m\u001b[1;33m(\u001b[0m\u001b[1;33m{\u001b[0m\u001b[0mk\u001b[0m\u001b[1;33m:\u001b[0m \u001b[0marg\u001b[0m \u001b[1;32mfor\u001b[0m \u001b[0mk\u001b[0m\u001b[1;33m,\u001b[0m \u001b[0marg\u001b[0m \u001b[1;32min\u001b[0m \u001b[0mzip\u001b[0m\u001b[1;33m(\u001b[0m\u001b[0msig\u001b[0m\u001b[1;33m.\u001b[0m\u001b[0mparameters\u001b[0m\u001b[1;33m,\u001b[0m \u001b[0margs\u001b[0m\u001b[1;33m)\u001b[0m\u001b[1;33m}\u001b[0m\u001b[1;33m)\u001b[0m\u001b[1;33m\u001b[0m\u001b[1;33m\u001b[0m\u001b[0m\n\u001b[1;32m---> 73\u001b[1;33m         \u001b[1;32mreturn\u001b[0m \u001b[0mf\u001b[0m\u001b[1;33m(\u001b[0m\u001b[1;33m**\u001b[0m\u001b[0mkwargs\u001b[0m\u001b[1;33m)\u001b[0m\u001b[1;33m\u001b[0m\u001b[1;33m\u001b[0m\u001b[0m\n\u001b[0m\u001b[0;32m     74\u001b[0m     \u001b[1;32mreturn\u001b[0m \u001b[0minner_f\u001b[0m\u001b[1;33m\u001b[0m\u001b[1;33m\u001b[0m\u001b[0m\n\u001b[0;32m     75\u001b[0m \u001b[1;33m\u001b[0m\u001b[0m\n",
      "\u001b[1;32m~\\anaconda3\\envs\\py37\\lib\\site-packages\\sklearn\\utils\\validation.py\u001b[0m in \u001b[0;36mcheck_X_y\u001b[1;34m(X, y, accept_sparse, accept_large_sparse, dtype, order, copy, force_all_finite, ensure_2d, allow_nd, multi_output, ensure_min_samples, ensure_min_features, y_numeric, estimator)\u001b[0m\n\u001b[0;32m    801\u001b[0m                     \u001b[0mensure_min_samples\u001b[0m\u001b[1;33m=\u001b[0m\u001b[0mensure_min_samples\u001b[0m\u001b[1;33m,\u001b[0m\u001b[1;33m\u001b[0m\u001b[1;33m\u001b[0m\u001b[0m\n\u001b[0;32m    802\u001b[0m                     \u001b[0mensure_min_features\u001b[0m\u001b[1;33m=\u001b[0m\u001b[0mensure_min_features\u001b[0m\u001b[1;33m,\u001b[0m\u001b[1;33m\u001b[0m\u001b[1;33m\u001b[0m\u001b[0m\n\u001b[1;32m--> 803\u001b[1;33m                     estimator=estimator)\n\u001b[0m\u001b[0;32m    804\u001b[0m     \u001b[1;32mif\u001b[0m \u001b[0mmulti_output\u001b[0m\u001b[1;33m:\u001b[0m\u001b[1;33m\u001b[0m\u001b[1;33m\u001b[0m\u001b[0m\n\u001b[0;32m    805\u001b[0m         y = check_array(y, accept_sparse='csr', force_all_finite=True,\n",
      "\u001b[1;32m~\\anaconda3\\envs\\py37\\lib\\site-packages\\sklearn\\utils\\validation.py\u001b[0m in \u001b[0;36minner_f\u001b[1;34m(*args, **kwargs)\u001b[0m\n\u001b[0;32m     71\u001b[0m                           FutureWarning)\n\u001b[0;32m     72\u001b[0m         \u001b[0mkwargs\u001b[0m\u001b[1;33m.\u001b[0m\u001b[0mupdate\u001b[0m\u001b[1;33m(\u001b[0m\u001b[1;33m{\u001b[0m\u001b[0mk\u001b[0m\u001b[1;33m:\u001b[0m \u001b[0marg\u001b[0m \u001b[1;32mfor\u001b[0m \u001b[0mk\u001b[0m\u001b[1;33m,\u001b[0m \u001b[0marg\u001b[0m \u001b[1;32min\u001b[0m \u001b[0mzip\u001b[0m\u001b[1;33m(\u001b[0m\u001b[0msig\u001b[0m\u001b[1;33m.\u001b[0m\u001b[0mparameters\u001b[0m\u001b[1;33m,\u001b[0m \u001b[0margs\u001b[0m\u001b[1;33m)\u001b[0m\u001b[1;33m}\u001b[0m\u001b[1;33m)\u001b[0m\u001b[1;33m\u001b[0m\u001b[1;33m\u001b[0m\u001b[0m\n\u001b[1;32m---> 73\u001b[1;33m         \u001b[1;32mreturn\u001b[0m \u001b[0mf\u001b[0m\u001b[1;33m(\u001b[0m\u001b[1;33m**\u001b[0m\u001b[0mkwargs\u001b[0m\u001b[1;33m)\u001b[0m\u001b[1;33m\u001b[0m\u001b[1;33m\u001b[0m\u001b[0m\n\u001b[0m\u001b[0;32m     74\u001b[0m     \u001b[1;32mreturn\u001b[0m \u001b[0minner_f\u001b[0m\u001b[1;33m\u001b[0m\u001b[1;33m\u001b[0m\u001b[0m\n\u001b[0;32m     75\u001b[0m \u001b[1;33m\u001b[0m\u001b[0m\n",
      "\u001b[1;32m~\\anaconda3\\envs\\py37\\lib\\site-packages\\sklearn\\utils\\validation.py\u001b[0m in \u001b[0;36mcheck_array\u001b[1;34m(array, accept_sparse, accept_large_sparse, dtype, order, copy, force_all_finite, ensure_2d, allow_nd, ensure_min_samples, ensure_min_features, estimator)\u001b[0m\n\u001b[0;32m    597\u001b[0m                     \u001b[0marray\u001b[0m \u001b[1;33m=\u001b[0m \u001b[0marray\u001b[0m\u001b[1;33m.\u001b[0m\u001b[0mastype\u001b[0m\u001b[1;33m(\u001b[0m\u001b[0mdtype\u001b[0m\u001b[1;33m,\u001b[0m \u001b[0mcasting\u001b[0m\u001b[1;33m=\u001b[0m\u001b[1;34m\"unsafe\"\u001b[0m\u001b[1;33m,\u001b[0m \u001b[0mcopy\u001b[0m\u001b[1;33m=\u001b[0m\u001b[1;32mFalse\u001b[0m\u001b[1;33m)\u001b[0m\u001b[1;33m\u001b[0m\u001b[1;33m\u001b[0m\u001b[0m\n\u001b[0;32m    598\u001b[0m                 \u001b[1;32melse\u001b[0m\u001b[1;33m:\u001b[0m\u001b[1;33m\u001b[0m\u001b[1;33m\u001b[0m\u001b[0m\n\u001b[1;32m--> 599\u001b[1;33m                     \u001b[0marray\u001b[0m \u001b[1;33m=\u001b[0m \u001b[0mnp\u001b[0m\u001b[1;33m.\u001b[0m\u001b[0masarray\u001b[0m\u001b[1;33m(\u001b[0m\u001b[0marray\u001b[0m\u001b[1;33m,\u001b[0m \u001b[0morder\u001b[0m\u001b[1;33m=\u001b[0m\u001b[0morder\u001b[0m\u001b[1;33m,\u001b[0m \u001b[0mdtype\u001b[0m\u001b[1;33m=\u001b[0m\u001b[0mdtype\u001b[0m\u001b[1;33m)\u001b[0m\u001b[1;33m\u001b[0m\u001b[1;33m\u001b[0m\u001b[0m\n\u001b[0m\u001b[0;32m    600\u001b[0m             \u001b[1;32mexcept\u001b[0m \u001b[0mComplexWarning\u001b[0m\u001b[1;33m:\u001b[0m\u001b[1;33m\u001b[0m\u001b[1;33m\u001b[0m\u001b[0m\n\u001b[0;32m    601\u001b[0m                 raise ValueError(\"Complex data not supported\\n\"\n",
      "\u001b[1;32m~\\anaconda3\\envs\\py37\\lib\\site-packages\\numpy\\core\\_asarray.py\u001b[0m in \u001b[0;36masarray\u001b[1;34m(a, dtype, order)\u001b[0m\n\u001b[0;32m     83\u001b[0m \u001b[1;33m\u001b[0m\u001b[0m\n\u001b[0;32m     84\u001b[0m     \"\"\"\n\u001b[1;32m---> 85\u001b[1;33m     \u001b[1;32mreturn\u001b[0m \u001b[0marray\u001b[0m\u001b[1;33m(\u001b[0m\u001b[0ma\u001b[0m\u001b[1;33m,\u001b[0m \u001b[0mdtype\u001b[0m\u001b[1;33m,\u001b[0m \u001b[0mcopy\u001b[0m\u001b[1;33m=\u001b[0m\u001b[1;32mFalse\u001b[0m\u001b[1;33m,\u001b[0m \u001b[0morder\u001b[0m\u001b[1;33m=\u001b[0m\u001b[0morder\u001b[0m\u001b[1;33m)\u001b[0m\u001b[1;33m\u001b[0m\u001b[1;33m\u001b[0m\u001b[0m\n\u001b[0m\u001b[0;32m     86\u001b[0m \u001b[1;33m\u001b[0m\u001b[0m\n\u001b[0;32m     87\u001b[0m \u001b[1;33m\u001b[0m\u001b[0m\n",
      "\u001b[1;31mValueError\u001b[0m: could not convert string to float: 'seoul'"
     ]
    }
   ],
   "source": [
    "from sklearn.ensemble import RandomForestClassifier\n",
    "rf = RandomForestClassifier(max_depth=5)\n",
    "rf.fit(x_train,y_train)\n",
    "y_pred = rf.predict(x_valid)"
   ]
  },
  {
   "cell_type": "code",
   "execution_count": null,
   "metadata": {},
   "outputs": [],
   "source": [
    "print('Accuracy : {:.3f}'.format(accuracy_score(y_valid, y_pred)))\n",
    "print('Precision : {:.3f}'.format(precision_score(y_valid, y_pred)))\n",
    "print('Recall : {:.3f}'.format(recall_score(y_valid, y_pred)))\n",
    "print('F1 Score: {:.3f}'.format(f1_score(y_valid, y_pred)))\n",
    "print('AUC : {:.3f}'.format(roc_auc_score(y_valid, y_pred)))"
   ]
  },
  {
   "cell_type": "markdown",
   "metadata": {},
   "source": [
    "### Reference\n",
    "- Wikipedia, Classification : https://en.wikipedia.org/wiki/Statistical_classification\n",
    "- Maximum Likelihood Estimation, 최대 우도 추정 : https://ratsgo.github.io/statistics/2017/09/23/MLE/\n",
    "- One-vs-Rest : https://datascienceschool.net/view-notebook/7a6b958e9d51451689138cca93a047d8/\n",
    "- Information Theory 설명 : https://ratsgo.github.io/statistics/2017/09/22/information/\n",
    "- ROC AUC 설명 : https://adnoctum.tistory.com/121\n",
    "- Sklearn, iris dataset : http://scikit-learn.org/stable/modules/generated/sklearn.datasets.load_iris.html\n",
    "- Sklearn, Logistic Regression : https://www.google.com/url?q=http://scikit-learn.org/stable/modules/generated/sklearn.linear_model.LogisticRegression.html&sa=U&ved=0ahUKEwibhIa0-uDhAhVPeXAKHfPhCYQQFggEMAA&client=internal-uds-cse&cx=016639176250731907682:tjtqbvtvij0&usg=AOvVaw2AirAop04TUH9X2S1r9FVd\n",
    "- Sklearn, SVM : https://scikit-learn.org/stable/modules/generated/sklearn.svm.SVC.html\n",
    "- Sklearn, Decision Tree : https://scikit-learn.org/stable/modules/generated/sklearn.tree.DecisionTreeClassifier.html\n",
    "- Sklearn, Random Forest : https://scikit-learn.org/stable/modules/generated/sklearn.ensemble.RandomForestClassifier.html\n",
    "- Gradient Boostring: https://3months.tistory.com/368\n",
    "- LightGBM : https://greatjoy.tistory.com/72\n",
    "- XGBoost : https://rosypark.tistory.com/59"
   ]
  },
  {
   "cell_type": "markdown",
   "metadata": {},
   "source": [
    "## 실습 솔루션"
   ]
  },
  {
   "cell_type": "markdown",
   "metadata": {},
   "source": [
    "### 1) 전처리 실습 "
   ]
  },
  {
   "cell_type": "markdown",
   "metadata": {},
   "source": [
    "#### 2. 스케일링"
   ]
  },
  {
   "cell_type": "code",
   "execution_count": null,
   "metadata": {},
   "outputs": [],
   "source": [
    "x_train_mean = np.mean(x_train[num_columns], axis=0)\n",
    "x_train_std  = np.std(x_train[num_columns], axis=0)\n",
    "\n",
    "# Numpy 브로드캐스팅 기능을 활용해 x_train의 평균과 표준편차로 x_train, x_valid의 스케일링을 진행해줍니다.\n",
    "x_train.loc[:, num_columns] = (x_train[num_columns] - x_train_mean) / x_train_std \n",
    "x_valid.loc[:, num_columns] = (x_valid[num_columns] - x_train_mean) / x_train_std\n",
    "x_test.loc[:, num_columns] = (x_test[num_columns] - x_train_mean) / x_train_std"
   ]
  },
  {
   "cell_type": "markdown",
   "metadata": {},
   "source": [
    "#### 스케일링 확인"
   ]
  },
  {
   "cell_type": "code",
   "execution_count": null,
   "metadata": {},
   "outputs": [],
   "source": [
    "x_train[num_columns].describe()"
   ]
  },
  {
   "cell_type": "code",
   "execution_count": null,
   "metadata": {},
   "outputs": [],
   "source": [
    "x_valid[num_columns].describe()"
   ]
  },
  {
   "cell_type": "code",
   "execution_count": null,
   "metadata": {},
   "outputs": [],
   "source": [
    "x_test[num_columns].describe()"
   ]
  },
  {
   "cell_type": "markdown",
   "metadata": {},
   "source": [
    "#### 왜 x_valid와 x_test는 평균이 0, 표준편차가 1이 아닌가요? -> x_train의 평균과 표준편차를 사용했기 때문에 x_valid의 평균과 표준편차가 0, 1이 아닐 수 있습니다."
   ]
  },
  {
   "cell_type": "markdown",
   "metadata": {},
   "source": [
    "#### 3. 범주형 변수 OneHot Encoding, 라벨 변수 Label Encoding \n",
    "- 범주형 변수 OneHot Encoding 처리"
   ]
  },
  {
   "cell_type": "code",
   "execution_count": null,
   "metadata": {},
   "outputs": [],
   "source": [
    "from sklearn.preprocessing import OneHotEncoder"
   ]
  },
  {
   "cell_type": "code",
   "execution_count": null,
   "metadata": {},
   "outputs": [],
   "source": [
    "ohe = OneHotEncoder(sparse=False)\n",
    "\n",
    "ohe.fit(x_train[cat_columns])"
   ]
  },
  {
   "cell_type": "code",
   "execution_count": null,
   "metadata": {},
   "outputs": [],
   "source": [
    "# test 데이터에만 존재하는 범주형 변수가 존재합니다. 이러한 경우 train, valid, test를 하나로 합쳤다가 인코딩 후 다시 쪼개야합니다.\n",
    "# new_x_train_cat = ohe.transform(x_train[cat_columns])\n",
    "# new_x_valid_cat = ohe.transform(x_valid[cat_columns])\n",
    "# new_x_test_cat = ohe.transform(x_test[cat_columns])"
   ]
  },
  {
   "cell_type": "code",
   "execution_count": null,
   "metadata": {},
   "outputs": [],
   "source": [
    "x_all = pd.concat([x_train[cat_columns], x_valid[cat_columns], x_test[cat_columns]], axis=0)\n",
    "\n",
    "# fit과 transform을 한번에\n",
    "new_x_all = ohe.fit_transform(x_all)\n",
    "\n",
    "# ohe.categories_ 은 입력된 범주형 컬럼의 범주 값을 순서대로 담고 있습니다.\n",
    "ohe_columns = ohe.categories_[0].tolist() + ohe.categories_[1].tolist() + ohe.categories_[2].tolist()\n",
    "ohe_columns"
   ]
  },
  {
   "cell_type": "code",
   "execution_count": null,
   "metadata": {},
   "outputs": [],
   "source": [
    "new_x_all = pd.DataFrame(new_x_all, columns=ohe_columns)\n",
    "new_x_all.head()"
   ]
  },
  {
   "cell_type": "code",
   "execution_count": null,
   "metadata": {},
   "outputs": [],
   "source": [
    "new_x_train_cat = new_x_all.iloc[:x_train.shape[0], :]\n",
    "new_x_valid_cat = new_x_all.iloc[x_train.shape[0]:new_x_all.shape[0] - x_test.shape[0], :]\n",
    "new_x_test_cat =  new_x_all.iloc[new_x_all.shape[0] - x_test.shape[0]:, :]"
   ]
  },
  {
   "cell_type": "code",
   "execution_count": null,
   "metadata": {},
   "outputs": [],
   "source": [
    "# train set 개수 확인\n",
    "new_x_train_cat.shape, x_train.shape"
   ]
  },
  {
   "cell_type": "code",
   "execution_count": null,
   "metadata": {},
   "outputs": [],
   "source": [
    "# valid set 개수 확인\n",
    "new_x_valid_cat.shape, x_valid.shape"
   ]
  },
  {
   "cell_type": "code",
   "execution_count": null,
   "metadata": {},
   "outputs": [],
   "source": [
    "# test set 개수 확인\n",
    "new_x_test_cat.shape, x_test.shape"
   ]
  },
  {
   "cell_type": "code",
   "execution_count": null,
   "metadata": {},
   "outputs": [],
   "source": [
    "# 동일하게 데이터를 쪼갤 시 인덱스를 초기화합니다.\n",
    "new_x_train_cat.reset_index(drop=True, inplace=True)\n",
    "new_x_valid_cat.reset_index(drop=True, inplace=True)\n",
    "new_x_test_cat.reset_index(drop=True, inplace=True)"
   ]
  },
  {
   "cell_type": "markdown",
   "metadata": {},
   "source": [
    "##### 기존 범주형 변수를 제거하고, Onehot Encoding된 변수를 추가합니다."
   ]
  },
  {
   "cell_type": "code",
   "execution_count": null,
   "metadata": {},
   "outputs": [],
   "source": [
    "# 기존 범주형 변수 제거\n",
    "x_train.drop(columns=cat_columns, inplace=True)\n",
    "x_valid.drop(columns=cat_columns, inplace=True)\n",
    "x_test.drop(columns=cat_columns, inplace=True)"
   ]
  },
  {
   "cell_type": "code",
   "execution_count": null,
   "metadata": {},
   "outputs": [],
   "source": [
    "# Onehot Encoding 변수 추가\n",
    "x_train = pd.concat([x_train, new_x_train_cat], axis=1)\n",
    "x_valid = pd.concat([x_valid, new_x_valid_cat], axis=1)\n",
    "x_test = pd.concat([x_test, new_x_test_cat], axis=1)"
   ]
  },
  {
   "cell_type": "code",
   "execution_count": null,
   "metadata": {},
   "outputs": [],
   "source": [
    "# train 확인\n",
    "x_train.head()"
   ]
  },
  {
   "cell_type": "code",
   "execution_count": null,
   "metadata": {},
   "outputs": [],
   "source": [
    "# valid 확인\n",
    "x_valid.head()"
   ]
  },
  {
   "cell_type": "code",
   "execution_count": null,
   "metadata": {},
   "outputs": [],
   "source": [
    "# test 확인\n",
    "x_test.head()"
   ]
  },
  {
   "cell_type": "markdown",
   "metadata": {},
   "source": [
    "- 라벨 변수 Label Encoding 처리, 라벨 변수 인코딩 처리의 경우 일반 범주형 변수보다는 다른 DataFrame에 데이터가 없는 경우가 적습니다."
   ]
  },
  {
   "cell_type": "code",
   "execution_count": null,
   "metadata": {},
   "outputs": [],
   "source": [
    "from sklearn.preprocessing import LabelEncoder"
   ]
  },
  {
   "cell_type": "code",
   "execution_count": null,
   "metadata": {},
   "outputs": [],
   "source": [
    "le = LabelEncoder()\n",
    "le.fit(y_train)"
   ]
  },
  {
   "cell_type": "code",
   "execution_count": null,
   "metadata": {},
   "outputs": [],
   "source": [
    "y_train = le.transform(y_train)\n",
    "y_valid = le.transform(y_valid)"
   ]
  },
  {
   "cell_type": "markdown",
   "metadata": {},
   "source": [
    "##### 인코딩 전처리 끝"
   ]
  }
 ],
 "metadata": {
  "colab": {
   "collapsed_sections": [],
   "name": "Lab_04) Classification.ipynb",
   "provenance": [],
   "version": "0.3.2"
  },
  "kernelspec": {
   "display_name": "Python 3",
   "language": "python",
   "name": "python3"
  },
  "language_info": {
   "codemirror_mode": {
    "name": "ipython",
    "version": 3
   },
   "file_extension": ".py",
   "mimetype": "text/x-python",
   "name": "python",
   "nbconvert_exporter": "python",
   "pygments_lexer": "ipython3",
   "version": "3.7.7"
  }
 },
 "nbformat": 4,
 "nbformat_minor": 4
}
