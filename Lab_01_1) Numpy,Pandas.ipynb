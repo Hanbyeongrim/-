{
 "cells": [
  {
   "cell_type": "markdown",
   "metadata": {},
   "source": [
    "# Lab_01-1 Numpy, Pandas 실습\n",
    "\n",
    "### Context\n",
    "#### Numpy\n",
    "+ Scalar, Vector\n",
    "+ Matrix \n",
    "+ Functions\n",
    "\n",
    "#### Pandas\n",
    "+ Series\n",
    "+ DataFrame\n",
    "+ Functions"
   ]
  },
  {
   "cell_type": "code",
   "execution_count": 2,
   "metadata": {},
   "outputs": [],
   "source": [
    "import time\n",
    "import os\n",
    "from os.path import join\n",
    "\n",
    "import numpy as np\n",
    "import pandas as pd"
   ]
  },
  {
   "cell_type": "markdown",
   "metadata": {},
   "source": [
    "# Numpy\n",
    "## Numpy란?\n",
    "넘파이(Numpy)는 행렬이나 일반적으로 대규모 다차원 배열을 쉽게 처리 할 수 있도록 지원하는 파이썬의 라이브러리입니다. <br>\n",
    "데이터 구조 외에도 수치 계산을 위해 효율적으로 구현된 기능을 제공합니다.\n",
    "\n",
    "### 1. Scalar, Vector\n",
    "#### Scalar\n",
    "Scalar는 방향은 없지만, 실수 공간에서 크기를 나타내는 값을 말합니다. <br>\n",
    "간단하게 상수를 생각하시면 됩니다. \n",
    "\n",
    "$ a\\ \\in \\mathbf{R}$"
   ]
  },
  {
   "cell_type": "code",
   "execution_count": 3,
   "metadata": {},
   "outputs": [
    {
     "data": {
      "text/plain": [
       "array([0])"
      ]
     },
     "execution_count": 3,
     "metadata": {},
     "output_type": "execute_result"
    }
   ],
   "source": [
    "a = np.array([0])\n",
    "a"
   ]
  },
  {
   "cell_type": "markdown",
   "metadata": {},
   "source": [
    "#### Vector\n",
    "Vector는 n차원 공간에서 방향과 크기를 갖는 단위를 말합니다. <br>\n",
    "n차원 공간에서의 벡터 x는 다음과 같이 표기하며, n개의 원소를 가지고 있습니다.<br>\n",
    "정형 데이터에서 어떤 샘플의 데이터를 '특성 벡터'라고도 말합니다.\n",
    "\n",
    "$ \\vec{x}\\ = \\begin{bmatrix} x_1 \\\\ x_2 \\\\ x_3 \\\\ ... \\\\ x_n \\end{bmatrix} $\n",
    "\n",
    "Numpy의 `np.array()` 배열 객체(ndarray)를 사용해 벡터를 생성할 수 있습니다. "
   ]
  },
  {
   "cell_type": "code",
   "execution_count": 4,
   "metadata": {},
   "outputs": [
    {
     "data": {
      "text/plain": [
       "array([1, 2, 3])"
      ]
     },
     "execution_count": 4,
     "metadata": {},
     "output_type": "execute_result"
    }
   ],
   "source": [
    "x1 = np.array([1, 2, 3])\n",
    "x1"
   ]
  },
  {
   "cell_type": "code",
   "execution_count": 5,
   "metadata": {},
   "outputs": [
    {
     "data": {
      "text/plain": [
       "(3,)"
      ]
     },
     "execution_count": 5,
     "metadata": {},
     "output_type": "execute_result"
    }
   ],
   "source": [
    "x1.shape"
   ]
  },
  {
   "cell_type": "code",
   "execution_count": 6,
   "metadata": {},
   "outputs": [
    {
     "data": {
      "text/plain": [
       "array([[1],\n",
       "       [2],\n",
       "       [3]])"
      ]
     },
     "execution_count": 6,
     "metadata": {},
     "output_type": "execute_result"
    }
   ],
   "source": [
    "x2 = np.array([[1], [2], [3]])\n",
    "x2"
   ]
  },
  {
   "cell_type": "code",
   "execution_count": 7,
   "metadata": {},
   "outputs": [
    {
     "data": {
      "text/plain": [
       "(3, 1)"
      ]
     },
     "execution_count": 7,
     "metadata": {},
     "output_type": "execute_result"
    }
   ],
   "source": [
    "x2.shape"
   ]
  },
  {
   "cell_type": "markdown",
   "metadata": {},
   "source": [
    "Numpy는 1차원 배열 객체도 벡터로 인정하지만, <br> x2처럼 열 벡터(Column Vector)로 나타낸 2차원 배열 객체로 표현한 방식이 올바른 표기입니다."
   ]
  },
  {
   "cell_type": "markdown",
   "metadata": {},
   "source": [
    "### 2. Matrix\n",
    "Matrix는 행과 열로 이루어진 구조를 이야기하는데, 선형대수학에서는 열 벡터를 모아놓은 것으로도 이야기합니다. <br>\n",
    "mxn 행렬은 다음과 같이 표기하며 m*n개의 원소를 가지고 있습니다. \n",
    "\n",
    "$ \\matrix{A}\\ = \\begin{bmatrix} {x_{11} \\\\ x_{21}\\\\ .. \\\\ x_{m1}} & { x_{12} \\\\ .. \\\\ .. \\\\ .. } & {.. \\\\ .. \\\\ .. \\\\ .. }& {x_{1n} \\\\ .. \\\\ .. \\\\ x_{mn}} \\end{bmatrix} $\n",
    "\n",
    "벡터와 동일하게 Numpy의 `np.array()` 배열 객체를 사용해 행렬을 생성할 수 있습니다."
   ]
  },
  {
   "cell_type": "code",
   "execution_count": 8,
   "metadata": {},
   "outputs": [
    {
     "data": {
      "text/plain": [
       "array([[1, 2, 3],\n",
       "       [4, 5, 6]])"
      ]
     },
     "execution_count": 8,
     "metadata": {},
     "output_type": "execute_result"
    }
   ],
   "source": [
    "A = np.array([[1, 2, 3], [4, 5, 6]])\n",
    "A"
   ]
  },
  {
   "cell_type": "markdown",
   "metadata": {},
   "source": [
    "### 2.1 행렬의 특수한 형태 \n",
    "#### 1) 전치 행렬\n",
    "전치 행렬은 주어진 행렬에 대해 행과 열을 바뀐 행렬을 말합니다.\n",
    "\n",
    "$ \\matrix{A} 의\\ 전치행렬\\ = \\matrix{A^T} $<br><br>\n",
    "$ \\matrix{A^T}\\ = \\begin{bmatrix} {x_{11} \\\\ x_{12}} & {x_{21} \\\\ x_{22}} \\end{bmatrix} $\n",
    "\n",
    "Numpy에서는 배열 객체의 `T` 속성을 사용하여 전치 행렬을 구할 수 있습니다."
   ]
  },
  {
   "cell_type": "code",
   "execution_count": 9,
   "metadata": {},
   "outputs": [
    {
     "data": {
      "text/plain": [
       "array([[1, 4],\n",
       "       [2, 5],\n",
       "       [3, 6]])"
      ]
     },
     "execution_count": 9,
     "metadata": {},
     "output_type": "execute_result"
    }
   ],
   "source": [
    "A.T"
   ]
  },
  {
   "cell_type": "markdown",
   "metadata": {},
   "source": [
    "#### 2) 대각 행렬\n",
    "대각 행렬은 대각 성분에만 값이 있는 행렬을 말합니다. <br>\n",
    "\n",
    "$ \\matrix{D}\\ = \\begin{bmatrix} {x_{11} \\\\ 0} & {0 \\\\ x_{22}} \\end{bmatrix} $\n",
    "\n",
    "Numpy의 `np.diag(대각 성분 리스트)` 메소드를 사용하여 대각 행렬을 생성할 수 있습니다."
   ]
  },
  {
   "cell_type": "code",
   "execution_count": 10,
   "metadata": {},
   "outputs": [
    {
     "data": {
      "text/plain": [
       "array([[1, 0, 0],\n",
       "       [0, 2, 0],\n",
       "       [0, 0, 3]])"
      ]
     },
     "execution_count": 10,
     "metadata": {},
     "output_type": "execute_result"
    }
   ],
   "source": [
    "D = np.diag([1, 2, 3])\n",
    "D"
   ]
  },
  {
   "cell_type": "markdown",
   "metadata": {},
   "source": [
    "#### 3) 단위 행렬\n",
    "대각 행렬의 특수한 경우인 단위 행렬은 대각 성분이 1인 행렬을 말합니다. <br>\n",
    "\n",
    "$ \\matrix{I}\\ = \\begin{bmatrix} {1 \\\\ 0} & {0 \\\\ 1} \\end{bmatrix} $\n",
    "\n",
    "Numpy의 `np.eye(차원의 수)` 메소드 또는 `np.identity(차원의 수)` 메소드를 사용하여 단위 행렬을 생성할 수 있습니다. "
   ]
  },
  {
   "cell_type": "code",
   "execution_count": 11,
   "metadata": {},
   "outputs": [
    {
     "data": {
      "text/plain": [
       "array([[1., 0.],\n",
       "       [0., 1.]])"
      ]
     },
     "execution_count": 11,
     "metadata": {},
     "output_type": "execute_result"
    }
   ],
   "source": [
    "I = np.eye(2)\n",
    "I"
   ]
  },
  {
   "cell_type": "code",
   "execution_count": 12,
   "metadata": {},
   "outputs": [
    {
     "data": {
      "text/plain": [
       "array([[1., 0.],\n",
       "       [0., 1.]])"
      ]
     },
     "execution_count": 12,
     "metadata": {},
     "output_type": "execute_result"
    }
   ],
   "source": [
    "I = np.identity(2)\n",
    "I"
   ]
  },
  {
   "cell_type": "markdown",
   "metadata": {},
   "source": [
    "#### 4) 대칭 행렬\n",
    "대칭 행렬은 행렬의 대각 성분을 기준으로 대칭 관계인 행렬을 말합니다. \n",
    "\n",
    "$ \\matrix{S}\\ = \\begin{bmatrix} {1 \\\\ 2 \\\\ 3} & {2 \\\\ 4 \\\\ 5} & {3 \\\\ 5 \\\\ 7} \\end{bmatrix} $\n",
    "\n",
    "대칭 행렬을 생성하는 메소드는 따로 존재하지 않습니다. "
   ]
  },
  {
   "cell_type": "code",
   "execution_count": 13,
   "metadata": {},
   "outputs": [
    {
     "data": {
      "text/plain": [
       "array([[1, 2, 3],\n",
       "       [2, 4, 5],\n",
       "       [3, 5, 7]])"
      ]
     },
     "execution_count": 13,
     "metadata": {},
     "output_type": "execute_result"
    }
   ],
   "source": [
    "S = np.array([[1, 2, 3], [2, 4, 5], [3, 5, 7]])\n",
    "S"
   ]
  },
  {
   "cell_type": "markdown",
   "metadata": {},
   "source": [
    "### 3. Functions\n",
    "자주 사용되는 Numpy의 기능에 대해 알아보겠습니다. \n",
    "\n",
    "#### 1) np.shape, np.reshape\n",
    "##### np.shape\n",
    "행렬의 차원을 확인할 수 있는 메소드이며, `np.shape(행렬)` 뿐만아니라 `행렬.shape` 방식으로도 사용 가능합니다.<br><br>\n",
    "\n",
    "##### np.reshape\n",
    "행렬의 차원을 변경하는 메소드로 변경 이전 차원의 곱과 변경 이후 차원의 곱이 같다면, 변환이 가능합니다.<br>\n",
    "\n",
    "예를 들어 (2, 8) 차원을 가진 행렬 A는 (4, 4) 차원을 가진 행렬로 변환이 가능합니다. 2x8 = 16, 4x4 = 16이기 때문입니다. <br>\n",
    "하지만 (3, 5) 차원을 가진 행렬로는 변환이 불기능합니다. 3x5 = 15이기 때문에 차원이 일치하지 않습니다. \n",
    "\n",
    "`np.reshape(행렬, 변환할 차원)`으로 차원을 변경할 수도 있고, `행렬.reshape(변환할 차원)`으로 변경할 수도 있습니다."
   ]
  },
  {
   "cell_type": "code",
   "execution_count": 14,
   "metadata": {},
   "outputs": [
    {
     "data": {
      "text/plain": [
       "array([[1, 2, 3, 4, 5, 6, 7, 8],\n",
       "       [8, 7, 6, 5, 4, 3, 2, 1]])"
      ]
     },
     "execution_count": 14,
     "metadata": {},
     "output_type": "execute_result"
    }
   ],
   "source": [
    "A = np.array([[1, 2, 3, 4, 5, 6, 7, 8], [8, 7, 6, 5, 4, 3, 2, 1]])\n",
    "A"
   ]
  },
  {
   "cell_type": "code",
   "execution_count": 15,
   "metadata": {},
   "outputs": [
    {
     "data": {
      "text/plain": [
       "(2, 8)"
      ]
     },
     "execution_count": 15,
     "metadata": {},
     "output_type": "execute_result"
    }
   ],
   "source": [
    "A.shape"
   ]
  },
  {
   "cell_type": "code",
   "execution_count": 16,
   "metadata": {},
   "outputs": [
    {
     "data": {
      "text/plain": [
       "array([[1, 2, 3, 4],\n",
       "       [5, 6, 7, 8],\n",
       "       [8, 7, 6, 5],\n",
       "       [4, 3, 2, 1]])"
      ]
     },
     "execution_count": 16,
     "metadata": {},
     "output_type": "execute_result"
    }
   ],
   "source": [
    "np.reshape(A, (4, 4))"
   ]
  },
  {
   "cell_type": "code",
   "execution_count": 17,
   "metadata": {},
   "outputs": [
    {
     "name": "stdout",
     "output_type": "stream",
     "text": [
      "(2, 8) 차원의 행렬을 (3, 5) 차원의 행렬로 변환할 수 없습니다.\n"
     ]
    }
   ],
   "source": [
    "try:\n",
    "    np.reshape(A, (3, 5))\n",
    "    print('(3, 5) 행렬로 차원을 변환하였습니다.')\n",
    "except:\n",
    "    print('(2, 8) 차원의 행렬을 (3, 5) 차원의 행렬로 변환할 수 없습니다.')"
   ]
  },
  {
   "cell_type": "markdown",
   "metadata": {},
   "source": [
    "reshape를 사용해 (n,) 차원으로 구성된 벡터를 (n, 1) 차원으로 구성된 행렬로 변경할 수 있습니다 "
   ]
  },
  {
   "cell_type": "code",
   "execution_count": 18,
   "metadata": {},
   "outputs": [
    {
     "data": {
      "text/plain": [
       "(8,)"
      ]
     },
     "execution_count": 18,
     "metadata": {},
     "output_type": "execute_result"
    }
   ],
   "source": [
    "A = np.array([i for i in range(8)])\n",
    "A.shape"
   ]
  },
  {
   "cell_type": "code",
   "execution_count": 19,
   "metadata": {},
   "outputs": [
    {
     "data": {
      "text/plain": [
       "(8, 1)"
      ]
     },
     "execution_count": 19,
     "metadata": {},
     "output_type": "execute_result"
    }
   ],
   "source": [
    "# 여기에서 -1은 n개의 차원 중 n-1개는 사용자가 지정하고 나머지는 알아서 가능한 차원에 맞추라는 의미입니다. \n",
    "# 해당 예제의 경우 2개의 차원 중 마지막 차원에 1을 할당했으므로 -1에는 8이 들어가 (8, 1) 차원 행렬이 됩니다. \n",
    "A.reshape(-1, 1).shape"
   ]
  },
  {
   "cell_type": "markdown",
   "metadata": {},
   "source": [
    "#### 2) np.concatenate()\n",
    "여러 개의 Numpy 행렬을 특정 방향으로 이어붙이고 싶은 경우에는 np.concatenate() 함수를 사용할 수 있습니다.<br>\n",
    "ndarray.shape로 차원을 확인하고, 차원을 지정해서 행렬을 이어붙일 수 있습니다. "
   ]
  },
  {
   "cell_type": "code",
   "execution_count": 20,
   "metadata": {},
   "outputs": [
    {
     "data": {
      "text/plain": [
       "array([[0, 1],\n",
       "       [2, 3],\n",
       "       [4, 5],\n",
       "       [6, 7]])"
      ]
     },
     "execution_count": 20,
     "metadata": {},
     "output_type": "execute_result"
    }
   ],
   "source": [
    "sample_arr = np.reshape(A, (4, 2))\n",
    "sample_arr"
   ]
  },
  {
   "cell_type": "code",
   "execution_count": 21,
   "metadata": {},
   "outputs": [
    {
     "data": {
      "text/plain": [
       "(4, 2)"
      ]
     },
     "execution_count": 21,
     "metadata": {},
     "output_type": "execute_result"
    }
   ],
   "source": [
    "sample_arr.shape"
   ]
  },
  {
   "cell_type": "code",
   "execution_count": 22,
   "metadata": {},
   "outputs": [
    {
     "data": {
      "text/plain": [
       "(12, 2)"
      ]
     },
     "execution_count": 22,
     "metadata": {},
     "output_type": "execute_result"
    }
   ],
   "source": [
    "# 행 방향으로 붙이기\n",
    "np.concatenate([sample_arr, sample_arr, sample_arr], axis=0).shape"
   ]
  },
  {
   "cell_type": "code",
   "execution_count": 23,
   "metadata": {},
   "outputs": [
    {
     "data": {
      "text/plain": [
       "(4, 6)"
      ]
     },
     "execution_count": 23,
     "metadata": {},
     "output_type": "execute_result"
    }
   ],
   "source": [
    "# 열 방향으로 붙이기\n",
    "np.concatenate([sample_arr, sample_arr, sample_arr], axis=1).shape"
   ]
  },
  {
   "cell_type": "markdown",
   "metadata": {},
   "source": [
    "#### 3) np.sum, np.mean, np.var, np.std, np.max, np.min, np.unique\n",
    "더하기, 평균, 분산, 표준 편차 등 기초 통계량을 계산하는 메소드 입니다. 동일한 기능을 하는 파이썬 내장 함수가 있지만, <br>\n",
    "Numpy의 메소드 들은 axis 인자를 할당함으로써 특정 축을 기준으로 연산할 수 있다는 특징이 있습니다.<br>\n",
    "ex) `np.sum(x, axis=0)` `np.mean(x, axis=1)` `np.var(x, axis=2)` `np.std(x, axis=3)` `np.max(x, axis=1)` `np.min(x, axis=2)` `np.unique(x, axis=0)`"
   ]
  },
  {
   "cell_type": "code",
   "execution_count": 24,
   "metadata": {},
   "outputs": [
    {
     "data": {
      "text/plain": [
       "array([[ 1,  2,  3,  4],\n",
       "       [ 5,  6,  7,  8],\n",
       "       [ 9, 10, 11, 12]])"
      ]
     },
     "execution_count": 24,
     "metadata": {},
     "output_type": "execute_result"
    }
   ],
   "source": [
    "A = np.array([[1, 2, 3, 4], [5, 6, 7, 8], [9, 10, 11, 12]])\n",
    "A"
   ]
  },
  {
   "cell_type": "markdown",
   "metadata": {},
   "source": [
    "##### (1) np.sum()\n",
    "`np.sum(행렬, 축)` 은 주어진 행렬과 축 방향에 대해 합계를 계산해 반환하는 함수입니다."
   ]
  },
  {
   "cell_type": "code",
   "execution_count": 25,
   "metadata": {},
   "outputs": [
    {
     "data": {
      "text/plain": [
       "array([15, 18, 21, 24])"
      ]
     },
     "execution_count": 25,
     "metadata": {},
     "output_type": "execute_result"
    }
   ],
   "source": [
    "# 0번째 차원 방향으로 모든 원소들의 합\n",
    "np.sum(A, axis=0)"
   ]
  },
  {
   "cell_type": "code",
   "execution_count": 26,
   "metadata": {},
   "outputs": [
    {
     "data": {
      "text/plain": [
       "array([10, 26, 42])"
      ]
     },
     "execution_count": 26,
     "metadata": {},
     "output_type": "execute_result"
    }
   ],
   "source": [
    "# 1번째 차원 방향으로 모든 원소들의 합\n",
    "np.sum(A, axis=1)"
   ]
  },
  {
   "cell_type": "markdown",
   "metadata": {},
   "source": [
    "##### (2) np.mean()\n",
    "`np.mean(행렬, 축)` 은 주어진 행렬과 축 방향에 대해 평균을 계산해 반환하는 함수입니다."
   ]
  },
  {
   "cell_type": "code",
   "execution_count": 27,
   "metadata": {},
   "outputs": [
    {
     "data": {
      "text/plain": [
       "array([5., 6., 7., 8.])"
      ]
     },
     "execution_count": 27,
     "metadata": {},
     "output_type": "execute_result"
    }
   ],
   "source": [
    "# 0번째 차원 방향으로 모든 원소들의 평균\n",
    "np.mean(A, axis=0)"
   ]
  },
  {
   "cell_type": "code",
   "execution_count": 28,
   "metadata": {},
   "outputs": [
    {
     "data": {
      "text/plain": [
       "array([ 2.5,  6.5, 10.5])"
      ]
     },
     "execution_count": 28,
     "metadata": {},
     "output_type": "execute_result"
    }
   ],
   "source": [
    "# 1번째 차원 방향으로 모든 원소들의 평균\n",
    "np.mean(A, axis=1)"
   ]
  },
  {
   "cell_type": "markdown",
   "metadata": {},
   "source": [
    "##### (3) np.var()\n",
    "`np.var(행렬, 축)` 은 주어진 행렬과 축 방향에 대해 분산을 계산해 반환하는 함수입니다."
   ]
  },
  {
   "cell_type": "code",
   "execution_count": 29,
   "metadata": {},
   "outputs": [
    {
     "data": {
      "text/plain": [
       "array([10.66666667, 10.66666667, 10.66666667, 10.66666667])"
      ]
     },
     "execution_count": 29,
     "metadata": {},
     "output_type": "execute_result"
    }
   ],
   "source": [
    "# 0번째 차원 방향으로 모든 원소들의 분산\n",
    "np.var(A, axis=0)"
   ]
  },
  {
   "cell_type": "code",
   "execution_count": 30,
   "metadata": {},
   "outputs": [
    {
     "data": {
      "text/plain": [
       "array([1.25, 1.25, 1.25])"
      ]
     },
     "execution_count": 30,
     "metadata": {},
     "output_type": "execute_result"
    }
   ],
   "source": [
    "# 1번째 차원 방향으로 모든 원소들의 분산\n",
    "np.var(A, axis=1)"
   ]
  },
  {
   "cell_type": "markdown",
   "metadata": {},
   "source": [
    "##### (4) np.std()\n",
    "`np.std(행렬, 축)` 은 주어진 행렬과 축 방향에 대해 표준편차를 계산해 반환하는 함수입니다."
   ]
  },
  {
   "cell_type": "code",
   "execution_count": 31,
   "metadata": {},
   "outputs": [
    {
     "data": {
      "text/plain": [
       "array([3.26598632, 3.26598632, 3.26598632, 3.26598632])"
      ]
     },
     "execution_count": 31,
     "metadata": {},
     "output_type": "execute_result"
    }
   ],
   "source": [
    "# 0번째 차원 방향으로 모든 원소들의 표준편차\n",
    "np.std(A, axis=0)"
   ]
  },
  {
   "cell_type": "code",
   "execution_count": 32,
   "metadata": {},
   "outputs": [
    {
     "data": {
      "text/plain": [
       "array([1.11803399, 1.11803399, 1.11803399])"
      ]
     },
     "execution_count": 32,
     "metadata": {},
     "output_type": "execute_result"
    }
   ],
   "source": [
    "# 0번째 차원 방향으로 모든 원소들의 표준편차\n",
    "np.std(A, axis=1)"
   ]
  },
  {
   "cell_type": "markdown",
   "metadata": {},
   "source": [
    "##### (5) np.max()\n",
    "`np.max(행렬, 축)` 은 주어진 행렬과 축 방향에 대해 최대값을 반환하는 함수입니다."
   ]
  },
  {
   "cell_type": "code",
   "execution_count": 33,
   "metadata": {},
   "outputs": [
    {
     "data": {
      "text/plain": [
       "array([ 9, 10, 11, 12])"
      ]
     },
     "execution_count": 33,
     "metadata": {},
     "output_type": "execute_result"
    }
   ],
   "source": [
    "# 0번째 차원 방향으로 원소들의 최대값\n",
    "np.max(A, axis=0)"
   ]
  },
  {
   "cell_type": "code",
   "execution_count": 34,
   "metadata": {},
   "outputs": [
    {
     "data": {
      "text/plain": [
       "array([ 4,  8, 12])"
      ]
     },
     "execution_count": 34,
     "metadata": {},
     "output_type": "execute_result"
    }
   ],
   "source": [
    "# 1번째 차원 방향으로 원소들의 최대값\n",
    "np.max(A, axis=1)"
   ]
  },
  {
   "cell_type": "markdown",
   "metadata": {},
   "source": [
    "##### (6) np.min()\n",
    "`np.min(행렬, 축)` 은 주어진 행렬과 축 방향에 대해 최소값을 반환하는 함수입니다."
   ]
  },
  {
   "cell_type": "code",
   "execution_count": 35,
   "metadata": {},
   "outputs": [
    {
     "data": {
      "text/plain": [
       "array([1, 2, 3, 4])"
      ]
     },
     "execution_count": 35,
     "metadata": {},
     "output_type": "execute_result"
    }
   ],
   "source": [
    "# 0번째 차원 방향으로 원소들의 최소값\n",
    "np.min(A, axis=0)"
   ]
  },
  {
   "cell_type": "code",
   "execution_count": 36,
   "metadata": {},
   "outputs": [
    {
     "data": {
      "text/plain": [
       "array([1, 5, 9])"
      ]
     },
     "execution_count": 36,
     "metadata": {},
     "output_type": "execute_result"
    }
   ],
   "source": [
    "# 1번째 차원 방향으로 원소들의 최소값\n",
    "np.min(A, axis=1)"
   ]
  },
  {
   "cell_type": "markdown",
   "metadata": {},
   "source": [
    "##### (7) np.unique()\n",
    "`np.unique(행렬)` 은 주어진 행렬에 대해 중복을 제거하여 모든 원소 값을 반환하는 함수입니다."
   ]
  },
  {
   "cell_type": "code",
   "execution_count": 37,
   "metadata": {},
   "outputs": [
    {
     "data": {
      "text/plain": [
       "array([[0, 0, 0, 0],\n",
       "       [1, 2, 2, 0],\n",
       "       [3, 4, 5, 4]])"
      ]
     },
     "execution_count": 37,
     "metadata": {},
     "output_type": "execute_result"
    }
   ],
   "source": [
    "A = np.array([[0, 0, 0, 0], [1, 2, 2, 0], [3, 4, 5, 4]])\n",
    "A"
   ]
  },
  {
   "cell_type": "code",
   "execution_count": 38,
   "metadata": {},
   "outputs": [
    {
     "data": {
      "text/plain": [
       "array([0, 1, 2, 3, 4, 5])"
      ]
     },
     "execution_count": 38,
     "metadata": {},
     "output_type": "execute_result"
    }
   ],
   "source": [
    "# 원소들 중 고유한 값\n",
    "np.unique(A)"
   ]
  },
  {
   "cell_type": "markdown",
   "metadata": {},
   "source": [
    "#### 4) np.log, np.exp\n",
    "값에 자연 로그를 취하거나 자연 상수의 지수곱을 수행하는 함수입니다.<br>\n",
    "\n",
    "일반적으로 데이터가 치우친(Skew) 분포를 가지고 있을 경우 로그 변환을 수행하게 되는데, np.log는 이 때 사용하는 메소드 입니다. <br>\n",
    "자연 로그의 역함수로 사용되는 메소드로 np.exp가 있습니다. "
   ]
  },
  {
   "cell_type": "code",
   "execution_count": 39,
   "metadata": {},
   "outputs": [
    {
     "data": {
      "text/plain": [
       "0.9984235614126774"
      ]
     },
     "execution_count": 39,
     "metadata": {},
     "output_type": "execute_result"
    }
   ],
   "source": [
    "a = 2.714\n",
    "b = np.log(a)\n",
    "b"
   ]
  },
  {
   "cell_type": "code",
   "execution_count": 40,
   "metadata": {},
   "outputs": [
    {
     "data": {
      "text/plain": [
       "2.714"
      ]
     },
     "execution_count": 40,
     "metadata": {},
     "output_type": "execute_result"
    }
   ],
   "source": [
    "np.exp(b)"
   ]
  },
  {
   "cell_type": "markdown",
   "metadata": {},
   "source": [
    "#### 5) np.apply_along_axis\n",
    "행렬에 특정 축을 기준으로 함수를 적용할 수 있도록 해주는 메소드입니다.<br>\n",
    "Pandas에서 `apply()` 라는 동일한 기능을 가진 메소드가 있지만,<br>\n",
    "크기가 큰 정형 데이터에는 성능이 좋지않아 빠르게 연산을 적용하고자할 때 해당 메소드를 사용합니다."
   ]
  },
  {
   "cell_type": "code",
   "execution_count": 41,
   "metadata": {},
   "outputs": [
    {
     "data": {
      "text/plain": [
       "(10000, 10000)"
      ]
     },
     "execution_count": 41,
     "metadata": {},
     "output_type": "execute_result"
    }
   ],
   "source": [
    "Big_A = np.random.uniform(5, size=(10000, 10000))\n",
    "Big_A.shape"
   ]
  },
  {
   "cell_type": "code",
   "execution_count": 42,
   "metadata": {},
   "outputs": [
    {
     "data": {
      "text/plain": [
       "(10000, 10000)"
      ]
     },
     "execution_count": 42,
     "metadata": {},
     "output_type": "execute_result"
    }
   ],
   "source": [
    "Big_A_DF = pd.DataFrame(Big_A)\n",
    "Big_A_DF.shape"
   ]
  },
  {
   "cell_type": "code",
   "execution_count": 43,
   "metadata": {},
   "outputs": [
    {
     "data": {
      "text/html": [
       "<div>\n",
       "<style scoped>\n",
       "    .dataframe tbody tr th:only-of-type {\n",
       "        vertical-align: middle;\n",
       "    }\n",
       "\n",
       "    .dataframe tbody tr th {\n",
       "        vertical-align: top;\n",
       "    }\n",
       "\n",
       "    .dataframe thead th {\n",
       "        text-align: right;\n",
       "    }\n",
       "</style>\n",
       "<table border=\"1\" class=\"dataframe\">\n",
       "  <thead>\n",
       "    <tr style=\"text-align: right;\">\n",
       "      <th></th>\n",
       "      <th>0</th>\n",
       "      <th>1</th>\n",
       "      <th>2</th>\n",
       "      <th>3</th>\n",
       "      <th>4</th>\n",
       "      <th>5</th>\n",
       "      <th>6</th>\n",
       "      <th>7</th>\n",
       "      <th>8</th>\n",
       "      <th>9</th>\n",
       "      <th>...</th>\n",
       "      <th>9990</th>\n",
       "      <th>9991</th>\n",
       "      <th>9992</th>\n",
       "      <th>9993</th>\n",
       "      <th>9994</th>\n",
       "      <th>9995</th>\n",
       "      <th>9996</th>\n",
       "      <th>9997</th>\n",
       "      <th>9998</th>\n",
       "      <th>9999</th>\n",
       "    </tr>\n",
       "  </thead>\n",
       "  <tbody>\n",
       "    <tr>\n",
       "      <th>0</th>\n",
       "      <td>3.203464</td>\n",
       "      <td>3.908143</td>\n",
       "      <td>3.593418</td>\n",
       "      <td>3.779961</td>\n",
       "      <td>3.256661</td>\n",
       "      <td>3.389769</td>\n",
       "      <td>1.876763</td>\n",
       "      <td>4.790104</td>\n",
       "      <td>3.516097</td>\n",
       "      <td>2.370766</td>\n",
       "      <td>...</td>\n",
       "      <td>3.658305</td>\n",
       "      <td>3.954302</td>\n",
       "      <td>3.041649</td>\n",
       "      <td>4.156410</td>\n",
       "      <td>1.233379</td>\n",
       "      <td>3.814806</td>\n",
       "      <td>2.509314</td>\n",
       "      <td>4.602282</td>\n",
       "      <td>3.493763</td>\n",
       "      <td>2.270837</td>\n",
       "    </tr>\n",
       "    <tr>\n",
       "      <th>1</th>\n",
       "      <td>2.951756</td>\n",
       "      <td>2.448150</td>\n",
       "      <td>4.662837</td>\n",
       "      <td>4.606834</td>\n",
       "      <td>1.240860</td>\n",
       "      <td>1.900395</td>\n",
       "      <td>1.792776</td>\n",
       "      <td>3.844104</td>\n",
       "      <td>2.702997</td>\n",
       "      <td>3.053427</td>\n",
       "      <td>...</td>\n",
       "      <td>2.965751</td>\n",
       "      <td>1.051694</td>\n",
       "      <td>3.034396</td>\n",
       "      <td>3.163281</td>\n",
       "      <td>4.303975</td>\n",
       "      <td>2.930383</td>\n",
       "      <td>4.298125</td>\n",
       "      <td>1.260565</td>\n",
       "      <td>3.867476</td>\n",
       "      <td>4.219275</td>\n",
       "    </tr>\n",
       "    <tr>\n",
       "      <th>2</th>\n",
       "      <td>2.672699</td>\n",
       "      <td>4.020910</td>\n",
       "      <td>1.150542</td>\n",
       "      <td>1.893138</td>\n",
       "      <td>4.691370</td>\n",
       "      <td>4.713585</td>\n",
       "      <td>2.278657</td>\n",
       "      <td>3.451084</td>\n",
       "      <td>4.671018</td>\n",
       "      <td>4.764451</td>\n",
       "      <td>...</td>\n",
       "      <td>2.203918</td>\n",
       "      <td>3.201497</td>\n",
       "      <td>1.382628</td>\n",
       "      <td>4.766908</td>\n",
       "      <td>4.572294</td>\n",
       "      <td>4.526735</td>\n",
       "      <td>2.138720</td>\n",
       "      <td>4.640135</td>\n",
       "      <td>1.787221</td>\n",
       "      <td>3.068611</td>\n",
       "    </tr>\n",
       "    <tr>\n",
       "      <th>3</th>\n",
       "      <td>3.967349</td>\n",
       "      <td>1.105422</td>\n",
       "      <td>3.300448</td>\n",
       "      <td>1.166960</td>\n",
       "      <td>2.244555</td>\n",
       "      <td>1.951236</td>\n",
       "      <td>4.519145</td>\n",
       "      <td>4.959211</td>\n",
       "      <td>1.404797</td>\n",
       "      <td>1.053022</td>\n",
       "      <td>...</td>\n",
       "      <td>2.368320</td>\n",
       "      <td>1.371394</td>\n",
       "      <td>2.726128</td>\n",
       "      <td>2.861302</td>\n",
       "      <td>4.859071</td>\n",
       "      <td>2.182660</td>\n",
       "      <td>1.845274</td>\n",
       "      <td>4.476898</td>\n",
       "      <td>4.442595</td>\n",
       "      <td>2.522536</td>\n",
       "    </tr>\n",
       "    <tr>\n",
       "      <th>4</th>\n",
       "      <td>1.921336</td>\n",
       "      <td>3.994663</td>\n",
       "      <td>3.651060</td>\n",
       "      <td>3.398135</td>\n",
       "      <td>2.881353</td>\n",
       "      <td>3.825791</td>\n",
       "      <td>3.270315</td>\n",
       "      <td>1.739626</td>\n",
       "      <td>3.373921</td>\n",
       "      <td>1.075053</td>\n",
       "      <td>...</td>\n",
       "      <td>3.919999</td>\n",
       "      <td>2.232838</td>\n",
       "      <td>1.409814</td>\n",
       "      <td>2.678806</td>\n",
       "      <td>3.598715</td>\n",
       "      <td>4.340065</td>\n",
       "      <td>3.159808</td>\n",
       "      <td>3.723178</td>\n",
       "      <td>1.314883</td>\n",
       "      <td>3.523176</td>\n",
       "    </tr>\n",
       "  </tbody>\n",
       "</table>\n",
       "<p>5 rows × 10000 columns</p>\n",
       "</div>"
      ],
      "text/plain": [
       "       0         1         2         3         4         5         6     \\\n",
       "0  3.203464  3.908143  3.593418  3.779961  3.256661  3.389769  1.876763   \n",
       "1  2.951756  2.448150  4.662837  4.606834  1.240860  1.900395  1.792776   \n",
       "2  2.672699  4.020910  1.150542  1.893138  4.691370  4.713585  2.278657   \n",
       "3  3.967349  1.105422  3.300448  1.166960  2.244555  1.951236  4.519145   \n",
       "4  1.921336  3.994663  3.651060  3.398135  2.881353  3.825791  3.270315   \n",
       "\n",
       "       7         8         9     ...      9990      9991      9992      9993  \\\n",
       "0  4.790104  3.516097  2.370766  ...  3.658305  3.954302  3.041649  4.156410   \n",
       "1  3.844104  2.702997  3.053427  ...  2.965751  1.051694  3.034396  3.163281   \n",
       "2  3.451084  4.671018  4.764451  ...  2.203918  3.201497  1.382628  4.766908   \n",
       "3  4.959211  1.404797  1.053022  ...  2.368320  1.371394  2.726128  2.861302   \n",
       "4  1.739626  3.373921  1.075053  ...  3.919999  2.232838  1.409814  2.678806   \n",
       "\n",
       "       9994      9995      9996      9997      9998      9999  \n",
       "0  1.233379  3.814806  2.509314  4.602282  3.493763  2.270837  \n",
       "1  4.303975  2.930383  4.298125  1.260565  3.867476  4.219275  \n",
       "2  4.572294  4.526735  2.138720  4.640135  1.787221  3.068611  \n",
       "3  4.859071  2.182660  1.845274  4.476898  4.442595  2.522536  \n",
       "4  3.598715  4.340065  3.159808  3.723178  1.314883  3.523176  \n",
       "\n",
       "[5 rows x 10000 columns]"
      ]
     },
     "execution_count": 43,
     "metadata": {},
     "output_type": "execute_result"
    }
   ],
   "source": [
    "Big_A_DF.head()"
   ]
  },
  {
   "cell_type": "code",
   "execution_count": 44,
   "metadata": {},
   "outputs": [
    {
     "name": "stdout",
     "output_type": "stream",
     "text": [
      "Pandas DataFrame.apply(), 소요된 시간: 5.53s\n"
     ]
    }
   ],
   "source": [
    "start = time.time()\n",
    "Big_A_DF.apply(lambda x : np.max(x) - np.min(x), axis=0)\n",
    "end = time.time()\n",
    "print('Pandas DataFrame.apply(), 소요된 시간: {:.3}s'.format(end-start))"
   ]
  },
  {
   "cell_type": "code",
   "execution_count": 45,
   "metadata": {},
   "outputs": [
    {
     "name": "stdout",
     "output_type": "stream",
     "text": [
      "Numpy np.apply_along_axis, 소요된 시간: 2.67s\n"
     ]
    }
   ],
   "source": [
    "start = time.time()\n",
    "np.apply_along_axis(lambda x : np.max(x) - np.min(x), axis=0, arr=Big_A_DF.values)\n",
    "end = time.time()\n",
    "print('Numpy np.apply_along_axis, 소요된 시간: {:.3}s'.format(end-start))"
   ]
  },
  {
   "cell_type": "markdown",
   "metadata": {},
   "source": [
    "#### 6) np.random 모듈\n",
    "난수를 생성할 수 있는 모듈입니다. 일반적으로 임의의 정수를 생성하거나 실수를 생성할 때 사용됩니다. <br>\n",
    "특정 분포에서 난수를 생성할 수도 있습니다. 대표적인 분포로는 균등 분포(Uniform), 정규 분포(Normal) 등이 있습니다. <br>\n",
    "\n",
    "##### (1) np.random.randint()\n",
    "`np.random.randint(최소, 최대, 개수)`는 '최소 <= x < 최대' 범위에서 임의의 정수를 생성하는 메소드 입니다."
   ]
  },
  {
   "cell_type": "code",
   "execution_count": 46,
   "metadata": {},
   "outputs": [
    {
     "data": {
      "text/plain": [
       "1"
      ]
     },
     "execution_count": 46,
     "metadata": {},
     "output_type": "execute_result"
    }
   ],
   "source": [
    "# 0 ~ 4 범위에서 임의의 정수 1개를 반환합니다.\n",
    "np.random.randint(5)"
   ]
  },
  {
   "cell_type": "code",
   "execution_count": 47,
   "metadata": {},
   "outputs": [
    {
     "data": {
      "text/plain": [
       "3"
      ]
     },
     "execution_count": 47,
     "metadata": {},
     "output_type": "execute_result"
    }
   ],
   "source": [
    "# 1 ~ 9 범위에서 임의의 정수 1개를 반환합니다.\n",
    "np.random.randint(1, 10)"
   ]
  },
  {
   "cell_type": "code",
   "execution_count": 48,
   "metadata": {},
   "outputs": [
    {
     "data": {
      "text/plain": [
       "array([6, 4, 7, 5, 4, 6, 9, 5, 8, 4])"
      ]
     },
     "execution_count": 48,
     "metadata": {},
     "output_type": "execute_result"
    }
   ],
   "source": [
    "# 3 ~ 9 범위에서 임의의 정수 10개를 행렬로 반환합니다.\n",
    "np.random.randint(3, 10, 10)"
   ]
  },
  {
   "cell_type": "markdown",
   "metadata": {},
   "source": [
    "##### (2) np,random.uniform()\n",
    "`np.random.uniform(최소, 최대, 개수)` 는 '최소 <= x < 최대' 범위에서 임의의 실수를 생성하는 메소드 입니다. "
   ]
  },
  {
   "cell_type": "code",
   "execution_count": 49,
   "metadata": {},
   "outputs": [
    {
     "data": {
      "text/plain": [
       "1.1907541885585826"
      ]
     },
     "execution_count": 49,
     "metadata": {},
     "output_type": "execute_result"
    }
   ],
   "source": [
    "# 0 ~ 4 범위에서 임의의 실수 1개를 반환합니다.\n",
    "np.random.uniform(5)"
   ]
  },
  {
   "cell_type": "code",
   "execution_count": 50,
   "metadata": {},
   "outputs": [
    {
     "data": {
      "text/plain": [
       "5.382295075743357"
      ]
     },
     "execution_count": 50,
     "metadata": {},
     "output_type": "execute_result"
    }
   ],
   "source": [
    "# 1 ~ 9 범위에서 임의의 실수 1개를 반환합니다.\n",
    "np.random.uniform(1, 10)"
   ]
  },
  {
   "cell_type": "code",
   "execution_count": 51,
   "metadata": {},
   "outputs": [
    {
     "data": {
      "text/plain": [
       "array([8.6006941 , 7.03100609, 8.23283313, 6.50036096, 4.98282191,\n",
       "       9.69864555, 7.33717624, 7.78778076, 7.92232234, 3.76561921])"
      ]
     },
     "execution_count": 51,
     "metadata": {},
     "output_type": "execute_result"
    }
   ],
   "source": [
    "# 3 ~ 9 범위에서 임의의 실수 10개를 행렬로 반환합니다.\n",
    "np.random.uniform(3, 10, 10)"
   ]
  },
  {
   "cell_type": "markdown",
   "metadata": {},
   "source": [
    "##### (3) np,random.normal()\n",
    "`np.random.normal(평균, 표준편차, 개수)` 는 인자로 전달한 평균과 표준편차를 가진 정규분포에서 임의의 실수를 생성하는 메소드 입니다. "
   ]
  },
  {
   "cell_type": "code",
   "execution_count": 52,
   "metadata": {},
   "outputs": [
    {
     "data": {
      "text/plain": [
       "5.90509556296786"
      ]
     },
     "execution_count": 52,
     "metadata": {},
     "output_type": "execute_result"
    }
   ],
   "source": [
    "# 평균이 5이고, 표준편차가 1인 정규분포에서 임의의 실수 1개를 반환합니다.\n",
    "np.random.normal(5)"
   ]
  },
  {
   "cell_type": "code",
   "execution_count": 53,
   "metadata": {},
   "outputs": [
    {
     "data": {
      "text/plain": [
       "9.003691019595156"
      ]
     },
     "execution_count": 53,
     "metadata": {},
     "output_type": "execute_result"
    }
   ],
   "source": [
    "# 평균이 1이고 표준편차가 10인 정규분포에서 임의의 실수 1개를 반환합니다.\n",
    "np.random.normal(1, 10)"
   ]
  },
  {
   "cell_type": "code",
   "execution_count": 54,
   "metadata": {},
   "outputs": [
    {
     "data": {
      "text/plain": [
       "array([ 2.67669212,  0.29511586,  8.37945999, -1.33140437,  2.07755381,\n",
       "       -1.02066114,  1.52276836,  6.73694818,  0.68671769,  9.35668038])"
      ]
     },
     "execution_count": 54,
     "metadata": {},
     "output_type": "execute_result"
    }
   ],
   "source": [
    "# 평균이 3이고 표준편차가 3인 정규분포에서 임의의 실수 10개를 행렬로 반환합니다.\n",
    "np.random.normal(3, 3, 10)"
   ]
  },
  {
   "cell_type": "markdown",
   "metadata": {},
   "source": [
    "# Pandas\n",
    "## Pandas란?\n",
    "판다스(Pandas)는 데이터 조작 및 분석을 위해 사용하는 라이브러리입니다. <br>\n",
    "특히, 숫자 테이블 및 시계열 데이터를 위한 데이터 구조 및 함수를 제공합니다.\n",
    "\n",
    "### 1. Series\n",
    "시리즈(Series)는 Pandas의 대표적인 데이터 객체 표현으로 라벨(컬럼 이름)을 가진 1차원 배열입니다. <br>\n",
    "간단하게 하나의 열(Column)을 생각하시면 됩니다. \n",
    "\n",
    "$ Series\\ = {\\begin{bmatrix} x_1 \\\\ x_2 \\\\ x_3 \\\\ ... \\\\ x_n \\end{bmatrix}}_{변수 이름} $"
   ]
  },
  {
   "cell_type": "code",
   "execution_count": 55,
   "metadata": {},
   "outputs": [
    {
     "data": {
      "text/plain": [
       "0    1\n",
       "1    2\n",
       "2    3\n",
       "3    4\n",
       "4    5\n",
       "5    6\n",
       "6    7\n",
       "7    8\n",
       "Name: 변수 이름, dtype: int32"
      ]
     },
     "execution_count": 55,
     "metadata": {},
     "output_type": "execute_result"
    }
   ],
   "source": [
    "S = pd.Series(np.array([1, 2, 3, 4, 5, 6, 7, 8]), name='변수 이름')\n",
    "S"
   ]
  },
  {
   "cell_type": "markdown",
   "metadata": {},
   "source": [
    "### 2. DataFrame\n",
    "데이터 프레임(DataFrame)는 Pandas의 대표적인 데이터 객체 표현으로 라벨(컬럼 이름)을 가진 2차원 배열입니다. <br>\n",
    "간단하게 엑셀 데이터를 생각하시면 됩니다. \n",
    "\n",
    "$ DataFrame\\ = {\\begin{bmatrix} x_1 \\\\ x_2 \\\\ x_3 \\\\ ... \\\\ x_n \\end{bmatrix}}_{변수 이름1}  {\\begin{bmatrix} x_1 \\\\ x_2 \\\\ x_3 \\\\ ... \\\\ x_n \\end{bmatrix}}_{변수 이름2}  {\\begin{bmatrix} x_1 \\\\ x_2 \\\\ x_3 \\\\ ... \\\\ x_n \\end{bmatrix}}_{변수 이름3}$"
   ]
  },
  {
   "cell_type": "code",
   "execution_count": 56,
   "metadata": {},
   "outputs": [
    {
     "data": {
      "text/html": [
       "<div>\n",
       "<style scoped>\n",
       "    .dataframe tbody tr th:only-of-type {\n",
       "        vertical-align: middle;\n",
       "    }\n",
       "\n",
       "    .dataframe tbody tr th {\n",
       "        vertical-align: top;\n",
       "    }\n",
       "\n",
       "    .dataframe thead th {\n",
       "        text-align: right;\n",
       "    }\n",
       "</style>\n",
       "<table border=\"1\" class=\"dataframe\">\n",
       "  <thead>\n",
       "    <tr style=\"text-align: right;\">\n",
       "      <th></th>\n",
       "      <th>Var1</th>\n",
       "      <th>Var2</th>\n",
       "      <th>Var3</th>\n",
       "    </tr>\n",
       "  </thead>\n",
       "  <tbody>\n",
       "    <tr>\n",
       "      <th>0</th>\n",
       "      <td>1</td>\n",
       "      <td>2</td>\n",
       "      <td>3</td>\n",
       "    </tr>\n",
       "    <tr>\n",
       "      <th>1</th>\n",
       "      <td>4</td>\n",
       "      <td>5</td>\n",
       "      <td>6</td>\n",
       "    </tr>\n",
       "    <tr>\n",
       "      <th>2</th>\n",
       "      <td>7</td>\n",
       "      <td>8</td>\n",
       "      <td>9</td>\n",
       "    </tr>\n",
       "  </tbody>\n",
       "</table>\n",
       "</div>"
      ],
      "text/plain": [
       "   Var1  Var2  Var3\n",
       "0     1     2     3\n",
       "1     4     5     6\n",
       "2     7     8     9"
      ]
     },
     "execution_count": 56,
     "metadata": {},
     "output_type": "execute_result"
    }
   ],
   "source": [
    "DF = pd.DataFrame(np.array([[1, 2, 3], [4, 5, 6], [7, 8, 9]]), columns=['Var1', 'Var2', 'Var3'])\n",
    "DF"
   ]
  },
  {
   "cell_type": "markdown",
   "metadata": {},
   "source": [
    "### 3. Functions\n",
    "자주 사용되는 Pandas의 기능에 대해 알아보겠습니다. "
   ]
  },
  {
   "cell_type": "markdown",
   "metadata": {},
   "source": [
    "#### 1) DataFrame.shape\n",
    "Numpy의 np.shape 처럼 동일하게 차원을 확인할 수 있는 속성입니다. <br>\n",
    "차원을 변경할 수 있는 reshape 함수는 따로 존재하지 않기 때문에 <br>\n",
    "차원을 변경하고자 할 때는 Numpy 행렬로 변경한 후에 np.reshape 메소드를 사용하여 변경합니다.\n",
    "\n",
    "##### DataFrame.shape\n",
    "Pandas의 DataFrame의 행과 열의 수를 확인할 수 있는 메소드입니다."
   ]
  },
  {
   "cell_type": "code",
   "execution_count": 57,
   "metadata": {},
   "outputs": [
    {
     "data": {
      "text/plain": [
       "(3, 3)"
      ]
     },
     "execution_count": 57,
     "metadata": {},
     "output_type": "execute_result"
    }
   ],
   "source": [
    "# 3개의 행과 3개의 열로 구성된 것을 확인할 수 있습니다. \n",
    "DF.shape"
   ]
  },
  {
   "cell_type": "markdown",
   "metadata": {},
   "source": [
    "#### 2) .head()\n",
    "`.head(개수)` 는 Series나 DataFrame 객체가 가진 값의 일부분을 반환하는 메소드 입니다. <br>\n",
    "기본 값으로 5개를 반환하며, 전달한 인자의 숫자에 따라 개수를 조절할 수 있습니다."
   ]
  },
  {
   "cell_type": "code",
   "execution_count": 58,
   "metadata": {},
   "outputs": [
    {
     "data": {
      "text/html": [
       "<div>\n",
       "<style scoped>\n",
       "    .dataframe tbody tr th:only-of-type {\n",
       "        vertical-align: middle;\n",
       "    }\n",
       "\n",
       "    .dataframe tbody tr th {\n",
       "        vertical-align: top;\n",
       "    }\n",
       "\n",
       "    .dataframe thead th {\n",
       "        text-align: right;\n",
       "    }\n",
       "</style>\n",
       "<table border=\"1\" class=\"dataframe\">\n",
       "  <thead>\n",
       "    <tr style=\"text-align: right;\">\n",
       "      <th></th>\n",
       "      <th>Var1</th>\n",
       "      <th>Var2</th>\n",
       "      <th>Var3</th>\n",
       "    </tr>\n",
       "  </thead>\n",
       "  <tbody>\n",
       "    <tr>\n",
       "      <th>0</th>\n",
       "      <td>1</td>\n",
       "      <td>2</td>\n",
       "      <td>3</td>\n",
       "    </tr>\n",
       "    <tr>\n",
       "      <th>1</th>\n",
       "      <td>4</td>\n",
       "      <td>5</td>\n",
       "      <td>6</td>\n",
       "    </tr>\n",
       "    <tr>\n",
       "      <th>2</th>\n",
       "      <td>7</td>\n",
       "      <td>8</td>\n",
       "      <td>9</td>\n",
       "    </tr>\n",
       "  </tbody>\n",
       "</table>\n",
       "</div>"
      ],
      "text/plain": [
       "   Var1  Var2  Var3\n",
       "0     1     2     3\n",
       "1     4     5     6\n",
       "2     7     8     9"
      ]
     },
     "execution_count": 58,
     "metadata": {},
     "output_type": "execute_result"
    }
   ],
   "source": [
    "DF.head()"
   ]
  },
  {
   "cell_type": "code",
   "execution_count": 59,
   "metadata": {},
   "outputs": [
    {
     "data": {
      "text/html": [
       "<div>\n",
       "<style scoped>\n",
       "    .dataframe tbody tr th:only-of-type {\n",
       "        vertical-align: middle;\n",
       "    }\n",
       "\n",
       "    .dataframe tbody tr th {\n",
       "        vertical-align: top;\n",
       "    }\n",
       "\n",
       "    .dataframe thead th {\n",
       "        text-align: right;\n",
       "    }\n",
       "</style>\n",
       "<table border=\"1\" class=\"dataframe\">\n",
       "  <thead>\n",
       "    <tr style=\"text-align: right;\">\n",
       "      <th></th>\n",
       "      <th>Var1</th>\n",
       "      <th>Var2</th>\n",
       "      <th>Var3</th>\n",
       "    </tr>\n",
       "  </thead>\n",
       "  <tbody>\n",
       "    <tr>\n",
       "      <th>0</th>\n",
       "      <td>1</td>\n",
       "      <td>2</td>\n",
       "      <td>3</td>\n",
       "    </tr>\n",
       "  </tbody>\n",
       "</table>\n",
       "</div>"
      ],
      "text/plain": [
       "   Var1  Var2  Var3\n",
       "0     1     2     3"
      ]
     },
     "execution_count": 59,
     "metadata": {},
     "output_type": "execute_result"
    }
   ],
   "source": [
    "DF.head(1)"
   ]
  },
  {
   "cell_type": "markdown",
   "metadata": {},
   "source": [
    "#### 2) .info()\n",
    "`.info()` 는 Series나 DataFrame 객체가 가진 변수들의 정보를 보여줍니다. <br>\n",
    "일반적으로 변수들의 자료형(수치형 or 범주형)을 확인하기 위해 사용하기도 합니다."
   ]
  },
  {
   "cell_type": "code",
   "execution_count": 60,
   "metadata": {},
   "outputs": [
    {
     "name": "stdout",
     "output_type": "stream",
     "text": [
      "<class 'pandas.core.frame.DataFrame'>\n",
      "RangeIndex: 3 entries, 0 to 2\n",
      "Data columns (total 3 columns):\n",
      " #   Column  Non-Null Count  Dtype\n",
      "---  ------  --------------  -----\n",
      " 0   Var1    3 non-null      int32\n",
      " 1   Var2    3 non-null      int32\n",
      " 2   Var3    3 non-null      int32\n",
      "dtypes: int32(3)\n",
      "memory usage: 164.0 bytes\n"
     ]
    }
   ],
   "source": [
    "DF.info()"
   ]
  },
  {
   "cell_type": "markdown",
   "metadata": {},
   "source": [
    "#### 3) .describe()\n",
    "`.describe()` 는 Series나 DataFrame 객체가 가진 변수들의 최대, 최소, 중간, 평균, 표준편차 등 기초 통계량 값을 확인할 수 있습니다.<br>"
   ]
  },
  {
   "cell_type": "code",
   "execution_count": 61,
   "metadata": {},
   "outputs": [
    {
     "data": {
      "text/html": [
       "<div>\n",
       "<style scoped>\n",
       "    .dataframe tbody tr th:only-of-type {\n",
       "        vertical-align: middle;\n",
       "    }\n",
       "\n",
       "    .dataframe tbody tr th {\n",
       "        vertical-align: top;\n",
       "    }\n",
       "\n",
       "    .dataframe thead th {\n",
       "        text-align: right;\n",
       "    }\n",
       "</style>\n",
       "<table border=\"1\" class=\"dataframe\">\n",
       "  <thead>\n",
       "    <tr style=\"text-align: right;\">\n",
       "      <th></th>\n",
       "      <th>Var1</th>\n",
       "      <th>Var2</th>\n",
       "      <th>Var3</th>\n",
       "    </tr>\n",
       "  </thead>\n",
       "  <tbody>\n",
       "    <tr>\n",
       "      <th>count</th>\n",
       "      <td>3.0</td>\n",
       "      <td>3.0</td>\n",
       "      <td>3.0</td>\n",
       "    </tr>\n",
       "    <tr>\n",
       "      <th>mean</th>\n",
       "      <td>4.0</td>\n",
       "      <td>5.0</td>\n",
       "      <td>6.0</td>\n",
       "    </tr>\n",
       "    <tr>\n",
       "      <th>std</th>\n",
       "      <td>3.0</td>\n",
       "      <td>3.0</td>\n",
       "      <td>3.0</td>\n",
       "    </tr>\n",
       "    <tr>\n",
       "      <th>min</th>\n",
       "      <td>1.0</td>\n",
       "      <td>2.0</td>\n",
       "      <td>3.0</td>\n",
       "    </tr>\n",
       "    <tr>\n",
       "      <th>25%</th>\n",
       "      <td>2.5</td>\n",
       "      <td>3.5</td>\n",
       "      <td>4.5</td>\n",
       "    </tr>\n",
       "    <tr>\n",
       "      <th>50%</th>\n",
       "      <td>4.0</td>\n",
       "      <td>5.0</td>\n",
       "      <td>6.0</td>\n",
       "    </tr>\n",
       "    <tr>\n",
       "      <th>75%</th>\n",
       "      <td>5.5</td>\n",
       "      <td>6.5</td>\n",
       "      <td>7.5</td>\n",
       "    </tr>\n",
       "    <tr>\n",
       "      <th>max</th>\n",
       "      <td>7.0</td>\n",
       "      <td>8.0</td>\n",
       "      <td>9.0</td>\n",
       "    </tr>\n",
       "  </tbody>\n",
       "</table>\n",
       "</div>"
      ],
      "text/plain": [
       "       Var1  Var2  Var3\n",
       "count   3.0   3.0   3.0\n",
       "mean    4.0   5.0   6.0\n",
       "std     3.0   3.0   3.0\n",
       "min     1.0   2.0   3.0\n",
       "25%     2.5   3.5   4.5\n",
       "50%     4.0   5.0   6.0\n",
       "75%     5.5   6.5   7.5\n",
       "max     7.0   8.0   9.0"
      ]
     },
     "execution_count": 61,
     "metadata": {},
     "output_type": "execute_result"
    }
   ],
   "source": [
    "DF.describe()"
   ]
  },
  {
   "cell_type": "markdown",
   "metadata": {},
   "source": [
    "#### 4) .values\n",
    "`.values` 속성은 Series나 DataFrame에서 값을 Numpy 배열(ndarray)로 반환해줍니다. <br>\n",
    "주로 대용량 데이터 처리 시 Pandas 자체 연산보다는 Numpy 배열 연산이 빠르기 때문에 Numpy 배열로 변환 후 연산할 때 사용합니다."
   ]
  },
  {
   "cell_type": "code",
   "execution_count": 62,
   "metadata": {},
   "outputs": [
    {
     "data": {
      "text/plain": [
       "array([[1, 2, 3],\n",
       "       [4, 5, 6],\n",
       "       [7, 8, 9]])"
      ]
     },
     "execution_count": 62,
     "metadata": {},
     "output_type": "execute_result"
    }
   ],
   "source": [
    "DF.values"
   ]
  },
  {
   "cell_type": "markdown",
   "metadata": {},
   "source": [
    "#### 5) pd.read_csv()\n",
    "`pd.read_csv(파일명)` 메소드는 csv(comma-separated variables) 파일로 이루어진 데이터를 DataFrame으로 읽어오는 기능을 수행합니다. <br>\n",
    "주로 정형 데이터를 읽어올 때 사용됩니다. <br><br>\n",
    "\n",
    "샘플 데이터 경로: `data/sample_adult_data.csv`"
   ]
  },
  {
   "cell_type": "code",
   "execution_count": 63,
   "metadata": {},
   "outputs": [],
   "source": [
    "filename = join('data', 'sample_adult_data.csv')\n",
    "DF = pd.read_csv(filename)"
   ]
  },
  {
   "cell_type": "code",
   "execution_count": 64,
   "metadata": {},
   "outputs": [
    {
     "data": {
      "text/html": [
       "<div>\n",
       "<style scoped>\n",
       "    .dataframe tbody tr th:only-of-type {\n",
       "        vertical-align: middle;\n",
       "    }\n",
       "\n",
       "    .dataframe tbody tr th {\n",
       "        vertical-align: top;\n",
       "    }\n",
       "\n",
       "    .dataframe thead th {\n",
       "        text-align: right;\n",
       "    }\n",
       "</style>\n",
       "<table border=\"1\" class=\"dataframe\">\n",
       "  <thead>\n",
       "    <tr style=\"text-align: right;\">\n",
       "      <th></th>\n",
       "      <th>age</th>\n",
       "      <th>workclass</th>\n",
       "      <th>fnlwgt</th>\n",
       "      <th>education</th>\n",
       "      <th>education-num</th>\n",
       "      <th>marital-status</th>\n",
       "      <th>occupation</th>\n",
       "      <th>relationship</th>\n",
       "      <th>race</th>\n",
       "      <th>sex</th>\n",
       "      <th>capital-gain</th>\n",
       "      <th>capital-loss</th>\n",
       "      <th>hours-per-week</th>\n",
       "      <th>native-country</th>\n",
       "      <th>income</th>\n",
       "    </tr>\n",
       "  </thead>\n",
       "  <tbody>\n",
       "    <tr>\n",
       "      <th>0</th>\n",
       "      <td>39</td>\n",
       "      <td>State-gov</td>\n",
       "      <td>77516</td>\n",
       "      <td>Bachelors</td>\n",
       "      <td>13</td>\n",
       "      <td>Never-married</td>\n",
       "      <td>Adm-clerical</td>\n",
       "      <td>Not-in-family</td>\n",
       "      <td>White</td>\n",
       "      <td>Male</td>\n",
       "      <td>2174</td>\n",
       "      <td>0</td>\n",
       "      <td>40</td>\n",
       "      <td>United-States</td>\n",
       "      <td>&lt;=50K</td>\n",
       "    </tr>\n",
       "    <tr>\n",
       "      <th>1</th>\n",
       "      <td>50</td>\n",
       "      <td>Self-emp-not-inc</td>\n",
       "      <td>83311</td>\n",
       "      <td>Bachelors</td>\n",
       "      <td>13</td>\n",
       "      <td>Married-civ-spouse</td>\n",
       "      <td>Exec-managerial</td>\n",
       "      <td>Husband</td>\n",
       "      <td>White</td>\n",
       "      <td>Male</td>\n",
       "      <td>0</td>\n",
       "      <td>0</td>\n",
       "      <td>13</td>\n",
       "      <td>United-States</td>\n",
       "      <td>&lt;=50K</td>\n",
       "    </tr>\n",
       "    <tr>\n",
       "      <th>2</th>\n",
       "      <td>38</td>\n",
       "      <td>Private</td>\n",
       "      <td>215646</td>\n",
       "      <td>HS-grad</td>\n",
       "      <td>9</td>\n",
       "      <td>Divorced</td>\n",
       "      <td>Handlers-cleaners</td>\n",
       "      <td>Not-in-family</td>\n",
       "      <td>White</td>\n",
       "      <td>Male</td>\n",
       "      <td>0</td>\n",
       "      <td>0</td>\n",
       "      <td>40</td>\n",
       "      <td>United-States</td>\n",
       "      <td>&lt;=50K</td>\n",
       "    </tr>\n",
       "    <tr>\n",
       "      <th>3</th>\n",
       "      <td>53</td>\n",
       "      <td>Private</td>\n",
       "      <td>234721</td>\n",
       "      <td>11th</td>\n",
       "      <td>7</td>\n",
       "      <td>Married-civ-spouse</td>\n",
       "      <td>Handlers-cleaners</td>\n",
       "      <td>Husband</td>\n",
       "      <td>Black</td>\n",
       "      <td>Male</td>\n",
       "      <td>0</td>\n",
       "      <td>0</td>\n",
       "      <td>40</td>\n",
       "      <td>United-States</td>\n",
       "      <td>&lt;=50K</td>\n",
       "    </tr>\n",
       "    <tr>\n",
       "      <th>4</th>\n",
       "      <td>28</td>\n",
       "      <td>Private</td>\n",
       "      <td>338409</td>\n",
       "      <td>Bachelors</td>\n",
       "      <td>13</td>\n",
       "      <td>Married-civ-spouse</td>\n",
       "      <td>Prof-specialty</td>\n",
       "      <td>Wife</td>\n",
       "      <td>Black</td>\n",
       "      <td>Female</td>\n",
       "      <td>0</td>\n",
       "      <td>0</td>\n",
       "      <td>40</td>\n",
       "      <td>Cuba</td>\n",
       "      <td>&lt;=50K</td>\n",
       "    </tr>\n",
       "  </tbody>\n",
       "</table>\n",
       "</div>"
      ],
      "text/plain": [
       "   age          workclass  fnlwgt   education  education-num  \\\n",
       "0   39          State-gov   77516   Bachelors             13   \n",
       "1   50   Self-emp-not-inc   83311   Bachelors             13   \n",
       "2   38            Private  215646     HS-grad              9   \n",
       "3   53            Private  234721        11th              7   \n",
       "4   28            Private  338409   Bachelors             13   \n",
       "\n",
       "        marital-status          occupation    relationship    race      sex  \\\n",
       "0        Never-married        Adm-clerical   Not-in-family   White     Male   \n",
       "1   Married-civ-spouse     Exec-managerial         Husband   White     Male   \n",
       "2             Divorced   Handlers-cleaners   Not-in-family   White     Male   \n",
       "3   Married-civ-spouse   Handlers-cleaners         Husband   Black     Male   \n",
       "4   Married-civ-spouse      Prof-specialty            Wife   Black   Female   \n",
       "\n",
       "   capital-gain  capital-loss  hours-per-week  native-country income  \n",
       "0          2174             0              40   United-States  <=50K  \n",
       "1             0             0              13   United-States  <=50K  \n",
       "2             0             0              40   United-States  <=50K  \n",
       "3             0             0              40   United-States  <=50K  \n",
       "4             0             0              40            Cuba  <=50K  "
      ]
     },
     "execution_count": 64,
     "metadata": {},
     "output_type": "execute_result"
    }
   ],
   "source": [
    "DF.head()"
   ]
  },
  {
   "cell_type": "code",
   "execution_count": 65,
   "metadata": {},
   "outputs": [
    {
     "name": "stdout",
     "output_type": "stream",
     "text": [
      "<class 'pandas.core.frame.DataFrame'>\n",
      "RangeIndex: 48842 entries, 0 to 48841\n",
      "Data columns (total 15 columns):\n",
      " #   Column          Non-Null Count  Dtype \n",
      "---  ------          --------------  ----- \n",
      " 0   age             48842 non-null  int64 \n",
      " 1   workclass       48842 non-null  object\n",
      " 2   fnlwgt          48842 non-null  int64 \n",
      " 3   education       48842 non-null  object\n",
      " 4   education-num   48842 non-null  int64 \n",
      " 5   marital-status  48842 non-null  object\n",
      " 6   occupation      48842 non-null  object\n",
      " 7   relationship    48842 non-null  object\n",
      " 8   race            48842 non-null  object\n",
      " 9   sex             48842 non-null  object\n",
      " 10  capital-gain    48842 non-null  int64 \n",
      " 11  capital-loss    48842 non-null  int64 \n",
      " 12  hours-per-week  48842 non-null  int64 \n",
      " 13  native-country  48842 non-null  object\n",
      " 14  income          48842 non-null  object\n",
      "dtypes: int64(6), object(9)\n",
      "memory usage: 5.6+ MB\n"
     ]
    }
   ],
   "source": [
    "DF.info()"
   ]
  },
  {
   "cell_type": "code",
   "execution_count": 66,
   "metadata": {},
   "outputs": [
    {
     "data": {
      "text/html": [
       "<div>\n",
       "<style scoped>\n",
       "    .dataframe tbody tr th:only-of-type {\n",
       "        vertical-align: middle;\n",
       "    }\n",
       "\n",
       "    .dataframe tbody tr th {\n",
       "        vertical-align: top;\n",
       "    }\n",
       "\n",
       "    .dataframe thead th {\n",
       "        text-align: right;\n",
       "    }\n",
       "</style>\n",
       "<table border=\"1\" class=\"dataframe\">\n",
       "  <thead>\n",
       "    <tr style=\"text-align: right;\">\n",
       "      <th></th>\n",
       "      <th>age</th>\n",
       "      <th>fnlwgt</th>\n",
       "      <th>education-num</th>\n",
       "      <th>capital-gain</th>\n",
       "      <th>capital-loss</th>\n",
       "      <th>hours-per-week</th>\n",
       "    </tr>\n",
       "  </thead>\n",
       "  <tbody>\n",
       "    <tr>\n",
       "      <th>count</th>\n",
       "      <td>48842.000000</td>\n",
       "      <td>4.884200e+04</td>\n",
       "      <td>48842.000000</td>\n",
       "      <td>48842.000000</td>\n",
       "      <td>48842.000000</td>\n",
       "      <td>48842.000000</td>\n",
       "    </tr>\n",
       "    <tr>\n",
       "      <th>mean</th>\n",
       "      <td>38.643585</td>\n",
       "      <td>1.896641e+05</td>\n",
       "      <td>10.078089</td>\n",
       "      <td>1079.067626</td>\n",
       "      <td>87.502314</td>\n",
       "      <td>40.422382</td>\n",
       "    </tr>\n",
       "    <tr>\n",
       "      <th>std</th>\n",
       "      <td>13.710510</td>\n",
       "      <td>1.056040e+05</td>\n",
       "      <td>2.570973</td>\n",
       "      <td>7452.019058</td>\n",
       "      <td>403.004552</td>\n",
       "      <td>12.391444</td>\n",
       "    </tr>\n",
       "    <tr>\n",
       "      <th>min</th>\n",
       "      <td>17.000000</td>\n",
       "      <td>1.228500e+04</td>\n",
       "      <td>1.000000</td>\n",
       "      <td>0.000000</td>\n",
       "      <td>0.000000</td>\n",
       "      <td>1.000000</td>\n",
       "    </tr>\n",
       "    <tr>\n",
       "      <th>25%</th>\n",
       "      <td>28.000000</td>\n",
       "      <td>1.175505e+05</td>\n",
       "      <td>9.000000</td>\n",
       "      <td>0.000000</td>\n",
       "      <td>0.000000</td>\n",
       "      <td>40.000000</td>\n",
       "    </tr>\n",
       "    <tr>\n",
       "      <th>50%</th>\n",
       "      <td>37.000000</td>\n",
       "      <td>1.781445e+05</td>\n",
       "      <td>10.000000</td>\n",
       "      <td>0.000000</td>\n",
       "      <td>0.000000</td>\n",
       "      <td>40.000000</td>\n",
       "    </tr>\n",
       "    <tr>\n",
       "      <th>75%</th>\n",
       "      <td>48.000000</td>\n",
       "      <td>2.376420e+05</td>\n",
       "      <td>12.000000</td>\n",
       "      <td>0.000000</td>\n",
       "      <td>0.000000</td>\n",
       "      <td>45.000000</td>\n",
       "    </tr>\n",
       "    <tr>\n",
       "      <th>max</th>\n",
       "      <td>90.000000</td>\n",
       "      <td>1.490400e+06</td>\n",
       "      <td>16.000000</td>\n",
       "      <td>99999.000000</td>\n",
       "      <td>4356.000000</td>\n",
       "      <td>99.000000</td>\n",
       "    </tr>\n",
       "  </tbody>\n",
       "</table>\n",
       "</div>"
      ],
      "text/plain": [
       "                age        fnlwgt  education-num  capital-gain  capital-loss  \\\n",
       "count  48842.000000  4.884200e+04   48842.000000  48842.000000  48842.000000   \n",
       "mean      38.643585  1.896641e+05      10.078089   1079.067626     87.502314   \n",
       "std       13.710510  1.056040e+05       2.570973   7452.019058    403.004552   \n",
       "min       17.000000  1.228500e+04       1.000000      0.000000      0.000000   \n",
       "25%       28.000000  1.175505e+05       9.000000      0.000000      0.000000   \n",
       "50%       37.000000  1.781445e+05      10.000000      0.000000      0.000000   \n",
       "75%       48.000000  2.376420e+05      12.000000      0.000000      0.000000   \n",
       "max       90.000000  1.490400e+06      16.000000  99999.000000   4356.000000   \n",
       "\n",
       "       hours-per-week  \n",
       "count    48842.000000  \n",
       "mean        40.422382  \n",
       "std         12.391444  \n",
       "min          1.000000  \n",
       "25%         40.000000  \n",
       "50%         40.000000  \n",
       "75%         45.000000  \n",
       "max         99.000000  "
      ]
     },
     "execution_count": 66,
     "metadata": {},
     "output_type": "execute_result"
    }
   ],
   "source": [
    "DF.describe()"
   ]
  },
  {
   "cell_type": "code",
   "execution_count": 67,
   "metadata": {},
   "outputs": [
    {
     "data": {
      "text/plain": [
       "array([[39, ' State-gov', 77516, ..., 40, ' United-States', '<=50K'],\n",
       "       [50, ' Self-emp-not-inc', 83311, ..., 13, ' United-States',\n",
       "        '<=50K'],\n",
       "       [38, ' Private', 215646, ..., 40, ' United-States', '<=50K'],\n",
       "       ...,\n",
       "       [38, ' Private', 374983, ..., 50, ' United-States', '<=50K'],\n",
       "       [44, ' Private', 83891, ..., 40, ' United-States', '<=50K'],\n",
       "       [35, ' Self-emp-inc', 182148, ..., 60, ' United-States', '>50K']],\n",
       "      dtype=object)"
      ]
     },
     "execution_count": 67,
     "metadata": {},
     "output_type": "execute_result"
    }
   ],
   "source": [
    "DF.values"
   ]
  },
  {
   "cell_type": "code",
   "execution_count": 68,
   "metadata": {},
   "outputs": [
    {
     "data": {
      "text/html": [
       "<div>\n",
       "<style scoped>\n",
       "    .dataframe tbody tr th:only-of-type {\n",
       "        vertical-align: middle;\n",
       "    }\n",
       "\n",
       "    .dataframe tbody tr th {\n",
       "        vertical-align: top;\n",
       "    }\n",
       "\n",
       "    .dataframe thead th {\n",
       "        text-align: right;\n",
       "    }\n",
       "</style>\n",
       "<table border=\"1\" class=\"dataframe\">\n",
       "  <thead>\n",
       "    <tr style=\"text-align: right;\">\n",
       "      <th></th>\n",
       "      <th>age</th>\n",
       "      <th>workclass</th>\n",
       "      <th>fnlwgt</th>\n",
       "      <th>education</th>\n",
       "      <th>education-num</th>\n",
       "      <th>marital-status</th>\n",
       "      <th>occupation</th>\n",
       "      <th>relationship</th>\n",
       "      <th>race</th>\n",
       "      <th>sex</th>\n",
       "      <th>capital-gain</th>\n",
       "      <th>capital-loss</th>\n",
       "      <th>hours-per-week</th>\n",
       "      <th>native-country</th>\n",
       "      <th>income</th>\n",
       "    </tr>\n",
       "  </thead>\n",
       "  <tbody>\n",
       "    <tr>\n",
       "      <th>0</th>\n",
       "      <td>39</td>\n",
       "      <td>State-gov</td>\n",
       "      <td>77516</td>\n",
       "      <td>Bachelors</td>\n",
       "      <td>13</td>\n",
       "      <td>Never-married</td>\n",
       "      <td>Adm-clerical</td>\n",
       "      <td>Not-in-family</td>\n",
       "      <td>White</td>\n",
       "      <td>Male</td>\n",
       "      <td>2174</td>\n",
       "      <td>0</td>\n",
       "      <td>40</td>\n",
       "      <td>United-States</td>\n",
       "      <td>&lt;=50K</td>\n",
       "    </tr>\n",
       "    <tr>\n",
       "      <th>1</th>\n",
       "      <td>50</td>\n",
       "      <td>Self-emp-not-inc</td>\n",
       "      <td>83311</td>\n",
       "      <td>Bachelors</td>\n",
       "      <td>13</td>\n",
       "      <td>Married-civ-spouse</td>\n",
       "      <td>Exec-managerial</td>\n",
       "      <td>Husband</td>\n",
       "      <td>White</td>\n",
       "      <td>Male</td>\n",
       "      <td>0</td>\n",
       "      <td>0</td>\n",
       "      <td>13</td>\n",
       "      <td>United-States</td>\n",
       "      <td>&lt;=50K</td>\n",
       "    </tr>\n",
       "    <tr>\n",
       "      <th>2</th>\n",
       "      <td>38</td>\n",
       "      <td>Private</td>\n",
       "      <td>215646</td>\n",
       "      <td>HS-grad</td>\n",
       "      <td>9</td>\n",
       "      <td>Divorced</td>\n",
       "      <td>Handlers-cleaners</td>\n",
       "      <td>Not-in-family</td>\n",
       "      <td>White</td>\n",
       "      <td>Male</td>\n",
       "      <td>0</td>\n",
       "      <td>0</td>\n",
       "      <td>40</td>\n",
       "      <td>United-States</td>\n",
       "      <td>&lt;=50K</td>\n",
       "    </tr>\n",
       "    <tr>\n",
       "      <th>3</th>\n",
       "      <td>53</td>\n",
       "      <td>Private</td>\n",
       "      <td>234721</td>\n",
       "      <td>11th</td>\n",
       "      <td>7</td>\n",
       "      <td>Married-civ-spouse</td>\n",
       "      <td>Handlers-cleaners</td>\n",
       "      <td>Husband</td>\n",
       "      <td>Black</td>\n",
       "      <td>Male</td>\n",
       "      <td>0</td>\n",
       "      <td>0</td>\n",
       "      <td>40</td>\n",
       "      <td>United-States</td>\n",
       "      <td>&lt;=50K</td>\n",
       "    </tr>\n",
       "    <tr>\n",
       "      <th>4</th>\n",
       "      <td>28</td>\n",
       "      <td>Private</td>\n",
       "      <td>338409</td>\n",
       "      <td>Bachelors</td>\n",
       "      <td>13</td>\n",
       "      <td>Married-civ-spouse</td>\n",
       "      <td>Prof-specialty</td>\n",
       "      <td>Wife</td>\n",
       "      <td>Black</td>\n",
       "      <td>Female</td>\n",
       "      <td>0</td>\n",
       "      <td>0</td>\n",
       "      <td>40</td>\n",
       "      <td>Cuba</td>\n",
       "      <td>&lt;=50K</td>\n",
       "    </tr>\n",
       "    <tr>\n",
       "      <th>...</th>\n",
       "      <td>...</td>\n",
       "      <td>...</td>\n",
       "      <td>...</td>\n",
       "      <td>...</td>\n",
       "      <td>...</td>\n",
       "      <td>...</td>\n",
       "      <td>...</td>\n",
       "      <td>...</td>\n",
       "      <td>...</td>\n",
       "      <td>...</td>\n",
       "      <td>...</td>\n",
       "      <td>...</td>\n",
       "      <td>...</td>\n",
       "      <td>...</td>\n",
       "      <td>...</td>\n",
       "    </tr>\n",
       "    <tr>\n",
       "      <th>48837</th>\n",
       "      <td>39</td>\n",
       "      <td>Private</td>\n",
       "      <td>215419</td>\n",
       "      <td>Bachelors</td>\n",
       "      <td>13</td>\n",
       "      <td>Divorced</td>\n",
       "      <td>Prof-specialty</td>\n",
       "      <td>Not-in-family</td>\n",
       "      <td>White</td>\n",
       "      <td>Female</td>\n",
       "      <td>0</td>\n",
       "      <td>0</td>\n",
       "      <td>36</td>\n",
       "      <td>United-States</td>\n",
       "      <td>&lt;=50K</td>\n",
       "    </tr>\n",
       "    <tr>\n",
       "      <th>48838</th>\n",
       "      <td>64</td>\n",
       "      <td>?</td>\n",
       "      <td>321403</td>\n",
       "      <td>HS-grad</td>\n",
       "      <td>9</td>\n",
       "      <td>Widowed</td>\n",
       "      <td>?</td>\n",
       "      <td>Other-relative</td>\n",
       "      <td>Black</td>\n",
       "      <td>Male</td>\n",
       "      <td>0</td>\n",
       "      <td>0</td>\n",
       "      <td>40</td>\n",
       "      <td>United-States</td>\n",
       "      <td>&lt;=50K</td>\n",
       "    </tr>\n",
       "    <tr>\n",
       "      <th>48839</th>\n",
       "      <td>38</td>\n",
       "      <td>Private</td>\n",
       "      <td>374983</td>\n",
       "      <td>Bachelors</td>\n",
       "      <td>13</td>\n",
       "      <td>Married-civ-spouse</td>\n",
       "      <td>Prof-specialty</td>\n",
       "      <td>Husband</td>\n",
       "      <td>White</td>\n",
       "      <td>Male</td>\n",
       "      <td>0</td>\n",
       "      <td>0</td>\n",
       "      <td>50</td>\n",
       "      <td>United-States</td>\n",
       "      <td>&lt;=50K</td>\n",
       "    </tr>\n",
       "    <tr>\n",
       "      <th>48840</th>\n",
       "      <td>44</td>\n",
       "      <td>Private</td>\n",
       "      <td>83891</td>\n",
       "      <td>Bachelors</td>\n",
       "      <td>13</td>\n",
       "      <td>Divorced</td>\n",
       "      <td>Adm-clerical</td>\n",
       "      <td>Own-child</td>\n",
       "      <td>Asian-Pac-Islander</td>\n",
       "      <td>Male</td>\n",
       "      <td>5455</td>\n",
       "      <td>0</td>\n",
       "      <td>40</td>\n",
       "      <td>United-States</td>\n",
       "      <td>&lt;=50K</td>\n",
       "    </tr>\n",
       "    <tr>\n",
       "      <th>48841</th>\n",
       "      <td>35</td>\n",
       "      <td>Self-emp-inc</td>\n",
       "      <td>182148</td>\n",
       "      <td>Bachelors</td>\n",
       "      <td>13</td>\n",
       "      <td>Married-civ-spouse</td>\n",
       "      <td>Exec-managerial</td>\n",
       "      <td>Husband</td>\n",
       "      <td>White</td>\n",
       "      <td>Male</td>\n",
       "      <td>0</td>\n",
       "      <td>0</td>\n",
       "      <td>60</td>\n",
       "      <td>United-States</td>\n",
       "      <td>&gt;50K</td>\n",
       "    </tr>\n",
       "  </tbody>\n",
       "</table>\n",
       "<p>48842 rows × 15 columns</p>\n",
       "</div>"
      ],
      "text/plain": [
       "       age          workclass  fnlwgt   education  education-num  \\\n",
       "0       39          State-gov   77516   Bachelors             13   \n",
       "1       50   Self-emp-not-inc   83311   Bachelors             13   \n",
       "2       38            Private  215646     HS-grad              9   \n",
       "3       53            Private  234721        11th              7   \n",
       "4       28            Private  338409   Bachelors             13   \n",
       "...    ...                ...     ...         ...            ...   \n",
       "48837   39            Private  215419   Bachelors             13   \n",
       "48838   64                  ?  321403     HS-grad              9   \n",
       "48839   38            Private  374983   Bachelors             13   \n",
       "48840   44            Private   83891   Bachelors             13   \n",
       "48841   35       Self-emp-inc  182148   Bachelors             13   \n",
       "\n",
       "            marital-status          occupation     relationship  \\\n",
       "0            Never-married        Adm-clerical    Not-in-family   \n",
       "1       Married-civ-spouse     Exec-managerial          Husband   \n",
       "2                 Divorced   Handlers-cleaners    Not-in-family   \n",
       "3       Married-civ-spouse   Handlers-cleaners          Husband   \n",
       "4       Married-civ-spouse      Prof-specialty             Wife   \n",
       "...                    ...                 ...              ...   \n",
       "48837             Divorced      Prof-specialty    Not-in-family   \n",
       "48838              Widowed                   ?   Other-relative   \n",
       "48839   Married-civ-spouse      Prof-specialty          Husband   \n",
       "48840             Divorced        Adm-clerical        Own-child   \n",
       "48841   Married-civ-spouse     Exec-managerial          Husband   \n",
       "\n",
       "                      race      sex  capital-gain  capital-loss  \\\n",
       "0                    White     Male          2174             0   \n",
       "1                    White     Male             0             0   \n",
       "2                    White     Male             0             0   \n",
       "3                    Black     Male             0             0   \n",
       "4                    Black   Female             0             0   \n",
       "...                    ...      ...           ...           ...   \n",
       "48837                White   Female             0             0   \n",
       "48838                Black     Male             0             0   \n",
       "48839                White     Male             0             0   \n",
       "48840   Asian-Pac-Islander     Male          5455             0   \n",
       "48841                White     Male             0             0   \n",
       "\n",
       "       hours-per-week  native-country income  \n",
       "0                  40   United-States  <=50K  \n",
       "1                  13   United-States  <=50K  \n",
       "2                  40   United-States  <=50K  \n",
       "3                  40   United-States  <=50K  \n",
       "4                  40            Cuba  <=50K  \n",
       "...               ...             ...    ...  \n",
       "48837              36   United-States  <=50K  \n",
       "48838              40   United-States  <=50K  \n",
       "48839              50   United-States  <=50K  \n",
       "48840              40   United-States  <=50K  \n",
       "48841              60   United-States   >50K  \n",
       "\n",
       "[48842 rows x 15 columns]"
      ]
     },
     "execution_count": 68,
     "metadata": {},
     "output_type": "execute_result"
    }
   ],
   "source": [
    "DF"
   ]
  },
  {
   "cell_type": "markdown",
   "metadata": {},
   "source": [
    "#### 6) Series,DataFrame.append(), Pandas.concat()\n",
    "\n",
    "##### Series,DataFrame.append()\n",
    "Series나 DataFrame에 행 방향으로 Series나 DataFrame을 추가하고 싶은 경우에는 append() 메소드를 사용할 수 있습니다. "
   ]
  },
  {
   "cell_type": "code",
   "execution_count": 69,
   "metadata": {},
   "outputs": [
    {
     "data": {
      "text/plain": [
       "0    1\n",
       "1    2\n",
       "2    3\n",
       "3    4\n",
       "4    5\n",
       "5    6\n",
       "6    7\n",
       "7    8\n",
       "Name: 변수 이름, dtype: int32"
      ]
     },
     "execution_count": 69,
     "metadata": {},
     "output_type": "execute_result"
    }
   ],
   "source": [
    "# Series에 하나의 값을 추가할 때\n",
    "S"
   ]
  },
  {
   "cell_type": "code",
   "execution_count": 70,
   "metadata": {},
   "outputs": [
    {
     "data": {
      "text/plain": [
       "0    1\n",
       "1    2\n",
       "2    3\n",
       "3    4\n",
       "4    5\n",
       "5    6\n",
       "6    7\n",
       "7    8\n",
       "0    1\n",
       "1    2\n",
       "2    3\n",
       "3    4\n",
       "4    5\n",
       "5    6\n",
       "6    7\n",
       "7    8\n",
       "Name: 변수 이름, dtype: int32"
      ]
     },
     "execution_count": 70,
     "metadata": {},
     "output_type": "execute_result"
    }
   ],
   "source": [
    "S.append(S)"
   ]
  },
  {
   "cell_type": "code",
   "execution_count": 71,
   "metadata": {},
   "outputs": [
    {
     "data": {
      "text/html": [
       "<div>\n",
       "<style scoped>\n",
       "    .dataframe tbody tr th:only-of-type {\n",
       "        vertical-align: middle;\n",
       "    }\n",
       "\n",
       "    .dataframe tbody tr th {\n",
       "        vertical-align: top;\n",
       "    }\n",
       "\n",
       "    .dataframe thead th {\n",
       "        text-align: right;\n",
       "    }\n",
       "</style>\n",
       "<table border=\"1\" class=\"dataframe\">\n",
       "  <thead>\n",
       "    <tr style=\"text-align: right;\">\n",
       "      <th></th>\n",
       "      <th>age</th>\n",
       "      <th>workclass</th>\n",
       "      <th>fnlwgt</th>\n",
       "      <th>education</th>\n",
       "      <th>education-num</th>\n",
       "      <th>marital-status</th>\n",
       "      <th>occupation</th>\n",
       "      <th>relationship</th>\n",
       "      <th>race</th>\n",
       "      <th>sex</th>\n",
       "      <th>capital-gain</th>\n",
       "      <th>capital-loss</th>\n",
       "      <th>hours-per-week</th>\n",
       "      <th>native-country</th>\n",
       "      <th>income</th>\n",
       "    </tr>\n",
       "  </thead>\n",
       "  <tbody>\n",
       "    <tr>\n",
       "      <th>0</th>\n",
       "      <td>39</td>\n",
       "      <td>State-gov</td>\n",
       "      <td>77516</td>\n",
       "      <td>Bachelors</td>\n",
       "      <td>13</td>\n",
       "      <td>Never-married</td>\n",
       "      <td>Adm-clerical</td>\n",
       "      <td>Not-in-family</td>\n",
       "      <td>White</td>\n",
       "      <td>Male</td>\n",
       "      <td>2174</td>\n",
       "      <td>0</td>\n",
       "      <td>40</td>\n",
       "      <td>United-States</td>\n",
       "      <td>&lt;=50K</td>\n",
       "    </tr>\n",
       "  </tbody>\n",
       "</table>\n",
       "</div>"
      ],
      "text/plain": [
       "   age   workclass  fnlwgt   education  education-num  marital-status  \\\n",
       "0   39   State-gov   77516   Bachelors             13   Never-married   \n",
       "\n",
       "      occupation    relationship    race    sex  capital-gain  capital-loss  \\\n",
       "0   Adm-clerical   Not-in-family   White   Male          2174             0   \n",
       "\n",
       "   hours-per-week  native-country income  \n",
       "0              40   United-States  <=50K  "
      ]
     },
     "execution_count": 71,
     "metadata": {},
     "output_type": "execute_result"
    }
   ],
   "source": [
    "# DataFrame에 행 방향으로 추가할 때\n",
    "tmp_DF = DF.iloc[0:1, :]\n",
    "tmp_DF"
   ]
  },
  {
   "cell_type": "code",
   "execution_count": 72,
   "metadata": {},
   "outputs": [
    {
     "data": {
      "text/html": [
       "<div>\n",
       "<style scoped>\n",
       "    .dataframe tbody tr th:only-of-type {\n",
       "        vertical-align: middle;\n",
       "    }\n",
       "\n",
       "    .dataframe tbody tr th {\n",
       "        vertical-align: top;\n",
       "    }\n",
       "\n",
       "    .dataframe thead th {\n",
       "        text-align: right;\n",
       "    }\n",
       "</style>\n",
       "<table border=\"1\" class=\"dataframe\">\n",
       "  <thead>\n",
       "    <tr style=\"text-align: right;\">\n",
       "      <th></th>\n",
       "      <th>age</th>\n",
       "      <th>workclass</th>\n",
       "      <th>fnlwgt</th>\n",
       "      <th>education</th>\n",
       "      <th>education-num</th>\n",
       "      <th>marital-status</th>\n",
       "      <th>occupation</th>\n",
       "      <th>relationship</th>\n",
       "      <th>race</th>\n",
       "      <th>sex</th>\n",
       "      <th>capital-gain</th>\n",
       "      <th>capital-loss</th>\n",
       "      <th>hours-per-week</th>\n",
       "      <th>native-country</th>\n",
       "      <th>income</th>\n",
       "    </tr>\n",
       "  </thead>\n",
       "  <tbody>\n",
       "    <tr>\n",
       "      <th>0</th>\n",
       "      <td>39</td>\n",
       "      <td>State-gov</td>\n",
       "      <td>77516</td>\n",
       "      <td>Bachelors</td>\n",
       "      <td>13</td>\n",
       "      <td>Never-married</td>\n",
       "      <td>Adm-clerical</td>\n",
       "      <td>Not-in-family</td>\n",
       "      <td>White</td>\n",
       "      <td>Male</td>\n",
       "      <td>2174</td>\n",
       "      <td>0</td>\n",
       "      <td>40</td>\n",
       "      <td>United-States</td>\n",
       "      <td>&lt;=50K</td>\n",
       "    </tr>\n",
       "    <tr>\n",
       "      <th>0</th>\n",
       "      <td>39</td>\n",
       "      <td>State-gov</td>\n",
       "      <td>77516</td>\n",
       "      <td>Bachelors</td>\n",
       "      <td>13</td>\n",
       "      <td>Never-married</td>\n",
       "      <td>Adm-clerical</td>\n",
       "      <td>Not-in-family</td>\n",
       "      <td>White</td>\n",
       "      <td>Male</td>\n",
       "      <td>2174</td>\n",
       "      <td>0</td>\n",
       "      <td>40</td>\n",
       "      <td>United-States</td>\n",
       "      <td>&lt;=50K</td>\n",
       "    </tr>\n",
       "  </tbody>\n",
       "</table>\n",
       "</div>"
      ],
      "text/plain": [
       "   age   workclass  fnlwgt   education  education-num  marital-status  \\\n",
       "0   39   State-gov   77516   Bachelors             13   Never-married   \n",
       "0   39   State-gov   77516   Bachelors             13   Never-married   \n",
       "\n",
       "      occupation    relationship    race    sex  capital-gain  capital-loss  \\\n",
       "0   Adm-clerical   Not-in-family   White   Male          2174             0   \n",
       "0   Adm-clerical   Not-in-family   White   Male          2174             0   \n",
       "\n",
       "   hours-per-week  native-country income  \n",
       "0              40   United-States  <=50K  \n",
       "0              40   United-States  <=50K  "
      ]
     },
     "execution_count": 72,
     "metadata": {},
     "output_type": "execute_result"
    }
   ],
   "source": [
    "tmp_DF.append(tmp_DF)"
   ]
  },
  {
   "cell_type": "markdown",
   "metadata": {},
   "source": [
    "##### Pandas.concat()\n",
    "append()는 행 방향으로만 추가가 가능합니다. 정해진 방향이 아닌 방향을 지정해서 추가하고 싶은 경우에는 Pandas.concat() 함수를 사용하면 됩니다. "
   ]
  },
  {
   "cell_type": "code",
   "execution_count": 73,
   "metadata": {},
   "outputs": [
    {
     "data": {
      "text/plain": [
       "(97684, 15)"
      ]
     },
     "execution_count": 73,
     "metadata": {},
     "output_type": "execute_result"
    }
   ],
   "source": [
    "# 행 방향으로 붙이기 append()와 동일\n",
    "pd.concat([DF, DF], axis=0).shape"
   ]
  },
  {
   "cell_type": "code",
   "execution_count": 74,
   "metadata": {},
   "outputs": [
    {
     "data": {
      "text/plain": [
       "(48842, 30)"
      ]
     },
     "execution_count": 74,
     "metadata": {},
     "output_type": "execute_result"
    }
   ],
   "source": [
    "# 열 방향으로 붙이기\n",
    "pd.concat([DF, DF], axis=1).shape"
   ]
  },
  {
   "cell_type": "markdown",
   "metadata": {},
   "source": [
    "#### 7) DataFrame.loc DataFrame.iloc\n",
    "DataFrame을 제대로 사용하기 위해서는 필수로 익혀야하는 메소드 2가지 입니다. <br>\n",
    "간단하게 생각하면, 특정 조건에 맞는 행과 열을 추출한다고 말할 수 있습니다.<br>\n",
    "iloc 메소드 보다는 loc 메소드가 더 자주 사용됩니다.\n",
    "\n",
    "##### DataFrame.loc[]\n",
    "`DataFrame.loc[행 조건, 열 조건]`으로 해당 조건에 맞는 행과 열을 찾아냅니다. <br>\n",
    "예를 들어 age 컬럼의 값이 39인 행과 'age, workclass, fnlwgt, education, marital-status' 열로 구성된 데이터만을 추출하고 싶은 경우 <br>\n",
    "DF.loc[DF['age'] == 39, ['age', 'workclass', 'fnlwgt', 'education', 'marital-status']] 와 같이 작성할 수 있습니다."
   ]
  },
  {
   "cell_type": "code",
   "execution_count": 75,
   "metadata": {},
   "outputs": [
    {
     "data": {
      "text/html": [
       "<div>\n",
       "<style scoped>\n",
       "    .dataframe tbody tr th:only-of-type {\n",
       "        vertical-align: middle;\n",
       "    }\n",
       "\n",
       "    .dataframe tbody tr th {\n",
       "        vertical-align: top;\n",
       "    }\n",
       "\n",
       "    .dataframe thead th {\n",
       "        text-align: right;\n",
       "    }\n",
       "</style>\n",
       "<table border=\"1\" class=\"dataframe\">\n",
       "  <thead>\n",
       "    <tr style=\"text-align: right;\">\n",
       "      <th></th>\n",
       "      <th>age</th>\n",
       "      <th>workclass</th>\n",
       "      <th>fnlwgt</th>\n",
       "      <th>education</th>\n",
       "      <th>marital-status</th>\n",
       "    </tr>\n",
       "  </thead>\n",
       "  <tbody>\n",
       "    <tr>\n",
       "      <th>0</th>\n",
       "      <td>39</td>\n",
       "      <td>State-gov</td>\n",
       "      <td>77516</td>\n",
       "      <td>Bachelors</td>\n",
       "      <td>Never-married</td>\n",
       "    </tr>\n",
       "    <tr>\n",
       "      <th>28</th>\n",
       "      <td>39</td>\n",
       "      <td>Private</td>\n",
       "      <td>367260</td>\n",
       "      <td>HS-grad</td>\n",
       "      <td>Divorced</td>\n",
       "    </tr>\n",
       "    <tr>\n",
       "      <th>129</th>\n",
       "      <td>39</td>\n",
       "      <td>Private</td>\n",
       "      <td>365739</td>\n",
       "      <td>Some-college</td>\n",
       "      <td>Divorced</td>\n",
       "    </tr>\n",
       "    <tr>\n",
       "      <th>166</th>\n",
       "      <td>39</td>\n",
       "      <td>Federal-gov</td>\n",
       "      <td>235485</td>\n",
       "      <td>Assoc-acdm</td>\n",
       "      <td>Never-married</td>\n",
       "    </tr>\n",
       "    <tr>\n",
       "      <th>297</th>\n",
       "      <td>39</td>\n",
       "      <td>?</td>\n",
       "      <td>157443</td>\n",
       "      <td>Masters</td>\n",
       "      <td>Married-civ-spouse</td>\n",
       "    </tr>\n",
       "    <tr>\n",
       "      <th>...</th>\n",
       "      <td>...</td>\n",
       "      <td>...</td>\n",
       "      <td>...</td>\n",
       "      <td>...</td>\n",
       "      <td>...</td>\n",
       "    </tr>\n",
       "    <tr>\n",
       "      <th>48703</th>\n",
       "      <td>39</td>\n",
       "      <td>Federal-gov</td>\n",
       "      <td>263690</td>\n",
       "      <td>Masters</td>\n",
       "      <td>Married-civ-spouse</td>\n",
       "    </tr>\n",
       "    <tr>\n",
       "      <th>48732</th>\n",
       "      <td>39</td>\n",
       "      <td>Private</td>\n",
       "      <td>357118</td>\n",
       "      <td>Bachelors</td>\n",
       "      <td>Never-married</td>\n",
       "    </tr>\n",
       "    <tr>\n",
       "      <th>48751</th>\n",
       "      <td>39</td>\n",
       "      <td>Private</td>\n",
       "      <td>139057</td>\n",
       "      <td>Prof-school</td>\n",
       "      <td>Married-civ-spouse</td>\n",
       "    </tr>\n",
       "    <tr>\n",
       "      <th>48814</th>\n",
       "      <td>39</td>\n",
       "      <td>Private</td>\n",
       "      <td>229647</td>\n",
       "      <td>Bachelors</td>\n",
       "      <td>Never-married</td>\n",
       "    </tr>\n",
       "    <tr>\n",
       "      <th>48837</th>\n",
       "      <td>39</td>\n",
       "      <td>Private</td>\n",
       "      <td>215419</td>\n",
       "      <td>Bachelors</td>\n",
       "      <td>Divorced</td>\n",
       "    </tr>\n",
       "  </tbody>\n",
       "</table>\n",
       "<p>1206 rows × 5 columns</p>\n",
       "</div>"
      ],
      "text/plain": [
       "       age     workclass  fnlwgt      education       marital-status\n",
       "0       39     State-gov   77516      Bachelors        Never-married\n",
       "28      39       Private  367260        HS-grad             Divorced\n",
       "129     39       Private  365739   Some-college             Divorced\n",
       "166     39   Federal-gov  235485     Assoc-acdm        Never-married\n",
       "297     39             ?  157443        Masters   Married-civ-spouse\n",
       "...    ...           ...     ...            ...                  ...\n",
       "48703   39   Federal-gov  263690        Masters   Married-civ-spouse\n",
       "48732   39       Private  357118      Bachelors        Never-married\n",
       "48751   39       Private  139057    Prof-school   Married-civ-spouse\n",
       "48814   39       Private  229647      Bachelors        Never-married\n",
       "48837   39       Private  215419      Bachelors             Divorced\n",
       "\n",
       "[1206 rows x 5 columns]"
      ]
     },
     "execution_count": 75,
     "metadata": {},
     "output_type": "execute_result"
    }
   ],
   "source": [
    "DF.loc[DF['age'] == 39, ['age', 'workclass', 'fnlwgt', 'education', 'marital-status']]"
   ]
  },
  {
   "cell_type": "markdown",
   "metadata": {},
   "source": [
    "##### DataFrame.iloc[]\n",
    "`DataFrame.iloc[행 인덱스, 열 인덱스]`으로 인덱스에 맞는 행과 열을 찾아냅니다. <br>\n",
    "예를 들어 짝수 인덱스를 갖는 행과 홀수 열로 구성된 데이터만을 추출하고 싶은 경우 <br>\n",
    "DF.iloc[[int(2\\*i) for i in range(int(DF.shape[0]/2))], [int(2\\*i) for i in range(int(DF.shape[1]/2))]] 와 같이 작성할 수 있습니다."
   ]
  },
  {
   "cell_type": "code",
   "execution_count": 76,
   "metadata": {},
   "outputs": [
    {
     "data": {
      "text/html": [
       "<div>\n",
       "<style scoped>\n",
       "    .dataframe tbody tr th:only-of-type {\n",
       "        vertical-align: middle;\n",
       "    }\n",
       "\n",
       "    .dataframe tbody tr th {\n",
       "        vertical-align: top;\n",
       "    }\n",
       "\n",
       "    .dataframe thead th {\n",
       "        text-align: right;\n",
       "    }\n",
       "</style>\n",
       "<table border=\"1\" class=\"dataframe\">\n",
       "  <thead>\n",
       "    <tr style=\"text-align: right;\">\n",
       "      <th></th>\n",
       "      <th>age</th>\n",
       "      <th>fnlwgt</th>\n",
       "      <th>education-num</th>\n",
       "      <th>occupation</th>\n",
       "      <th>race</th>\n",
       "      <th>capital-gain</th>\n",
       "      <th>hours-per-week</th>\n",
       "    </tr>\n",
       "  </thead>\n",
       "  <tbody>\n",
       "    <tr>\n",
       "      <th>0</th>\n",
       "      <td>39</td>\n",
       "      <td>77516</td>\n",
       "      <td>13</td>\n",
       "      <td>Adm-clerical</td>\n",
       "      <td>White</td>\n",
       "      <td>2174</td>\n",
       "      <td>40</td>\n",
       "    </tr>\n",
       "    <tr>\n",
       "      <th>2</th>\n",
       "      <td>38</td>\n",
       "      <td>215646</td>\n",
       "      <td>9</td>\n",
       "      <td>Handlers-cleaners</td>\n",
       "      <td>White</td>\n",
       "      <td>0</td>\n",
       "      <td>40</td>\n",
       "    </tr>\n",
       "    <tr>\n",
       "      <th>4</th>\n",
       "      <td>28</td>\n",
       "      <td>338409</td>\n",
       "      <td>13</td>\n",
       "      <td>Prof-specialty</td>\n",
       "      <td>Black</td>\n",
       "      <td>0</td>\n",
       "      <td>40</td>\n",
       "    </tr>\n",
       "    <tr>\n",
       "      <th>6</th>\n",
       "      <td>49</td>\n",
       "      <td>160187</td>\n",
       "      <td>5</td>\n",
       "      <td>Other-service</td>\n",
       "      <td>Black</td>\n",
       "      <td>0</td>\n",
       "      <td>16</td>\n",
       "    </tr>\n",
       "    <tr>\n",
       "      <th>8</th>\n",
       "      <td>31</td>\n",
       "      <td>45781</td>\n",
       "      <td>14</td>\n",
       "      <td>Prof-specialty</td>\n",
       "      <td>White</td>\n",
       "      <td>14084</td>\n",
       "      <td>50</td>\n",
       "    </tr>\n",
       "    <tr>\n",
       "      <th>...</th>\n",
       "      <td>...</td>\n",
       "      <td>...</td>\n",
       "      <td>...</td>\n",
       "      <td>...</td>\n",
       "      <td>...</td>\n",
       "      <td>...</td>\n",
       "      <td>...</td>\n",
       "    </tr>\n",
       "    <tr>\n",
       "      <th>48832</th>\n",
       "      <td>61</td>\n",
       "      <td>89686</td>\n",
       "      <td>9</td>\n",
       "      <td>Sales</td>\n",
       "      <td>White</td>\n",
       "      <td>0</td>\n",
       "      <td>48</td>\n",
       "    </tr>\n",
       "    <tr>\n",
       "      <th>48834</th>\n",
       "      <td>25</td>\n",
       "      <td>350977</td>\n",
       "      <td>9</td>\n",
       "      <td>Other-service</td>\n",
       "      <td>White</td>\n",
       "      <td>0</td>\n",
       "      <td>40</td>\n",
       "    </tr>\n",
       "    <tr>\n",
       "      <th>48836</th>\n",
       "      <td>33</td>\n",
       "      <td>245211</td>\n",
       "      <td>13</td>\n",
       "      <td>Prof-specialty</td>\n",
       "      <td>White</td>\n",
       "      <td>0</td>\n",
       "      <td>40</td>\n",
       "    </tr>\n",
       "    <tr>\n",
       "      <th>48838</th>\n",
       "      <td>64</td>\n",
       "      <td>321403</td>\n",
       "      <td>9</td>\n",
       "      <td>?</td>\n",
       "      <td>Black</td>\n",
       "      <td>0</td>\n",
       "      <td>40</td>\n",
       "    </tr>\n",
       "    <tr>\n",
       "      <th>48840</th>\n",
       "      <td>44</td>\n",
       "      <td>83891</td>\n",
       "      <td>13</td>\n",
       "      <td>Adm-clerical</td>\n",
       "      <td>Asian-Pac-Islander</td>\n",
       "      <td>5455</td>\n",
       "      <td>40</td>\n",
       "    </tr>\n",
       "  </tbody>\n",
       "</table>\n",
       "<p>24421 rows × 7 columns</p>\n",
       "</div>"
      ],
      "text/plain": [
       "       age  fnlwgt  education-num          occupation                 race  \\\n",
       "0       39   77516             13        Adm-clerical                White   \n",
       "2       38  215646              9   Handlers-cleaners                White   \n",
       "4       28  338409             13      Prof-specialty                Black   \n",
       "6       49  160187              5       Other-service                Black   \n",
       "8       31   45781             14      Prof-specialty                White   \n",
       "...    ...     ...            ...                 ...                  ...   \n",
       "48832   61   89686              9               Sales                White   \n",
       "48834   25  350977              9       Other-service                White   \n",
       "48836   33  245211             13      Prof-specialty                White   \n",
       "48838   64  321403              9                   ?                Black   \n",
       "48840   44   83891             13        Adm-clerical   Asian-Pac-Islander   \n",
       "\n",
       "       capital-gain  hours-per-week  \n",
       "0              2174              40  \n",
       "2                 0              40  \n",
       "4                 0              40  \n",
       "6                 0              16  \n",
       "8             14084              50  \n",
       "...             ...             ...  \n",
       "48832             0              48  \n",
       "48834             0              40  \n",
       "48836             0              40  \n",
       "48838             0              40  \n",
       "48840          5455              40  \n",
       "\n",
       "[24421 rows x 7 columns]"
      ]
     },
     "execution_count": 76,
     "metadata": {},
     "output_type": "execute_result"
    }
   ],
   "source": [
    "DF.iloc[[int(2*i) for i in range(int(DF.shape[0]/2))], [int(2*i) for i in range(int(DF.shape[1]/2))]]"
   ]
  },
  {
   "cell_type": "markdown",
   "metadata": {},
   "source": [
    "#### 8) map, apply, applymap\n",
    "\n",
    "##### Series.map()\n",
    "map 함수는 Pandas Series(column)에 사용할 수 있는 함수로 Series의 `각 원소에 연산을 적용` 할 수 있습니다. 각 원소를 입력으로 받아 단일 값을 반환합니다.<br>\n",
    "예를들어 인종 컬럼인 'race' 컬럼에 라벨 인코딩을 적용하고 싶은 경우 다음과 같이 할 수 있습니다. "
   ]
  },
  {
   "cell_type": "code",
   "execution_count": 77,
   "metadata": {},
   "outputs": [
    {
     "data": {
      "text/html": [
       "<div>\n",
       "<style scoped>\n",
       "    .dataframe tbody tr th:only-of-type {\n",
       "        vertical-align: middle;\n",
       "    }\n",
       "\n",
       "    .dataframe tbody tr th {\n",
       "        vertical-align: top;\n",
       "    }\n",
       "\n",
       "    .dataframe thead th {\n",
       "        text-align: right;\n",
       "    }\n",
       "</style>\n",
       "<table border=\"1\" class=\"dataframe\">\n",
       "  <thead>\n",
       "    <tr style=\"text-align: right;\">\n",
       "      <th></th>\n",
       "      <th>age</th>\n",
       "      <th>workclass</th>\n",
       "      <th>fnlwgt</th>\n",
       "      <th>education</th>\n",
       "      <th>education-num</th>\n",
       "      <th>marital-status</th>\n",
       "      <th>occupation</th>\n",
       "      <th>relationship</th>\n",
       "      <th>race</th>\n",
       "      <th>sex</th>\n",
       "      <th>capital-gain</th>\n",
       "      <th>capital-loss</th>\n",
       "      <th>hours-per-week</th>\n",
       "      <th>native-country</th>\n",
       "      <th>income</th>\n",
       "    </tr>\n",
       "  </thead>\n",
       "  <tbody>\n",
       "    <tr>\n",
       "      <th>0</th>\n",
       "      <td>39</td>\n",
       "      <td>State-gov</td>\n",
       "      <td>77516</td>\n",
       "      <td>Bachelors</td>\n",
       "      <td>13</td>\n",
       "      <td>Never-married</td>\n",
       "      <td>Adm-clerical</td>\n",
       "      <td>Not-in-family</td>\n",
       "      <td>White</td>\n",
       "      <td>Male</td>\n",
       "      <td>2174</td>\n",
       "      <td>0</td>\n",
       "      <td>40</td>\n",
       "      <td>United-States</td>\n",
       "      <td>&lt;=50K</td>\n",
       "    </tr>\n",
       "    <tr>\n",
       "      <th>1</th>\n",
       "      <td>50</td>\n",
       "      <td>Self-emp-not-inc</td>\n",
       "      <td>83311</td>\n",
       "      <td>Bachelors</td>\n",
       "      <td>13</td>\n",
       "      <td>Married-civ-spouse</td>\n",
       "      <td>Exec-managerial</td>\n",
       "      <td>Husband</td>\n",
       "      <td>White</td>\n",
       "      <td>Male</td>\n",
       "      <td>0</td>\n",
       "      <td>0</td>\n",
       "      <td>13</td>\n",
       "      <td>United-States</td>\n",
       "      <td>&lt;=50K</td>\n",
       "    </tr>\n",
       "    <tr>\n",
       "      <th>2</th>\n",
       "      <td>38</td>\n",
       "      <td>Private</td>\n",
       "      <td>215646</td>\n",
       "      <td>HS-grad</td>\n",
       "      <td>9</td>\n",
       "      <td>Divorced</td>\n",
       "      <td>Handlers-cleaners</td>\n",
       "      <td>Not-in-family</td>\n",
       "      <td>White</td>\n",
       "      <td>Male</td>\n",
       "      <td>0</td>\n",
       "      <td>0</td>\n",
       "      <td>40</td>\n",
       "      <td>United-States</td>\n",
       "      <td>&lt;=50K</td>\n",
       "    </tr>\n",
       "    <tr>\n",
       "      <th>3</th>\n",
       "      <td>53</td>\n",
       "      <td>Private</td>\n",
       "      <td>234721</td>\n",
       "      <td>11th</td>\n",
       "      <td>7</td>\n",
       "      <td>Married-civ-spouse</td>\n",
       "      <td>Handlers-cleaners</td>\n",
       "      <td>Husband</td>\n",
       "      <td>Black</td>\n",
       "      <td>Male</td>\n",
       "      <td>0</td>\n",
       "      <td>0</td>\n",
       "      <td>40</td>\n",
       "      <td>United-States</td>\n",
       "      <td>&lt;=50K</td>\n",
       "    </tr>\n",
       "    <tr>\n",
       "      <th>4</th>\n",
       "      <td>28</td>\n",
       "      <td>Private</td>\n",
       "      <td>338409</td>\n",
       "      <td>Bachelors</td>\n",
       "      <td>13</td>\n",
       "      <td>Married-civ-spouse</td>\n",
       "      <td>Prof-specialty</td>\n",
       "      <td>Wife</td>\n",
       "      <td>Black</td>\n",
       "      <td>Female</td>\n",
       "      <td>0</td>\n",
       "      <td>0</td>\n",
       "      <td>40</td>\n",
       "      <td>Cuba</td>\n",
       "      <td>&lt;=50K</td>\n",
       "    </tr>\n",
       "  </tbody>\n",
       "</table>\n",
       "</div>"
      ],
      "text/plain": [
       "   age          workclass  fnlwgt   education  education-num  \\\n",
       "0   39          State-gov   77516   Bachelors             13   \n",
       "1   50   Self-emp-not-inc   83311   Bachelors             13   \n",
       "2   38            Private  215646     HS-grad              9   \n",
       "3   53            Private  234721        11th              7   \n",
       "4   28            Private  338409   Bachelors             13   \n",
       "\n",
       "        marital-status          occupation    relationship    race      sex  \\\n",
       "0        Never-married        Adm-clerical   Not-in-family   White     Male   \n",
       "1   Married-civ-spouse     Exec-managerial         Husband   White     Male   \n",
       "2             Divorced   Handlers-cleaners   Not-in-family   White     Male   \n",
       "3   Married-civ-spouse   Handlers-cleaners         Husband   Black     Male   \n",
       "4   Married-civ-spouse      Prof-specialty            Wife   Black   Female   \n",
       "\n",
       "   capital-gain  capital-loss  hours-per-week  native-country income  \n",
       "0          2174             0              40   United-States  <=50K  \n",
       "1             0             0              13   United-States  <=50K  \n",
       "2             0             0              40   United-States  <=50K  \n",
       "3             0             0              40   United-States  <=50K  \n",
       "4             0             0              40            Cuba  <=50K  "
      ]
     },
     "execution_count": 77,
     "metadata": {},
     "output_type": "execute_result"
    }
   ],
   "source": [
    "DF.head()"
   ]
  },
  {
   "cell_type": "code",
   "execution_count": 78,
   "metadata": {},
   "outputs": [
    {
     "data": {
      "text/plain": [
       "[' White', ' Black', ' Asian-Pac-Islander', ' Amer-Indian-Eskimo', ' Other']"
      ]
     },
     "execution_count": 78,
     "metadata": {},
     "output_type": "execute_result"
    }
   ],
   "source": [
    "# race 컬럼에 존재하는 값들로 리스트 생성\n",
    "race_lst = DF['race'].unique().tolist()\n",
    "race_lst"
   ]
  },
  {
   "cell_type": "code",
   "execution_count": 79,
   "metadata": {},
   "outputs": [],
   "source": [
    "# race 값 리스트의 인덱스 값으로 new_race 컬럼 생성\n",
    "DF['new_race'] = DF['race'].map(lambda x: race_lst.index(x))"
   ]
  },
  {
   "cell_type": "code",
   "execution_count": 80,
   "metadata": {},
   "outputs": [
    {
     "data": {
      "text/plain": [
       "0        0\n",
       "1        0\n",
       "2        0\n",
       "3        1\n",
       "4        1\n",
       "        ..\n",
       "48837    0\n",
       "48838    1\n",
       "48839    0\n",
       "48840    2\n",
       "48841    0\n",
       "Name: race, Length: 48842, dtype: int64"
      ]
     },
     "execution_count": 80,
     "metadata": {},
     "output_type": "execute_result"
    }
   ],
   "source": [
    "DF['race'].map(lambda x: race_lst.index(x))"
   ]
  },
  {
   "cell_type": "code",
   "execution_count": 81,
   "metadata": {},
   "outputs": [
    {
     "data": {
      "text/html": [
       "<div>\n",
       "<style scoped>\n",
       "    .dataframe tbody tr th:only-of-type {\n",
       "        vertical-align: middle;\n",
       "    }\n",
       "\n",
       "    .dataframe tbody tr th {\n",
       "        vertical-align: top;\n",
       "    }\n",
       "\n",
       "    .dataframe thead th {\n",
       "        text-align: right;\n",
       "    }\n",
       "</style>\n",
       "<table border=\"1\" class=\"dataframe\">\n",
       "  <thead>\n",
       "    <tr style=\"text-align: right;\">\n",
       "      <th></th>\n",
       "      <th>age</th>\n",
       "      <th>workclass</th>\n",
       "      <th>fnlwgt</th>\n",
       "      <th>education</th>\n",
       "      <th>education-num</th>\n",
       "      <th>marital-status</th>\n",
       "      <th>occupation</th>\n",
       "      <th>relationship</th>\n",
       "      <th>race</th>\n",
       "      <th>sex</th>\n",
       "      <th>capital-gain</th>\n",
       "      <th>capital-loss</th>\n",
       "      <th>hours-per-week</th>\n",
       "      <th>native-country</th>\n",
       "      <th>income</th>\n",
       "      <th>new_race</th>\n",
       "    </tr>\n",
       "  </thead>\n",
       "  <tbody>\n",
       "    <tr>\n",
       "      <th>0</th>\n",
       "      <td>39</td>\n",
       "      <td>State-gov</td>\n",
       "      <td>77516</td>\n",
       "      <td>Bachelors</td>\n",
       "      <td>13</td>\n",
       "      <td>Never-married</td>\n",
       "      <td>Adm-clerical</td>\n",
       "      <td>Not-in-family</td>\n",
       "      <td>White</td>\n",
       "      <td>Male</td>\n",
       "      <td>2174</td>\n",
       "      <td>0</td>\n",
       "      <td>40</td>\n",
       "      <td>United-States</td>\n",
       "      <td>&lt;=50K</td>\n",
       "      <td>0</td>\n",
       "    </tr>\n",
       "    <tr>\n",
       "      <th>1</th>\n",
       "      <td>50</td>\n",
       "      <td>Self-emp-not-inc</td>\n",
       "      <td>83311</td>\n",
       "      <td>Bachelors</td>\n",
       "      <td>13</td>\n",
       "      <td>Married-civ-spouse</td>\n",
       "      <td>Exec-managerial</td>\n",
       "      <td>Husband</td>\n",
       "      <td>White</td>\n",
       "      <td>Male</td>\n",
       "      <td>0</td>\n",
       "      <td>0</td>\n",
       "      <td>13</td>\n",
       "      <td>United-States</td>\n",
       "      <td>&lt;=50K</td>\n",
       "      <td>0</td>\n",
       "    </tr>\n",
       "    <tr>\n",
       "      <th>2</th>\n",
       "      <td>38</td>\n",
       "      <td>Private</td>\n",
       "      <td>215646</td>\n",
       "      <td>HS-grad</td>\n",
       "      <td>9</td>\n",
       "      <td>Divorced</td>\n",
       "      <td>Handlers-cleaners</td>\n",
       "      <td>Not-in-family</td>\n",
       "      <td>White</td>\n",
       "      <td>Male</td>\n",
       "      <td>0</td>\n",
       "      <td>0</td>\n",
       "      <td>40</td>\n",
       "      <td>United-States</td>\n",
       "      <td>&lt;=50K</td>\n",
       "      <td>0</td>\n",
       "    </tr>\n",
       "    <tr>\n",
       "      <th>3</th>\n",
       "      <td>53</td>\n",
       "      <td>Private</td>\n",
       "      <td>234721</td>\n",
       "      <td>11th</td>\n",
       "      <td>7</td>\n",
       "      <td>Married-civ-spouse</td>\n",
       "      <td>Handlers-cleaners</td>\n",
       "      <td>Husband</td>\n",
       "      <td>Black</td>\n",
       "      <td>Male</td>\n",
       "      <td>0</td>\n",
       "      <td>0</td>\n",
       "      <td>40</td>\n",
       "      <td>United-States</td>\n",
       "      <td>&lt;=50K</td>\n",
       "      <td>1</td>\n",
       "    </tr>\n",
       "    <tr>\n",
       "      <th>4</th>\n",
       "      <td>28</td>\n",
       "      <td>Private</td>\n",
       "      <td>338409</td>\n",
       "      <td>Bachelors</td>\n",
       "      <td>13</td>\n",
       "      <td>Married-civ-spouse</td>\n",
       "      <td>Prof-specialty</td>\n",
       "      <td>Wife</td>\n",
       "      <td>Black</td>\n",
       "      <td>Female</td>\n",
       "      <td>0</td>\n",
       "      <td>0</td>\n",
       "      <td>40</td>\n",
       "      <td>Cuba</td>\n",
       "      <td>&lt;=50K</td>\n",
       "      <td>1</td>\n",
       "    </tr>\n",
       "  </tbody>\n",
       "</table>\n",
       "</div>"
      ],
      "text/plain": [
       "   age          workclass  fnlwgt   education  education-num  \\\n",
       "0   39          State-gov   77516   Bachelors             13   \n",
       "1   50   Self-emp-not-inc   83311   Bachelors             13   \n",
       "2   38            Private  215646     HS-grad              9   \n",
       "3   53            Private  234721        11th              7   \n",
       "4   28            Private  338409   Bachelors             13   \n",
       "\n",
       "        marital-status          occupation    relationship    race      sex  \\\n",
       "0        Never-married        Adm-clerical   Not-in-family   White     Male   \n",
       "1   Married-civ-spouse     Exec-managerial         Husband   White     Male   \n",
       "2             Divorced   Handlers-cleaners   Not-in-family   White     Male   \n",
       "3   Married-civ-spouse   Handlers-cleaners         Husband   Black     Male   \n",
       "4   Married-civ-spouse      Prof-specialty            Wife   Black   Female   \n",
       "\n",
       "   capital-gain  capital-loss  hours-per-week  native-country income  new_race  \n",
       "0          2174             0              40   United-States  <=50K         0  \n",
       "1             0             0              13   United-States  <=50K         0  \n",
       "2             0             0              40   United-States  <=50K         0  \n",
       "3             0             0              40   United-States  <=50K         1  \n",
       "4             0             0              40            Cuba  <=50K         1  "
      ]
     },
     "execution_count": 81,
     "metadata": {},
     "output_type": "execute_result"
    }
   ],
   "source": [
    "DF.head()"
   ]
  },
  {
   "cell_type": "markdown",
   "metadata": {},
   "source": [
    "##### DataFrame.apply()\n",
    "apply, applymap 함수는 Pandas DataFrame에 사용할 수 있는 함수로 apply는 `행 또는 열 같은 축에 대해 연산을 적용` 할 수 있습니다. 행 또는 열을 입력으로 받아 단일 값을 반환합니다. <br>\n",
    "예를들어 행에 존재하는 모든 수치형 열의 값을 더해서 새로운 열을 만들고자 한다면 다음과 같이 할 수 있습니다."
   ]
  },
  {
   "cell_type": "code",
   "execution_count": 82,
   "metadata": {},
   "outputs": [],
   "source": [
    "# 수치형 컬럼 'age', 'fnlwgt', 'education-num', 'capital-gain', 'hours-per-week' \n",
    "DF['sum_num_var'] = DF.apply(lambda x: x['age'] + x['fnlwgt'] + x['education-num'] + x['capital-gain'] + x['hours-per-week'], axis=1)"
   ]
  },
  {
   "cell_type": "code",
   "execution_count": 83,
   "metadata": {},
   "outputs": [
    {
     "data": {
      "text/html": [
       "<div>\n",
       "<style scoped>\n",
       "    .dataframe tbody tr th:only-of-type {\n",
       "        vertical-align: middle;\n",
       "    }\n",
       "\n",
       "    .dataframe tbody tr th {\n",
       "        vertical-align: top;\n",
       "    }\n",
       "\n",
       "    .dataframe thead th {\n",
       "        text-align: right;\n",
       "    }\n",
       "</style>\n",
       "<table border=\"1\" class=\"dataframe\">\n",
       "  <thead>\n",
       "    <tr style=\"text-align: right;\">\n",
       "      <th></th>\n",
       "      <th>age</th>\n",
       "      <th>workclass</th>\n",
       "      <th>fnlwgt</th>\n",
       "      <th>education</th>\n",
       "      <th>education-num</th>\n",
       "      <th>marital-status</th>\n",
       "      <th>occupation</th>\n",
       "      <th>relationship</th>\n",
       "      <th>race</th>\n",
       "      <th>sex</th>\n",
       "      <th>capital-gain</th>\n",
       "      <th>capital-loss</th>\n",
       "      <th>hours-per-week</th>\n",
       "      <th>native-country</th>\n",
       "      <th>income</th>\n",
       "      <th>new_race</th>\n",
       "      <th>sum_num_var</th>\n",
       "    </tr>\n",
       "  </thead>\n",
       "  <tbody>\n",
       "    <tr>\n",
       "      <th>0</th>\n",
       "      <td>39</td>\n",
       "      <td>State-gov</td>\n",
       "      <td>77516</td>\n",
       "      <td>Bachelors</td>\n",
       "      <td>13</td>\n",
       "      <td>Never-married</td>\n",
       "      <td>Adm-clerical</td>\n",
       "      <td>Not-in-family</td>\n",
       "      <td>White</td>\n",
       "      <td>Male</td>\n",
       "      <td>2174</td>\n",
       "      <td>0</td>\n",
       "      <td>40</td>\n",
       "      <td>United-States</td>\n",
       "      <td>&lt;=50K</td>\n",
       "      <td>0</td>\n",
       "      <td>79782</td>\n",
       "    </tr>\n",
       "    <tr>\n",
       "      <th>1</th>\n",
       "      <td>50</td>\n",
       "      <td>Self-emp-not-inc</td>\n",
       "      <td>83311</td>\n",
       "      <td>Bachelors</td>\n",
       "      <td>13</td>\n",
       "      <td>Married-civ-spouse</td>\n",
       "      <td>Exec-managerial</td>\n",
       "      <td>Husband</td>\n",
       "      <td>White</td>\n",
       "      <td>Male</td>\n",
       "      <td>0</td>\n",
       "      <td>0</td>\n",
       "      <td>13</td>\n",
       "      <td>United-States</td>\n",
       "      <td>&lt;=50K</td>\n",
       "      <td>0</td>\n",
       "      <td>83387</td>\n",
       "    </tr>\n",
       "    <tr>\n",
       "      <th>2</th>\n",
       "      <td>38</td>\n",
       "      <td>Private</td>\n",
       "      <td>215646</td>\n",
       "      <td>HS-grad</td>\n",
       "      <td>9</td>\n",
       "      <td>Divorced</td>\n",
       "      <td>Handlers-cleaners</td>\n",
       "      <td>Not-in-family</td>\n",
       "      <td>White</td>\n",
       "      <td>Male</td>\n",
       "      <td>0</td>\n",
       "      <td>0</td>\n",
       "      <td>40</td>\n",
       "      <td>United-States</td>\n",
       "      <td>&lt;=50K</td>\n",
       "      <td>0</td>\n",
       "      <td>215733</td>\n",
       "    </tr>\n",
       "    <tr>\n",
       "      <th>3</th>\n",
       "      <td>53</td>\n",
       "      <td>Private</td>\n",
       "      <td>234721</td>\n",
       "      <td>11th</td>\n",
       "      <td>7</td>\n",
       "      <td>Married-civ-spouse</td>\n",
       "      <td>Handlers-cleaners</td>\n",
       "      <td>Husband</td>\n",
       "      <td>Black</td>\n",
       "      <td>Male</td>\n",
       "      <td>0</td>\n",
       "      <td>0</td>\n",
       "      <td>40</td>\n",
       "      <td>United-States</td>\n",
       "      <td>&lt;=50K</td>\n",
       "      <td>1</td>\n",
       "      <td>234821</td>\n",
       "    </tr>\n",
       "    <tr>\n",
       "      <th>4</th>\n",
       "      <td>28</td>\n",
       "      <td>Private</td>\n",
       "      <td>338409</td>\n",
       "      <td>Bachelors</td>\n",
       "      <td>13</td>\n",
       "      <td>Married-civ-spouse</td>\n",
       "      <td>Prof-specialty</td>\n",
       "      <td>Wife</td>\n",
       "      <td>Black</td>\n",
       "      <td>Female</td>\n",
       "      <td>0</td>\n",
       "      <td>0</td>\n",
       "      <td>40</td>\n",
       "      <td>Cuba</td>\n",
       "      <td>&lt;=50K</td>\n",
       "      <td>1</td>\n",
       "      <td>338490</td>\n",
       "    </tr>\n",
       "  </tbody>\n",
       "</table>\n",
       "</div>"
      ],
      "text/plain": [
       "   age          workclass  fnlwgt   education  education-num  \\\n",
       "0   39          State-gov   77516   Bachelors             13   \n",
       "1   50   Self-emp-not-inc   83311   Bachelors             13   \n",
       "2   38            Private  215646     HS-grad              9   \n",
       "3   53            Private  234721        11th              7   \n",
       "4   28            Private  338409   Bachelors             13   \n",
       "\n",
       "        marital-status          occupation    relationship    race      sex  \\\n",
       "0        Never-married        Adm-clerical   Not-in-family   White     Male   \n",
       "1   Married-civ-spouse     Exec-managerial         Husband   White     Male   \n",
       "2             Divorced   Handlers-cleaners   Not-in-family   White     Male   \n",
       "3   Married-civ-spouse   Handlers-cleaners         Husband   Black     Male   \n",
       "4   Married-civ-spouse      Prof-specialty            Wife   Black   Female   \n",
       "\n",
       "   capital-gain  capital-loss  hours-per-week  native-country income  \\\n",
       "0          2174             0              40   United-States  <=50K   \n",
       "1             0             0              13   United-States  <=50K   \n",
       "2             0             0              40   United-States  <=50K   \n",
       "3             0             0              40   United-States  <=50K   \n",
       "4             0             0              40            Cuba  <=50K   \n",
       "\n",
       "   new_race  sum_num_var  \n",
       "0         0        79782  \n",
       "1         0        83387  \n",
       "2         0       215733  \n",
       "3         1       234821  \n",
       "4         1       338490  "
      ]
     },
     "execution_count": 83,
     "metadata": {},
     "output_type": "execute_result"
    }
   ],
   "source": [
    "DF.head()"
   ]
  },
  {
   "cell_type": "markdown",
   "metadata": {},
   "source": [
    "##### DataFrame.applymap()\n",
    "Pandas DataFrame에 사용할 수 있는 함수로 applymap은 Series의 map과 동일하게 `각 원소에 연산을 적용`할 수 있습니다. 각 원소를 입력으로 받아 단일 값을 반환합니다.<br>\n",
    "예를들어 모든 수치형 값에 log를 취한다면 다음과 같이 할 수 있습니다. "
   ]
  },
  {
   "cell_type": "code",
   "execution_count": 84,
   "metadata": {},
   "outputs": [
    {
     "name": "stderr",
     "output_type": "stream",
     "text": [
      "C:\\Users\\htaur\\anaconda3\\envs\\py37\\lib\\site-packages\\ipykernel_launcher.py:1: RuntimeWarning: divide by zero encountered in log\n",
      "  \"\"\"Entry point for launching an IPython kernel.\n"
     ]
    },
    {
     "data": {
      "text/html": [
       "<div>\n",
       "<style scoped>\n",
       "    .dataframe tbody tr th:only-of-type {\n",
       "        vertical-align: middle;\n",
       "    }\n",
       "\n",
       "    .dataframe tbody tr th {\n",
       "        vertical-align: top;\n",
       "    }\n",
       "\n",
       "    .dataframe thead th {\n",
       "        text-align: right;\n",
       "    }\n",
       "</style>\n",
       "<table border=\"1\" class=\"dataframe\">\n",
       "  <thead>\n",
       "    <tr style=\"text-align: right;\">\n",
       "      <th></th>\n",
       "      <th>age</th>\n",
       "      <th>fnlwgt</th>\n",
       "      <th>education-num</th>\n",
       "      <th>capital-gain</th>\n",
       "      <th>hours-per-week</th>\n",
       "    </tr>\n",
       "  </thead>\n",
       "  <tbody>\n",
       "    <tr>\n",
       "      <th>0</th>\n",
       "      <td>3.663562</td>\n",
       "      <td>11.258240</td>\n",
       "      <td>2.564949</td>\n",
       "      <td>7.684324</td>\n",
       "      <td>3.688879</td>\n",
       "    </tr>\n",
       "    <tr>\n",
       "      <th>1</th>\n",
       "      <td>3.912023</td>\n",
       "      <td>11.330336</td>\n",
       "      <td>2.564949</td>\n",
       "      <td>-inf</td>\n",
       "      <td>2.564949</td>\n",
       "    </tr>\n",
       "    <tr>\n",
       "      <th>2</th>\n",
       "      <td>3.637586</td>\n",
       "      <td>12.281393</td>\n",
       "      <td>2.197225</td>\n",
       "      <td>-inf</td>\n",
       "      <td>3.688879</td>\n",
       "    </tr>\n",
       "    <tr>\n",
       "      <th>3</th>\n",
       "      <td>3.970292</td>\n",
       "      <td>12.366153</td>\n",
       "      <td>1.945910</td>\n",
       "      <td>-inf</td>\n",
       "      <td>3.688879</td>\n",
       "    </tr>\n",
       "    <tr>\n",
       "      <th>4</th>\n",
       "      <td>3.332205</td>\n",
       "      <td>12.732011</td>\n",
       "      <td>2.564949</td>\n",
       "      <td>-inf</td>\n",
       "      <td>3.688879</td>\n",
       "    </tr>\n",
       "    <tr>\n",
       "      <th>...</th>\n",
       "      <td>...</td>\n",
       "      <td>...</td>\n",
       "      <td>...</td>\n",
       "      <td>...</td>\n",
       "      <td>...</td>\n",
       "    </tr>\n",
       "    <tr>\n",
       "      <th>48837</th>\n",
       "      <td>3.663562</td>\n",
       "      <td>12.280340</td>\n",
       "      <td>2.564949</td>\n",
       "      <td>-inf</td>\n",
       "      <td>3.583519</td>\n",
       "    </tr>\n",
       "    <tr>\n",
       "      <th>48838</th>\n",
       "      <td>4.158883</td>\n",
       "      <td>12.680451</td>\n",
       "      <td>2.197225</td>\n",
       "      <td>-inf</td>\n",
       "      <td>3.688879</td>\n",
       "    </tr>\n",
       "    <tr>\n",
       "      <th>48839</th>\n",
       "      <td>3.637586</td>\n",
       "      <td>12.834636</td>\n",
       "      <td>2.564949</td>\n",
       "      <td>-inf</td>\n",
       "      <td>3.912023</td>\n",
       "    </tr>\n",
       "    <tr>\n",
       "      <th>48840</th>\n",
       "      <td>3.784190</td>\n",
       "      <td>11.337274</td>\n",
       "      <td>2.564949</td>\n",
       "      <td>8.604288</td>\n",
       "      <td>3.688879</td>\n",
       "    </tr>\n",
       "    <tr>\n",
       "      <th>48841</th>\n",
       "      <td>3.555348</td>\n",
       "      <td>12.112575</td>\n",
       "      <td>2.564949</td>\n",
       "      <td>-inf</td>\n",
       "      <td>4.094345</td>\n",
       "    </tr>\n",
       "  </tbody>\n",
       "</table>\n",
       "<p>48842 rows × 5 columns</p>\n",
       "</div>"
      ],
      "text/plain": [
       "            age     fnlwgt  education-num  capital-gain  hours-per-week\n",
       "0      3.663562  11.258240       2.564949      7.684324        3.688879\n",
       "1      3.912023  11.330336       2.564949          -inf        2.564949\n",
       "2      3.637586  12.281393       2.197225          -inf        3.688879\n",
       "3      3.970292  12.366153       1.945910          -inf        3.688879\n",
       "4      3.332205  12.732011       2.564949          -inf        3.688879\n",
       "...         ...        ...            ...           ...             ...\n",
       "48837  3.663562  12.280340       2.564949          -inf        3.583519\n",
       "48838  4.158883  12.680451       2.197225          -inf        3.688879\n",
       "48839  3.637586  12.834636       2.564949          -inf        3.912023\n",
       "48840  3.784190  11.337274       2.564949      8.604288        3.688879\n",
       "48841  3.555348  12.112575       2.564949          -inf        4.094345\n",
       "\n",
       "[48842 rows x 5 columns]"
      ]
     },
     "execution_count": 84,
     "metadata": {},
     "output_type": "execute_result"
    }
   ],
   "source": [
    "DF[['age', 'fnlwgt', 'education-num', 'capital-gain', 'hours-per-week']].applymap(lambda x: np.log(x))"
   ]
  },
  {
   "cell_type": "markdown",
   "metadata": {},
   "source": [
    "#### 9) inplace 인자\n",
    "몇몇 Pandas 함수들의 인자를 살펴보면 inplace 인자가 있습니다. <br>\n",
    "inplace란 말 그대로 내부에서 연산을 하고 객체를 반환하지않는 것을 의미합니다. <br>\n",
    "일반적으로 Pandas 함수들은 연산 후 연산이 적용된 새로운 객체를 생성해서 반환하는데, inplace 인자를 True로 전달하면 객체를 반환하지 않습니다."
   ]
  },
  {
   "cell_type": "code",
   "execution_count": 85,
   "metadata": {},
   "outputs": [
    {
     "data": {
      "text/html": [
       "<div>\n",
       "<style scoped>\n",
       "    .dataframe tbody tr th:only-of-type {\n",
       "        vertical-align: middle;\n",
       "    }\n",
       "\n",
       "    .dataframe tbody tr th {\n",
       "        vertical-align: top;\n",
       "    }\n",
       "\n",
       "    .dataframe thead th {\n",
       "        text-align: right;\n",
       "    }\n",
       "</style>\n",
       "<table border=\"1\" class=\"dataframe\">\n",
       "  <thead>\n",
       "    <tr style=\"text-align: right;\">\n",
       "      <th></th>\n",
       "      <th>age</th>\n",
       "      <th>workclass</th>\n",
       "      <th>fnlwgt</th>\n",
       "      <th>education</th>\n",
       "      <th>education-num</th>\n",
       "      <th>marital-status</th>\n",
       "      <th>occupation</th>\n",
       "      <th>relationship</th>\n",
       "      <th>race</th>\n",
       "      <th>sex</th>\n",
       "      <th>capital-gain</th>\n",
       "      <th>capital-loss</th>\n",
       "      <th>hours-per-week</th>\n",
       "      <th>native-country</th>\n",
       "      <th>income</th>\n",
       "      <th>new_race</th>\n",
       "      <th>sum_num_var</th>\n",
       "    </tr>\n",
       "  </thead>\n",
       "  <tbody>\n",
       "    <tr>\n",
       "      <th>48841</th>\n",
       "      <td>35</td>\n",
       "      <td>Self-emp-inc</td>\n",
       "      <td>182148</td>\n",
       "      <td>Bachelors</td>\n",
       "      <td>13</td>\n",
       "      <td>Married-civ-spouse</td>\n",
       "      <td>Exec-managerial</td>\n",
       "      <td>Husband</td>\n",
       "      <td>White</td>\n",
       "      <td>Male</td>\n",
       "      <td>0</td>\n",
       "      <td>0</td>\n",
       "      <td>60</td>\n",
       "      <td>United-States</td>\n",
       "      <td>&gt;50K</td>\n",
       "      <td>0</td>\n",
       "      <td>182256</td>\n",
       "    </tr>\n",
       "    <tr>\n",
       "      <th>48840</th>\n",
       "      <td>44</td>\n",
       "      <td>Private</td>\n",
       "      <td>83891</td>\n",
       "      <td>Bachelors</td>\n",
       "      <td>13</td>\n",
       "      <td>Divorced</td>\n",
       "      <td>Adm-clerical</td>\n",
       "      <td>Own-child</td>\n",
       "      <td>Asian-Pac-Islander</td>\n",
       "      <td>Male</td>\n",
       "      <td>5455</td>\n",
       "      <td>0</td>\n",
       "      <td>40</td>\n",
       "      <td>United-States</td>\n",
       "      <td>&lt;=50K</td>\n",
       "      <td>2</td>\n",
       "      <td>89443</td>\n",
       "    </tr>\n",
       "    <tr>\n",
       "      <th>48839</th>\n",
       "      <td>38</td>\n",
       "      <td>Private</td>\n",
       "      <td>374983</td>\n",
       "      <td>Bachelors</td>\n",
       "      <td>13</td>\n",
       "      <td>Married-civ-spouse</td>\n",
       "      <td>Prof-specialty</td>\n",
       "      <td>Husband</td>\n",
       "      <td>White</td>\n",
       "      <td>Male</td>\n",
       "      <td>0</td>\n",
       "      <td>0</td>\n",
       "      <td>50</td>\n",
       "      <td>United-States</td>\n",
       "      <td>&lt;=50K</td>\n",
       "      <td>0</td>\n",
       "      <td>375084</td>\n",
       "    </tr>\n",
       "    <tr>\n",
       "      <th>48838</th>\n",
       "      <td>64</td>\n",
       "      <td>?</td>\n",
       "      <td>321403</td>\n",
       "      <td>HS-grad</td>\n",
       "      <td>9</td>\n",
       "      <td>Widowed</td>\n",
       "      <td>?</td>\n",
       "      <td>Other-relative</td>\n",
       "      <td>Black</td>\n",
       "      <td>Male</td>\n",
       "      <td>0</td>\n",
       "      <td>0</td>\n",
       "      <td>40</td>\n",
       "      <td>United-States</td>\n",
       "      <td>&lt;=50K</td>\n",
       "      <td>1</td>\n",
       "      <td>321516</td>\n",
       "    </tr>\n",
       "    <tr>\n",
       "      <th>48837</th>\n",
       "      <td>39</td>\n",
       "      <td>Private</td>\n",
       "      <td>215419</td>\n",
       "      <td>Bachelors</td>\n",
       "      <td>13</td>\n",
       "      <td>Divorced</td>\n",
       "      <td>Prof-specialty</td>\n",
       "      <td>Not-in-family</td>\n",
       "      <td>White</td>\n",
       "      <td>Female</td>\n",
       "      <td>0</td>\n",
       "      <td>0</td>\n",
       "      <td>36</td>\n",
       "      <td>United-States</td>\n",
       "      <td>&lt;=50K</td>\n",
       "      <td>0</td>\n",
       "      <td>215507</td>\n",
       "    </tr>\n",
       "  </tbody>\n",
       "</table>\n",
       "</div>"
      ],
      "text/plain": [
       "       age      workclass  fnlwgt   education  education-num  \\\n",
       "48841   35   Self-emp-inc  182148   Bachelors             13   \n",
       "48840   44        Private   83891   Bachelors             13   \n",
       "48839   38        Private  374983   Bachelors             13   \n",
       "48838   64              ?  321403     HS-grad              9   \n",
       "48837   39        Private  215419   Bachelors             13   \n",
       "\n",
       "            marital-status        occupation     relationship  \\\n",
       "48841   Married-civ-spouse   Exec-managerial          Husband   \n",
       "48840             Divorced      Adm-clerical        Own-child   \n",
       "48839   Married-civ-spouse    Prof-specialty          Husband   \n",
       "48838              Widowed                 ?   Other-relative   \n",
       "48837             Divorced    Prof-specialty    Not-in-family   \n",
       "\n",
       "                      race      sex  capital-gain  capital-loss  \\\n",
       "48841                White     Male             0             0   \n",
       "48840   Asian-Pac-Islander     Male          5455             0   \n",
       "48839                White     Male             0             0   \n",
       "48838                Black     Male             0             0   \n",
       "48837                White   Female             0             0   \n",
       "\n",
       "       hours-per-week  native-country income  new_race  sum_num_var  \n",
       "48841              60   United-States   >50K         0       182256  \n",
       "48840              40   United-States  <=50K         2        89443  \n",
       "48839              50   United-States  <=50K         0       375084  \n",
       "48838              40   United-States  <=50K         1       321516  \n",
       "48837              36   United-States  <=50K         0       215507  "
      ]
     },
     "execution_count": 85,
     "metadata": {},
     "output_type": "execute_result"
    }
   ],
   "source": [
    "rrow_DF = pd.DataFrame(DF, index=[i for i in range(DF.shape[0]-1, -1, -1)])\n",
    "rrow_DF.head()"
   ]
  },
  {
   "cell_type": "code",
   "execution_count": 86,
   "metadata": {},
   "outputs": [
    {
     "data": {
      "text/html": [
       "<div>\n",
       "<style scoped>\n",
       "    .dataframe tbody tr th:only-of-type {\n",
       "        vertical-align: middle;\n",
       "    }\n",
       "\n",
       "    .dataframe tbody tr th {\n",
       "        vertical-align: top;\n",
       "    }\n",
       "\n",
       "    .dataframe thead th {\n",
       "        text-align: right;\n",
       "    }\n",
       "</style>\n",
       "<table border=\"1\" class=\"dataframe\">\n",
       "  <thead>\n",
       "    <tr style=\"text-align: right;\">\n",
       "      <th></th>\n",
       "      <th>age</th>\n",
       "      <th>workclass</th>\n",
       "      <th>fnlwgt</th>\n",
       "      <th>education</th>\n",
       "      <th>education-num</th>\n",
       "      <th>marital-status</th>\n",
       "      <th>occupation</th>\n",
       "      <th>relationship</th>\n",
       "      <th>race</th>\n",
       "      <th>sex</th>\n",
       "      <th>capital-gain</th>\n",
       "      <th>capital-loss</th>\n",
       "      <th>hours-per-week</th>\n",
       "      <th>native-country</th>\n",
       "      <th>income</th>\n",
       "      <th>new_race</th>\n",
       "      <th>sum_num_var</th>\n",
       "    </tr>\n",
       "  </thead>\n",
       "  <tbody>\n",
       "    <tr>\n",
       "      <th>0</th>\n",
       "      <td>35</td>\n",
       "      <td>Self-emp-inc</td>\n",
       "      <td>182148</td>\n",
       "      <td>Bachelors</td>\n",
       "      <td>13</td>\n",
       "      <td>Married-civ-spouse</td>\n",
       "      <td>Exec-managerial</td>\n",
       "      <td>Husband</td>\n",
       "      <td>White</td>\n",
       "      <td>Male</td>\n",
       "      <td>0</td>\n",
       "      <td>0</td>\n",
       "      <td>60</td>\n",
       "      <td>United-States</td>\n",
       "      <td>&gt;50K</td>\n",
       "      <td>0</td>\n",
       "      <td>182256</td>\n",
       "    </tr>\n",
       "    <tr>\n",
       "      <th>1</th>\n",
       "      <td>44</td>\n",
       "      <td>Private</td>\n",
       "      <td>83891</td>\n",
       "      <td>Bachelors</td>\n",
       "      <td>13</td>\n",
       "      <td>Divorced</td>\n",
       "      <td>Adm-clerical</td>\n",
       "      <td>Own-child</td>\n",
       "      <td>Asian-Pac-Islander</td>\n",
       "      <td>Male</td>\n",
       "      <td>5455</td>\n",
       "      <td>0</td>\n",
       "      <td>40</td>\n",
       "      <td>United-States</td>\n",
       "      <td>&lt;=50K</td>\n",
       "      <td>2</td>\n",
       "      <td>89443</td>\n",
       "    </tr>\n",
       "    <tr>\n",
       "      <th>2</th>\n",
       "      <td>38</td>\n",
       "      <td>Private</td>\n",
       "      <td>374983</td>\n",
       "      <td>Bachelors</td>\n",
       "      <td>13</td>\n",
       "      <td>Married-civ-spouse</td>\n",
       "      <td>Prof-specialty</td>\n",
       "      <td>Husband</td>\n",
       "      <td>White</td>\n",
       "      <td>Male</td>\n",
       "      <td>0</td>\n",
       "      <td>0</td>\n",
       "      <td>50</td>\n",
       "      <td>United-States</td>\n",
       "      <td>&lt;=50K</td>\n",
       "      <td>0</td>\n",
       "      <td>375084</td>\n",
       "    </tr>\n",
       "    <tr>\n",
       "      <th>3</th>\n",
       "      <td>64</td>\n",
       "      <td>?</td>\n",
       "      <td>321403</td>\n",
       "      <td>HS-grad</td>\n",
       "      <td>9</td>\n",
       "      <td>Widowed</td>\n",
       "      <td>?</td>\n",
       "      <td>Other-relative</td>\n",
       "      <td>Black</td>\n",
       "      <td>Male</td>\n",
       "      <td>0</td>\n",
       "      <td>0</td>\n",
       "      <td>40</td>\n",
       "      <td>United-States</td>\n",
       "      <td>&lt;=50K</td>\n",
       "      <td>1</td>\n",
       "      <td>321516</td>\n",
       "    </tr>\n",
       "    <tr>\n",
       "      <th>4</th>\n",
       "      <td>39</td>\n",
       "      <td>Private</td>\n",
       "      <td>215419</td>\n",
       "      <td>Bachelors</td>\n",
       "      <td>13</td>\n",
       "      <td>Divorced</td>\n",
       "      <td>Prof-specialty</td>\n",
       "      <td>Not-in-family</td>\n",
       "      <td>White</td>\n",
       "      <td>Female</td>\n",
       "      <td>0</td>\n",
       "      <td>0</td>\n",
       "      <td>36</td>\n",
       "      <td>United-States</td>\n",
       "      <td>&lt;=50K</td>\n",
       "      <td>0</td>\n",
       "      <td>215507</td>\n",
       "    </tr>\n",
       "    <tr>\n",
       "      <th>...</th>\n",
       "      <td>...</td>\n",
       "      <td>...</td>\n",
       "      <td>...</td>\n",
       "      <td>...</td>\n",
       "      <td>...</td>\n",
       "      <td>...</td>\n",
       "      <td>...</td>\n",
       "      <td>...</td>\n",
       "      <td>...</td>\n",
       "      <td>...</td>\n",
       "      <td>...</td>\n",
       "      <td>...</td>\n",
       "      <td>...</td>\n",
       "      <td>...</td>\n",
       "      <td>...</td>\n",
       "      <td>...</td>\n",
       "      <td>...</td>\n",
       "    </tr>\n",
       "    <tr>\n",
       "      <th>48837</th>\n",
       "      <td>28</td>\n",
       "      <td>Private</td>\n",
       "      <td>338409</td>\n",
       "      <td>Bachelors</td>\n",
       "      <td>13</td>\n",
       "      <td>Married-civ-spouse</td>\n",
       "      <td>Prof-specialty</td>\n",
       "      <td>Wife</td>\n",
       "      <td>Black</td>\n",
       "      <td>Female</td>\n",
       "      <td>0</td>\n",
       "      <td>0</td>\n",
       "      <td>40</td>\n",
       "      <td>Cuba</td>\n",
       "      <td>&lt;=50K</td>\n",
       "      <td>1</td>\n",
       "      <td>338490</td>\n",
       "    </tr>\n",
       "    <tr>\n",
       "      <th>48838</th>\n",
       "      <td>53</td>\n",
       "      <td>Private</td>\n",
       "      <td>234721</td>\n",
       "      <td>11th</td>\n",
       "      <td>7</td>\n",
       "      <td>Married-civ-spouse</td>\n",
       "      <td>Handlers-cleaners</td>\n",
       "      <td>Husband</td>\n",
       "      <td>Black</td>\n",
       "      <td>Male</td>\n",
       "      <td>0</td>\n",
       "      <td>0</td>\n",
       "      <td>40</td>\n",
       "      <td>United-States</td>\n",
       "      <td>&lt;=50K</td>\n",
       "      <td>1</td>\n",
       "      <td>234821</td>\n",
       "    </tr>\n",
       "    <tr>\n",
       "      <th>48839</th>\n",
       "      <td>38</td>\n",
       "      <td>Private</td>\n",
       "      <td>215646</td>\n",
       "      <td>HS-grad</td>\n",
       "      <td>9</td>\n",
       "      <td>Divorced</td>\n",
       "      <td>Handlers-cleaners</td>\n",
       "      <td>Not-in-family</td>\n",
       "      <td>White</td>\n",
       "      <td>Male</td>\n",
       "      <td>0</td>\n",
       "      <td>0</td>\n",
       "      <td>40</td>\n",
       "      <td>United-States</td>\n",
       "      <td>&lt;=50K</td>\n",
       "      <td>0</td>\n",
       "      <td>215733</td>\n",
       "    </tr>\n",
       "    <tr>\n",
       "      <th>48840</th>\n",
       "      <td>50</td>\n",
       "      <td>Self-emp-not-inc</td>\n",
       "      <td>83311</td>\n",
       "      <td>Bachelors</td>\n",
       "      <td>13</td>\n",
       "      <td>Married-civ-spouse</td>\n",
       "      <td>Exec-managerial</td>\n",
       "      <td>Husband</td>\n",
       "      <td>White</td>\n",
       "      <td>Male</td>\n",
       "      <td>0</td>\n",
       "      <td>0</td>\n",
       "      <td>13</td>\n",
       "      <td>United-States</td>\n",
       "      <td>&lt;=50K</td>\n",
       "      <td>0</td>\n",
       "      <td>83387</td>\n",
       "    </tr>\n",
       "    <tr>\n",
       "      <th>48841</th>\n",
       "      <td>39</td>\n",
       "      <td>State-gov</td>\n",
       "      <td>77516</td>\n",
       "      <td>Bachelors</td>\n",
       "      <td>13</td>\n",
       "      <td>Never-married</td>\n",
       "      <td>Adm-clerical</td>\n",
       "      <td>Not-in-family</td>\n",
       "      <td>White</td>\n",
       "      <td>Male</td>\n",
       "      <td>2174</td>\n",
       "      <td>0</td>\n",
       "      <td>40</td>\n",
       "      <td>United-States</td>\n",
       "      <td>&lt;=50K</td>\n",
       "      <td>0</td>\n",
       "      <td>79782</td>\n",
       "    </tr>\n",
       "  </tbody>\n",
       "</table>\n",
       "<p>48842 rows × 17 columns</p>\n",
       "</div>"
      ],
      "text/plain": [
       "       age          workclass  fnlwgt   education  education-num  \\\n",
       "0       35       Self-emp-inc  182148   Bachelors             13   \n",
       "1       44            Private   83891   Bachelors             13   \n",
       "2       38            Private  374983   Bachelors             13   \n",
       "3       64                  ?  321403     HS-grad              9   \n",
       "4       39            Private  215419   Bachelors             13   \n",
       "...    ...                ...     ...         ...            ...   \n",
       "48837   28            Private  338409   Bachelors             13   \n",
       "48838   53            Private  234721        11th              7   \n",
       "48839   38            Private  215646     HS-grad              9   \n",
       "48840   50   Self-emp-not-inc   83311   Bachelors             13   \n",
       "48841   39          State-gov   77516   Bachelors             13   \n",
       "\n",
       "            marital-status          occupation     relationship  \\\n",
       "0       Married-civ-spouse     Exec-managerial          Husband   \n",
       "1                 Divorced        Adm-clerical        Own-child   \n",
       "2       Married-civ-spouse      Prof-specialty          Husband   \n",
       "3                  Widowed                   ?   Other-relative   \n",
       "4                 Divorced      Prof-specialty    Not-in-family   \n",
       "...                    ...                 ...              ...   \n",
       "48837   Married-civ-spouse      Prof-specialty             Wife   \n",
       "48838   Married-civ-spouse   Handlers-cleaners          Husband   \n",
       "48839             Divorced   Handlers-cleaners    Not-in-family   \n",
       "48840   Married-civ-spouse     Exec-managerial          Husband   \n",
       "48841        Never-married        Adm-clerical    Not-in-family   \n",
       "\n",
       "                      race      sex  capital-gain  capital-loss  \\\n",
       "0                    White     Male             0             0   \n",
       "1       Asian-Pac-Islander     Male          5455             0   \n",
       "2                    White     Male             0             0   \n",
       "3                    Black     Male             0             0   \n",
       "4                    White   Female             0             0   \n",
       "...                    ...      ...           ...           ...   \n",
       "48837                Black   Female             0             0   \n",
       "48838                Black     Male             0             0   \n",
       "48839                White     Male             0             0   \n",
       "48840                White     Male             0             0   \n",
       "48841                White     Male          2174             0   \n",
       "\n",
       "       hours-per-week  native-country income  new_race  sum_num_var  \n",
       "0                  60   United-States   >50K         0       182256  \n",
       "1                  40   United-States  <=50K         2        89443  \n",
       "2                  50   United-States  <=50K         0       375084  \n",
       "3                  40   United-States  <=50K         1       321516  \n",
       "4                  36   United-States  <=50K         0       215507  \n",
       "...               ...             ...    ...       ...          ...  \n",
       "48837              40            Cuba  <=50K         1       338490  \n",
       "48838              40   United-States  <=50K         1       234821  \n",
       "48839              40   United-States  <=50K         0       215733  \n",
       "48840              13   United-States  <=50K         0        83387  \n",
       "48841              40   United-States  <=50K         0        79782  \n",
       "\n",
       "[48842 rows x 17 columns]"
      ]
     },
     "execution_count": 86,
     "metadata": {},
     "output_type": "execute_result"
    }
   ],
   "source": [
    "rrow_DF.reset_index(drop=True)"
   ]
  },
  {
   "cell_type": "code",
   "execution_count": 87,
   "metadata": {},
   "outputs": [],
   "source": [
    "rrow_DF.reset_index(inplace=True, drop=True)"
   ]
  },
  {
   "cell_type": "markdown",
   "metadata": {},
   "source": [
    "#### Numpy와 Pandas의 브로드캐스팅\n",
    "- 브로드캐스팅이란? Numpy와 Pandas 자료형에 대해 대부분 단항 또는 이항 연산들은 브로드캐스팅을 지원하는데, 차원에 맞게 연산이 알아서 적용되는 것을 말합니다.\n",
    "\n",
    "1. (4, 4) 짜리 행렬 A에 단항 연산인 다음과 같이 로그를 씌우면 np.log(A), 알아서 A의 각 원소에 로그가 적용됩니다.\n",
    "2. (4, 4) 짜리 행렬 A에 (4, 1) 행렬 B를 다음과 같이 빼면 행렬 A의 행 방향으로 B 만큼 값이 감소하게 됩니다. "
   ]
  },
  {
   "cell_type": "code",
   "execution_count": 88,
   "metadata": {},
   "outputs": [
    {
     "data": {
      "text/plain": [
       "array([[4, 9, 5, 9],\n",
       "       [7, 8, 3, 3],\n",
       "       [3, 3, 6, 6],\n",
       "       [6, 2, 9, 3]])"
      ]
     },
     "execution_count": 88,
     "metadata": {},
     "output_type": "execute_result"
    }
   ],
   "source": [
    "A = np.random.randint(2, 10, size=(4, 4))\n",
    "A"
   ]
  },
  {
   "cell_type": "code",
   "execution_count": 89,
   "metadata": {},
   "outputs": [
    {
     "data": {
      "text/plain": [
       "array([[1.38629436, 2.19722458, 1.60943791, 2.19722458],\n",
       "       [1.94591015, 2.07944154, 1.09861229, 1.09861229],\n",
       "       [1.09861229, 1.09861229, 1.79175947, 1.79175947],\n",
       "       [1.79175947, 0.69314718, 2.19722458, 1.09861229]])"
      ]
     },
     "execution_count": 89,
     "metadata": {},
     "output_type": "execute_result"
    }
   ],
   "source": [
    "np.log(A)"
   ]
  },
  {
   "cell_type": "code",
   "execution_count": 90,
   "metadata": {},
   "outputs": [
    {
     "data": {
      "text/plain": [
       "array([[3],\n",
       "       [7],\n",
       "       [6],\n",
       "       [7]])"
      ]
     },
     "execution_count": 90,
     "metadata": {},
     "output_type": "execute_result"
    }
   ],
   "source": [
    "B = np.random.randint(2, 10, size=(4, 1))\n",
    "B"
   ]
  },
  {
   "cell_type": "code",
   "execution_count": 91,
   "metadata": {},
   "outputs": [
    {
     "data": {
      "text/plain": [
       "(array([[4, 9, 5, 9],\n",
       "        [7, 8, 3, 3],\n",
       "        [3, 3, 6, 6],\n",
       "        [6, 2, 9, 3]]),\n",
       " array([[ 1,  6,  2,  6],\n",
       "        [ 0,  1, -4, -4],\n",
       "        [-3, -3,  0,  0],\n",
       "        [-1, -5,  2, -4]]))"
      ]
     },
     "execution_count": 91,
     "metadata": {},
     "output_type": "execute_result"
    }
   ],
   "source": [
    "A, (A - B)"
   ]
  },
  {
   "cell_type": "markdown",
   "metadata": {},
   "source": [
    "### Reference\n",
    "- Numpy Docs:  https://numpy.org/doc/stable/\n",
    "- Pandas Docs: https://pandas.pydata.org/docs/\n",
    "- map, apply, applymap: http://www.leejungmin.org/post/2018/04/21/pandas_apply_and_map/"
   ]
  },
  {
   "cell_type": "markdown",
   "metadata": {},
   "source": [
    "### 풀어보기"
   ]
  },
  {
   "cell_type": "markdown",
   "metadata": {},
   "source": [
    "#### 1) DataFrame 컬럼 순서 바꾸기 (서로 다른 종류 3가지 이상)\n",
    "- iloc, loc, append, concat 함수 또는 컬럼 인덱싱으로 DataFrame의 컬럼 순서를 바꿔보세요. Numpy 행렬로 변환했다가 DataFrame으로 만드셔도 됩니다."
   ]
  },
  {
   "cell_type": "code",
   "execution_count": 92,
   "metadata": {},
   "outputs": [],
   "source": [
    "import os\n",
    "from os.path import join"
   ]
  },
  {
   "cell_type": "code",
   "execution_count": 93,
   "metadata": {},
   "outputs": [],
   "source": [
    "filename1 = join('data',join('MDC01','train.csv'))\n",
    "filename1\n",
    "mdc01_train = pd.read_csv(filename1)"
   ]
  },
  {
   "cell_type": "code",
   "execution_count": 94,
   "metadata": {},
   "outputs": [
    {
     "data": {
      "text/html": [
       "<div>\n",
       "<style scoped>\n",
       "    .dataframe tbody tr th:only-of-type {\n",
       "        vertical-align: middle;\n",
       "    }\n",
       "\n",
       "    .dataframe tbody tr th {\n",
       "        vertical-align: top;\n",
       "    }\n",
       "\n",
       "    .dataframe thead th {\n",
       "        text-align: right;\n",
       "    }\n",
       "</style>\n",
       "<table border=\"1\" class=\"dataframe\">\n",
       "  <thead>\n",
       "    <tr style=\"text-align: right;\">\n",
       "      <th></th>\n",
       "      <th>id</th>\n",
       "      <th>rho</th>\n",
       "      <th>650_src</th>\n",
       "      <th>660_src</th>\n",
       "      <th>670_src</th>\n",
       "      <th>680_src</th>\n",
       "      <th>690_src</th>\n",
       "      <th>700_src</th>\n",
       "      <th>710_src</th>\n",
       "      <th>720_src</th>\n",
       "      <th>...</th>\n",
       "      <th>950_dst</th>\n",
       "      <th>960_dst</th>\n",
       "      <th>970_dst</th>\n",
       "      <th>980_dst</th>\n",
       "      <th>990_dst</th>\n",
       "      <th>hhb</th>\n",
       "      <th>hbo2</th>\n",
       "      <th>ca</th>\n",
       "      <th>na</th>\n",
       "      <th>660_src</th>\n",
       "    </tr>\n",
       "  </thead>\n",
       "  <tbody>\n",
       "    <tr>\n",
       "      <th>0</th>\n",
       "      <td>0</td>\n",
       "      <td>25</td>\n",
       "      <td>0.37950</td>\n",
       "      <td>0.42993</td>\n",
       "      <td>0.52076</td>\n",
       "      <td>0.57166</td>\n",
       "      <td>0.67818</td>\n",
       "      <td>0.75476</td>\n",
       "      <td>0.83580</td>\n",
       "      <td>0.93623</td>\n",
       "      <td>...</td>\n",
       "      <td>0.000000e+00</td>\n",
       "      <td>NaN</td>\n",
       "      <td>1.067504e-18</td>\n",
       "      <td>5.998949e-18</td>\n",
       "      <td>4.378513e-17</td>\n",
       "      <td>5.59</td>\n",
       "      <td>4.32</td>\n",
       "      <td>8.92</td>\n",
       "      <td>4.29</td>\n",
       "      <td>0.42993</td>\n",
       "    </tr>\n",
       "    <tr>\n",
       "      <th>1</th>\n",
       "      <td>1</td>\n",
       "      <td>10</td>\n",
       "      <td>0.00000</td>\n",
       "      <td>0.00000</td>\n",
       "      <td>0.01813</td>\n",
       "      <td>0.00000</td>\n",
       "      <td>0.00000</td>\n",
       "      <td>0.01974</td>\n",
       "      <td>0.00321</td>\n",
       "      <td>0.00000</td>\n",
       "      <td>...</td>\n",
       "      <td>6.112685e-09</td>\n",
       "      <td>2.130547e-09</td>\n",
       "      <td>NaN</td>\n",
       "      <td>9.710091e-09</td>\n",
       "      <td>NaN</td>\n",
       "      <td>0.00</td>\n",
       "      <td>2.83</td>\n",
       "      <td>7.25</td>\n",
       "      <td>4.64</td>\n",
       "      <td>0.00000</td>\n",
       "    </tr>\n",
       "    <tr>\n",
       "      <th>2</th>\n",
       "      <td>2</td>\n",
       "      <td>25</td>\n",
       "      <td>0.00000</td>\n",
       "      <td>0.03289</td>\n",
       "      <td>0.02416</td>\n",
       "      <td>0.03610</td>\n",
       "      <td>0.05843</td>\n",
       "      <td>0.09015</td>\n",
       "      <td>0.14944</td>\n",
       "      <td>0.18578</td>\n",
       "      <td>...</td>\n",
       "      <td>0.000000e+00</td>\n",
       "      <td>0.000000e+00</td>\n",
       "      <td>0.000000e+00</td>\n",
       "      <td>1.329725e-18</td>\n",
       "      <td>NaN</td>\n",
       "      <td>10.64</td>\n",
       "      <td>3.00</td>\n",
       "      <td>8.40</td>\n",
       "      <td>5.16</td>\n",
       "      <td>0.03289</td>\n",
       "    </tr>\n",
       "    <tr>\n",
       "      <th>3</th>\n",
       "      <td>3</td>\n",
       "      <td>10</td>\n",
       "      <td>0.27503</td>\n",
       "      <td>0.31281</td>\n",
       "      <td>0.32898</td>\n",
       "      <td>0.41041</td>\n",
       "      <td>0.46587</td>\n",
       "      <td>0.52769</td>\n",
       "      <td>0.64369</td>\n",
       "      <td>0.73562</td>\n",
       "      <td>...</td>\n",
       "      <td>1.299511e-10</td>\n",
       "      <td>7.782625e-11</td>\n",
       "      <td>NaN</td>\n",
       "      <td>4.088921e-10</td>\n",
       "      <td>NaN</td>\n",
       "      <td>5.67</td>\n",
       "      <td>4.01</td>\n",
       "      <td>5.05</td>\n",
       "      <td>4.35</td>\n",
       "      <td>0.31281</td>\n",
       "    </tr>\n",
       "    <tr>\n",
       "      <th>4</th>\n",
       "      <td>4</td>\n",
       "      <td>15</td>\n",
       "      <td>1.01521</td>\n",
       "      <td>1.00872</td>\n",
       "      <td>0.98930</td>\n",
       "      <td>0.98874</td>\n",
       "      <td>1.01773</td>\n",
       "      <td>1.01632</td>\n",
       "      <td>1.00009</td>\n",
       "      <td>0.98217</td>\n",
       "      <td>...</td>\n",
       "      <td>8.769053e-14</td>\n",
       "      <td>NaN</td>\n",
       "      <td>1.330237e-13</td>\n",
       "      <td>NaN</td>\n",
       "      <td>NaN</td>\n",
       "      <td>11.97</td>\n",
       "      <td>4.41</td>\n",
       "      <td>10.78</td>\n",
       "      <td>2.42</td>\n",
       "      <td>1.00872</td>\n",
       "    </tr>\n",
       "    <tr>\n",
       "      <th>...</th>\n",
       "      <td>...</td>\n",
       "      <td>...</td>\n",
       "      <td>...</td>\n",
       "      <td>...</td>\n",
       "      <td>...</td>\n",
       "      <td>...</td>\n",
       "      <td>...</td>\n",
       "      <td>...</td>\n",
       "      <td>...</td>\n",
       "      <td>...</td>\n",
       "      <td>...</td>\n",
       "      <td>...</td>\n",
       "      <td>...</td>\n",
       "      <td>...</td>\n",
       "      <td>...</td>\n",
       "      <td>...</td>\n",
       "      <td>...</td>\n",
       "      <td>...</td>\n",
       "      <td>...</td>\n",
       "      <td>...</td>\n",
       "      <td>...</td>\n",
       "    </tr>\n",
       "    <tr>\n",
       "      <th>9995</th>\n",
       "      <td>9995</td>\n",
       "      <td>15</td>\n",
       "      <td>0.23929</td>\n",
       "      <td>0.30265</td>\n",
       "      <td>0.39929</td>\n",
       "      <td>0.51000</td>\n",
       "      <td>0.64072</td>\n",
       "      <td>0.77328</td>\n",
       "      <td>0.86722</td>\n",
       "      <td>0.95891</td>\n",
       "      <td>...</td>\n",
       "      <td>0.000000e+00</td>\n",
       "      <td>5.516467e-16</td>\n",
       "      <td>9.690979e-16</td>\n",
       "      <td>1.391635e-15</td>\n",
       "      <td>5.460702e-14</td>\n",
       "      <td>12.68</td>\n",
       "      <td>4.11</td>\n",
       "      <td>12.31</td>\n",
       "      <td>0.10</td>\n",
       "      <td>0.30265</td>\n",
       "    </tr>\n",
       "    <tr>\n",
       "      <th>9996</th>\n",
       "      <td>9996</td>\n",
       "      <td>20</td>\n",
       "      <td>0.02583</td>\n",
       "      <td>0.00946</td>\n",
       "      <td>0.03650</td>\n",
       "      <td>0.01380</td>\n",
       "      <td>0.04093</td>\n",
       "      <td>0.04363</td>\n",
       "      <td>0.03260</td>\n",
       "      <td>0.05282</td>\n",
       "      <td>...</td>\n",
       "      <td>1.117148e-16</td>\n",
       "      <td>7.352416e-17</td>\n",
       "      <td>NaN</td>\n",
       "      <td>5.825347e-16</td>\n",
       "      <td>4.226436e-15</td>\n",
       "      <td>8.46</td>\n",
       "      <td>4.11</td>\n",
       "      <td>10.46</td>\n",
       "      <td>3.12</td>\n",
       "      <td>0.00946</td>\n",
       "    </tr>\n",
       "    <tr>\n",
       "      <th>9997</th>\n",
       "      <td>9997</td>\n",
       "      <td>10</td>\n",
       "      <td>0.57589</td>\n",
       "      <td>0.62976</td>\n",
       "      <td>0.70571</td>\n",
       "      <td>0.77248</td>\n",
       "      <td>0.85402</td>\n",
       "      <td>0.92796</td>\n",
       "      <td>0.97691</td>\n",
       "      <td>0.98933</td>\n",
       "      <td>...</td>\n",
       "      <td>3.110419e-11</td>\n",
       "      <td>8.119095e-12</td>\n",
       "      <td>NaN</td>\n",
       "      <td>1.504115e-10</td>\n",
       "      <td>4.003657e-10</td>\n",
       "      <td>9.84</td>\n",
       "      <td>3.20</td>\n",
       "      <td>10.45</td>\n",
       "      <td>2.06</td>\n",
       "      <td>0.62976</td>\n",
       "    </tr>\n",
       "    <tr>\n",
       "      <th>9998</th>\n",
       "      <td>9998</td>\n",
       "      <td>15</td>\n",
       "      <td>1.01477</td>\n",
       "      <td>1.01504</td>\n",
       "      <td>0.99125</td>\n",
       "      <td>0.98747</td>\n",
       "      <td>1.00717</td>\n",
       "      <td>1.01434</td>\n",
       "      <td>0.99529</td>\n",
       "      <td>1.01322</td>\n",
       "      <td>...</td>\n",
       "      <td>0.000000e+00</td>\n",
       "      <td>4.475946e-14</td>\n",
       "      <td>NaN</td>\n",
       "      <td>2.818857e-12</td>\n",
       "      <td>1.408742e-11</td>\n",
       "      <td>6.38</td>\n",
       "      <td>4.06</td>\n",
       "      <td>11.28</td>\n",
       "      <td>4.03</td>\n",
       "      <td>1.01504</td>\n",
       "    </tr>\n",
       "    <tr>\n",
       "      <th>9999</th>\n",
       "      <td>9999</td>\n",
       "      <td>10</td>\n",
       "      <td>0.24452</td>\n",
       "      <td>0.28182</td>\n",
       "      <td>0.36493</td>\n",
       "      <td>0.42131</td>\n",
       "      <td>0.50305</td>\n",
       "      <td>0.61418</td>\n",
       "      <td>0.70350</td>\n",
       "      <td>0.78836</td>\n",
       "      <td>...</td>\n",
       "      <td>0.000000e+00</td>\n",
       "      <td>0.000000e+00</td>\n",
       "      <td>1.219509e-11</td>\n",
       "      <td>3.259396e-12</td>\n",
       "      <td>3.830300e-11</td>\n",
       "      <td>9.35</td>\n",
       "      <td>4.34</td>\n",
       "      <td>9.73</td>\n",
       "      <td>3.54</td>\n",
       "      <td>0.28182</td>\n",
       "    </tr>\n",
       "  </tbody>\n",
       "</table>\n",
       "<p>10000 rows × 77 columns</p>\n",
       "</div>"
      ],
      "text/plain": [
       "        id  rho  650_src  660_src  670_src  680_src  690_src  700_src  \\\n",
       "0        0   25  0.37950  0.42993  0.52076  0.57166  0.67818  0.75476   \n",
       "1        1   10  0.00000  0.00000  0.01813  0.00000  0.00000  0.01974   \n",
       "2        2   25  0.00000  0.03289  0.02416  0.03610  0.05843  0.09015   \n",
       "3        3   10  0.27503  0.31281  0.32898  0.41041  0.46587  0.52769   \n",
       "4        4   15  1.01521  1.00872  0.98930  0.98874  1.01773  1.01632   \n",
       "...    ...  ...      ...      ...      ...      ...      ...      ...   \n",
       "9995  9995   15  0.23929  0.30265  0.39929  0.51000  0.64072  0.77328   \n",
       "9996  9996   20  0.02583  0.00946  0.03650  0.01380  0.04093  0.04363   \n",
       "9997  9997   10  0.57589  0.62976  0.70571  0.77248  0.85402  0.92796   \n",
       "9998  9998   15  1.01477  1.01504  0.99125  0.98747  1.00717  1.01434   \n",
       "9999  9999   10  0.24452  0.28182  0.36493  0.42131  0.50305  0.61418   \n",
       "\n",
       "      710_src  720_src  ...       950_dst       960_dst       970_dst  \\\n",
       "0     0.83580  0.93623  ...  0.000000e+00           NaN  1.067504e-18   \n",
       "1     0.00321  0.00000  ...  6.112685e-09  2.130547e-09           NaN   \n",
       "2     0.14944  0.18578  ...  0.000000e+00  0.000000e+00  0.000000e+00   \n",
       "3     0.64369  0.73562  ...  1.299511e-10  7.782625e-11           NaN   \n",
       "4     1.00009  0.98217  ...  8.769053e-14           NaN  1.330237e-13   \n",
       "...       ...      ...  ...           ...           ...           ...   \n",
       "9995  0.86722  0.95891  ...  0.000000e+00  5.516467e-16  9.690979e-16   \n",
       "9996  0.03260  0.05282  ...  1.117148e-16  7.352416e-17           NaN   \n",
       "9997  0.97691  0.98933  ...  3.110419e-11  8.119095e-12           NaN   \n",
       "9998  0.99529  1.01322  ...  0.000000e+00  4.475946e-14           NaN   \n",
       "9999  0.70350  0.78836  ...  0.000000e+00  0.000000e+00  1.219509e-11   \n",
       "\n",
       "           980_dst       990_dst    hhb  hbo2     ca    na  660_src  \n",
       "0     5.998949e-18  4.378513e-17   5.59  4.32   8.92  4.29  0.42993  \n",
       "1     9.710091e-09           NaN   0.00  2.83   7.25  4.64  0.00000  \n",
       "2     1.329725e-18           NaN  10.64  3.00   8.40  5.16  0.03289  \n",
       "3     4.088921e-10           NaN   5.67  4.01   5.05  4.35  0.31281  \n",
       "4              NaN           NaN  11.97  4.41  10.78  2.42  1.00872  \n",
       "...            ...           ...    ...   ...    ...   ...      ...  \n",
       "9995  1.391635e-15  5.460702e-14  12.68  4.11  12.31  0.10  0.30265  \n",
       "9996  5.825347e-16  4.226436e-15   8.46  4.11  10.46  3.12  0.00946  \n",
       "9997  1.504115e-10  4.003657e-10   9.84  3.20  10.45  2.06  0.62976  \n",
       "9998  2.818857e-12  1.408742e-11   6.38  4.06  11.28  4.03  1.01504  \n",
       "9999  3.259396e-12  3.830300e-11   9.35  4.34   9.73  3.54  0.28182  \n",
       "\n",
       "[10000 rows x 77 columns]"
      ]
     },
     "execution_count": 94,
     "metadata": {},
     "output_type": "execute_result"
    }
   ],
   "source": [
    "#pd.concat(mdc01_train)\n",
    "pd.concat([mdc01_train,mdc01_train.iloc[:,3:4]],axis=1)"
   ]
  },
  {
   "cell_type": "code",
   "execution_count": 95,
   "metadata": {},
   "outputs": [
    {
     "data": {
      "text/html": [
       "<div>\n",
       "<style scoped>\n",
       "    .dataframe tbody tr th:only-of-type {\n",
       "        vertical-align: middle;\n",
       "    }\n",
       "\n",
       "    .dataframe tbody tr th {\n",
       "        vertical-align: top;\n",
       "    }\n",
       "\n",
       "    .dataframe thead th {\n",
       "        text-align: right;\n",
       "    }\n",
       "</style>\n",
       "<table border=\"1\" class=\"dataframe\">\n",
       "  <thead>\n",
       "    <tr style=\"text-align: right;\">\n",
       "      <th></th>\n",
       "      <th>id</th>\n",
       "      <th>rho</th>\n",
       "      <th>650_src</th>\n",
       "      <th>660_src</th>\n",
       "      <th>670_src</th>\n",
       "      <th>680_src</th>\n",
       "      <th>690_src</th>\n",
       "      <th>700_src</th>\n",
       "      <th>710_src</th>\n",
       "      <th>720_src</th>\n",
       "      <th>...</th>\n",
       "      <th>950_dst</th>\n",
       "      <th>960_dst</th>\n",
       "      <th>970_dst</th>\n",
       "      <th>980_dst</th>\n",
       "      <th>990_dst</th>\n",
       "      <th>hhb</th>\n",
       "      <th>hbo2</th>\n",
       "      <th>ca</th>\n",
       "      <th>na</th>\n",
       "      <th>700_src</th>\n",
       "    </tr>\n",
       "  </thead>\n",
       "  <tbody>\n",
       "    <tr>\n",
       "      <th>0</th>\n",
       "      <td>0</td>\n",
       "      <td>25</td>\n",
       "      <td>0.37950</td>\n",
       "      <td>0.42993</td>\n",
       "      <td>0.52076</td>\n",
       "      <td>0.57166</td>\n",
       "      <td>0.67818</td>\n",
       "      <td>0.75476</td>\n",
       "      <td>0.83580</td>\n",
       "      <td>0.93623</td>\n",
       "      <td>...</td>\n",
       "      <td>0.000000e+00</td>\n",
       "      <td>NaN</td>\n",
       "      <td>1.067504e-18</td>\n",
       "      <td>5.998949e-18</td>\n",
       "      <td>4.378513e-17</td>\n",
       "      <td>5.59</td>\n",
       "      <td>4.32</td>\n",
       "      <td>8.92</td>\n",
       "      <td>4.29</td>\n",
       "      <td>0.75476</td>\n",
       "    </tr>\n",
       "    <tr>\n",
       "      <th>1</th>\n",
       "      <td>1</td>\n",
       "      <td>10</td>\n",
       "      <td>0.00000</td>\n",
       "      <td>0.00000</td>\n",
       "      <td>0.01813</td>\n",
       "      <td>0.00000</td>\n",
       "      <td>0.00000</td>\n",
       "      <td>0.01974</td>\n",
       "      <td>0.00321</td>\n",
       "      <td>0.00000</td>\n",
       "      <td>...</td>\n",
       "      <td>6.112685e-09</td>\n",
       "      <td>2.130547e-09</td>\n",
       "      <td>NaN</td>\n",
       "      <td>9.710091e-09</td>\n",
       "      <td>NaN</td>\n",
       "      <td>0.00</td>\n",
       "      <td>2.83</td>\n",
       "      <td>7.25</td>\n",
       "      <td>4.64</td>\n",
       "      <td>0.01974</td>\n",
       "    </tr>\n",
       "    <tr>\n",
       "      <th>2</th>\n",
       "      <td>2</td>\n",
       "      <td>25</td>\n",
       "      <td>0.00000</td>\n",
       "      <td>0.03289</td>\n",
       "      <td>0.02416</td>\n",
       "      <td>0.03610</td>\n",
       "      <td>0.05843</td>\n",
       "      <td>0.09015</td>\n",
       "      <td>0.14944</td>\n",
       "      <td>0.18578</td>\n",
       "      <td>...</td>\n",
       "      <td>0.000000e+00</td>\n",
       "      <td>0.000000e+00</td>\n",
       "      <td>0.000000e+00</td>\n",
       "      <td>1.329725e-18</td>\n",
       "      <td>NaN</td>\n",
       "      <td>10.64</td>\n",
       "      <td>3.00</td>\n",
       "      <td>8.40</td>\n",
       "      <td>5.16</td>\n",
       "      <td>0.09015</td>\n",
       "    </tr>\n",
       "    <tr>\n",
       "      <th>3</th>\n",
       "      <td>3</td>\n",
       "      <td>10</td>\n",
       "      <td>0.27503</td>\n",
       "      <td>0.31281</td>\n",
       "      <td>0.32898</td>\n",
       "      <td>0.41041</td>\n",
       "      <td>0.46587</td>\n",
       "      <td>0.52769</td>\n",
       "      <td>0.64369</td>\n",
       "      <td>0.73562</td>\n",
       "      <td>...</td>\n",
       "      <td>1.299511e-10</td>\n",
       "      <td>7.782625e-11</td>\n",
       "      <td>NaN</td>\n",
       "      <td>4.088921e-10</td>\n",
       "      <td>NaN</td>\n",
       "      <td>5.67</td>\n",
       "      <td>4.01</td>\n",
       "      <td>5.05</td>\n",
       "      <td>4.35</td>\n",
       "      <td>0.52769</td>\n",
       "    </tr>\n",
       "    <tr>\n",
       "      <th>4</th>\n",
       "      <td>4</td>\n",
       "      <td>15</td>\n",
       "      <td>1.01521</td>\n",
       "      <td>1.00872</td>\n",
       "      <td>0.98930</td>\n",
       "      <td>0.98874</td>\n",
       "      <td>1.01773</td>\n",
       "      <td>1.01632</td>\n",
       "      <td>1.00009</td>\n",
       "      <td>0.98217</td>\n",
       "      <td>...</td>\n",
       "      <td>8.769053e-14</td>\n",
       "      <td>NaN</td>\n",
       "      <td>1.330237e-13</td>\n",
       "      <td>NaN</td>\n",
       "      <td>NaN</td>\n",
       "      <td>11.97</td>\n",
       "      <td>4.41</td>\n",
       "      <td>10.78</td>\n",
       "      <td>2.42</td>\n",
       "      <td>1.01632</td>\n",
       "    </tr>\n",
       "    <tr>\n",
       "      <th>...</th>\n",
       "      <td>...</td>\n",
       "      <td>...</td>\n",
       "      <td>...</td>\n",
       "      <td>...</td>\n",
       "      <td>...</td>\n",
       "      <td>...</td>\n",
       "      <td>...</td>\n",
       "      <td>...</td>\n",
       "      <td>...</td>\n",
       "      <td>...</td>\n",
       "      <td>...</td>\n",
       "      <td>...</td>\n",
       "      <td>...</td>\n",
       "      <td>...</td>\n",
       "      <td>...</td>\n",
       "      <td>...</td>\n",
       "      <td>...</td>\n",
       "      <td>...</td>\n",
       "      <td>...</td>\n",
       "      <td>...</td>\n",
       "      <td>...</td>\n",
       "    </tr>\n",
       "    <tr>\n",
       "      <th>9995</th>\n",
       "      <td>9995</td>\n",
       "      <td>15</td>\n",
       "      <td>0.23929</td>\n",
       "      <td>0.30265</td>\n",
       "      <td>0.39929</td>\n",
       "      <td>0.51000</td>\n",
       "      <td>0.64072</td>\n",
       "      <td>0.77328</td>\n",
       "      <td>0.86722</td>\n",
       "      <td>0.95891</td>\n",
       "      <td>...</td>\n",
       "      <td>0.000000e+00</td>\n",
       "      <td>5.516467e-16</td>\n",
       "      <td>9.690979e-16</td>\n",
       "      <td>1.391635e-15</td>\n",
       "      <td>5.460702e-14</td>\n",
       "      <td>12.68</td>\n",
       "      <td>4.11</td>\n",
       "      <td>12.31</td>\n",
       "      <td>0.10</td>\n",
       "      <td>0.77328</td>\n",
       "    </tr>\n",
       "    <tr>\n",
       "      <th>9996</th>\n",
       "      <td>9996</td>\n",
       "      <td>20</td>\n",
       "      <td>0.02583</td>\n",
       "      <td>0.00946</td>\n",
       "      <td>0.03650</td>\n",
       "      <td>0.01380</td>\n",
       "      <td>0.04093</td>\n",
       "      <td>0.04363</td>\n",
       "      <td>0.03260</td>\n",
       "      <td>0.05282</td>\n",
       "      <td>...</td>\n",
       "      <td>1.117148e-16</td>\n",
       "      <td>7.352416e-17</td>\n",
       "      <td>NaN</td>\n",
       "      <td>5.825347e-16</td>\n",
       "      <td>4.226436e-15</td>\n",
       "      <td>8.46</td>\n",
       "      <td>4.11</td>\n",
       "      <td>10.46</td>\n",
       "      <td>3.12</td>\n",
       "      <td>0.04363</td>\n",
       "    </tr>\n",
       "    <tr>\n",
       "      <th>9997</th>\n",
       "      <td>9997</td>\n",
       "      <td>10</td>\n",
       "      <td>0.57589</td>\n",
       "      <td>0.62976</td>\n",
       "      <td>0.70571</td>\n",
       "      <td>0.77248</td>\n",
       "      <td>0.85402</td>\n",
       "      <td>0.92796</td>\n",
       "      <td>0.97691</td>\n",
       "      <td>0.98933</td>\n",
       "      <td>...</td>\n",
       "      <td>3.110419e-11</td>\n",
       "      <td>8.119095e-12</td>\n",
       "      <td>NaN</td>\n",
       "      <td>1.504115e-10</td>\n",
       "      <td>4.003657e-10</td>\n",
       "      <td>9.84</td>\n",
       "      <td>3.20</td>\n",
       "      <td>10.45</td>\n",
       "      <td>2.06</td>\n",
       "      <td>0.92796</td>\n",
       "    </tr>\n",
       "    <tr>\n",
       "      <th>9998</th>\n",
       "      <td>9998</td>\n",
       "      <td>15</td>\n",
       "      <td>1.01477</td>\n",
       "      <td>1.01504</td>\n",
       "      <td>0.99125</td>\n",
       "      <td>0.98747</td>\n",
       "      <td>1.00717</td>\n",
       "      <td>1.01434</td>\n",
       "      <td>0.99529</td>\n",
       "      <td>1.01322</td>\n",
       "      <td>...</td>\n",
       "      <td>0.000000e+00</td>\n",
       "      <td>4.475946e-14</td>\n",
       "      <td>NaN</td>\n",
       "      <td>2.818857e-12</td>\n",
       "      <td>1.408742e-11</td>\n",
       "      <td>6.38</td>\n",
       "      <td>4.06</td>\n",
       "      <td>11.28</td>\n",
       "      <td>4.03</td>\n",
       "      <td>1.01434</td>\n",
       "    </tr>\n",
       "    <tr>\n",
       "      <th>9999</th>\n",
       "      <td>9999</td>\n",
       "      <td>10</td>\n",
       "      <td>0.24452</td>\n",
       "      <td>0.28182</td>\n",
       "      <td>0.36493</td>\n",
       "      <td>0.42131</td>\n",
       "      <td>0.50305</td>\n",
       "      <td>0.61418</td>\n",
       "      <td>0.70350</td>\n",
       "      <td>0.78836</td>\n",
       "      <td>...</td>\n",
       "      <td>0.000000e+00</td>\n",
       "      <td>0.000000e+00</td>\n",
       "      <td>1.219509e-11</td>\n",
       "      <td>3.259396e-12</td>\n",
       "      <td>3.830300e-11</td>\n",
       "      <td>9.35</td>\n",
       "      <td>4.34</td>\n",
       "      <td>9.73</td>\n",
       "      <td>3.54</td>\n",
       "      <td>0.61418</td>\n",
       "    </tr>\n",
       "  </tbody>\n",
       "</table>\n",
       "<p>10000 rows × 77 columns</p>\n",
       "</div>"
      ],
      "text/plain": [
       "        id  rho  650_src  660_src  670_src  680_src  690_src  700_src  \\\n",
       "0        0   25  0.37950  0.42993  0.52076  0.57166  0.67818  0.75476   \n",
       "1        1   10  0.00000  0.00000  0.01813  0.00000  0.00000  0.01974   \n",
       "2        2   25  0.00000  0.03289  0.02416  0.03610  0.05843  0.09015   \n",
       "3        3   10  0.27503  0.31281  0.32898  0.41041  0.46587  0.52769   \n",
       "4        4   15  1.01521  1.00872  0.98930  0.98874  1.01773  1.01632   \n",
       "...    ...  ...      ...      ...      ...      ...      ...      ...   \n",
       "9995  9995   15  0.23929  0.30265  0.39929  0.51000  0.64072  0.77328   \n",
       "9996  9996   20  0.02583  0.00946  0.03650  0.01380  0.04093  0.04363   \n",
       "9997  9997   10  0.57589  0.62976  0.70571  0.77248  0.85402  0.92796   \n",
       "9998  9998   15  1.01477  1.01504  0.99125  0.98747  1.00717  1.01434   \n",
       "9999  9999   10  0.24452  0.28182  0.36493  0.42131  0.50305  0.61418   \n",
       "\n",
       "      710_src  720_src  ...       950_dst       960_dst       970_dst  \\\n",
       "0     0.83580  0.93623  ...  0.000000e+00           NaN  1.067504e-18   \n",
       "1     0.00321  0.00000  ...  6.112685e-09  2.130547e-09           NaN   \n",
       "2     0.14944  0.18578  ...  0.000000e+00  0.000000e+00  0.000000e+00   \n",
       "3     0.64369  0.73562  ...  1.299511e-10  7.782625e-11           NaN   \n",
       "4     1.00009  0.98217  ...  8.769053e-14           NaN  1.330237e-13   \n",
       "...       ...      ...  ...           ...           ...           ...   \n",
       "9995  0.86722  0.95891  ...  0.000000e+00  5.516467e-16  9.690979e-16   \n",
       "9996  0.03260  0.05282  ...  1.117148e-16  7.352416e-17           NaN   \n",
       "9997  0.97691  0.98933  ...  3.110419e-11  8.119095e-12           NaN   \n",
       "9998  0.99529  1.01322  ...  0.000000e+00  4.475946e-14           NaN   \n",
       "9999  0.70350  0.78836  ...  0.000000e+00  0.000000e+00  1.219509e-11   \n",
       "\n",
       "           980_dst       990_dst    hhb  hbo2     ca    na  700_src  \n",
       "0     5.998949e-18  4.378513e-17   5.59  4.32   8.92  4.29  0.75476  \n",
       "1     9.710091e-09           NaN   0.00  2.83   7.25  4.64  0.01974  \n",
       "2     1.329725e-18           NaN  10.64  3.00   8.40  5.16  0.09015  \n",
       "3     4.088921e-10           NaN   5.67  4.01   5.05  4.35  0.52769  \n",
       "4              NaN           NaN  11.97  4.41  10.78  2.42  1.01632  \n",
       "...            ...           ...    ...   ...    ...   ...      ...  \n",
       "9995  1.391635e-15  5.460702e-14  12.68  4.11  12.31  0.10  0.77328  \n",
       "9996  5.825347e-16  4.226436e-15   8.46  4.11  10.46  3.12  0.04363  \n",
       "9997  1.504115e-10  4.003657e-10   9.84  3.20  10.45  2.06  0.92796  \n",
       "9998  2.818857e-12  1.408742e-11   6.38  4.06  11.28  4.03  1.01434  \n",
       "9999  3.259396e-12  3.830300e-11   9.35  4.34   9.73  3.54  0.61418  \n",
       "\n",
       "[10000 rows x 77 columns]"
      ]
     },
     "execution_count": 95,
     "metadata": {},
     "output_type": "execute_result"
    }
   ],
   "source": [
    "pd.concat([mdc01_train,mdc01_train.loc[:,'700_src']],axis=1)"
   ]
  },
  {
   "cell_type": "code",
   "execution_count": 102,
   "metadata": {},
   "outputs": [
    {
     "data": {
      "text/plain": [
       "0       0.42993\n",
       "1       0.00000\n",
       "2       0.03289\n",
       "3       0.31281\n",
       "4       1.00872\n",
       "         ...   \n",
       "9995    0.30265\n",
       "9996    0.00946\n",
       "9997    0.62976\n",
       "9998    1.01504\n",
       "9999    0.28182\n",
       "Name: 660_src, Length: 10000, dtype: float64"
      ]
     },
     "execution_count": 102,
     "metadata": {},
     "output_type": "execute_result"
    }
   ],
   "source": [
    "tmp = mdc01_train.iloc[:,3]\n",
    "tmp"
   ]
  },
  {
   "cell_type": "code",
   "execution_count": 103,
   "metadata": {},
   "outputs": [],
   "source": [
    "mdc01_train.iloc[:,3] = mdc01_train.iloc[:,1]"
   ]
  },
  {
   "cell_type": "code",
   "execution_count": 104,
   "metadata": {},
   "outputs": [
    {
     "data": {
      "text/html": [
       "<div>\n",
       "<style scoped>\n",
       "    .dataframe tbody tr th:only-of-type {\n",
       "        vertical-align: middle;\n",
       "    }\n",
       "\n",
       "    .dataframe tbody tr th {\n",
       "        vertical-align: top;\n",
       "    }\n",
       "\n",
       "    .dataframe thead th {\n",
       "        text-align: right;\n",
       "    }\n",
       "</style>\n",
       "<table border=\"1\" class=\"dataframe\">\n",
       "  <thead>\n",
       "    <tr style=\"text-align: right;\">\n",
       "      <th></th>\n",
       "      <th>id</th>\n",
       "      <th>rho</th>\n",
       "      <th>650_src</th>\n",
       "      <th>660_src</th>\n",
       "      <th>670_src</th>\n",
       "      <th>680_src</th>\n",
       "      <th>690_src</th>\n",
       "      <th>700_src</th>\n",
       "      <th>710_src</th>\n",
       "      <th>720_src</th>\n",
       "      <th>...</th>\n",
       "      <th>940_dst</th>\n",
       "      <th>950_dst</th>\n",
       "      <th>960_dst</th>\n",
       "      <th>970_dst</th>\n",
       "      <th>980_dst</th>\n",
       "      <th>990_dst</th>\n",
       "      <th>hhb</th>\n",
       "      <th>hbo2</th>\n",
       "      <th>ca</th>\n",
       "      <th>na</th>\n",
       "    </tr>\n",
       "  </thead>\n",
       "  <tbody>\n",
       "    <tr>\n",
       "      <th>0</th>\n",
       "      <td>0</td>\n",
       "      <td>25</td>\n",
       "      <td>0.37950</td>\n",
       "      <td>25</td>\n",
       "      <td>0.52076</td>\n",
       "      <td>0.57166</td>\n",
       "      <td>0.67818</td>\n",
       "      <td>0.75476</td>\n",
       "      <td>0.83580</td>\n",
       "      <td>0.93623</td>\n",
       "      <td>...</td>\n",
       "      <td>NaN</td>\n",
       "      <td>0.000000e+00</td>\n",
       "      <td>NaN</td>\n",
       "      <td>1.067504e-18</td>\n",
       "      <td>5.998949e-18</td>\n",
       "      <td>4.378513e-17</td>\n",
       "      <td>5.59</td>\n",
       "      <td>4.32</td>\n",
       "      <td>8.92</td>\n",
       "      <td>4.29</td>\n",
       "    </tr>\n",
       "    <tr>\n",
       "      <th>1</th>\n",
       "      <td>1</td>\n",
       "      <td>10</td>\n",
       "      <td>0.00000</td>\n",
       "      <td>10</td>\n",
       "      <td>0.01813</td>\n",
       "      <td>0.00000</td>\n",
       "      <td>0.00000</td>\n",
       "      <td>0.01974</td>\n",
       "      <td>0.00321</td>\n",
       "      <td>0.00000</td>\n",
       "      <td>...</td>\n",
       "      <td>1.343132e-08</td>\n",
       "      <td>6.112685e-09</td>\n",
       "      <td>2.130547e-09</td>\n",
       "      <td>NaN</td>\n",
       "      <td>9.710091e-09</td>\n",
       "      <td>NaN</td>\n",
       "      <td>0.00</td>\n",
       "      <td>2.83</td>\n",
       "      <td>7.25</td>\n",
       "      <td>4.64</td>\n",
       "    </tr>\n",
       "    <tr>\n",
       "      <th>2</th>\n",
       "      <td>2</td>\n",
       "      <td>25</td>\n",
       "      <td>0.00000</td>\n",
       "      <td>25</td>\n",
       "      <td>0.02416</td>\n",
       "      <td>0.03610</td>\n",
       "      <td>0.05843</td>\n",
       "      <td>0.09015</td>\n",
       "      <td>0.14944</td>\n",
       "      <td>0.18578</td>\n",
       "      <td>...</td>\n",
       "      <td>0.000000e+00</td>\n",
       "      <td>0.000000e+00</td>\n",
       "      <td>0.000000e+00</td>\n",
       "      <td>0.000000e+00</td>\n",
       "      <td>1.329725e-18</td>\n",
       "      <td>NaN</td>\n",
       "      <td>10.64</td>\n",
       "      <td>3.00</td>\n",
       "      <td>8.40</td>\n",
       "      <td>5.16</td>\n",
       "    </tr>\n",
       "    <tr>\n",
       "      <th>3</th>\n",
       "      <td>3</td>\n",
       "      <td>10</td>\n",
       "      <td>0.27503</td>\n",
       "      <td>10</td>\n",
       "      <td>0.32898</td>\n",
       "      <td>0.41041</td>\n",
       "      <td>0.46587</td>\n",
       "      <td>0.52769</td>\n",
       "      <td>0.64369</td>\n",
       "      <td>0.73562</td>\n",
       "      <td>...</td>\n",
       "      <td>2.245998e-10</td>\n",
       "      <td>1.299511e-10</td>\n",
       "      <td>7.782625e-11</td>\n",
       "      <td>NaN</td>\n",
       "      <td>4.088921e-10</td>\n",
       "      <td>NaN</td>\n",
       "      <td>5.67</td>\n",
       "      <td>4.01</td>\n",
       "      <td>5.05</td>\n",
       "      <td>4.35</td>\n",
       "    </tr>\n",
       "    <tr>\n",
       "      <th>4</th>\n",
       "      <td>4</td>\n",
       "      <td>15</td>\n",
       "      <td>1.01521</td>\n",
       "      <td>15</td>\n",
       "      <td>0.98930</td>\n",
       "      <td>0.98874</td>\n",
       "      <td>1.01773</td>\n",
       "      <td>1.01632</td>\n",
       "      <td>1.00009</td>\n",
       "      <td>0.98217</td>\n",
       "      <td>...</td>\n",
       "      <td>1.457955e-13</td>\n",
       "      <td>8.769053e-14</td>\n",
       "      <td>NaN</td>\n",
       "      <td>1.330237e-13</td>\n",
       "      <td>NaN</td>\n",
       "      <td>NaN</td>\n",
       "      <td>11.97</td>\n",
       "      <td>4.41</td>\n",
       "      <td>10.78</td>\n",
       "      <td>2.42</td>\n",
       "    </tr>\n",
       "  </tbody>\n",
       "</table>\n",
       "<p>5 rows × 76 columns</p>\n",
       "</div>"
      ],
      "text/plain": [
       "   id  rho  650_src  660_src  670_src  680_src  690_src  700_src  710_src  \\\n",
       "0   0   25  0.37950       25  0.52076  0.57166  0.67818  0.75476  0.83580   \n",
       "1   1   10  0.00000       10  0.01813  0.00000  0.00000  0.01974  0.00321   \n",
       "2   2   25  0.00000       25  0.02416  0.03610  0.05843  0.09015  0.14944   \n",
       "3   3   10  0.27503       10  0.32898  0.41041  0.46587  0.52769  0.64369   \n",
       "4   4   15  1.01521       15  0.98930  0.98874  1.01773  1.01632  1.00009   \n",
       "\n",
       "   720_src  ...       940_dst       950_dst       960_dst       970_dst  \\\n",
       "0  0.93623  ...           NaN  0.000000e+00           NaN  1.067504e-18   \n",
       "1  0.00000  ...  1.343132e-08  6.112685e-09  2.130547e-09           NaN   \n",
       "2  0.18578  ...  0.000000e+00  0.000000e+00  0.000000e+00  0.000000e+00   \n",
       "3  0.73562  ...  2.245998e-10  1.299511e-10  7.782625e-11           NaN   \n",
       "4  0.98217  ...  1.457955e-13  8.769053e-14           NaN  1.330237e-13   \n",
       "\n",
       "        980_dst       990_dst    hhb  hbo2     ca    na  \n",
       "0  5.998949e-18  4.378513e-17   5.59  4.32   8.92  4.29  \n",
       "1  9.710091e-09           NaN   0.00  2.83   7.25  4.64  \n",
       "2  1.329725e-18           NaN  10.64  3.00   8.40  5.16  \n",
       "3  4.088921e-10           NaN   5.67  4.01   5.05  4.35  \n",
       "4           NaN           NaN  11.97  4.41  10.78  2.42  \n",
       "\n",
       "[5 rows x 76 columns]"
      ]
     },
     "execution_count": 104,
     "metadata": {},
     "output_type": "execute_result"
    }
   ],
   "source": [
    "mdc01_train.head()"
   ]
  },
  {
   "cell_type": "code",
   "execution_count": 105,
   "metadata": {},
   "outputs": [],
   "source": [
    "mdc01_train.iloc[:,1] = tmp"
   ]
  },
  {
   "cell_type": "code",
   "execution_count": 106,
   "metadata": {},
   "outputs": [
    {
     "data": {
      "text/html": [
       "<div>\n",
       "<style scoped>\n",
       "    .dataframe tbody tr th:only-of-type {\n",
       "        vertical-align: middle;\n",
       "    }\n",
       "\n",
       "    .dataframe tbody tr th {\n",
       "        vertical-align: top;\n",
       "    }\n",
       "\n",
       "    .dataframe thead th {\n",
       "        text-align: right;\n",
       "    }\n",
       "</style>\n",
       "<table border=\"1\" class=\"dataframe\">\n",
       "  <thead>\n",
       "    <tr style=\"text-align: right;\">\n",
       "      <th></th>\n",
       "      <th>id</th>\n",
       "      <th>rho</th>\n",
       "      <th>650_src</th>\n",
       "      <th>660_src</th>\n",
       "      <th>670_src</th>\n",
       "      <th>680_src</th>\n",
       "      <th>690_src</th>\n",
       "      <th>700_src</th>\n",
       "      <th>710_src</th>\n",
       "      <th>720_src</th>\n",
       "      <th>...</th>\n",
       "      <th>940_dst</th>\n",
       "      <th>950_dst</th>\n",
       "      <th>960_dst</th>\n",
       "      <th>970_dst</th>\n",
       "      <th>980_dst</th>\n",
       "      <th>990_dst</th>\n",
       "      <th>hhb</th>\n",
       "      <th>hbo2</th>\n",
       "      <th>ca</th>\n",
       "      <th>na</th>\n",
       "    </tr>\n",
       "  </thead>\n",
       "  <tbody>\n",
       "    <tr>\n",
       "      <th>0</th>\n",
       "      <td>0</td>\n",
       "      <td>0.42993</td>\n",
       "      <td>0.37950</td>\n",
       "      <td>25</td>\n",
       "      <td>0.52076</td>\n",
       "      <td>0.57166</td>\n",
       "      <td>0.67818</td>\n",
       "      <td>0.75476</td>\n",
       "      <td>0.83580</td>\n",
       "      <td>0.93623</td>\n",
       "      <td>...</td>\n",
       "      <td>NaN</td>\n",
       "      <td>0.000000e+00</td>\n",
       "      <td>NaN</td>\n",
       "      <td>1.067504e-18</td>\n",
       "      <td>5.998949e-18</td>\n",
       "      <td>4.378513e-17</td>\n",
       "      <td>5.59</td>\n",
       "      <td>4.32</td>\n",
       "      <td>8.92</td>\n",
       "      <td>4.29</td>\n",
       "    </tr>\n",
       "    <tr>\n",
       "      <th>1</th>\n",
       "      <td>1</td>\n",
       "      <td>0.00000</td>\n",
       "      <td>0.00000</td>\n",
       "      <td>10</td>\n",
       "      <td>0.01813</td>\n",
       "      <td>0.00000</td>\n",
       "      <td>0.00000</td>\n",
       "      <td>0.01974</td>\n",
       "      <td>0.00321</td>\n",
       "      <td>0.00000</td>\n",
       "      <td>...</td>\n",
       "      <td>1.343132e-08</td>\n",
       "      <td>6.112685e-09</td>\n",
       "      <td>2.130547e-09</td>\n",
       "      <td>NaN</td>\n",
       "      <td>9.710091e-09</td>\n",
       "      <td>NaN</td>\n",
       "      <td>0.00</td>\n",
       "      <td>2.83</td>\n",
       "      <td>7.25</td>\n",
       "      <td>4.64</td>\n",
       "    </tr>\n",
       "    <tr>\n",
       "      <th>2</th>\n",
       "      <td>2</td>\n",
       "      <td>0.03289</td>\n",
       "      <td>0.00000</td>\n",
       "      <td>25</td>\n",
       "      <td>0.02416</td>\n",
       "      <td>0.03610</td>\n",
       "      <td>0.05843</td>\n",
       "      <td>0.09015</td>\n",
       "      <td>0.14944</td>\n",
       "      <td>0.18578</td>\n",
       "      <td>...</td>\n",
       "      <td>0.000000e+00</td>\n",
       "      <td>0.000000e+00</td>\n",
       "      <td>0.000000e+00</td>\n",
       "      <td>0.000000e+00</td>\n",
       "      <td>1.329725e-18</td>\n",
       "      <td>NaN</td>\n",
       "      <td>10.64</td>\n",
       "      <td>3.00</td>\n",
       "      <td>8.40</td>\n",
       "      <td>5.16</td>\n",
       "    </tr>\n",
       "    <tr>\n",
       "      <th>3</th>\n",
       "      <td>3</td>\n",
       "      <td>0.31281</td>\n",
       "      <td>0.27503</td>\n",
       "      <td>10</td>\n",
       "      <td>0.32898</td>\n",
       "      <td>0.41041</td>\n",
       "      <td>0.46587</td>\n",
       "      <td>0.52769</td>\n",
       "      <td>0.64369</td>\n",
       "      <td>0.73562</td>\n",
       "      <td>...</td>\n",
       "      <td>2.245998e-10</td>\n",
       "      <td>1.299511e-10</td>\n",
       "      <td>7.782625e-11</td>\n",
       "      <td>NaN</td>\n",
       "      <td>4.088921e-10</td>\n",
       "      <td>NaN</td>\n",
       "      <td>5.67</td>\n",
       "      <td>4.01</td>\n",
       "      <td>5.05</td>\n",
       "      <td>4.35</td>\n",
       "    </tr>\n",
       "    <tr>\n",
       "      <th>4</th>\n",
       "      <td>4</td>\n",
       "      <td>1.00872</td>\n",
       "      <td>1.01521</td>\n",
       "      <td>15</td>\n",
       "      <td>0.98930</td>\n",
       "      <td>0.98874</td>\n",
       "      <td>1.01773</td>\n",
       "      <td>1.01632</td>\n",
       "      <td>1.00009</td>\n",
       "      <td>0.98217</td>\n",
       "      <td>...</td>\n",
       "      <td>1.457955e-13</td>\n",
       "      <td>8.769053e-14</td>\n",
       "      <td>NaN</td>\n",
       "      <td>1.330237e-13</td>\n",
       "      <td>NaN</td>\n",
       "      <td>NaN</td>\n",
       "      <td>11.97</td>\n",
       "      <td>4.41</td>\n",
       "      <td>10.78</td>\n",
       "      <td>2.42</td>\n",
       "    </tr>\n",
       "  </tbody>\n",
       "</table>\n",
       "<p>5 rows × 76 columns</p>\n",
       "</div>"
      ],
      "text/plain": [
       "   id      rho  650_src  660_src  670_src  680_src  690_src  700_src  710_src  \\\n",
       "0   0  0.42993  0.37950       25  0.52076  0.57166  0.67818  0.75476  0.83580   \n",
       "1   1  0.00000  0.00000       10  0.01813  0.00000  0.00000  0.01974  0.00321   \n",
       "2   2  0.03289  0.00000       25  0.02416  0.03610  0.05843  0.09015  0.14944   \n",
       "3   3  0.31281  0.27503       10  0.32898  0.41041  0.46587  0.52769  0.64369   \n",
       "4   4  1.00872  1.01521       15  0.98930  0.98874  1.01773  1.01632  1.00009   \n",
       "\n",
       "   720_src  ...       940_dst       950_dst       960_dst       970_dst  \\\n",
       "0  0.93623  ...           NaN  0.000000e+00           NaN  1.067504e-18   \n",
       "1  0.00000  ...  1.343132e-08  6.112685e-09  2.130547e-09           NaN   \n",
       "2  0.18578  ...  0.000000e+00  0.000000e+00  0.000000e+00  0.000000e+00   \n",
       "3  0.73562  ...  2.245998e-10  1.299511e-10  7.782625e-11           NaN   \n",
       "4  0.98217  ...  1.457955e-13  8.769053e-14           NaN  1.330237e-13   \n",
       "\n",
       "        980_dst       990_dst    hhb  hbo2     ca    na  \n",
       "0  5.998949e-18  4.378513e-17   5.59  4.32   8.92  4.29  \n",
       "1  9.710091e-09           NaN   0.00  2.83   7.25  4.64  \n",
       "2  1.329725e-18           NaN  10.64  3.00   8.40  5.16  \n",
       "3  4.088921e-10           NaN   5.67  4.01   5.05  4.35  \n",
       "4           NaN           NaN  11.97  4.41  10.78  2.42  \n",
       "\n",
       "[5 rows x 76 columns]"
      ]
     },
     "execution_count": 106,
     "metadata": {},
     "output_type": "execute_result"
    }
   ],
   "source": [
    "mdc01_train.head()"
   ]
  },
  {
   "cell_type": "code",
   "execution_count": 122,
   "metadata": {},
   "outputs": [],
   "source": [
    "mdc01_train = mdc01_train.rename(columns={'rho':'new_660_src','660_src':'new_rho'})"
   ]
  },
  {
   "cell_type": "code",
   "execution_count": 123,
   "metadata": {},
   "outputs": [
    {
     "data": {
      "text/html": [
       "<div>\n",
       "<style scoped>\n",
       "    .dataframe tbody tr th:only-of-type {\n",
       "        vertical-align: middle;\n",
       "    }\n",
       "\n",
       "    .dataframe tbody tr th {\n",
       "        vertical-align: top;\n",
       "    }\n",
       "\n",
       "    .dataframe thead th {\n",
       "        text-align: right;\n",
       "    }\n",
       "</style>\n",
       "<table border=\"1\" class=\"dataframe\">\n",
       "  <thead>\n",
       "    <tr style=\"text-align: right;\">\n",
       "      <th></th>\n",
       "      <th>id</th>\n",
       "      <th>new_660_src</th>\n",
       "      <th>650_src</th>\n",
       "      <th>new_rho</th>\n",
       "      <th>670_src</th>\n",
       "      <th>680_src</th>\n",
       "      <th>690_src</th>\n",
       "      <th>700_src</th>\n",
       "      <th>710_src</th>\n",
       "      <th>720_src</th>\n",
       "      <th>...</th>\n",
       "      <th>940_dst</th>\n",
       "      <th>950_dst</th>\n",
       "      <th>960_dst</th>\n",
       "      <th>970_dst</th>\n",
       "      <th>980_dst</th>\n",
       "      <th>990_dst</th>\n",
       "      <th>hhb</th>\n",
       "      <th>hbo2</th>\n",
       "      <th>ca</th>\n",
       "      <th>na</th>\n",
       "    </tr>\n",
       "  </thead>\n",
       "  <tbody>\n",
       "    <tr>\n",
       "      <th>0</th>\n",
       "      <td>0</td>\n",
       "      <td>0.42993</td>\n",
       "      <td>0.37950</td>\n",
       "      <td>25</td>\n",
       "      <td>0.52076</td>\n",
       "      <td>0.57166</td>\n",
       "      <td>0.67818</td>\n",
       "      <td>0.75476</td>\n",
       "      <td>0.83580</td>\n",
       "      <td>0.93623</td>\n",
       "      <td>...</td>\n",
       "      <td>NaN</td>\n",
       "      <td>0.000000e+00</td>\n",
       "      <td>NaN</td>\n",
       "      <td>1.067504e-18</td>\n",
       "      <td>5.998949e-18</td>\n",
       "      <td>4.378513e-17</td>\n",
       "      <td>5.59</td>\n",
       "      <td>4.32</td>\n",
       "      <td>8.92</td>\n",
       "      <td>4.29</td>\n",
       "    </tr>\n",
       "    <tr>\n",
       "      <th>1</th>\n",
       "      <td>1</td>\n",
       "      <td>0.00000</td>\n",
       "      <td>0.00000</td>\n",
       "      <td>10</td>\n",
       "      <td>0.01813</td>\n",
       "      <td>0.00000</td>\n",
       "      <td>0.00000</td>\n",
       "      <td>0.01974</td>\n",
       "      <td>0.00321</td>\n",
       "      <td>0.00000</td>\n",
       "      <td>...</td>\n",
       "      <td>1.343132e-08</td>\n",
       "      <td>6.112685e-09</td>\n",
       "      <td>2.130547e-09</td>\n",
       "      <td>NaN</td>\n",
       "      <td>9.710091e-09</td>\n",
       "      <td>NaN</td>\n",
       "      <td>0.00</td>\n",
       "      <td>2.83</td>\n",
       "      <td>7.25</td>\n",
       "      <td>4.64</td>\n",
       "    </tr>\n",
       "    <tr>\n",
       "      <th>2</th>\n",
       "      <td>2</td>\n",
       "      <td>0.03289</td>\n",
       "      <td>0.00000</td>\n",
       "      <td>25</td>\n",
       "      <td>0.02416</td>\n",
       "      <td>0.03610</td>\n",
       "      <td>0.05843</td>\n",
       "      <td>0.09015</td>\n",
       "      <td>0.14944</td>\n",
       "      <td>0.18578</td>\n",
       "      <td>...</td>\n",
       "      <td>0.000000e+00</td>\n",
       "      <td>0.000000e+00</td>\n",
       "      <td>0.000000e+00</td>\n",
       "      <td>0.000000e+00</td>\n",
       "      <td>1.329725e-18</td>\n",
       "      <td>NaN</td>\n",
       "      <td>10.64</td>\n",
       "      <td>3.00</td>\n",
       "      <td>8.40</td>\n",
       "      <td>5.16</td>\n",
       "    </tr>\n",
       "    <tr>\n",
       "      <th>3</th>\n",
       "      <td>3</td>\n",
       "      <td>0.31281</td>\n",
       "      <td>0.27503</td>\n",
       "      <td>10</td>\n",
       "      <td>0.32898</td>\n",
       "      <td>0.41041</td>\n",
       "      <td>0.46587</td>\n",
       "      <td>0.52769</td>\n",
       "      <td>0.64369</td>\n",
       "      <td>0.73562</td>\n",
       "      <td>...</td>\n",
       "      <td>2.245998e-10</td>\n",
       "      <td>1.299511e-10</td>\n",
       "      <td>7.782625e-11</td>\n",
       "      <td>NaN</td>\n",
       "      <td>4.088921e-10</td>\n",
       "      <td>NaN</td>\n",
       "      <td>5.67</td>\n",
       "      <td>4.01</td>\n",
       "      <td>5.05</td>\n",
       "      <td>4.35</td>\n",
       "    </tr>\n",
       "    <tr>\n",
       "      <th>4</th>\n",
       "      <td>4</td>\n",
       "      <td>1.00872</td>\n",
       "      <td>1.01521</td>\n",
       "      <td>15</td>\n",
       "      <td>0.98930</td>\n",
       "      <td>0.98874</td>\n",
       "      <td>1.01773</td>\n",
       "      <td>1.01632</td>\n",
       "      <td>1.00009</td>\n",
       "      <td>0.98217</td>\n",
       "      <td>...</td>\n",
       "      <td>1.457955e-13</td>\n",
       "      <td>8.769053e-14</td>\n",
       "      <td>NaN</td>\n",
       "      <td>1.330237e-13</td>\n",
       "      <td>NaN</td>\n",
       "      <td>NaN</td>\n",
       "      <td>11.97</td>\n",
       "      <td>4.41</td>\n",
       "      <td>10.78</td>\n",
       "      <td>2.42</td>\n",
       "    </tr>\n",
       "  </tbody>\n",
       "</table>\n",
       "<p>5 rows × 76 columns</p>\n",
       "</div>"
      ],
      "text/plain": [
       "   id  new_660_src  650_src  new_rho  670_src  680_src  690_src  700_src  \\\n",
       "0   0      0.42993  0.37950       25  0.52076  0.57166  0.67818  0.75476   \n",
       "1   1      0.00000  0.00000       10  0.01813  0.00000  0.00000  0.01974   \n",
       "2   2      0.03289  0.00000       25  0.02416  0.03610  0.05843  0.09015   \n",
       "3   3      0.31281  0.27503       10  0.32898  0.41041  0.46587  0.52769   \n",
       "4   4      1.00872  1.01521       15  0.98930  0.98874  1.01773  1.01632   \n",
       "\n",
       "   710_src  720_src  ...       940_dst       950_dst       960_dst  \\\n",
       "0  0.83580  0.93623  ...           NaN  0.000000e+00           NaN   \n",
       "1  0.00321  0.00000  ...  1.343132e-08  6.112685e-09  2.130547e-09   \n",
       "2  0.14944  0.18578  ...  0.000000e+00  0.000000e+00  0.000000e+00   \n",
       "3  0.64369  0.73562  ...  2.245998e-10  1.299511e-10  7.782625e-11   \n",
       "4  1.00009  0.98217  ...  1.457955e-13  8.769053e-14           NaN   \n",
       "\n",
       "        970_dst       980_dst       990_dst    hhb  hbo2     ca    na  \n",
       "0  1.067504e-18  5.998949e-18  4.378513e-17   5.59  4.32   8.92  4.29  \n",
       "1           NaN  9.710091e-09           NaN   0.00  2.83   7.25  4.64  \n",
       "2  0.000000e+00  1.329725e-18           NaN  10.64  3.00   8.40  5.16  \n",
       "3           NaN  4.088921e-10           NaN   5.67  4.01   5.05  4.35  \n",
       "4  1.330237e-13           NaN           NaN  11.97  4.41  10.78  2.42  \n",
       "\n",
       "[5 rows x 76 columns]"
      ]
     },
     "execution_count": 123,
     "metadata": {},
     "output_type": "execute_result"
    }
   ],
   "source": [
    "mdc01_train.head()"
   ]
  },
  {
   "cell_type": "code",
   "execution_count": 133,
   "metadata": {},
   "outputs": [
    {
     "data": {
      "text/html": [
       "<div>\n",
       "<style scoped>\n",
       "    .dataframe tbody tr th:only-of-type {\n",
       "        vertical-align: middle;\n",
       "    }\n",
       "\n",
       "    .dataframe tbody tr th {\n",
       "        vertical-align: top;\n",
       "    }\n",
       "\n",
       "    .dataframe thead th {\n",
       "        text-align: right;\n",
       "    }\n",
       "</style>\n",
       "<table border=\"1\" class=\"dataframe\">\n",
       "  <thead>\n",
       "    <tr style=\"text-align: right;\">\n",
       "      <th></th>\n",
       "      <th>id</th>\n",
       "      <th>na</th>\n",
       "      <th>ca</th>\n",
       "    </tr>\n",
       "  </thead>\n",
       "  <tbody>\n",
       "    <tr>\n",
       "      <th>0</th>\n",
       "      <td>0</td>\n",
       "      <td>4.29</td>\n",
       "      <td>8.92</td>\n",
       "    </tr>\n",
       "    <tr>\n",
       "      <th>1</th>\n",
       "      <td>1</td>\n",
       "      <td>4.64</td>\n",
       "      <td>7.25</td>\n",
       "    </tr>\n",
       "    <tr>\n",
       "      <th>2</th>\n",
       "      <td>2</td>\n",
       "      <td>5.16</td>\n",
       "      <td>8.40</td>\n",
       "    </tr>\n",
       "    <tr>\n",
       "      <th>3</th>\n",
       "      <td>3</td>\n",
       "      <td>4.35</td>\n",
       "      <td>5.05</td>\n",
       "    </tr>\n",
       "    <tr>\n",
       "      <th>4</th>\n",
       "      <td>4</td>\n",
       "      <td>2.42</td>\n",
       "      <td>10.78</td>\n",
       "    </tr>\n",
       "    <tr>\n",
       "      <th>...</th>\n",
       "      <td>...</td>\n",
       "      <td>...</td>\n",
       "      <td>...</td>\n",
       "    </tr>\n",
       "    <tr>\n",
       "      <th>9995</th>\n",
       "      <td>9995</td>\n",
       "      <td>0.10</td>\n",
       "      <td>12.31</td>\n",
       "    </tr>\n",
       "    <tr>\n",
       "      <th>9996</th>\n",
       "      <td>9996</td>\n",
       "      <td>3.12</td>\n",
       "      <td>10.46</td>\n",
       "    </tr>\n",
       "    <tr>\n",
       "      <th>9997</th>\n",
       "      <td>9997</td>\n",
       "      <td>2.06</td>\n",
       "      <td>10.45</td>\n",
       "    </tr>\n",
       "    <tr>\n",
       "      <th>9998</th>\n",
       "      <td>9998</td>\n",
       "      <td>4.03</td>\n",
       "      <td>11.28</td>\n",
       "    </tr>\n",
       "    <tr>\n",
       "      <th>9999</th>\n",
       "      <td>9999</td>\n",
       "      <td>3.54</td>\n",
       "      <td>9.73</td>\n",
       "    </tr>\n",
       "  </tbody>\n",
       "</table>\n",
       "<p>10000 rows × 3 columns</p>\n",
       "</div>"
      ],
      "text/plain": [
       "        id    na     ca\n",
       "0        0  4.29   8.92\n",
       "1        1  4.64   7.25\n",
       "2        2  5.16   8.40\n",
       "3        3  4.35   5.05\n",
       "4        4  2.42  10.78\n",
       "...    ...   ...    ...\n",
       "9995  9995  0.10  12.31\n",
       "9996  9996  3.12  10.46\n",
       "9997  9997  2.06  10.45\n",
       "9998  9998  4.03  11.28\n",
       "9999  9999  3.54   9.73\n",
       "\n",
       "[10000 rows x 3 columns]"
      ]
     },
     "execution_count": 133,
     "metadata": {},
     "output_type": "execute_result"
    }
   ],
   "source": [
    "mdc01_train[['id','na','ca']]"
   ]
  },
  {
   "cell_type": "markdown",
   "metadata": {},
   "source": [
    "#### 2) 주어진 행렬의 각 원소를 해당 열(axis=0)의 평균 값으로 나누기\n",
    "- Numpy.mean() 함수와 브로드캐스팅 기능 사용"
   ]
  },
  {
   "cell_type": "code",
   "execution_count": 131,
   "metadata": {},
   "outputs": [
    {
     "data": {
      "text/html": [
       "<div>\n",
       "<style scoped>\n",
       "    .dataframe tbody tr th:only-of-type {\n",
       "        vertical-align: middle;\n",
       "    }\n",
       "\n",
       "    .dataframe tbody tr th {\n",
       "        vertical-align: top;\n",
       "    }\n",
       "\n",
       "    .dataframe thead th {\n",
       "        text-align: right;\n",
       "    }\n",
       "</style>\n",
       "<table border=\"1\" class=\"dataframe\">\n",
       "  <thead>\n",
       "    <tr style=\"text-align: right;\">\n",
       "      <th></th>\n",
       "      <th>id</th>\n",
       "      <th>new_660_src</th>\n",
       "      <th>650_src</th>\n",
       "      <th>new_rho</th>\n",
       "      <th>670_src</th>\n",
       "      <th>680_src</th>\n",
       "      <th>690_src</th>\n",
       "      <th>700_src</th>\n",
       "      <th>710_src</th>\n",
       "      <th>720_src</th>\n",
       "      <th>...</th>\n",
       "      <th>940_dst</th>\n",
       "      <th>950_dst</th>\n",
       "      <th>960_dst</th>\n",
       "      <th>970_dst</th>\n",
       "      <th>980_dst</th>\n",
       "      <th>990_dst</th>\n",
       "      <th>hhb</th>\n",
       "      <th>hbo2</th>\n",
       "      <th>ca</th>\n",
       "      <th>na</th>\n",
       "    </tr>\n",
       "  </thead>\n",
       "  <tbody>\n",
       "    <tr>\n",
       "      <th>count</th>\n",
       "      <td>10000.00000</td>\n",
       "      <td>1.000000e+04</td>\n",
       "      <td>1.000000e+04</td>\n",
       "      <td>1.000000e+04</td>\n",
       "      <td>1.000000e+04</td>\n",
       "      <td>1.000000e+04</td>\n",
       "      <td>1.000000e+04</td>\n",
       "      <td>1.000000e+04</td>\n",
       "      <td>1.000000e+04</td>\n",
       "      <td>1.000000e+04</td>\n",
       "      <td>...</td>\n",
       "      <td>7.982000e+03</td>\n",
       "      <td>7.987000e+03</td>\n",
       "      <td>7.992000e+03</td>\n",
       "      <td>7.931000e+03</td>\n",
       "      <td>8.081000e+03</td>\n",
       "      <td>8.013000e+03</td>\n",
       "      <td>1.000000e+04</td>\n",
       "      <td>1.000000e+04</td>\n",
       "      <td>1.000000e+04</td>\n",
       "      <td>1.000000e+04</td>\n",
       "    </tr>\n",
       "    <tr>\n",
       "      <th>mean</th>\n",
       "      <td>0.00000</td>\n",
       "      <td>2.213341e-16</td>\n",
       "      <td>4.408918e-16</td>\n",
       "      <td>-1.293188e-15</td>\n",
       "      <td>-6.323830e-17</td>\n",
       "      <td>-1.369926e-15</td>\n",
       "      <td>-1.224976e-15</td>\n",
       "      <td>-2.373213e-16</td>\n",
       "      <td>-1.106670e-16</td>\n",
       "      <td>-3.524292e-16</td>\n",
       "      <td>...</td>\n",
       "      <td>-1.594877e-25</td>\n",
       "      <td>-3.189829e-26</td>\n",
       "      <td>-3.622538e-27</td>\n",
       "      <td>-5.699839e-26</td>\n",
       "      <td>2.088168e-25</td>\n",
       "      <td>-4.781606e-25</td>\n",
       "      <td>1.847624e-14</td>\n",
       "      <td>-7.426948e-15</td>\n",
       "      <td>-1.395222e-14</td>\n",
       "      <td>-1.353513e-14</td>\n",
       "    </tr>\n",
       "    <tr>\n",
       "      <th>std</th>\n",
       "      <td>2886.89568</td>\n",
       "      <td>2.886609e-01</td>\n",
       "      <td>2.728591e-01</td>\n",
       "      <td>5.595847e+00</td>\n",
       "      <td>3.063403e-01</td>\n",
       "      <td>3.248494e-01</td>\n",
       "      <td>3.423616e-01</td>\n",
       "      <td>3.577000e-01</td>\n",
       "      <td>3.704510e-01</td>\n",
       "      <td>3.790536e-01</td>\n",
       "      <td>...</td>\n",
       "      <td>3.831916e-10</td>\n",
       "      <td>2.293432e-10</td>\n",
       "      <td>1.639150e-10</td>\n",
       "      <td>2.134495e-10</td>\n",
       "      <td>5.179299e-10</td>\n",
       "      <td>1.058272e-09</td>\n",
       "      <td>2.970818e+00</td>\n",
       "      <td>9.978285e-01</td>\n",
       "      <td>2.979453e+00</td>\n",
       "      <td>1.881872e+00</td>\n",
       "    </tr>\n",
       "    <tr>\n",
       "      <th>min</th>\n",
       "      <td>-4999.50000</td>\n",
       "      <td>-2.035285e-01</td>\n",
       "      <td>-1.802125e-01</td>\n",
       "      <td>-7.568000e+00</td>\n",
       "      <td>-2.298040e-01</td>\n",
       "      <td>-2.591581e-01</td>\n",
       "      <td>-2.899746e-01</td>\n",
       "      <td>-3.222444e-01</td>\n",
       "      <td>-3.541010e-01</td>\n",
       "      <td>-3.844918e-01</td>\n",
       "      <td>...</td>\n",
       "      <td>-7.511190e-11</td>\n",
       "      <td>-4.270426e-11</td>\n",
       "      <td>-2.498465e-11</td>\n",
       "      <td>-4.047717e-11</td>\n",
       "      <td>-1.153774e-10</td>\n",
       "      <td>-2.364072e-10</td>\n",
       "      <td>-7.990686e+00</td>\n",
       "      <td>-3.929146e+00</td>\n",
       "      <td>-9.019226e+00</td>\n",
       "      <td>-3.042651e+00</td>\n",
       "    </tr>\n",
       "    <tr>\n",
       "      <th>25%</th>\n",
       "      <td>-2499.75000</td>\n",
       "      <td>-1.940085e-01</td>\n",
       "      <td>-1.728950e-01</td>\n",
       "      <td>-2.568000e+00</td>\n",
       "      <td>-2.185340e-01</td>\n",
       "      <td>-2.454306e-01</td>\n",
       "      <td>-2.736246e-01</td>\n",
       "      <td>-3.027344e-01</td>\n",
       "      <td>-3.278835e-01</td>\n",
       "      <td>-3.472568e-01</td>\n",
       "      <td>...</td>\n",
       "      <td>-7.511190e-11</td>\n",
       "      <td>-4.270426e-11</td>\n",
       "      <td>-2.498465e-11</td>\n",
       "      <td>-4.047717e-11</td>\n",
       "      <td>-1.153774e-10</td>\n",
       "      <td>-2.364071e-10</td>\n",
       "      <td>-2.000686e+00</td>\n",
       "      <td>-6.791460e-01</td>\n",
       "      <td>-2.019226e+00</td>\n",
       "      <td>-1.402651e+00</td>\n",
       "    </tr>\n",
       "    <tr>\n",
       "      <th>50%</th>\n",
       "      <td>0.00000</td>\n",
       "      <td>-1.389285e-01</td>\n",
       "      <td>-1.281875e-01</td>\n",
       "      <td>2.432000e+00</td>\n",
       "      <td>-1.512390e-01</td>\n",
       "      <td>-1.638031e-01</td>\n",
       "      <td>-1.703396e-01</td>\n",
       "      <td>-1.736544e-01</td>\n",
       "      <td>-1.721960e-01</td>\n",
       "      <td>-1.652318e-01</td>\n",
       "      <td>...</td>\n",
       "      <td>-7.511124e-11</td>\n",
       "      <td>-4.270417e-11</td>\n",
       "      <td>-2.498462e-11</td>\n",
       "      <td>-4.047705e-11</td>\n",
       "      <td>-1.153740e-10</td>\n",
       "      <td>-2.363900e-10</td>\n",
       "      <td>1.931400e-02</td>\n",
       "      <td>8.540000e-04</td>\n",
       "      <td>-2.922600e-02</td>\n",
       "      <td>-6.265100e-02</td>\n",
       "    </tr>\n",
       "    <tr>\n",
       "      <th>75%</th>\n",
       "      <td>2499.75000</td>\n",
       "      <td>7.342399e-02</td>\n",
       "      <td>4.090500e-02</td>\n",
       "      <td>7.432000e+00</td>\n",
       "      <td>1.092710e-01</td>\n",
       "      <td>1.583194e-01</td>\n",
       "      <td>2.209404e-01</td>\n",
       "      <td>2.849056e-01</td>\n",
       "      <td>3.439840e-01</td>\n",
       "      <td>3.969982e-01</td>\n",
       "      <td>...</td>\n",
       "      <td>-7.416156e-11</td>\n",
       "      <td>-4.238557e-11</td>\n",
       "      <td>-2.486115e-11</td>\n",
       "      <td>-4.018128e-11</td>\n",
       "      <td>-1.129850e-10</td>\n",
       "      <td>-2.294650e-10</td>\n",
       "      <td>2.019314e+00</td>\n",
       "      <td>6.908540e-01</td>\n",
       "      <td>2.000774e+00</td>\n",
       "      <td>1.287349e+00</td>\n",
       "    </tr>\n",
       "    <tr>\n",
       "      <th>max</th>\n",
       "      <td>4999.50000</td>\n",
       "      <td>8.164415e-01</td>\n",
       "      <td>8.397775e-01</td>\n",
       "      <td>7.432000e+00</td>\n",
       "      <td>7.901260e-01</td>\n",
       "      <td>7.607219e-01</td>\n",
       "      <td>7.300254e-01</td>\n",
       "      <td>6.977256e-01</td>\n",
       "      <td>6.658690e-01</td>\n",
       "      <td>6.354482e-01</td>\n",
       "      <td>...</td>\n",
       "      <td>1.335621e-08</td>\n",
       "      <td>6.418819e-09</td>\n",
       "      <td>5.748883e-09</td>\n",
       "      <td>5.489463e-09</td>\n",
       "      <td>1.001724e-08</td>\n",
       "      <td>2.658648e-08</td>\n",
       "      <td>1.359931e+01</td>\n",
       "      <td>3.680854e+00</td>\n",
       "      <td>1.105077e+01</td>\n",
       "      <td>7.267349e+00</td>\n",
       "    </tr>\n",
       "  </tbody>\n",
       "</table>\n",
       "<p>8 rows × 76 columns</p>\n",
       "</div>"
      ],
      "text/plain": [
       "                id   new_660_src       650_src       new_rho       670_src  \\\n",
       "count  10000.00000  1.000000e+04  1.000000e+04  1.000000e+04  1.000000e+04   \n",
       "mean       0.00000  2.213341e-16  4.408918e-16 -1.293188e-15 -6.323830e-17   \n",
       "std     2886.89568  2.886609e-01  2.728591e-01  5.595847e+00  3.063403e-01   \n",
       "min    -4999.50000 -2.035285e-01 -1.802125e-01 -7.568000e+00 -2.298040e-01   \n",
       "25%    -2499.75000 -1.940085e-01 -1.728950e-01 -2.568000e+00 -2.185340e-01   \n",
       "50%        0.00000 -1.389285e-01 -1.281875e-01  2.432000e+00 -1.512390e-01   \n",
       "75%     2499.75000  7.342399e-02  4.090500e-02  7.432000e+00  1.092710e-01   \n",
       "max     4999.50000  8.164415e-01  8.397775e-01  7.432000e+00  7.901260e-01   \n",
       "\n",
       "            680_src       690_src       700_src       710_src       720_src  \\\n",
       "count  1.000000e+04  1.000000e+04  1.000000e+04  1.000000e+04  1.000000e+04   \n",
       "mean  -1.369926e-15 -1.224976e-15 -2.373213e-16 -1.106670e-16 -3.524292e-16   \n",
       "std    3.248494e-01  3.423616e-01  3.577000e-01  3.704510e-01  3.790536e-01   \n",
       "min   -2.591581e-01 -2.899746e-01 -3.222444e-01 -3.541010e-01 -3.844918e-01   \n",
       "25%   -2.454306e-01 -2.736246e-01 -3.027344e-01 -3.278835e-01 -3.472568e-01   \n",
       "50%   -1.638031e-01 -1.703396e-01 -1.736544e-01 -1.721960e-01 -1.652318e-01   \n",
       "75%    1.583194e-01  2.209404e-01  2.849056e-01  3.439840e-01  3.969982e-01   \n",
       "max    7.607219e-01  7.300254e-01  6.977256e-01  6.658690e-01  6.354482e-01   \n",
       "\n",
       "       ...       940_dst       950_dst       960_dst       970_dst  \\\n",
       "count  ...  7.982000e+03  7.987000e+03  7.992000e+03  7.931000e+03   \n",
       "mean   ... -1.594877e-25 -3.189829e-26 -3.622538e-27 -5.699839e-26   \n",
       "std    ...  3.831916e-10  2.293432e-10  1.639150e-10  2.134495e-10   \n",
       "min    ... -7.511190e-11 -4.270426e-11 -2.498465e-11 -4.047717e-11   \n",
       "25%    ... -7.511190e-11 -4.270426e-11 -2.498465e-11 -4.047717e-11   \n",
       "50%    ... -7.511124e-11 -4.270417e-11 -2.498462e-11 -4.047705e-11   \n",
       "75%    ... -7.416156e-11 -4.238557e-11 -2.486115e-11 -4.018128e-11   \n",
       "max    ...  1.335621e-08  6.418819e-09  5.748883e-09  5.489463e-09   \n",
       "\n",
       "            980_dst       990_dst           hhb          hbo2            ca  \\\n",
       "count  8.081000e+03  8.013000e+03  1.000000e+04  1.000000e+04  1.000000e+04   \n",
       "mean   2.088168e-25 -4.781606e-25  1.847624e-14 -7.426948e-15 -1.395222e-14   \n",
       "std    5.179299e-10  1.058272e-09  2.970818e+00  9.978285e-01  2.979453e+00   \n",
       "min   -1.153774e-10 -2.364072e-10 -7.990686e+00 -3.929146e+00 -9.019226e+00   \n",
       "25%   -1.153774e-10 -2.364071e-10 -2.000686e+00 -6.791460e-01 -2.019226e+00   \n",
       "50%   -1.153740e-10 -2.363900e-10  1.931400e-02  8.540000e-04 -2.922600e-02   \n",
       "75%   -1.129850e-10 -2.294650e-10  2.019314e+00  6.908540e-01  2.000774e+00   \n",
       "max    1.001724e-08  2.658648e-08  1.359931e+01  3.680854e+00  1.105077e+01   \n",
       "\n",
       "                 na  \n",
       "count  1.000000e+04  \n",
       "mean  -1.353513e-14  \n",
       "std    1.881872e+00  \n",
       "min   -3.042651e+00  \n",
       "25%   -1.402651e+00  \n",
       "50%   -6.265100e-02  \n",
       "75%    1.287349e+00  \n",
       "max    7.267349e+00  \n",
       "\n",
       "[8 rows x 76 columns]"
      ]
     },
     "execution_count": 131,
     "metadata": {},
     "output_type": "execute_result"
    }
   ],
   "source": [
    "(mdc01_train - np.mean(mdc01_train,axis=0)).describe()"
   ]
  }
 ],
 "metadata": {
  "kernelspec": {
   "display_name": "Python 3",
   "language": "python",
   "name": "python3"
  },
  "language_info": {
   "codemirror_mode": {
    "name": "ipython",
    "version": 3
   },
   "file_extension": ".py",
   "mimetype": "text/x-python",
   "name": "python",
   "nbconvert_exporter": "python",
   "pygments_lexer": "ipython3",
   "version": "3.7.7"
  }
 },
 "nbformat": 4,
 "nbformat_minor": 4
}
